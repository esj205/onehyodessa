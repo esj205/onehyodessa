{
 "cells": [
  {
   "cell_type": "code",
   "execution_count": 4,
   "id": "ab1c5d12",
   "metadata": {
    "scrolled": false
   },
   "outputs": [],
   "source": [
    "import pandas as pd\n",
    "# import pandas_profiling as ppf\n",
    "pd.options.display.float_format = '{:,.4f}'.format\n",
    "pd.options.display.max_rows = 100\n",
    "pd.options.display.max_columns = 40\n",
    "from datetime import datetime \n",
    "import numpy as np\n",
    "import os, random, math, time\n",
    "from tqdm import tqdm\n",
    "from copy import deepcopy\n",
    "from collections import Counter\n",
    "\n",
    "#score\n",
    "from sklearn.metrics import mean_squared_error\n",
    "from sklearn.metrics import accuracy_score\n",
    "from math import sqrt\n",
    "from sklearn.model_selection import cross_val_score\n",
    "\n",
    "#modeling\n",
    "from sklearn.linear_model import LogisticRegression\n",
    "from sklearn.linear_model import LinearRegression\n",
    "from sklearn.tree import DecisionTreeRegressor, DecisionTreeClassifier\n",
    "from sklearn.ensemble import RandomForestClassifier, RandomForestRegressor\n",
    "from xgboost import XGBClassifier, XGBRegressor\n",
    "from lightgbm import LGBMRegressor, LGBMClassifier\n",
    "\n",
    "import sys\n",
    "import joblib\n",
    "sys.modules['sklearn.externals.joblib'] = joblib\n",
    "\n",
    "from mlxtend.feature_selection import SequentialFeatureSelector as SFS\n",
    "from mlxtend.plotting import plot_sequential_feature_selection as plot_sfs\n",
    "# from mlxtend.evaluate import PredefinedHoldoutSplit\n",
    "\n",
    "# Visualization\n",
    "import seaborn as sns\n",
    "import matplotlib\n",
    "import matplotlib.pyplot as plt\n",
    "%matplotlib inline\n",
    "from matplotlib import font_manager, rc\n",
    "plt.rcParams['font.family'] = 'NanumGothic'\n",
    "import platform\n",
    "if platform.system() == 'Windows':\n",
    "    font_name = font_manager.FontProperties(fname=\"c:/Windows/Fonts/malgun.ttf\").get_name()\n",
    "    rc('font', family=font_name)\n",
    "else:    \n",
    "    rc('font', family='AppleGothic')\n",
    "\n",
    "matplotlib.rcParams['axes.unicode_minus'] = False\n",
    "from sklearn.tree import plot_tree\n",
    "from sklearn.tree import export_graphviz\n",
    "import graphviz\n",
    "\n",
    "\n",
    "\n",
    "# Warnings\n",
    "import warnings\n",
    "warnings.filterwarnings('ignore')"
   ]
  },
  {
   "cell_type": "code",
   "execution_count": 5,
   "id": "0eb5853d",
   "metadata": {},
   "outputs": [],
   "source": [
    "def read_file(filename):\n",
    "    df = pd.read_csv(f'{filename}', encoding=\"utf-8\") #\"cp949\"\n",
    "    if sum(df.duplicated(df.columns)) != 0:\n",
    "        print(f\"...There are {sum(df.duplicated(df.columns))} duplicates\\n...Remove them\")\n",
    "        df = df.drop_duplicates()\n",
    "    else:\n",
    "        print(\"...There are no duplicates\")\n",
    "    df.name = filename\n",
    "    print(f\"shape: {df.shape}\")\n",
    "    return df\n",
    "\n",
    "def read_file2(filename):\n",
    "    df = pd.read_excel(f'{filename}', header=None)\n",
    "    if sum(df.duplicated(df.columns)) != 0:\n",
    "        print(f\"...There are {sum(df.duplicated(df.columns))} duplicates\\n...Remove them\")\n",
    "        df = df.drop_duplicates()\n",
    "    else:\n",
    "        print(\"...There are no duplicates\")\n",
    "    df.name = filename\n",
    "    print(f\"shape: {df.shape}\")\n",
    "    return df\n",
    "\n",
    "def check_NA(df):\n",
    "    print(f\"NA check\")\n",
    "    NA_res = df.isna().sum()\n",
    "    if NA_res.sum() != 0:\n",
    "        for idx, i in enumerate(NA_res):\n",
    "            if i != 0:\n",
    "                print(df.columns[idx],i,\"->\",round(i/df.shape[0]*100,3),\"%\")\n",
    "    else:\n",
    "        print(\"...There's no NA\")"
   ]
  },
  {
   "cell_type": "code",
   "execution_count": 6,
   "id": "04a45706",
   "metadata": {},
   "outputs": [
    {
     "name": "stdout",
     "output_type": "stream",
     "text": [
      "...There are no duplicates\n",
      "shape: (160, 103)\n"
     ]
    }
   ],
   "source": [
    "survey_data = read_file('data/surveydata_md2.csv')"
   ]
  },
  {
   "cell_type": "code",
   "execution_count": 4,
   "id": "456d6b7f",
   "metadata": {},
   "outputs": [
    {
     "data": {
      "text/plain": [
       "False"
      ]
     },
     "execution_count": 4,
     "metadata": {},
     "output_type": "execute_result"
    }
   ],
   "source": [
    "survey_data.isnull().sum().any()"
   ]
  },
  {
   "cell_type": "markdown",
   "id": "d35d8c6b",
   "metadata": {},
   "source": [
    "# 1. 추가 전처리"
   ]
  },
  {
   "cell_type": "markdown",
   "id": "6eedf114",
   "metadata": {},
   "source": [
    "아침식전_복용 ~ 취침전_복용의 경우 약_복용알람으로 합치자."
   ]
  },
  {
   "cell_type": "code",
   "execution_count": 5,
   "id": "cdd5bb2c",
   "metadata": {},
   "outputs": [],
   "source": [
    "survey_data['약_복용알람'] = survey_data['아침식전_복용'] + survey_data['아침식후_복용'] + survey_data['점심식전_복용'] + survey_data['점심식후_복용'] + survey_data['저녁식전_복용'] + survey_data['저녁식후_복용'] + survey_data['취침전_복용']"
   ]
  },
  {
   "cell_type": "markdown",
   "id": "a6919ba8",
   "metadata": {},
   "source": [
    "필요한 컬럼 선정"
   ]
  },
  {
   "cell_type": "code",
   "execution_count": 6,
   "id": "3ed696a0",
   "metadata": {},
   "outputs": [],
   "source": [
    "regression_data = survey_data[['sex', '기상', '아침', '점심', '저녁', '취침','종교',\n",
    "                              '약_복용알람', '환기', '산책', '당뇨', '고지혈',\n",
    "                              '고혈압', '수급여부', '제공서비스','age',\n",
    "                               '치매', '우울증', '만성복약', '고립', '거동불편', '소리반응', '인형관심',\n",
    "                               '종교유무', '모니터링', '건강관심', '주택타입', '배우자', '자녀수',\n",
    "                               '청결', '식사', '공공방문', 'doll_score',\n",
    "                              '치매_약', '뇌졸증_약', '혈압_약', '우울증_약', '고지혈증_약', '당뇨_약',\n",
    "                               '신경과수면제_약', 'med_count', 'stroke', 'hand_hold_sum', 'knock',\n",
    "                               'human_detection', 'gymnastics', 'brain_timer', 'drug_consume','drug_consume_rt',\n",
    "                               'slife_before','slife_after']]"
   ]
  },
  {
   "cell_type": "code",
   "execution_count": 7,
   "id": "795f0ca9",
   "metadata": {},
   "outputs": [],
   "source": [
    "regression_data = pd.get_dummies(data = regression_data, drop_first = True)"
   ]
  },
  {
   "cell_type": "code",
   "execution_count": 8,
   "id": "f50a659f",
   "metadata": {},
   "outputs": [
    {
     "data": {
      "text/plain": [
       "Index(['기상', '아침', '점심', '저녁', '취침', '약_복용알람', '환기', '산책', '당뇨', '고지혈', '고혈압',\n",
       "       '제공서비스', 'age', '치매', '우울증', '만성복약', '고립', '거동불편', '소리반응', '인형관심',\n",
       "       '종교유무', '모니터링', '건강관심', '주택타입', '배우자', '자녀수', '식사', '공공방문',\n",
       "       'doll_score', '치매_약', '뇌졸증_약', '혈압_약', '우울증_약', '고지혈증_약', '당뇨_약',\n",
       "       '신경과수면제_약', 'med_count', 'stroke', 'hand_hold_sum', 'knock',\n",
       "       'human_detection', 'gymnastics', 'brain_timer', 'drug_consume',\n",
       "       'drug_consume_rt', 'slife_before', 'slife_after', 'sex_여', '종교_무교',\n",
       "       '종교_불교', '종교_천주교', '수급여부_차상위', '청결_중', '청결_하'],\n",
       "      dtype='object')"
      ]
     },
     "execution_count": 8,
     "metadata": {},
     "output_type": "execute_result"
    }
   ],
   "source": [
    "regression_data.columns"
   ]
  },
  {
   "cell_type": "markdown",
   "id": "46930bda",
   "metadata": {},
   "source": [
    "column 추가 제거: 기준은 Feature Selection ipynb에 있음"
   ]
  },
  {
   "cell_type": "code",
   "execution_count": 9,
   "id": "1333b984",
   "metadata": {},
   "outputs": [],
   "source": [
    "regression_data.drop(['환기', '만성복약', '소리반응', '인형관심', '모니터링', '배우자'], axis = 1, inplace = True)"
   ]
  },
  {
   "cell_type": "markdown",
   "id": "0b975f83",
   "metadata": {},
   "source": [
    "약을 먹는데 병에 반영이 안 된 사람들 반영"
   ]
  },
  {
   "cell_type": "code",
   "execution_count": 10,
   "id": "8747995e",
   "metadata": {},
   "outputs": [],
   "source": [
    "regression_data.loc[:,'당뇨'][(regression_data['당뇨']==0) & (regression_data['당뇨_약']==1)] = 1\n",
    "regression_data.loc[:,'우울증'][(regression_data['우울증']==0) & (regression_data['우울증_약']==1)] = 1\n",
    "regression_data.loc[:,'고지혈'][(regression_data['고지혈']==0) & (regression_data['고지혈증_약']==1)] = 1\n",
    "regression_data.loc[:,'치매'][(regression_data['치매']==0) & (regression_data['치매_약']==1)] = 1"
   ]
  },
  {
   "cell_type": "markdown",
   "id": "e9a56e7b",
   "metadata": {},
   "source": [
    "약 지우기"
   ]
  },
  {
   "cell_type": "code",
   "execution_count": 11,
   "id": "12ccd2b0",
   "metadata": {},
   "outputs": [],
   "source": [
    "regression_data.drop(['치매_약', '뇌졸증_약', '혈압_약', '우울증_약', '고지혈증_약', '당뇨_약', '신경과수면제_약'], axis = 1, inplace = True)"
   ]
  },
  {
   "cell_type": "code",
   "execution_count": 12,
   "id": "78af4cf0",
   "metadata": {},
   "outputs": [
    {
     "data": {
      "text/plain": [
       "(160, 41)"
      ]
     },
     "execution_count": 12,
     "metadata": {},
     "output_type": "execute_result"
    }
   ],
   "source": [
    "regression_data.shape"
   ]
  },
  {
   "cell_type": "code",
   "execution_count": 13,
   "id": "dc7afa01",
   "metadata": {},
   "outputs": [
    {
     "data": {
      "text/plain": [
       "Index(['기상', '아침', '점심', '저녁', '취침', '약_복용알람', '산책', '당뇨', '고지혈', '고혈압',\n",
       "       '제공서비스', 'age', '치매', '우울증', '고립', '거동불편', '종교유무', '건강관심', '주택타입',\n",
       "       '자녀수', '식사', '공공방문', 'doll_score', 'med_count', 'stroke',\n",
       "       'hand_hold_sum', 'knock', 'human_detection', 'gymnastics',\n",
       "       'brain_timer', 'drug_consume', 'drug_consume_rt', 'slife_before',\n",
       "       'slife_after', 'sex_여', '종교_무교', '종교_불교', '종교_천주교', '수급여부_차상위', '청결_중',\n",
       "       '청결_하'],\n",
       "      dtype='object')"
      ]
     },
     "execution_count": 13,
     "metadata": {},
     "output_type": "execute_result"
    }
   ],
   "source": [
    "regression_data.columns"
   ]
  },
  {
   "cell_type": "code",
   "execution_count": 14,
   "id": "a5b504c1",
   "metadata": {},
   "outputs": [
    {
     "data": {
      "text/html": [
       "<div>\n",
       "<style scoped>\n",
       "    .dataframe tbody tr th:only-of-type {\n",
       "        vertical-align: middle;\n",
       "    }\n",
       "\n",
       "    .dataframe tbody tr th {\n",
       "        vertical-align: top;\n",
       "    }\n",
       "\n",
       "    .dataframe thead th {\n",
       "        text-align: right;\n",
       "    }\n",
       "</style>\n",
       "<table border=\"1\" class=\"dataframe\">\n",
       "  <thead>\n",
       "    <tr style=\"text-align: right;\">\n",
       "      <th></th>\n",
       "      <th>종교유무</th>\n",
       "      <th>종교_무교</th>\n",
       "      <th>종교_불교</th>\n",
       "      <th>종교_천주교</th>\n",
       "    </tr>\n",
       "  </thead>\n",
       "  <tbody>\n",
       "    <tr>\n",
       "      <th>0</th>\n",
       "      <td>0</td>\n",
       "      <td>0</td>\n",
       "      <td>1</td>\n",
       "      <td>0</td>\n",
       "    </tr>\n",
       "    <tr>\n",
       "      <th>1</th>\n",
       "      <td>1</td>\n",
       "      <td>1</td>\n",
       "      <td>0</td>\n",
       "      <td>0</td>\n",
       "    </tr>\n",
       "    <tr>\n",
       "      <th>2</th>\n",
       "      <td>1</td>\n",
       "      <td>1</td>\n",
       "      <td>0</td>\n",
       "      <td>0</td>\n",
       "    </tr>\n",
       "    <tr>\n",
       "      <th>4</th>\n",
       "      <td>0</td>\n",
       "      <td>0</td>\n",
       "      <td>1</td>\n",
       "      <td>0</td>\n",
       "    </tr>\n",
       "    <tr>\n",
       "      <th>5</th>\n",
       "      <td>0</td>\n",
       "      <td>0</td>\n",
       "      <td>0</td>\n",
       "      <td>0</td>\n",
       "    </tr>\n",
       "    <tr>\n",
       "      <th>...</th>\n",
       "      <td>...</td>\n",
       "      <td>...</td>\n",
       "      <td>...</td>\n",
       "      <td>...</td>\n",
       "    </tr>\n",
       "    <tr>\n",
       "      <th>151</th>\n",
       "      <td>0</td>\n",
       "      <td>0</td>\n",
       "      <td>0</td>\n",
       "      <td>0</td>\n",
       "    </tr>\n",
       "    <tr>\n",
       "      <th>152</th>\n",
       "      <td>1</td>\n",
       "      <td>1</td>\n",
       "      <td>0</td>\n",
       "      <td>0</td>\n",
       "    </tr>\n",
       "    <tr>\n",
       "      <th>153</th>\n",
       "      <td>0</td>\n",
       "      <td>0</td>\n",
       "      <td>0</td>\n",
       "      <td>0</td>\n",
       "    </tr>\n",
       "    <tr>\n",
       "      <th>154</th>\n",
       "      <td>0</td>\n",
       "      <td>0</td>\n",
       "      <td>0</td>\n",
       "      <td>0</td>\n",
       "    </tr>\n",
       "    <tr>\n",
       "      <th>158</th>\n",
       "      <td>0</td>\n",
       "      <td>0</td>\n",
       "      <td>0</td>\n",
       "      <td>1</td>\n",
       "    </tr>\n",
       "  </tbody>\n",
       "</table>\n",
       "<p>133 rows × 4 columns</p>\n",
       "</div>"
      ],
      "text/plain": [
       "     종교유무  종교_무교  종교_불교  종교_천주교\n",
       "0       0      0      1       0\n",
       "1       1      1      0       0\n",
       "2       1      1      0       0\n",
       "4       0      0      1       0\n",
       "5       0      0      0       0\n",
       "..    ...    ...    ...     ...\n",
       "151     0      0      0       0\n",
       "152     1      1      0       0\n",
       "153     0      0      0       0\n",
       "154     0      0      0       0\n",
       "158     0      0      0       1\n",
       "\n",
       "[133 rows x 4 columns]"
      ]
     },
     "execution_count": 14,
     "metadata": {},
     "output_type": "execute_result"
    }
   ],
   "source": [
    "regression_data[['종교유무','종교_무교', '종교_불교', '종교_천주교']][regression_data['종교유무']==regression_data['종교_무교']]"
   ]
  },
  {
   "cell_type": "markdown",
   "id": "703560aa",
   "metadata": {},
   "source": [
    "- 일단 다르든 같든 160개가 안되는건 문제가 있다 "
   ]
  },
  {
   "cell_type": "code",
   "execution_count": 15,
   "id": "9c4f80a6",
   "metadata": {},
   "outputs": [],
   "source": [
    "regression_data.drop(['종교유무','종교_불교', '종교_천주교'], axis = 1, inplace = True)"
   ]
  },
  {
   "cell_type": "markdown",
   "id": "4ac295ed",
   "metadata": {},
   "source": [
    "## Train/Test Split"
   ]
  },
  {
   "cell_type": "code",
   "execution_count": 16,
   "id": "d309c6f0",
   "metadata": {},
   "outputs": [],
   "source": [
    "from sklearn.model_selection import train_test_split"
   ]
  },
  {
   "cell_type": "markdown",
   "id": "cd6c0eb9",
   "metadata": {},
   "source": [
    "## 우울증은 점수 높은게 안좋은거고, change는 +가 좋은 것으로 바꿔준 상태"
   ]
  },
  {
   "cell_type": "code",
   "execution_count": 17,
   "id": "a4ed325f",
   "metadata": {},
   "outputs": [
    {
     "data": {
      "text/html": [
       "<div>\n",
       "<style scoped>\n",
       "    .dataframe tbody tr th:only-of-type {\n",
       "        vertical-align: middle;\n",
       "    }\n",
       "\n",
       "    .dataframe tbody tr th {\n",
       "        vertical-align: top;\n",
       "    }\n",
       "\n",
       "    .dataframe thead th {\n",
       "        text-align: right;\n",
       "    }\n",
       "</style>\n",
       "<table border=\"1\" class=\"dataframe\">\n",
       "  <thead>\n",
       "    <tr style=\"text-align: right;\">\n",
       "      <th></th>\n",
       "      <th>doll_id</th>\n",
       "      <th>psy_before</th>\n",
       "      <th>psy_after</th>\n",
       "      <th>psy_before_cat</th>\n",
       "      <th>psy_after_cat</th>\n",
       "      <th>psy_change</th>\n",
       "    </tr>\n",
       "  </thead>\n",
       "  <tbody>\n",
       "    <tr>\n",
       "      <th>0</th>\n",
       "      <td>126401</td>\n",
       "      <td>9</td>\n",
       "      <td>12</td>\n",
       "      <td>위험낮음</td>\n",
       "      <td>고위험군</td>\n",
       "      <td>-3</td>\n",
       "    </tr>\n",
       "    <tr>\n",
       "      <th>1</th>\n",
       "      <td>126497</td>\n",
       "      <td>6</td>\n",
       "      <td>6</td>\n",
       "      <td>위험낮음</td>\n",
       "      <td>위험낮음</td>\n",
       "      <td>0</td>\n",
       "    </tr>\n",
       "    <tr>\n",
       "      <th>2</th>\n",
       "      <td>126498</td>\n",
       "      <td>3</td>\n",
       "      <td>3</td>\n",
       "      <td>위험낮음</td>\n",
       "      <td>위험낮음</td>\n",
       "      <td>0</td>\n",
       "    </tr>\n",
       "    <tr>\n",
       "      <th>3</th>\n",
       "      <td>126500</td>\n",
       "      <td>8</td>\n",
       "      <td>11</td>\n",
       "      <td>위험낮음</td>\n",
       "      <td>고위험군</td>\n",
       "      <td>-3</td>\n",
       "    </tr>\n",
       "    <tr>\n",
       "      <th>4</th>\n",
       "      <td>126501</td>\n",
       "      <td>9</td>\n",
       "      <td>4</td>\n",
       "      <td>위험낮음</td>\n",
       "      <td>위험낮음</td>\n",
       "      <td>5</td>\n",
       "    </tr>\n",
       "  </tbody>\n",
       "</table>\n",
       "</div>"
      ],
      "text/plain": [
       "   doll_id  psy_before  psy_after psy_before_cat psy_after_cat  psy_change\n",
       "0   126401           9         12           위험낮음          고위험군          -3\n",
       "1   126497           6          6           위험낮음          위험낮음           0\n",
       "2   126498           3          3           위험낮음          위험낮음           0\n",
       "3   126500           8         11           위험낮음          고위험군          -3\n",
       "4   126501           9          4           위험낮음          위험낮음           5"
      ]
     },
     "execution_count": 17,
     "metadata": {},
     "output_type": "execute_result"
    }
   ],
   "source": [
    "survey_data[['doll_id', 'psy_before', 'psy_after',\n",
    "       'psy_before_cat', 'psy_after_cat', 'psy_change']].head(5)"
   ]
  },
  {
   "cell_type": "code",
   "execution_count": 18,
   "id": "38a4bf1d",
   "metadata": {},
   "outputs": [],
   "source": [
    "#긍정변화 여부\n",
    "Y3 = survey_data['psy_change']> 0 \n",
    "\n",
    "Y3.replace([True, False], [1,0], inplace = True)"
   ]
  },
  {
   "cell_type": "code",
   "execution_count": 19,
   "id": "c68a5680",
   "metadata": {},
   "outputs": [],
   "source": [
    "X = regression_data"
   ]
  },
  {
   "cell_type": "code",
   "execution_count": 20,
   "id": "5fe802dc",
   "metadata": {},
   "outputs": [],
   "source": [
    "X_train, X_test = train_test_split(X, test_size = 0.2, random_state = 123, stratify = Y3)"
   ]
  },
  {
   "cell_type": "markdown",
   "id": "def9418e",
   "metadata": {},
   "source": [
    "### *Numeric Data Scaling"
   ]
  },
  {
   "cell_type": "code",
   "execution_count": 21,
   "id": "6f1dc609",
   "metadata": {},
   "outputs": [
    {
     "data": {
      "text/plain": [
       "Index(['기상', '아침', '점심', '저녁', '취침', '약_복용알람', '산책', '당뇨', '고지혈', '고혈압',\n",
       "       '제공서비스', 'age', '치매', '우울증', '고립', '거동불편', '건강관심', '주택타입', '자녀수', '식사',\n",
       "       '공공방문', 'doll_score', 'med_count', 'stroke', 'hand_hold_sum', 'knock',\n",
       "       'human_detection', 'gymnastics', 'brain_timer', 'drug_consume',\n",
       "       'drug_consume_rt', 'slife_before', 'slife_after', 'sex_여', '종교_무교',\n",
       "       '수급여부_차상위', '청결_중', '청결_하'],\n",
       "      dtype='object')"
      ]
     },
     "execution_count": 21,
     "metadata": {},
     "output_type": "execute_result"
    }
   ],
   "source": [
    "X_train.columns"
   ]
  },
  {
   "cell_type": "markdown",
   "id": "5cd6a181",
   "metadata": {},
   "source": [
    "기상, 아침, 점심, 저녁, 취침, 약 복용알람, age, 자녀수, doll_score, med_count, stroke, hand_hold_sum, knock, human_detection, gymnastics, brain_timer, drug_consume, slife_before, slife_after"
   ]
  },
  {
   "cell_type": "code",
   "execution_count": 22,
   "id": "3ad802fc",
   "metadata": {},
   "outputs": [],
   "source": [
    "numeric_columns = ['기상', '아침', '점심', '저녁', '취침', '약_복용알람', 'age', '자녀수', 'doll_score', 'med_count', 'stroke',\n",
    "                   'hand_hold_sum', 'knock', 'human_detection', 'gymnastics', 'brain_timer', 'drug_consume',\n",
    "                   'slife_before', 'slife_after']"
   ]
  },
  {
   "cell_type": "code",
   "execution_count": 23,
   "id": "5e326ec3",
   "metadata": {},
   "outputs": [],
   "source": [
    "from sklearn.preprocessing import MinMaxScaler"
   ]
  },
  {
   "cell_type": "code",
   "execution_count": 24,
   "id": "28769329",
   "metadata": {},
   "outputs": [],
   "source": [
    "min_max_scaler = MinMaxScaler()\n",
    "\n",
    "#train, test scaling\n",
    "X_train[numeric_columns] = min_max_scaler.fit_transform(X_train[numeric_columns])\n",
    "X_test[numeric_columns] = min_max_scaler.transform(X_test[numeric_columns])"
   ]
  },
  {
   "cell_type": "markdown",
   "id": "e3c14e8b",
   "metadata": {},
   "source": [
    "### Y data split"
   ]
  },
  {
   "cell_type": "code",
   "execution_count": 25,
   "id": "d3724300",
   "metadata": {},
   "outputs": [],
   "source": [
    "#원점수\n",
    "Y1 = survey_data.loc[:,'psy_after']\n",
    "Y1_train = survey_data.loc[list(X_train.index.values), 'psy_after']\n",
    "Y1_test = survey_data.loc[list(X_test.index.values), 'psy_after']\n",
    "\n",
    "#변화점수\n",
    "Y2 = survey_data.loc[:, 'psy_change']\n",
    "Y2_train = survey_data.loc[list(X_train.index.values), 'psy_change']\n",
    "Y2_test = survey_data.loc[list(X_test.index.values), 'psy_change']\n",
    "\n",
    "#긍정변화여부\n",
    "Y3_train = Y3[list(X_train.index.values)]\n",
    "Y3_test = Y3[list(X_test.index.values)]"
   ]
  },
  {
   "cell_type": "markdown",
   "id": "7c3f7d78",
   "metadata": {},
   "source": [
    "## High Correlation 제거"
   ]
  },
  {
   "cell_type": "code",
   "execution_count": 26,
   "id": "5931b585",
   "metadata": {},
   "outputs": [
    {
     "name": "stdout",
     "output_type": "stream",
     "text": [
      "brain_timer  +  hand_hold_sum  :  0.8127\n",
      "brain_timer  +  gymnastics  :  0.8742\n"
     ]
    }
   ],
   "source": [
    "for i, c1 in enumerate (X_train.columns):\n",
    "    for j, c2 in enumerate (X_train.columns):\n",
    "        if (i> j )& (abs(X_train.corr().iloc[i,j])>=0.7):\n",
    "            print(c1,\" + \",c2, ' : ', np.round(X_train.corr().iloc[i,j],4))"
   ]
  },
  {
   "cell_type": "code",
   "execution_count": 27,
   "id": "28d5b9e9",
   "metadata": {},
   "outputs": [],
   "source": [
    "X_train.drop(['brain_timer'], axis = 1, inplace = True)"
   ]
  },
  {
   "cell_type": "code",
   "execution_count": 28,
   "id": "284c1860",
   "metadata": {},
   "outputs": [],
   "source": [
    "X = X[X_train.columns]\n",
    "X_test = X_test[X_train.columns]"
   ]
  },
  {
   "cell_type": "code",
   "execution_count": 29,
   "id": "665ce0a5",
   "metadata": {},
   "outputs": [],
   "source": [
    "for i, c1 in enumerate (X_train.columns):\n",
    "    for j, c2 in enumerate (X_train.columns):\n",
    "        if (i> j )& (abs(X_train.corr().iloc[i,j])>=0.7):\n",
    "            print(c1,\" + \",c2, ' : ', np.round(X_train.corr().iloc[i,j],4))"
   ]
  },
  {
   "cell_type": "markdown",
   "id": "5255db5e",
   "metadata": {},
   "source": [
    "# 1. 우울증 원점수"
   ]
  },
  {
   "cell_type": "markdown",
   "id": "5c193ac9",
   "metadata": {},
   "source": [
    "## 1-1. Linear Regression"
   ]
  },
  {
   "cell_type": "code",
   "execution_count": 30,
   "id": "be49244d",
   "metadata": {
    "scrolled": true
   },
   "outputs": [
    {
     "name": "stdout",
     "output_type": "stream",
     "text": [
      "                            OLS Regression Results                            \n",
      "==============================================================================\n",
      "Dep. Variable:              psy_after   R-squared:                       0.497\n",
      "Model:                            OLS   Adj. R-squared:                  0.290\n",
      "Method:                 Least Squares   F-statistic:                     2.399\n",
      "Date:                Fri, 19 Nov 2021   Prob (F-statistic):           0.000408\n",
      "Time:                        22:33:07   Log-Likelihood:                -254.12\n",
      "No. Observations:                 128   AIC:                             584.2\n",
      "Df Residuals:                      90   BIC:                             692.6\n",
      "Df Model:                          37                                         \n",
      "Covariance Type:            nonrobust                                         \n",
      "===================================================================================\n",
      "                      coef    std err          t      P>|t|      [0.025      0.975]\n",
      "-----------------------------------------------------------------------------------\n",
      "const              12.4466      2.609      4.771      0.000       7.264      17.629\n",
      "기상                 -2.4625      2.242     -1.098      0.275      -6.917       1.992\n",
      "아침                  1.9557      2.265      0.863      0.390      -2.545       6.456\n",
      "점심                 -0.7380      1.707     -0.432      0.667      -4.129       2.653\n",
      "저녁                 -1.7939      1.530     -1.173      0.244      -4.833       1.245\n",
      "취침                  0.4806      0.605      0.794      0.429      -0.722       1.683\n",
      "약_복용알람              1.9341      1.445      1.339      0.184      -0.936       4.805\n",
      "산책                 -0.5545      0.495     -1.121      0.265      -1.537       0.428\n",
      "당뇨                  0.4495      0.450      0.998      0.321      -0.445       1.344\n",
      "고지혈                -0.5185      0.502     -1.033      0.304      -1.515       0.478\n",
      "고혈압                -0.4060      0.494     -0.822      0.413      -1.388       0.576\n",
      "제공서비스               0.0515      0.413      0.125      0.901      -0.769       0.872\n",
      "age                -0.9347      0.992     -0.942      0.349      -2.906       1.037\n",
      "치매                  0.4485      0.621      0.722      0.472      -0.786       1.683\n",
      "우울증                -0.7022      0.498     -1.410      0.162      -1.692       0.288\n",
      "고립                  1.8292      0.815      2.245      0.027       0.210       3.448\n",
      "거동불편               -1.0063      0.487     -2.067      0.042      -1.974      -0.039\n",
      "건강관심                0.7160      0.859      0.833      0.407      -0.991       2.423\n",
      "주택타입               -0.0819      0.485     -0.169      0.866      -1.046       0.882\n",
      "자녀수                -0.9289      1.043     -0.890      0.376      -3.001       1.144\n",
      "식사                  0.0138      0.507      0.027      0.978      -0.993       1.021\n",
      "공공방문                0.3519      0.449      0.784      0.435      -0.539       1.243\n",
      "doll_score         -2.8130      1.137     -2.474      0.015      -5.072      -0.554\n",
      "med_count           1.4492      0.909      1.594      0.114      -0.357       3.255\n",
      "stroke              1.4874      1.924      0.773      0.441      -2.334       5.309\n",
      "hand_hold_sum       3.5819      2.449      1.462      0.147      -1.284       8.448\n",
      "knock              -0.3852      1.911     -0.202      0.841      -4.182       3.411\n",
      "human_detection    -2.2121      2.172     -1.018      0.311      -6.528       2.103\n",
      "gymnastics          0.1429      2.542      0.056      0.955      -4.908       5.193\n",
      "drug_consume       -0.2104      1.148     -0.183      0.855      -2.492       2.071\n",
      "drug_consume_rt     0.0870      0.673      0.129      0.897      -1.249       1.423\n",
      "slife_before       -1.2511      1.147     -1.091      0.278      -3.529       1.027\n",
      "slife_after        -3.8678      1.220     -3.171      0.002      -6.291      -1.444\n",
      "sex_여               0.5500      0.493      1.115      0.268      -0.430       1.530\n",
      "종교_무교              -0.4244      0.438     -0.970      0.335      -1.294       0.445\n",
      "수급여부_차상위            0.4348      0.525      0.828      0.410      -0.608       1.478\n",
      "청결_중               -0.3178      0.526     -0.604      0.547      -1.363       0.727\n",
      "청결_하                0.2764      0.841      0.329      0.743      -1.394       1.946\n",
      "==============================================================================\n",
      "Omnibus:                        1.729   Durbin-Watson:                   1.927\n",
      "Prob(Omnibus):                  0.421   Jarque-Bera (JB):                1.481\n",
      "Skew:                           0.263   Prob(JB):                        0.477\n",
      "Kurtosis:                       3.037   Cond. No.                         67.1\n",
      "==============================================================================\n",
      "\n",
      "Notes:\n",
      "[1] Standard Errors assume that the covariance matrix of the errors is correctly specified.\n"
     ]
    }
   ],
   "source": [
    "import statsmodels.api as sm\n",
    "X_Sm= sm.add_constant(X_train)\n",
    "ls=sm.OLS(Y1_train,X_Sm).fit()\n",
    "print(ls.summary())"
   ]
  },
  {
   "cell_type": "code",
   "execution_count": 31,
   "id": "dc901b15",
   "metadata": {
    "scrolled": true
   },
   "outputs": [
    {
     "name": "stdout",
     "output_type": "stream",
     "text": [
      "train_rmse: 1.7618591656234952\n"
     ]
    }
   ],
   "source": [
    "X_Sm = sm.add_constant(X_train)\n",
    "Y1_pred = ls.predict(X_Sm)\n",
    "Y1_pred[Y1_pred>15]= 15\n",
    "Y1_pred[Y1_pred<0]= 0\n",
    "rmse = sqrt(mean_squared_error(Y1_train, Y1_pred))\n",
    "print('train_rmse:', rmse)"
   ]
  },
  {
   "cell_type": "markdown",
   "id": "c72043bf",
   "metadata": {},
   "source": [
    "## 우울증 점수 범위가 0~15 라는 점을 생각하면, 그렇게 잘 맞추지는 못하는듯"
   ]
  },
  {
   "cell_type": "code",
   "execution_count": 32,
   "id": "6ae5a530",
   "metadata": {},
   "outputs": [
    {
     "name": "stdout",
     "output_type": "stream",
     "text": [
      "test_rmse: 3.474860412843347\n"
     ]
    }
   ],
   "source": [
    "X_Sm = sm.add_constant(X_test)\n",
    "Y1_pred = ls.predict(X_Sm)\n",
    "Y1_pred[Y1_pred>15]= 15\n",
    "Y1_pred[Y1_pred<0]= 0\n",
    "rmse = sqrt(mean_squared_error(Y1_test, Y1_pred))\n",
    "print('test_rmse:', rmse)"
   ]
  },
  {
   "cell_type": "markdown",
   "id": "9f5bda15",
   "metadata": {},
   "source": [
    "## 1-2. Lasso CV"
   ]
  },
  {
   "cell_type": "code",
   "execution_count": 33,
   "id": "70fbc367",
   "metadata": {},
   "outputs": [],
   "source": [
    "from sklearn.linear_model import LassoCV\n",
    "from sklearn.linear_model import Lasso"
   ]
  },
  {
   "cell_type": "code",
   "execution_count": 34,
   "id": "6105bd7a",
   "metadata": {},
   "outputs": [
    {
     "name": "stdout",
     "output_type": "stream",
     "text": [
      "Best alpha using built-in LassoCV: 0.115310\n",
      "Best score using built-in LassoCV: 0.196908\n"
     ]
    }
   ],
   "source": [
    "las = LassoCV()\n",
    "las.fit(X_train, Y1_train)\n",
    "print(\"Best alpha using built-in LassoCV: %f\" % las.alpha_)\n",
    "print(\"Best score using built-in LassoCV: %f\" %las.score(X_train,Y1_train))\n",
    "coef = pd.Series(las.coef_, index = X_train.columns)"
   ]
  },
  {
   "cell_type": "code",
   "execution_count": 35,
   "id": "a9c91dd8",
   "metadata": {},
   "outputs": [
    {
     "name": "stdout",
     "output_type": "stream",
     "text": [
      "Lasso picked 6 variables and eliminated the other 31 variables\n"
     ]
    }
   ],
   "source": [
    "print(\"Lasso picked \" + str(sum(coef != 0)) + \" variables and eliminated the other \" +  str(sum(coef == 0)) + \" variables\")"
   ]
  },
  {
   "cell_type": "code",
   "execution_count": 36,
   "id": "85c57ec9",
   "metadata": {},
   "outputs": [
    {
     "data": {
      "text/plain": [
       "Text(0.5, 1.0, 'Feature importance using Lasso Model')"
      ]
     },
     "execution_count": 36,
     "metadata": {},
     "output_type": "execute_result"
    },
    {
     "data": {
      "image/png": "[encoded data removed]",
      "text/plain": [
       "<Figure size 576x720 with 1 Axes>"
      ]
     },
     "metadata": {
      "needs_background": "light"
     },
     "output_type": "display_data"
    }
   ],
   "source": [
    "imp_coef = coef.sort_values()\n",
    "import matplotlib\n",
    "matplotlib.rcParams['figure.figsize'] = (8.0, 10.0)\n",
    "imp_coef.plot(kind = \"barh\")\n",
    "plt.title(\"Feature importance using Lasso Model\")"
   ]
  },
  {
   "cell_type": "code",
   "execution_count": 37,
   "id": "fc81d4f6",
   "metadata": {},
   "outputs": [
    {
     "name": "stdout",
     "output_type": "stream",
     "text": [
      "train_rmse: 2.2252370732773605\n"
     ]
    }
   ],
   "source": [
    "Y1_pred = las.predict(X_train)\n",
    "Y1_pred[Y1_pred>15]= 15\n",
    "Y1_pred[Y1_pred<0]= 0\n",
    "rmse = sqrt(mean_squared_error(Y1_train, Y1_pred))\n",
    "print('train_rmse:',rmse)"
   ]
  },
  {
   "cell_type": "code",
   "execution_count": 38,
   "id": "05eb769d",
   "metadata": {},
   "outputs": [
    {
     "name": "stdout",
     "output_type": "stream",
     "text": [
      "test_rmse: 2.1924658677249003\n"
     ]
    }
   ],
   "source": [
    "Y1_pred = las.predict(X_test)\n",
    "Y1_pred[Y1_pred>15]= 15\n",
    "Y1_pred[Y1_pred<0]= 0\n",
    "rmse = sqrt(mean_squared_error(Y1_test, Y1_pred))\n",
    "print('test_rmse:',rmse)"
   ]
  },
  {
   "cell_type": "markdown",
   "id": "d55ab851",
   "metadata": {},
   "source": [
    "## 1-3. Ridge CV"
   ]
  },
  {
   "cell_type": "code",
   "execution_count": 39,
   "id": "b8829a9f",
   "metadata": {},
   "outputs": [],
   "source": [
    "from sklearn.linear_model import RidgeCV\n",
    "from sklearn.linear_model import Ridge"
   ]
  },
  {
   "cell_type": "code",
   "execution_count": 40,
   "id": "a8956639",
   "metadata": {},
   "outputs": [
    {
     "name": "stdout",
     "output_type": "stream",
     "text": [
      "Best alpha using built-in RidgeCV: 10.000000\n",
      "Best score using built-in RidgeCV: 0.369167\n"
     ]
    }
   ],
   "source": [
    "rid = RidgeCV()\n",
    "rid.fit(X_train, Y1_train)\n",
    "print(\"Best alpha using built-in RidgeCV: %f\" % rid.alpha_)\n",
    "print(\"Best score using built-in RidgeCV: %f\" % rid.score(X_train,Y1_train))\n",
    "coef = pd.Series(rid.coef_, index = X_train.columns)"
   ]
  },
  {
   "cell_type": "code",
   "execution_count": 41,
   "id": "a513de9c",
   "metadata": {},
   "outputs": [
    {
     "data": {
      "text/plain": [
       "Text(0.5, 1.0, 'Feature importance using Ridge Model')"
      ]
     },
     "execution_count": 41,
     "metadata": {},
     "output_type": "execute_result"
    },
    {
     "data": {
      "image/png": "[encoded data removed]",
      "text/plain": [
       "<Figure size 576x720 with 1 Axes>"
      ]
     },
     "metadata": {
      "needs_background": "light"
     },
     "output_type": "display_data"
    }
   ],
   "source": [
    "imp_coef = coef.sort_values()\n",
    "import matplotlib\n",
    "matplotlib.rcParams['figure.figsize'] = (8.0, 10.0)\n",
    "imp_coef.plot(kind = \"barh\")\n",
    "plt.title(\"Feature importance using Ridge Model\")"
   ]
  },
  {
   "cell_type": "code",
   "execution_count": 42,
   "id": "643215cc",
   "metadata": {},
   "outputs": [
    {
     "name": "stdout",
     "output_type": "stream",
     "text": [
      "train_rmse: 1.9722003858903117\n"
     ]
    }
   ],
   "source": [
    "Y1_pred = rid.predict(X_train)\n",
    "Y1_pred[Y1_pred>15]= 15\n",
    "Y1_pred[Y1_pred<0]= 0\n",
    "rmse = sqrt(mean_squared_error(Y1_train, Y1_pred))\n",
    "print('train_rmse:',rmse)"
   ]
  },
  {
   "cell_type": "code",
   "execution_count": 43,
   "id": "3f1f710a",
   "metadata": {},
   "outputs": [
    {
     "name": "stdout",
     "output_type": "stream",
     "text": [
      "test_rmse: 2.718651099044792\n"
     ]
    }
   ],
   "source": [
    "Y1_pred = rid.predict(X_test)\n",
    "Y1_pred[Y1_pred>15]= 15\n",
    "Y1_pred[Y1_pred<0]= 0\n",
    "rmse = sqrt(mean_squared_error(Y1_test, Y1_pred))\n",
    "print('test_rmse:',rmse)"
   ]
  },
  {
   "cell_type": "markdown",
   "id": "8b853190",
   "metadata": {},
   "source": [
    "## 1-4. Linear Mixed Model"
   ]
  },
  {
   "cell_type": "code",
   "execution_count": 44,
   "id": "9149e8f9",
   "metadata": {},
   "outputs": [],
   "source": [
    "import statsmodels.api as sm\n",
    "import statsmodels.formula.api as smf"
   ]
  },
  {
   "cell_type": "code",
   "execution_count": 45,
   "id": "c0a53bb1",
   "metadata": {},
   "outputs": [
    {
     "data": {
      "text/plain": [
       "Index(['기상', '아침', '점심', '저녁', '취침', '약_복용알람', '산책', '당뇨', '고지혈', '고혈압',\n",
       "       '제공서비스', 'age', '치매', '우울증', '고립', '거동불편', '건강관심', '주택타입', '자녀수', '식사',\n",
       "       '공공방문', 'doll_score', 'med_count', 'stroke', 'hand_hold_sum', 'knock',\n",
       "       'human_detection', 'gymnastics', 'drug_consume', 'drug_consume_rt',\n",
       "       'slife_before', 'slife_after', 'sex_여', '종교_무교', '수급여부_차상위', '청결_중',\n",
       "       '청결_하'],\n",
       "      dtype='object')"
      ]
     },
     "execution_count": 45,
     "metadata": {},
     "output_type": "execute_result"
    }
   ],
   "source": [
    "X_train.columns"
   ]
  },
  {
   "cell_type": "code",
   "execution_count": 46,
   "id": "497db9c3",
   "metadata": {},
   "outputs": [],
   "source": [
    "#doll_id 기준 group\n",
    "X2 = pd.concat([X_train, survey_data['doll_id'][survey_data.index.isin(X_train.index)]], axis = 1)\n",
    "X2 = pd.concat([X2, Y1_train], axis = 1)"
   ]
  },
  {
   "cell_type": "code",
   "execution_count": 47,
   "id": "5527921e",
   "metadata": {},
   "outputs": [],
   "source": [
    "#기관 기준 group\n",
    "X3 = pd.concat([X_train, survey_data['기관2'][survey_data.index.isin(X_train.index)]], axis = 1)\n",
    "X3 = pd.concat([X3, Y1_train], axis = 1)"
   ]
  },
  {
   "cell_type": "code",
   "execution_count": 48,
   "id": "6ea66d4c",
   "metadata": {},
   "outputs": [],
   "source": [
    "#psy_before_cat 기준 group\n",
    "X4 = pd.concat([X_train, survey_data['slife_before_cat'][survey_data.index.isin(X_train.index)]], axis = 1)\n",
    "X4 = pd.concat([X4, Y1_train], axis =1)"
   ]
  },
  {
   "cell_type": "markdown",
   "id": "62c76831",
   "metadata": {},
   "source": [
    "### 1) doll_id 기준 group"
   ]
  },
  {
   "cell_type": "code",
   "execution_count": 49,
   "id": "11e16a1d",
   "metadata": {},
   "outputs": [],
   "source": [
    "doll_formula = 'psy_after ~ '\n",
    "for i,j in enumerate(X2.drop(['doll_id','psy_after'], axis = 1).columns):\n",
    "    if i==0:\n",
    "        doll_formula += j\n",
    "    else:\n",
    "        doll_formula += '+' + j"
   ]
  },
  {
   "cell_type": "code",
   "execution_count": 50,
   "id": "44e891a0",
   "metadata": {},
   "outputs": [
    {
     "data": {
      "text/plain": [
       "'psy_after ~ 기상+아침+점심+저녁+취침+약_복용알람+산책+당뇨+고지혈+고혈압+제공서비스+age+치매+우울증+고립+거동불편+건강관심+주택타입+자녀수+식사+공공방문+doll_score+med_count+stroke+hand_hold_sum+knock+human_detection+gymnastics+drug_consume+drug_consume_rt+slife_before+slife_after+sex_여+종교_무교+수급여부_차상위+청결_중+청결_하'"
      ]
     },
     "execution_count": 50,
     "metadata": {},
     "output_type": "execute_result"
    }
   ],
   "source": [
    "doll_formula"
   ]
  },
  {
   "cell_type": "code",
   "execution_count": 51,
   "id": "7cb90384",
   "metadata": {},
   "outputs": [],
   "source": [
    "doll_md = smf.mixedlm(formula = doll_formula, data = X2, groups = X2['doll_id'])"
   ]
  },
  {
   "cell_type": "code",
   "execution_count": 52,
   "id": "e2021ff7",
   "metadata": {},
   "outputs": [
    {
     "name": "stdout",
     "output_type": "stream",
     "text": [
      "          Mixed Linear Model Regression Results\n",
      "==========================================================\n",
      "Model:             MixedLM  Dependent Variable:  psy_after\n",
      "No. Observations:  128      Method:              REML     \n",
      "No. Groups:        128      Scale:               2.2074   \n",
      "Min. group size:   1        Log-Likelihood:      -234.6316\n",
      "Max. group size:   1        Converged:           Yes      \n",
      "Mean group size:   1.0                                    \n",
      "----------------------------------------------------------\n",
      "                Coef.  Std.Err.   z    P>|z| [0.025 0.975]\n",
      "----------------------------------------------------------\n",
      "Intercept       12.447    2.609  4.771 0.000  7.334 17.559\n",
      "기상              -2.463    2.242 -1.098 0.272 -6.857  1.932\n",
      "아침               1.956    2.265  0.863 0.388 -2.484  6.396\n",
      "점심              -0.738    1.707 -0.432 0.666 -4.084  2.608\n",
      "저녁              -1.794    1.530 -1.173 0.241 -4.792  1.205\n",
      "취침               0.481    0.605  0.794 0.427 -0.705  1.667\n",
      "약_복용알람           1.934    1.445  1.339 0.181 -0.898  4.766\n",
      "산책              -0.555    0.495 -1.121 0.262 -1.524  0.415\n",
      "당뇨               0.450    0.450  0.998 0.318 -0.433  1.332\n",
      "고지혈             -0.519    0.502 -1.033 0.301 -1.502  0.465\n",
      "고혈압             -0.406    0.494 -0.822 0.411 -1.374  0.562\n",
      "제공서비스            0.052    0.413  0.125 0.901 -0.758  0.861\n",
      "age             -0.935    0.992 -0.942 0.346 -2.880  1.011\n",
      "치매               0.448    0.621  0.722 0.470 -0.769  1.666\n",
      "우울증             -0.702    0.498 -1.410 0.159 -1.679  0.274\n",
      "고립               1.829    0.815  2.245 0.025  0.232  3.426\n",
      "거동불편            -1.006    0.487 -2.067 0.039 -1.961 -0.052\n",
      "건강관심             0.716    0.859  0.833 0.405 -0.968  2.400\n",
      "주택타입            -0.082    0.485 -0.169 0.866 -1.033  0.869\n",
      "자녀수             -0.929    1.043 -0.890 0.373 -2.973  1.116\n",
      "식사               0.014    0.507  0.027 0.978 -0.980  1.007\n",
      "공공방문             0.352    0.449  0.784 0.433 -0.527  1.231\n",
      "doll_score      -2.813    1.137 -2.474 0.013 -5.042 -0.584\n",
      "med_count        1.449    0.909  1.594 0.111 -0.332  3.231\n",
      "stroke           1.487    1.924  0.773 0.439 -2.283  5.258\n",
      "hand_hold_sum    3.582    2.449  1.462 0.144 -1.219  8.383\n",
      "knock           -0.385    1.911 -0.202 0.840 -4.131  3.360\n",
      "human_detection -2.212    2.172 -1.018 0.308 -6.470  2.045\n",
      "gymnastics       0.143    2.542  0.056 0.955 -4.840  5.125\n",
      "drug_consume    -0.210    1.148 -0.183 0.855 -2.461  2.040\n",
      "drug_consume_rt  0.087    0.673  0.129 0.897 -1.231  1.405\n",
      "slife_before    -1.251    1.147 -1.091 0.275 -3.498  0.996\n",
      "slife_after     -3.868    1.220 -3.171 0.002 -6.259 -1.477\n",
      "sex_여            0.550    0.493  1.115 0.265 -0.417  1.517\n",
      "종교_무교           -0.424    0.438 -0.970 0.332 -1.282  0.433\n",
      "수급여부_차상위         0.435    0.525  0.828 0.408 -0.594  1.464\n",
      "청결_중            -0.318    0.526 -0.604 0.546 -1.349  0.713\n",
      "청결_하             0.276    0.841  0.329 0.742 -1.371  1.924\n",
      "Group Var        2.207                                    \n",
      "==========================================================\n",
      "\n"
     ]
    },
    {
     "name": "stderr",
     "output_type": "stream",
     "text": [
      "C:\\Users\\dbdms\\AppData\\Roaming\\Python\\Python37\\site-packages\\statsmodels\\regression\\mixed_linear_model.py:2261: ConvergenceWarning: The Hessian matrix at the estimated parameter values is not positive definite.\n",
      "  warnings.warn(msg, ConvergenceWarning)\n"
     ]
    }
   ],
   "source": [
    "doll_mdf = doll_md.fit()\n",
    "print(doll_mdf.summary())"
   ]
  },
  {
   "cell_type": "code",
   "execution_count": 53,
   "id": "e01c061a",
   "metadata": {},
   "outputs": [
    {
     "data": {
      "text/plain": [
       "2.8776847541581962"
      ]
     },
     "execution_count": 53,
     "metadata": {},
     "output_type": "execute_result"
    }
   ],
   "source": [
    "doll_pred = doll_mdf.predict(X2.iloc[:,:-2])\n",
    "doll_pred[doll_pred>15]= 15\n",
    "doll_pred[doll_pred<0]= 0\n",
    "rms = sqrt(mean_squared_error(Y1_train, doll_pred))\n",
    "rms"
   ]
  },
  {
   "cell_type": "markdown",
   "id": "55e54abd",
   "metadata": {},
   "source": [
    "오히려 별로군"
   ]
  },
  {
   "cell_type": "markdown",
   "id": "13ffacce",
   "metadata": {},
   "source": [
    "### 2) 기관 기준 group"
   ]
  },
  {
   "cell_type": "code",
   "execution_count": 54,
   "id": "9c7f11ff",
   "metadata": {},
   "outputs": [],
   "source": [
    "기관_formula = 'psy_after ~ '\n",
    "for i,j in enumerate(X3.drop(['기관2','psy_after'], axis = 1).columns):\n",
    "    if i==0:\n",
    "        기관_formula += j\n",
    "    else:\n",
    "        기관_formula += '+' + j"
   ]
  },
  {
   "cell_type": "code",
   "execution_count": 55,
   "id": "1fa3822f",
   "metadata": {},
   "outputs": [
    {
     "data": {
      "text/plain": [
       "'psy_after ~ 기상+아침+점심+저녁+취침+약_복용알람+산책+당뇨+고지혈+고혈압+제공서비스+age+치매+우울증+고립+거동불편+건강관심+주택타입+자녀수+식사+공공방문+doll_score+med_count+stroke+hand_hold_sum+knock+human_detection+gymnastics+drug_consume+drug_consume_rt+slife_before+slife_after+sex_여+종교_무교+수급여부_차상위+청결_중+청결_하'"
      ]
     },
     "execution_count": 55,
     "metadata": {},
     "output_type": "execute_result"
    }
   ],
   "source": [
    "기관_formula"
   ]
  },
  {
   "cell_type": "code",
   "execution_count": 56,
   "id": "13e8b196",
   "metadata": {},
   "outputs": [
    {
     "name": "stdout",
     "output_type": "stream",
     "text": [
      "          Mixed Linear Model Regression Results\n",
      "==========================================================\n",
      "Model:             MixedLM  Dependent Variable:  psy_after\n",
      "No. Observations:  128      Method:              REML     \n",
      "No. Groups:        7        Scale:               4.4148   \n",
      "Min. group size:   2        Log-Likelihood:      -234.6316\n",
      "Max. group size:   42       Converged:           Yes      \n",
      "Mean group size:   18.3                                   \n",
      "----------------------------------------------------------\n",
      "                Coef.  Std.Err.   z    P>|z| [0.025 0.975]\n",
      "----------------------------------------------------------\n",
      "Intercept       12.447    2.637  4.720 0.000  7.278 17.615\n",
      "기상              -2.463    2.282 -1.079 0.281 -6.935  2.010\n",
      "아침               1.956    2.521  0.776 0.438 -2.985  6.896\n",
      "점심              -0.738    1.749 -0.422 0.673 -4.166  2.690\n",
      "저녁              -1.794    1.621 -1.107 0.268 -4.970  1.383\n",
      "취침               0.481    0.607  0.792 0.428 -0.709  1.670\n",
      "약_복용알람           1.934    1.467  1.319 0.187 -0.940  4.809\n",
      "산책              -0.555    0.516 -1.074 0.283 -1.566  0.457\n",
      "당뇨               0.450    0.453  0.991 0.322 -0.439  1.338\n",
      "고지혈             -0.519    0.551 -0.941 0.347 -1.599  0.562\n",
      "고혈압             -0.406    0.517 -0.786 0.432 -1.419  0.607\n",
      "제공서비스            0.052    0.867  0.059 0.953 -1.648  1.751\n",
      "age             -0.935    0.993 -0.941 0.347 -2.881  1.012\n",
      "치매               0.448    0.622  0.721 0.471 -0.771  1.668\n",
      "우울증             -0.702    0.519 -1.353 0.176 -1.719  0.315\n",
      "고립               1.829    0.823  2.222 0.026  0.216  3.443\n",
      "거동불편            -1.006    0.493 -2.043 0.041 -1.972 -0.041\n",
      "건강관심             0.716    0.872  0.821 0.412 -0.994  2.426\n",
      "주택타입            -0.082    0.526 -0.156 0.876 -1.114  0.950\n",
      "자녀수             -0.929    1.069 -0.869 0.385 -3.025  1.167\n",
      "식사               0.014    0.523  0.026 0.979 -1.012  1.040\n",
      "공공방문             0.352    0.451  0.780 0.435 -0.532  1.236\n",
      "doll_score      -2.813    1.344 -2.094 0.036 -5.446 -0.180\n",
      "med_count        1.449    0.979  1.480 0.139 -0.470  3.369\n",
      "stroke           1.487    1.937  0.768 0.442 -2.308  5.283\n",
      "hand_hold_sum    3.582    2.473  1.448 0.147 -1.265  8.429\n",
      "knock           -0.385    1.914 -0.201 0.841 -4.136  3.366\n",
      "human_detection -2.212    2.182 -1.014 0.311 -6.488  2.064\n",
      "gymnastics       0.143    2.543  0.056 0.955 -4.842  5.128\n",
      "drug_consume    -0.210    1.149 -0.183 0.855 -2.463  2.042\n",
      "drug_consume_rt  0.087    0.695  0.125 0.900 -1.274  1.448\n",
      "slife_before    -1.251    1.174 -1.066 0.286 -3.552  1.049\n",
      "slife_after     -3.868    1.220 -3.170 0.002 -6.259 -1.476\n",
      "sex_여            0.550    0.498  1.105 0.269 -0.425  1.525\n",
      "종교_무교           -0.424    0.440 -0.965 0.335 -1.287  0.438\n",
      "수급여부_차상위         0.435    0.568  0.766 0.444 -0.678  1.548\n",
      "청결_중            -0.318    0.527 -0.603 0.546 -1.350  0.715\n",
      "청결_하             0.276    0.878  0.315 0.753 -1.444  1.997\n",
      "Group Var        0.000    0.236                           \n",
      "==========================================================\n",
      "\n"
     ]
    },
    {
     "name": "stderr",
     "output_type": "stream",
     "text": [
      "C:\\Users\\dbdms\\AppData\\Roaming\\Python\\Python37\\site-packages\\statsmodels\\regression\\mixed_linear_model.py:2237: ConvergenceWarning: The MLE may be on the boundary of the parameter space.\n",
      "  warnings.warn(msg, ConvergenceWarning)\n"
     ]
    }
   ],
   "source": [
    "기관_md = smf.mixedlm(formula = 기관_formula, data = X3, groups = X3['기관2'])\n",
    "기관_mdf = 기관_md.fit()\n",
    "print(기관_mdf.summary())"
   ]
  },
  {
   "cell_type": "code",
   "execution_count": 57,
   "id": "68d909f4",
   "metadata": {},
   "outputs": [
    {
     "data": {
      "text/plain": [
       "2.877684753061865"
      ]
     },
     "execution_count": 57,
     "metadata": {},
     "output_type": "execute_result"
    }
   ],
   "source": [
    "기관_pred = 기관_mdf.predict(X3.iloc[:,:-2])\n",
    "기관_pred[기관_pred>15]= 15\n",
    "기관_pred[기관_pred<0]= 0\n",
    "rms = sqrt(mean_squared_error(Y1_train, 기관_pred))\n",
    "rms"
   ]
  },
  {
   "cell_type": "markdown",
   "id": "1deba9a2",
   "metadata": {},
   "source": [
    "### 3) slife_before_cat 기준 group"
   ]
  },
  {
   "cell_type": "code",
   "execution_count": 58,
   "id": "86475367",
   "metadata": {},
   "outputs": [],
   "source": [
    "psy_formula = 'psy_after ~ '\n",
    "for i,j in enumerate(X4.drop(['slife_before_cat','psy_after'], axis = 1).columns):\n",
    "    if i==0:\n",
    "        psy_formula += j\n",
    "    else:\n",
    "        psy_formula += '+' + j"
   ]
  },
  {
   "cell_type": "code",
   "execution_count": 59,
   "id": "236549cb",
   "metadata": {},
   "outputs": [
    {
     "data": {
      "text/plain": [
       "'psy_after ~ 기상+아침+점심+저녁+취침+약_복용알람+산책+당뇨+고지혈+고혈압+제공서비스+age+치매+우울증+고립+거동불편+건강관심+주택타입+자녀수+식사+공공방문+doll_score+med_count+stroke+hand_hold_sum+knock+human_detection+gymnastics+drug_consume+drug_consume_rt+slife_before+slife_after+sex_여+종교_무교+수급여부_차상위+청결_중+청결_하'"
      ]
     },
     "execution_count": 59,
     "metadata": {},
     "output_type": "execute_result"
    }
   ],
   "source": [
    "psy_formula"
   ]
  },
  {
   "cell_type": "code",
   "execution_count": 60,
   "id": "546c6f0b",
   "metadata": {
    "scrolled": true
   },
   "outputs": [
    {
     "name": "stdout",
     "output_type": "stream",
     "text": [
      "               Mixed Linear Model Regression Results\n",
      "====================================================================\n",
      "Model:                 MixedLM     Dependent Variable:     psy_after\n",
      "No. Observations:      128         Method:                 REML     \n",
      "No. Groups:            2           Scale:                  4.3309   \n",
      "Min. group size:       46          Log-Likelihood:         -234.2725\n",
      "Max. group size:       82          Converged:              Yes      \n",
      "Mean group size:       64.0                                         \n",
      "--------------------------------------------------------------------\n",
      "                         Coef.  Std.Err.   z    P>|z|  [0.025 0.975]\n",
      "--------------------------------------------------------------------\n",
      "Intercept                12.726   21.842  0.583 0.560 -30.084 55.535\n",
      "기상                       -2.710   12.749 -0.213 0.832 -27.698 22.279\n",
      "아침                        2.123   19.756  0.107 0.914 -36.598 40.843\n",
      "점심                       -0.849    3.372 -0.252 0.801  -7.458  5.760\n",
      "저녁                       -2.042   10.718 -0.191 0.849 -23.049 18.965\n",
      "취침                        0.595    2.973  0.200 0.841  -5.231  6.422\n",
      "약_복용알람                    2.044    8.671  0.236 0.814 -14.951 19.039\n",
      "산책                       -0.546    1.371 -0.398 0.691  -3.233  2.142\n",
      "당뇨                        0.447    2.038  0.219 0.826  -3.547  4.441\n",
      "고지혈                      -0.606    0.591 -1.025 0.305  -1.764  0.552\n",
      "고혈압                      -0.430    3.040 -0.141 0.888  -6.388  5.529\n",
      "제공서비스                     0.089    3.126  0.029 0.977  -6.037  6.216\n",
      "age                      -0.849    2.764 -0.307 0.759  -6.266  4.569\n",
      "치매                        0.421    3.135  0.134 0.893  -5.724  6.566\n",
      "우울증                      -0.662    3.180 -0.208 0.835  -6.894  5.570\n",
      "고립                        1.775    1.595  1.113 0.266  -1.351  4.902\n",
      "거동불편                     -1.081    2.306 -0.469 0.639  -5.601  3.439\n",
      "건강관심                      0.671    0.942  0.712 0.477  -1.176  2.517\n",
      "주택타입                     -0.065    0.488 -0.133 0.894  -1.021  0.892\n",
      "자녀수                      -0.905    5.629 -0.161 0.872 -11.937 10.127\n",
      "식사                        0.058    1.274  0.046 0.964  -2.439  2.556\n",
      "공공방문                      0.397    0.800  0.496 0.620  -1.171  1.965\n",
      "doll_score               -2.818    2.131 -1.322 0.186  -6.995  1.359\n",
      "med_count                 1.470    0.904  1.625 0.104  -0.303  3.242\n",
      "stroke                    1.526    2.415  0.632 0.528  -3.208  6.260\n",
      "hand_hold_sum             3.772    8.239  0.458 0.647 -12.377 19.921\n",
      "knock                    -0.133    2.229 -0.060 0.952  -4.502  4.235\n",
      "human_detection          -2.225   14.655 -0.152 0.879 -30.947 26.498\n",
      "gymnastics               -0.291    2.871 -0.101 0.919  -5.919  5.337\n",
      "drug_consume             -0.011    7.822 -0.001 0.999 -15.343 15.320\n",
      "drug_consume_rt           0.035    6.433  0.005 0.996 -12.573 12.642\n",
      "slife_before             -2.651   23.157 -0.114 0.909 -48.038 42.735\n",
      "slife_after              -3.706    1.222 -3.033 0.002  -6.100 -1.311\n",
      "sex_여                     0.598    3.629  0.165 0.869  -6.515  7.712\n",
      "종교_무교                    -0.431    0.509 -0.847 0.397  -1.430  0.567\n",
      "수급여부_차상위                  0.416    3.316  0.125 0.900  -6.083  6.914\n",
      "청결_중                     -0.301    1.202 -0.250 0.802  -2.658  2.056\n",
      "청결_하                      0.377    1.211  0.312 0.755  -1.996  2.751\n",
      "Group Var                 0.405   33.096                            \n",
      "Group x slife_before Cov -1.578   88.745                            \n",
      "slife_before Var          6.147  189.048                            \n",
      "====================================================================\n",
      "\n"
     ]
    },
    {
     "name": "stderr",
     "output_type": "stream",
     "text": [
      "C:\\Users\\dbdms\\AppData\\Roaming\\Python\\Python37\\site-packages\\statsmodels\\regression\\mixed_linear_model.py:2261: ConvergenceWarning: The Hessian matrix at the estimated parameter values is not positive definite.\n",
      "  warnings.warn(msg, ConvergenceWarning)\n"
     ]
    }
   ],
   "source": [
    "psy_md = smf.mixedlm(formula = psy_formula, data = X4, re_formula = '~slife_before', groups = X4['slife_before_cat'])\n",
    "psy_mdf = psy_md.fit()\n",
    "print(psy_mdf.summary())"
   ]
  },
  {
   "cell_type": "code",
   "execution_count": 61,
   "id": "4bd5f041",
   "metadata": {},
   "outputs": [
    {
     "data": {
      "text/plain": [
       "3.0085774233417637"
      ]
     },
     "execution_count": 61,
     "metadata": {},
     "output_type": "execute_result"
    }
   ],
   "source": [
    "psy_pred = psy_mdf.predict(X4.iloc[:,:-2])\n",
    "psy_pred[psy_pred>15]= 15\n",
    "psy_pred[psy_pred<0]= 0\n",
    "rms = sqrt(mean_squared_error(Y1_train, psy_pred))\n",
    "rms"
   ]
  },
  {
   "cell_type": "markdown",
   "id": "f3c07936",
   "metadata": {},
   "source": [
    "## 1-5. SFS (Linear Regression)"
   ]
  },
  {
   "cell_type": "markdown",
   "id": "f01ba31f",
   "metadata": {},
   "source": [
    "### Forward"
   ]
  },
  {
   "cell_type": "code",
   "execution_count": 62,
   "id": "6c9183e4",
   "metadata": {},
   "outputs": [
    {
     "data": {
      "text/plain": [
       "SequentialFeatureSelector(estimator=LinearRegression(), k_features=(5, 15),\n",
       "                          scoring='neg_root_mean_squared_error')"
      ]
     },
     "execution_count": 62,
     "metadata": {},
     "output_type": "execute_result"
    }
   ],
   "source": [
    "ols = LinearRegression()\n",
    "sfs_forward = SFS(estimator=ols, \n",
    "           k_features=(5, 15), #feature의 개수를 최소 몇 개 이상 최대 몇 개 이하로 하고 싶은지.\n",
    "           forward=True, \n",
    "           floating=False, \n",
    "           scoring='neg_root_mean_squared_error', cv = 5)\n",
    "\n",
    "sfs_forward.fit(X_train, Y1_train)"
   ]
  },
  {
   "cell_type": "code",
   "execution_count": 63,
   "id": "2d079a62",
   "metadata": {},
   "outputs": [
    {
     "data": {
      "text/plain": [
       "['약_복용알람',\n",
       " '고립',\n",
       " '거동불편',\n",
       " '건강관심',\n",
       " 'med_count',\n",
       " 'stroke',\n",
       " 'hand_hold_sum',\n",
       " 'slife_before',\n",
       " 'slife_after',\n",
       " '종교_무교']"
      ]
     },
     "execution_count": 63,
     "metadata": {},
     "output_type": "execute_result"
    }
   ],
   "source": [
    "selected_variables = list(sfs_forward.k_feature_names_)\n",
    "selected_variables"
   ]
  },
  {
   "cell_type": "code",
   "execution_count": 64,
   "id": "c82a2039",
   "metadata": {},
   "outputs": [
    {
     "name": "stdout",
     "output_type": "stream",
     "text": [
      "best average cv_score: -2.056721862705718\n"
     ]
    }
   ],
   "source": [
    "print('best average cv_score:',sfs_forward.k_score_)"
   ]
  },
  {
   "cell_type": "code",
   "execution_count": 65,
   "id": "211b6ef1",
   "metadata": {},
   "outputs": [
    {
     "name": "stdout",
     "output_type": "stream",
     "text": [
      "train_rmse: 1.9669916330146568\n"
     ]
    }
   ],
   "source": [
    "ols.fit(X_train[selected_variables], Y1_train)\n",
    "Y1_pred = ols.predict(X_train[selected_variables])\n",
    "Y1_pred[Y1_pred>15]= 15\n",
    "Y1_pred[Y1_pred<0]= 0\n",
    "rmse = sqrt(mean_squared_error(Y1_train, Y1_pred))\n",
    "print('train_rmse:',rmse)"
   ]
  },
  {
   "cell_type": "code",
   "execution_count": 66,
   "id": "08e726f9",
   "metadata": {},
   "outputs": [
    {
     "name": "stdout",
     "output_type": "stream",
     "text": [
      "test_rmse: 3.3046659220844163\n"
     ]
    }
   ],
   "source": [
    "Y1_pred = ols.predict(X_test[selected_variables])\n",
    "Y1_pred[Y1_pred>15]= 15\n",
    "Y1_pred[Y1_pred<0]= 0\n",
    "rmse = sqrt(mean_squared_error(Y1_test, Y1_pred))\n",
    "print('test_rmse:',rmse)"
   ]
  },
  {
   "cell_type": "markdown",
   "id": "9be88304",
   "metadata": {},
   "source": [
    "### Backward"
   ]
  },
  {
   "cell_type": "code",
   "execution_count": 67,
   "id": "479717b5",
   "metadata": {},
   "outputs": [],
   "source": [
    "# ols = LinearRegression()\n",
    "# sfs_backward = SFS(estimator=ols, \n",
    "#            k_features=(5, 15),\n",
    "#            forward=False, \n",
    "#            floating=False, \n",
    "#            scoring='neg_root_mean_squared_error', cv = 5)\n",
    "\n",
    "# sfs_backward.fit(X_train, Y1_train)"
   ]
  },
  {
   "cell_type": "code",
   "execution_count": 68,
   "id": "50f8ee3f",
   "metadata": {},
   "outputs": [],
   "source": [
    "# selected_variables = list(sfs_backward.k_feature_names_)\n",
    "# selected_variables"
   ]
  },
  {
   "cell_type": "code",
   "execution_count": 69,
   "id": "d7a20b37",
   "metadata": {},
   "outputs": [],
   "source": [
    "# print('best average cv_score:',sfs_backward.k_score_)"
   ]
  },
  {
   "cell_type": "code",
   "execution_count": 70,
   "id": "ce215e91",
   "metadata": {},
   "outputs": [],
   "source": [
    "# ols.fit(X_train[selected_variables], Y1_train)\n",
    "# Y1_pred = ols.predict(X_train[selected_variables])\n",
    "# rmse = sqrt(mean_squared_error(Y1_train, Y1_pred))\n",
    "# print('train_rmse:',rmse)"
   ]
  },
  {
   "cell_type": "code",
   "execution_count": 71,
   "id": "f30c8469",
   "metadata": {},
   "outputs": [],
   "source": [
    "# Y1_pred = ols.predict(X_test[selected_variables])\n",
    "# rmse = sqrt(mean_squared_error(Y1_test, Y1_pred))\n",
    "# print('test_rmse:',rmse)"
   ]
  },
  {
   "cell_type": "markdown",
   "id": "c059ebb7",
   "metadata": {},
   "source": [
    "## 1-6. Decision Tree"
   ]
  },
  {
   "cell_type": "code",
   "execution_count": 72,
   "id": "0a977cb5",
   "metadata": {},
   "outputs": [],
   "source": [
    "randomseed = 1234"
   ]
  },
  {
   "cell_type": "code",
   "execution_count": 73,
   "id": "fde72e47",
   "metadata": {},
   "outputs": [
    {
     "data": {
      "text/plain": [
       "DecisionTreeRegressor(min_samples_leaf=4, random_state=1234)"
      ]
     },
     "execution_count": 73,
     "metadata": {},
     "output_type": "execute_result"
    }
   ],
   "source": [
    "dtree = DecisionTreeRegressor(random_state=randomseed, min_samples_leaf=4)\n",
    "dtree.fit(X_train, Y1_train)"
   ]
  },
  {
   "cell_type": "code",
   "execution_count": 74,
   "id": "45f25322",
   "metadata": {},
   "outputs": [
    {
     "name": "stdout",
     "output_type": "stream",
     "text": [
      "train_rmse: 1.3063774430881465\n"
     ]
    }
   ],
   "source": [
    "Y1_pred = dtree.predict(X_train)\n",
    "Y1_pred[Y1_pred>15]= 15\n",
    "Y1_pred[Y1_pred<0]= 0\n",
    "rmse = sqrt(mean_squared_error(Y1_train, Y1_pred))\n",
    "print('train_rmse:', rmse)"
   ]
  },
  {
   "cell_type": "code",
   "execution_count": 75,
   "id": "12560892",
   "metadata": {},
   "outputs": [
    {
     "name": "stdout",
     "output_type": "stream",
     "text": [
      "test_rmse: 2.8345249032517237\n"
     ]
    }
   ],
   "source": [
    "Y1_pred = dtree.predict(X_test)\n",
    "Y1_pred[Y1_pred>15]= 15\n",
    "Y1_pred[Y1_pred<0]= 0\n",
    "rmse = sqrt(mean_squared_error(Y1_test, Y1_pred))\n",
    "print('test_rmse:', rmse)"
   ]
  },
  {
   "cell_type": "markdown",
   "id": "59565d3b",
   "metadata": {},
   "source": [
    "## 1-7. Random Forest"
   ]
  },
  {
   "cell_type": "code",
   "execution_count": 76,
   "id": "a359064f",
   "metadata": {},
   "outputs": [],
   "source": [
    "randomseed = 1234"
   ]
  },
  {
   "cell_type": "code",
   "execution_count": 77,
   "id": "0cf8bb9c",
   "metadata": {},
   "outputs": [
    {
     "data": {
      "text/plain": [
       "RandomForestRegressor(min_samples_leaf=5, random_state=1234)"
      ]
     },
     "execution_count": 77,
     "metadata": {},
     "output_type": "execute_result"
    }
   ],
   "source": [
    "rforest = RandomForestRegressor(random_state = randomseed, min_samples_leaf=5)\n",
    "rforest.fit(X_train, Y1_train)"
   ]
  },
  {
   "cell_type": "code",
   "execution_count": 78,
   "id": "dbeae3dd",
   "metadata": {},
   "outputs": [
    {
     "name": "stdout",
     "output_type": "stream",
     "text": [
      "train_rmse: 1.5266842551996254\n"
     ]
    }
   ],
   "source": [
    "Y1_pred = rforest.predict(X_train)\n",
    "Y1_pred[Y1_pred>15]= 15\n",
    "Y1_pred[Y1_pred<0]= 0\n",
    "rmse = sqrt(mean_squared_error(Y1_train, Y1_pred))\n",
    "print('train_rmse:', rmse)"
   ]
  },
  {
   "cell_type": "code",
   "execution_count": 79,
   "id": "3851e0e1",
   "metadata": {},
   "outputs": [
    {
     "name": "stdout",
     "output_type": "stream",
     "text": [
      "test_rmse: 2.097439125339657\n"
     ]
    }
   ],
   "source": [
    "Y1_pred = rforest.predict(X_test)\n",
    "Y1_pred[Y1_pred>15]= 15\n",
    "Y1_pred[Y1_pred<0]= 0\n",
    "rmse = sqrt(mean_squared_error(Y1_test, Y1_pred))\n",
    "print('test_rmse:', rmse)"
   ]
  },
  {
   "cell_type": "markdown",
   "id": "2f3f51b2",
   "metadata": {},
   "source": [
    "## 저는 괜찮다고 생각합니다"
   ]
  },
  {
   "cell_type": "code",
   "execution_count": null,
   "id": "3aee0180",
   "metadata": {},
   "outputs": [],
   "source": []
  },
  {
   "cell_type": "markdown",
   "id": "7a2bebe3",
   "metadata": {},
   "source": [
    "## 1-8. XGBoost"
   ]
  },
  {
   "cell_type": "code",
   "execution_count": 80,
   "id": "265c89ab",
   "metadata": {},
   "outputs": [],
   "source": [
    "randomseed = 1234"
   ]
  },
  {
   "cell_type": "code",
   "execution_count": 81,
   "id": "eea019a6",
   "metadata": {},
   "outputs": [
    {
     "data": {
      "text/plain": [
       "XGBRegressor(base_score=0.5, booster='gbtree', colsample_bylevel=1,\n",
       "             colsample_bynode=1, colsample_bytree=1, gamma=0, gpu_id=-1,\n",
       "             importance_type='gain', interaction_constraints='',\n",
       "             learning_rate=0.300000012, max_delta_step=0, max_depth=5,\n",
       "             min_child_weight=1, missing=nan, monotone_constraints='()',\n",
       "             n_estimators=100, n_jobs=0, num_parallel_tree=1, random_state=1234,\n",
       "             reg_alpha=0, reg_lambda=1, scale_pos_weight=1, subsample=1,\n",
       "             tree_method='exact', validate_parameters=1, verbosity=None)"
      ]
     },
     "execution_count": 81,
     "metadata": {},
     "output_type": "execute_result"
    }
   ],
   "source": [
    "xgb = XGBRegressor(random_state = randomseed, max_depth = 5)\n",
    "xgb.fit(X_train, Y1_train)"
   ]
  },
  {
   "cell_type": "code",
   "execution_count": 82,
   "id": "fdcacf5b",
   "metadata": {},
   "outputs": [
    {
     "name": "stdout",
     "output_type": "stream",
     "text": [
      "train_rmse: 0.0007474329682201292\n"
     ]
    }
   ],
   "source": [
    "Y1_pred = xgb.predict(X_train)\n",
    "Y1_pred[Y1_pred>15]= 15\n",
    "Y1_pred[Y1_pred<0]= 0\n",
    "rmse = sqrt(mean_squared_error(Y1_train, Y1_pred))\n",
    "print('train_rmse:', rmse)"
   ]
  },
  {
   "cell_type": "code",
   "execution_count": 83,
   "id": "6a9cd76e",
   "metadata": {},
   "outputs": [
    {
     "name": "stdout",
     "output_type": "stream",
     "text": [
      "test_rmse: 2.3053894170870124\n"
     ]
    }
   ],
   "source": [
    "Y1_pred = xgb.predict(X_test)\n",
    "Y1_pred[Y1_pred>15]= 15\n",
    "Y1_pred[Y1_pred<0]= 0\n",
    "rmse = sqrt(mean_squared_error(Y1_test, Y1_pred))\n",
    "print('test_rmse:', rmse)"
   ]
  },
  {
   "cell_type": "code",
   "execution_count": null,
   "id": "eda6a5ab",
   "metadata": {},
   "outputs": [],
   "source": []
  },
  {
   "cell_type": "markdown",
   "id": "9cfdc5ca",
   "metadata": {},
   "source": [
    "## 1-9. LGBM"
   ]
  },
  {
   "cell_type": "code",
   "execution_count": 84,
   "id": "c74462c2",
   "metadata": {},
   "outputs": [],
   "source": [
    "randomseed = 1234"
   ]
  },
  {
   "cell_type": "code",
   "execution_count": 85,
   "id": "6e9a4934",
   "metadata": {},
   "outputs": [
    {
     "name": "stdout",
     "output_type": "stream",
     "text": [
      "[LightGBM] [Warning] Accuracy may be bad since you didn't set num_leaves and 2^max_depth > num_leaves\n"
     ]
    },
    {
     "data": {
      "text/plain": [
       "LGBMRegressor(max_depth=5, random_state=1234)"
      ]
     },
     "execution_count": 85,
     "metadata": {},
     "output_type": "execute_result"
    }
   ],
   "source": [
    "lgbm = LGBMRegressor(random_state = randomseed, max_depth = 5)\n",
    "lgbm.fit(X_train, Y1_train)"
   ]
  },
  {
   "cell_type": "code",
   "execution_count": 86,
   "id": "330bfe87",
   "metadata": {},
   "outputs": [
    {
     "name": "stdout",
     "output_type": "stream",
     "text": [
      "train_rmse: 0.9763148080773799\n"
     ]
    }
   ],
   "source": [
    "Y1_pred = lgbm.predict(X_train)\n",
    "Y1_pred[Y1_pred>15]= 15\n",
    "Y1_pred[Y1_pred<0]= 0\n",
    "rmse = sqrt(mean_squared_error(Y1_train, Y1_pred))\n",
    "print('train_rmse:', rmse)"
   ]
  },
  {
   "cell_type": "code",
   "execution_count": 87,
   "id": "33419c51",
   "metadata": {},
   "outputs": [
    {
     "name": "stdout",
     "output_type": "stream",
     "text": [
      "test_rmse: 2.3474430093064993\n"
     ]
    }
   ],
   "source": [
    "Y1_pred = lgbm.predict(X_test)\n",
    "Y1_pred[Y1_pred>15]= 15\n",
    "Y1_pred[Y1_pred<0]= 0\n",
    "rmse = sqrt(mean_squared_error(Y1_test, Y1_pred))\n",
    "print('test_rmse:', rmse)"
   ]
  },
  {
   "cell_type": "code",
   "execution_count": null,
   "id": "5d73401d",
   "metadata": {},
   "outputs": [],
   "source": []
  },
  {
   "cell_type": "markdown",
   "id": "1c654162",
   "metadata": {},
   "source": [
    "# 2. 우울증 Change(점수)"
   ]
  },
  {
   "cell_type": "markdown",
   "id": "809eb0c0",
   "metadata": {},
   "source": [
    "## 2-1. Linear Regression"
   ]
  },
  {
   "cell_type": "code",
   "execution_count": 88,
   "id": "2ca13fb9",
   "metadata": {},
   "outputs": [
    {
     "data": {
      "text/plain": [
       "<AxesSubplot:xlabel='psy_change', ylabel='Count'>"
      ]
     },
     "execution_count": 88,
     "metadata": {},
     "output_type": "execute_result"
    },
    {
     "data": {
      "image/png": "[encoded data removed]",
      "text/plain": [
       "<Figure size 720x360 with 1 Axes>"
      ]
     },
     "metadata": {},
     "output_type": "display_data"
    }
   ],
   "source": [
    "sns.set(rc = {'figure.figsize':(10,5)})\n",
    "sns.histplot(Y2)"
   ]
  },
  {
   "cell_type": "code",
   "execution_count": 89,
   "id": "89a48002",
   "metadata": {
    "scrolled": false
   },
   "outputs": [
    {
     "name": "stdout",
     "output_type": "stream",
     "text": [
      "                            OLS Regression Results                            \n",
      "==============================================================================\n",
      "Dep. Variable:             psy_change   R-squared:                       0.287\n",
      "Model:                            OLS   Adj. R-squared:                 -0.006\n",
      "Method:                 Least Squares   F-statistic:                    0.9779\n",
      "Date:                Fri, 19 Nov 2021   Prob (F-statistic):              0.517\n",
      "Time:                        22:33:22   Log-Likelihood:                -303.76\n",
      "No. Observations:                 128   AIC:                             683.5\n",
      "Df Residuals:                      90   BIC:                             791.9\n",
      "Df Model:                          37                                         \n",
      "Covariance Type:            nonrobust                                         \n",
      "===================================================================================\n",
      "                      coef    std err          t      P>|t|      [0.025      0.975]\n",
      "-----------------------------------------------------------------------------------\n",
      "const              -0.6963      3.845     -0.181      0.857      -8.334       6.942\n",
      "기상                  5.3938      3.305      1.632      0.106      -1.171      11.959\n",
      "아침                 -1.7069      3.339     -0.511      0.610      -8.340       4.926\n",
      "점심                 -1.5459      2.516     -0.614      0.540      -6.544       3.452\n",
      "저녁                  2.3743      2.255      1.053      0.295      -2.105       6.854\n",
      "취침                 -0.9205      0.892     -1.032      0.305      -2.692       0.851\n",
      "약_복용알람              0.0117      2.129      0.005      0.996      -4.219       4.242\n",
      "산책                  0.6591      0.729      0.904      0.368      -0.789       2.107\n",
      "당뇨                 -0.5673      0.664     -0.854      0.395      -1.886       0.752\n",
      "고지혈                 0.9314      0.739      1.260      0.211      -0.538       2.401\n",
      "고혈압                 0.6450      0.728      0.886      0.378      -0.802       2.092\n",
      "제공서비스               0.7024      0.608      1.154      0.251      -0.506       1.911\n",
      "age                 0.1926      1.463      0.132      0.896      -2.713       3.098\n",
      "치매                  0.6195      0.916      0.677      0.500      -1.200       2.439\n",
      "우울증                 0.9568      0.734      1.303      0.196      -0.502       2.415\n",
      "고립                 -1.2093      1.201     -1.007      0.317      -3.595       1.177\n",
      "거동불편               -0.2946      0.718     -0.411      0.682      -1.720       1.131\n",
      "건강관심               -0.4443      1.266     -0.351      0.726      -2.959       2.071\n",
      "주택타입                0.4755      0.715      0.665      0.508      -0.945       1.896\n",
      "자녀수                 0.8068      1.537      0.525      0.601      -2.247       3.861\n",
      "식사                  0.6198      0.747      0.830      0.409      -0.864       2.104\n",
      "공공방문               -0.6269      0.661     -0.948      0.346      -1.940       0.687\n",
      "doll_score          2.7325      1.676      1.631      0.106      -0.597       6.062\n",
      "med_count          -0.7449      1.340     -0.556      0.580      -3.406       1.917\n",
      "stroke             -3.0761      2.835     -1.085      0.281      -8.709       2.556\n",
      "hand_hold_sum      -3.8147      3.610     -1.057      0.293     -10.987       3.357\n",
      "knock               1.8335      2.817      0.651      0.517      -3.762       7.429\n",
      "human_detection     0.8988      3.201      0.281      0.780      -5.461       7.259\n",
      "gymnastics         -0.6381      3.747     -0.170      0.865      -8.081       6.805\n",
      "drug_consume       -0.2195      1.692     -0.130      0.897      -3.582       3.143\n",
      "drug_consume_rt    -0.7386      0.991     -0.745      0.458      -2.708       1.231\n",
      "slife_before       -2.7372      1.690     -1.620      0.109      -6.094       0.620\n",
      "slife_after         1.1740      1.798      0.653      0.515      -2.398       4.746\n",
      "sex_여              -1.0455      0.727     -1.438      0.154      -2.490       0.399\n",
      "종교_무교               0.3296      0.645      0.511      0.611      -0.951       1.611\n",
      "수급여부_차상위           -0.0796      0.774     -0.103      0.918      -1.617       1.457\n",
      "청결_중               -0.1665      0.775     -0.215      0.830      -1.707       1.374\n",
      "청결_하               -1.9487      1.239     -1.573      0.119      -4.410       0.513\n",
      "==============================================================================\n",
      "Omnibus:                        0.047   Durbin-Watson:                   1.842\n",
      "Prob(Omnibus):                  0.977   Jarque-Bera (JB):                0.034\n",
      "Skew:                           0.030   Prob(JB):                        0.983\n",
      "Kurtosis:                       2.948   Cond. No.                         67.1\n",
      "==============================================================================\n",
      "\n",
      "Notes:\n",
      "[1] Standard Errors assume that the covariance matrix of the errors is correctly specified.\n"
     ]
    }
   ],
   "source": [
    "import statsmodels.api as sm\n",
    "X_Sm= sm.add_constant(X_train)\n",
    "ls=sm.OLS(Y2_train,X_Sm).fit()\n",
    "print(ls.summary())"
   ]
  },
  {
   "cell_type": "code",
   "execution_count": 90,
   "id": "8d02565b",
   "metadata": {},
   "outputs": [
    {
     "name": "stdout",
     "output_type": "stream",
     "text": [
      "train_rmse: 2.596616966839136\n"
     ]
    }
   ],
   "source": [
    "X_Sm = sm.add_constant(X_train)\n",
    "Y2_pred = ls.predict(X_Sm)\n",
    "Y2_pred[Y2_pred>15]= 15\n",
    "rmse = sqrt(mean_squared_error(Y2_train, Y2_pred))\n",
    "print('train_rmse:', rmse)"
   ]
  },
  {
   "cell_type": "code",
   "execution_count": 91,
   "id": "e18d92cd",
   "metadata": {},
   "outputs": [
    {
     "name": "stdout",
     "output_type": "stream",
     "text": [
      "test_rmse: 7.681681962883874\n"
     ]
    }
   ],
   "source": [
    "X_Sm = sm.add_constant(X_test)\n",
    "Y2_pred = ls.predict(X_Sm)\n",
    "Y2_pred[Y2_pred>15]= 15\n",
    "rmse = sqrt(mean_squared_error(Y2_test, Y2_pred))\n",
    "print('test_rmse:', rmse)"
   ]
  },
  {
   "cell_type": "markdown",
   "id": "74a74de0",
   "metadata": {},
   "source": [
    "## 별로야"
   ]
  },
  {
   "cell_type": "markdown",
   "id": "af7e27c8",
   "metadata": {},
   "source": [
    "## 2-2. Lasso CV"
   ]
  },
  {
   "cell_type": "code",
   "execution_count": 92,
   "id": "ba7fa293",
   "metadata": {},
   "outputs": [
    {
     "name": "stdout",
     "output_type": "stream",
     "text": [
      "Best alpha using built-in LassoCV: 0.179688\n",
      "Best score using built-in LassoCV: 0.000000\n"
     ]
    }
   ],
   "source": [
    "las = LassoCV()\n",
    "las.fit(X_train, Y2_train)\n",
    "print(\"Best alpha using built-in LassoCV: %f\" % las.alpha_)\n",
    "print(\"Best score using built-in LassoCV: %f\" %las.score(X_train,Y2_train))\n",
    "coef = pd.Series(las.coef_, index = X_train.columns)"
   ]
  },
  {
   "cell_type": "code",
   "execution_count": 93,
   "id": "0a223983",
   "metadata": {},
   "outputs": [
    {
     "name": "stdout",
     "output_type": "stream",
     "text": [
      "Lasso picked 0 variables and eliminated the other 37 variables\n"
     ]
    }
   ],
   "source": [
    "print(\"Lasso picked \" + str(sum(coef != 0)) + \" variables and eliminated the other \" +  str(sum(coef == 0)) + \" variables\")"
   ]
  },
  {
   "cell_type": "markdown",
   "id": "f45cb5f2",
   "metadata": {},
   "source": [
    "## 2-3. Ridge CV"
   ]
  },
  {
   "cell_type": "code",
   "execution_count": 94,
   "id": "c6e891cd",
   "metadata": {},
   "outputs": [
    {
     "name": "stdout",
     "output_type": "stream",
     "text": [
      "Best alpha using built-in RidgeCV: 10.000000\n",
      "Best score using built-in RidgeCV: 0.190993\n"
     ]
    }
   ],
   "source": [
    "rid = RidgeCV()\n",
    "rid.fit(X_train, Y2_train)\n",
    "print(\"Best alpha using built-in RidgeCV: %f\" % rid.alpha_)\n",
    "print(\"Best score using built-in RidgeCV: %f\" % rid.score(X_train,Y2_train))\n",
    "coef = pd.Series(las.coef_, index = X_train.columns)"
   ]
  },
  {
   "cell_type": "code",
   "execution_count": 95,
   "id": "f538ab80",
   "metadata": {},
   "outputs": [
    {
     "name": "stdout",
     "output_type": "stream",
     "text": [
      "train_rmse: 2.765437944775934\n"
     ]
    }
   ],
   "source": [
    "Y2_pred = rid.predict(X_train)\n",
    "Y2_pred[Y2_pred>15]= 15\n",
    "rmse = sqrt(mean_squared_error(Y2_train, Y2_pred))\n",
    "print('train_rmse:',rmse)"
   ]
  },
  {
   "cell_type": "code",
   "execution_count": 96,
   "id": "7fda3c92",
   "metadata": {},
   "outputs": [
    {
     "name": "stdout",
     "output_type": "stream",
     "text": [
      "train_rmse: 4.003732268552448\n"
     ]
    }
   ],
   "source": [
    "Y2_pred = rid.predict(X_test)\n",
    "Y2_pred[Y2_pred>15]= 15\n",
    "rmse = sqrt(mean_squared_error(Y2_test, Y2_pred))\n",
    "print('train_rmse:',rmse)"
   ]
  },
  {
   "cell_type": "markdown",
   "id": "52627b7d",
   "metadata": {},
   "source": [
    "## 2-4. SFS (Linear Regression)"
   ]
  },
  {
   "cell_type": "markdown",
   "id": "4f9287aa",
   "metadata": {},
   "source": [
    "### Forward"
   ]
  },
  {
   "cell_type": "code",
   "execution_count": 97,
   "id": "e268617b",
   "metadata": {},
   "outputs": [
    {
     "data": {
      "text/plain": [
       "SequentialFeatureSelector(estimator=LinearRegression(), k_features=(5, 15),\n",
       "                          scoring='neg_root_mean_squared_error')"
      ]
     },
     "execution_count": 97,
     "metadata": {},
     "output_type": "execute_result"
    }
   ],
   "source": [
    "ols = LinearRegression()\n",
    "sfs_forward = SFS(estimator=LinearRegression(), \n",
    "           k_features=(5, 15), #feature의 개수를 최소 몇 개 이상 최대 몇 개 이하로 하고 싶은지.\n",
    "           forward=True, \n",
    "           floating=False, \n",
    "           scoring='neg_root_mean_squared_error', cv = 5)\n",
    "\n",
    "sfs_forward.fit(X_train, Y2_train)"
   ]
  },
  {
   "cell_type": "code",
   "execution_count": 98,
   "id": "cadf054d",
   "metadata": {},
   "outputs": [
    {
     "data": {
      "text/plain": [
       "['기상',\n",
       " '고지혈',\n",
       " '제공서비스',\n",
       " '고립',\n",
       " 'doll_score',\n",
       " 'med_count',\n",
       " 'stroke',\n",
       " 'hand_hold_sum',\n",
       " 'slife_before']"
      ]
     },
     "execution_count": 98,
     "metadata": {},
     "output_type": "execute_result"
    }
   ],
   "source": [
    "selected_variables = list(sfs_forward.k_feature_names_)\n",
    "selected_variables"
   ]
  },
  {
   "cell_type": "code",
   "execution_count": 99,
   "id": "c790148e",
   "metadata": {},
   "outputs": [
    {
     "name": "stdout",
     "output_type": "stream",
     "text": [
      "best average cv_score: -2.949055524151934\n"
     ]
    }
   ],
   "source": [
    "print('best average cv_score:',sfs_forward.k_score_)"
   ]
  },
  {
   "cell_type": "code",
   "execution_count": 100,
   "id": "742bd947",
   "metadata": {},
   "outputs": [
    {
     "name": "stdout",
     "output_type": "stream",
     "text": [
      "train_rmse: 2.807974002025968\n"
     ]
    }
   ],
   "source": [
    "ols.fit(X_train[selected_variables], Y2_train)\n",
    "Y2_pred = ols.predict(X_train[selected_variables])\n",
    "Y2_pred[Y2_pred>15]= 15\n",
    "rmse = sqrt(mean_squared_error(Y2_train, Y2_pred))\n",
    "print('train_rmse:',rmse)"
   ]
  },
  {
   "cell_type": "code",
   "execution_count": 101,
   "id": "32413815",
   "metadata": {},
   "outputs": [
    {
     "name": "stdout",
     "output_type": "stream",
     "text": [
      "test_rmse: 7.428582082333232\n"
     ]
    }
   ],
   "source": [
    "Y2_pred = ols.predict(X_test[selected_variables])\n",
    "Y2_pred[Y2_pred>15]= 15\n",
    "rmse = sqrt(mean_squared_error(Y2_test, Y2_pred))\n",
    "print('test_rmse:',rmse)"
   ]
  },
  {
   "cell_type": "markdown",
   "id": "670a3335",
   "metadata": {},
   "source": [
    "### Backward"
   ]
  },
  {
   "cell_type": "code",
   "execution_count": 102,
   "id": "e6b114d0",
   "metadata": {},
   "outputs": [],
   "source": [
    "# ols = LinearRegression()\n",
    "# sfs_backward = SFS(estimator=ols, \n",
    "#            k_features=(5, 15), #feature의 개수를 최소 몇 개 이상 최대 몇 개 이하로 하고 싶은지.\n",
    "#            forward=False, \n",
    "#            floating=False, \n",
    "#            scoring='neg_root_mean_squared_error', cv = 5)\n",
    "\n",
    "# sfs_backward.fit(X_train, Y2_train)"
   ]
  },
  {
   "cell_type": "code",
   "execution_count": 103,
   "id": "fdedc46a",
   "metadata": {},
   "outputs": [],
   "source": [
    "# selected_variables = list(sfs_backward.k_feature_names_)\n",
    "# selected_variables"
   ]
  },
  {
   "cell_type": "code",
   "execution_count": 104,
   "id": "e3cdbafa",
   "metadata": {},
   "outputs": [],
   "source": [
    "# print('best average cv_score:',sfs_backward.k_score_)"
   ]
  },
  {
   "cell_type": "code",
   "execution_count": 105,
   "id": "8722aa76",
   "metadata": {},
   "outputs": [],
   "source": [
    "# ols.fit(X_train[selected_variables], Y2_train)\n",
    "# Y2_pred = ols.predict(X_train[selected_variables])\n",
    "# rmse = sqrt(mean_squared_error(Y2_train, Y2_pred))\n",
    "# print('train_rmse:',rmse)"
   ]
  },
  {
   "cell_type": "code",
   "execution_count": 106,
   "id": "3fd59cad",
   "metadata": {
    "scrolled": true
   },
   "outputs": [],
   "source": [
    "# Y2_pred = ols.predict(X_test[selected_variables])\n",
    "# rmse = sqrt(mean_squared_error(Y2_test, Y2_pred))\n",
    "# print('test_rmse:',rmse)"
   ]
  },
  {
   "cell_type": "markdown",
   "id": "6727607c",
   "metadata": {},
   "source": [
    "## change는 노답인듯"
   ]
  },
  {
   "cell_type": "markdown",
   "id": "2ed29992",
   "metadata": {},
   "source": [
    "## 2-5. Decision Tree"
   ]
  },
  {
   "cell_type": "code",
   "execution_count": 107,
   "id": "db3ae048",
   "metadata": {},
   "outputs": [],
   "source": [
    "randomseed = 1234"
   ]
  },
  {
   "cell_type": "code",
   "execution_count": 108,
   "id": "e6315ae0",
   "metadata": {},
   "outputs": [
    {
     "data": {
      "text/plain": [
       "DecisionTreeRegressor(min_samples_leaf=5, random_state=1234)"
      ]
     },
     "execution_count": 108,
     "metadata": {},
     "output_type": "execute_result"
    }
   ],
   "source": [
    "dtree = DecisionTreeRegressor(random_state=randomseed, min_samples_leaf=5)\n",
    "dtree.fit(X_train, Y2_train)"
   ]
  },
  {
   "cell_type": "code",
   "execution_count": 109,
   "id": "f5a9d034",
   "metadata": {},
   "outputs": [
    {
     "name": "stdout",
     "output_type": "stream",
     "text": [
      "train_rmse: 1.8785317267516932\n"
     ]
    }
   ],
   "source": [
    "Y2_pred = dtree.predict(X_train)\n",
    "Y2_pred[Y2_pred>15]= 15\n",
    "rmse = sqrt(mean_squared_error(Y2_train, Y2_pred))\n",
    "print('train_rmse:', rmse)"
   ]
  },
  {
   "cell_type": "code",
   "execution_count": 110,
   "id": "0ca702ea",
   "metadata": {
    "scrolled": false
   },
   "outputs": [
    {
     "name": "stdout",
     "output_type": "stream",
     "text": [
      "test_rmse: 4.449413676089529\n"
     ]
    }
   ],
   "source": [
    "Y2_pred = dtree.predict(X_test)\n",
    "Y2_pred[Y2_pred>15]= 15\n",
    "rmse = sqrt(mean_squared_error(Y2_test, Y2_pred))\n",
    "print('test_rmse:', rmse)"
   ]
  },
  {
   "cell_type": "markdown",
   "id": "964f9e37",
   "metadata": {},
   "source": [
    "## 2-6. Random Forest"
   ]
  },
  {
   "cell_type": "code",
   "execution_count": 111,
   "id": "cb41a17e",
   "metadata": {},
   "outputs": [],
   "source": [
    "randomseed = 1234"
   ]
  },
  {
   "cell_type": "code",
   "execution_count": 112,
   "id": "190ee2ee",
   "metadata": {},
   "outputs": [
    {
     "data": {
      "text/plain": [
       "RandomForestRegressor(min_samples_leaf=5, random_state=1234)"
      ]
     },
     "execution_count": 112,
     "metadata": {},
     "output_type": "execute_result"
    }
   ],
   "source": [
    "rforest = RandomForestRegressor(random_state = randomseed, min_samples_leaf=5)\n",
    "rforest.fit(X_train, Y2_train)"
   ]
  },
  {
   "cell_type": "code",
   "execution_count": 113,
   "id": "7397886a",
   "metadata": {},
   "outputs": [
    {
     "name": "stdout",
     "output_type": "stream",
     "text": [
      "train_rmse: 2.0255485644293554\n"
     ]
    }
   ],
   "source": [
    "Y2_pred = rforest.predict(X_train)\n",
    "Y2_pred[Y2_pred>15]= 15\n",
    "rmse = sqrt(mean_squared_error(Y2_train, Y2_pred))\n",
    "print('train_rmse:', rmse)"
   ]
  },
  {
   "cell_type": "code",
   "execution_count": 114,
   "id": "3794b22f",
   "metadata": {},
   "outputs": [
    {
     "name": "stdout",
     "output_type": "stream",
     "text": [
      "test_rmse: 3.4813840756796637\n"
     ]
    }
   ],
   "source": [
    "Y2_pred = rforest.predict(X_test)\n",
    "Y2_pred[Y2_pred>15]= 15\n",
    "rmse = sqrt(mean_squared_error(Y2_test, Y2_pred))\n",
    "print('test_rmse:', rmse)"
   ]
  },
  {
   "cell_type": "markdown",
   "id": "23fc67ca",
   "metadata": {},
   "source": [
    "## 2-7. XGBoost"
   ]
  },
  {
   "cell_type": "code",
   "execution_count": 115,
   "id": "a250516f",
   "metadata": {},
   "outputs": [],
   "source": [
    "randomseed = 1234"
   ]
  },
  {
   "cell_type": "code",
   "execution_count": 116,
   "id": "23fe6ccc",
   "metadata": {},
   "outputs": [
    {
     "data": {
      "text/plain": [
       "XGBRegressor(base_score=0.5, booster='gbtree', colsample_bylevel=1,\n",
       "             colsample_bynode=1, colsample_bytree=1, gamma=0, gpu_id=-1,\n",
       "             importance_type='gain', interaction_constraints='',\n",
       "             learning_rate=0.300000012, max_delta_step=0, max_depth=5,\n",
       "             min_child_weight=1, missing=nan, monotone_constraints='()',\n",
       "             n_estimators=100, n_jobs=0, num_parallel_tree=1, random_state=1234,\n",
       "             reg_alpha=0, reg_lambda=1, scale_pos_weight=1, subsample=1,\n",
       "             tree_method='exact', validate_parameters=1, verbosity=None)"
      ]
     },
     "execution_count": 116,
     "metadata": {},
     "output_type": "execute_result"
    }
   ],
   "source": [
    "xgb = XGBRegressor(random_state = randomseed, max_depth = 5)\n",
    "xgb.fit(X_train, Y2_train)"
   ]
  },
  {
   "cell_type": "code",
   "execution_count": 117,
   "id": "a7e4012d",
   "metadata": {},
   "outputs": [
    {
     "name": "stdout",
     "output_type": "stream",
     "text": [
      "train_rmse: 0.0007217289728154757\n"
     ]
    }
   ],
   "source": [
    "Y2_pred = xgb.predict(X_train)\n",
    "Y2_pred[Y2_pred>15]= 15\n",
    "rmse = sqrt(mean_squared_error(Y2_train, Y2_pred))\n",
    "print('train_rmse:', rmse)"
   ]
  },
  {
   "cell_type": "code",
   "execution_count": 118,
   "id": "6190b508",
   "metadata": {},
   "outputs": [
    {
     "name": "stdout",
     "output_type": "stream",
     "text": [
      "test_rmse: 3.291060966129849\n"
     ]
    }
   ],
   "source": [
    "Y2_pred = xgb.predict(X_test)\n",
    "Y2_pred[Y2_pred>15]= 15\n",
    "rmse = sqrt(mean_squared_error(Y2_test, Y2_pred))\n",
    "print('test_rmse:', rmse)"
   ]
  },
  {
   "cell_type": "markdown",
   "id": "4d308ad1",
   "metadata": {},
   "source": [
    "## 2-8. LightGBM"
   ]
  },
  {
   "cell_type": "code",
   "execution_count": 119,
   "id": "e402cbe7",
   "metadata": {},
   "outputs": [],
   "source": [
    "randomseed = 1234"
   ]
  },
  {
   "cell_type": "code",
   "execution_count": 120,
   "id": "1d696c30",
   "metadata": {},
   "outputs": [
    {
     "name": "stdout",
     "output_type": "stream",
     "text": [
      "[LightGBM] [Warning] Accuracy may be bad since you didn't set num_leaves and 2^max_depth > num_leaves\n"
     ]
    },
    {
     "data": {
      "text/plain": [
       "LGBMRegressor(max_depth=5, random_state=1234)"
      ]
     },
     "execution_count": 120,
     "metadata": {},
     "output_type": "execute_result"
    }
   ],
   "source": [
    "lgbm = LGBMRegressor(random_state = randomseed, max_depth = 5)\n",
    "lgbm.fit(X_train, Y2_train)"
   ]
  },
  {
   "cell_type": "code",
   "execution_count": 121,
   "id": "4154cea5",
   "metadata": {},
   "outputs": [
    {
     "name": "stdout",
     "output_type": "stream",
     "text": [
      "train_rmse: 1.456008620205475\n"
     ]
    }
   ],
   "source": [
    "Y2_pred = lgbm.predict(X_train)\n",
    "Y2_pred[Y2_pred>15]= 15\n",
    "rmse = sqrt(mean_squared_error(Y2_train, Y2_pred))\n",
    "print('train_rmse:', rmse)"
   ]
  },
  {
   "cell_type": "code",
   "execution_count": 122,
   "id": "7b8782c0",
   "metadata": {},
   "outputs": [
    {
     "name": "stdout",
     "output_type": "stream",
     "text": [
      "test_rmse: 3.2970310489714487\n"
     ]
    }
   ],
   "source": [
    "Y2_pred = lgbm.predict(X_test)\n",
    "Y2_pred[Y2_pred>15]= 15\n",
    "rmse = sqrt(mean_squared_error(Y2_test, Y2_pred))\n",
    "print('test_rmse:', rmse)"
   ]
  },
  {
   "cell_type": "markdown",
   "id": "0d19df60",
   "metadata": {},
   "source": [
    "# 3. 긍정변화여부"
   ]
  },
  {
   "cell_type": "markdown",
   "id": "aeb99cc9",
   "metadata": {},
   "source": [
    "## 3-1. Logistic Regression"
   ]
  },
  {
   "cell_type": "code",
   "execution_count": 123,
   "id": "2d1d8987",
   "metadata": {},
   "outputs": [
    {
     "name": "stdout",
     "output_type": "stream",
     "text": [
      "1    82\n",
      "0    46\n",
      "Name: psy_change, dtype: int64 \n",
      "\n",
      " 1    21\n",
      "0    11\n",
      "Name: psy_change, dtype: int64\n"
     ]
    }
   ],
   "source": [
    "print(Y3_train.value_counts(), '\\n\\n', Y3_test.value_counts())"
   ]
  },
  {
   "cell_type": "markdown",
   "id": "4828859c",
   "metadata": {},
   "source": [
    "proba 조정할 시 0.8 정도로"
   ]
  },
  {
   "cell_type": "code",
   "execution_count": 124,
   "id": "40f3760f",
   "metadata": {
    "scrolled": false
   },
   "outputs": [
    {
     "name": "stdout",
     "output_type": "stream",
     "text": [
      "Optimization terminated successfully.\n",
      "         Current function value: 0.468992\n",
      "         Iterations 8\n",
      "                            OLS Regression Results                            \n",
      "==============================================================================\n",
      "Dep. Variable:             psy_change   R-squared:                       0.287\n",
      "Model:                            OLS   Adj. R-squared:                 -0.006\n",
      "Method:                 Least Squares   F-statistic:                    0.9779\n",
      "Date:                Fri, 19 Nov 2021   Prob (F-statistic):              0.517\n",
      "Time:                        22:33:31   Log-Likelihood:                -303.76\n",
      "No. Observations:                 128   AIC:                             683.5\n",
      "Df Residuals:                      90   BIC:                             791.9\n",
      "Df Model:                          37                                         \n",
      "Covariance Type:            nonrobust                                         \n",
      "===================================================================================\n",
      "                      coef    std err          t      P>|t|      [0.025      0.975]\n",
      "-----------------------------------------------------------------------------------\n",
      "const              -0.6963      3.845     -0.181      0.857      -8.334       6.942\n",
      "기상                  5.3938      3.305      1.632      0.106      -1.171      11.959\n",
      "아침                 -1.7069      3.339     -0.511      0.610      -8.340       4.926\n",
      "점심                 -1.5459      2.516     -0.614      0.540      -6.544       3.452\n",
      "저녁                  2.3743      2.255      1.053      0.295      -2.105       6.854\n",
      "취침                 -0.9205      0.892     -1.032      0.305      -2.692       0.851\n",
      "약_복용알람              0.0117      2.129      0.005      0.996      -4.219       4.242\n",
      "산책                  0.6591      0.729      0.904      0.368      -0.789       2.107\n",
      "당뇨                 -0.5673      0.664     -0.854      0.395      -1.886       0.752\n",
      "고지혈                 0.9314      0.739      1.260      0.211      -0.538       2.401\n",
      "고혈압                 0.6450      0.728      0.886      0.378      -0.802       2.092\n",
      "제공서비스               0.7024      0.608      1.154      0.251      -0.506       1.911\n",
      "age                 0.1926      1.463      0.132      0.896      -2.713       3.098\n",
      "치매                  0.6195      0.916      0.677      0.500      -1.200       2.439\n",
      "우울증                 0.9568      0.734      1.303      0.196      -0.502       2.415\n",
      "고립                 -1.2093      1.201     -1.007      0.317      -3.595       1.177\n",
      "거동불편               -0.2946      0.718     -0.411      0.682      -1.720       1.131\n",
      "건강관심               -0.4443      1.266     -0.351      0.726      -2.959       2.071\n",
      "주택타입                0.4755      0.715      0.665      0.508      -0.945       1.896\n",
      "자녀수                 0.8068      1.537      0.525      0.601      -2.247       3.861\n",
      "식사                  0.6198      0.747      0.830      0.409      -0.864       2.104\n",
      "공공방문               -0.6269      0.661     -0.948      0.346      -1.940       0.687\n",
      "doll_score          2.7325      1.676      1.631      0.106      -0.597       6.062\n",
      "med_count          -0.7449      1.340     -0.556      0.580      -3.406       1.917\n",
      "stroke             -3.0761      2.835     -1.085      0.281      -8.709       2.556\n",
      "hand_hold_sum      -3.8147      3.610     -1.057      0.293     -10.987       3.357\n",
      "knock               1.8335      2.817      0.651      0.517      -3.762       7.429\n",
      "human_detection     0.8988      3.201      0.281      0.780      -5.461       7.259\n",
      "gymnastics         -0.6381      3.747     -0.170      0.865      -8.081       6.805\n",
      "drug_consume       -0.2195      1.692     -0.130      0.897      -3.582       3.143\n",
      "drug_consume_rt    -0.7386      0.991     -0.745      0.458      -2.708       1.231\n",
      "slife_before       -2.7372      1.690     -1.620      0.109      -6.094       0.620\n",
      "slife_after         1.1740      1.798      0.653      0.515      -2.398       4.746\n",
      "sex_여              -1.0455      0.727     -1.438      0.154      -2.490       0.399\n",
      "종교_무교               0.3296      0.645      0.511      0.611      -0.951       1.611\n",
      "수급여부_차상위           -0.0796      0.774     -0.103      0.918      -1.617       1.457\n",
      "청결_중               -0.1665      0.775     -0.215      0.830      -1.707       1.374\n",
      "청결_하               -1.9487      1.239     -1.573      0.119      -4.410       0.513\n",
      "==============================================================================\n",
      "Omnibus:                        0.047   Durbin-Watson:                   1.842\n",
      "Prob(Omnibus):                  0.977   Jarque-Bera (JB):                0.034\n",
      "Skew:                           0.030   Prob(JB):                        0.983\n",
      "Kurtosis:                       2.948   Cond. No.                         67.1\n",
      "==============================================================================\n",
      "\n",
      "Notes:\n",
      "[1] Standard Errors assume that the covariance matrix of the errors is correctly specified.\n"
     ]
    }
   ],
   "source": [
    "X_Sm= sm.add_constant(X_train)\n",
    "logit=sm.Logit(Y3_train,X_Sm).fit()\n",
    "print(ls.summary())"
   ]
  },
  {
   "cell_type": "markdown",
   "id": "cd47e1bf",
   "metadata": {},
   "source": [
    "마이너스?"
   ]
  },
  {
   "cell_type": "code",
   "execution_count": 125,
   "id": "847575d1",
   "metadata": {},
   "outputs": [
    {
     "name": "stdout",
     "output_type": "stream",
     "text": [
      "train_accuracy: 0.7265625\n"
     ]
    }
   ],
   "source": [
    "logit = LogisticRegression()\n",
    "logit.fit(X_train, Y3_train)\n",
    "Y3_pred = logit.predict(X_train)\n",
    "accu = accuracy_score(Y3_train, Y3_pred)\n",
    "print('train_accuracy:',accu)"
   ]
  },
  {
   "cell_type": "code",
   "execution_count": 126,
   "id": "f16e1e70",
   "metadata": {},
   "outputs": [
    {
     "name": "stdout",
     "output_type": "stream",
     "text": [
      "test_accuracy: 0.59375\n"
     ]
    }
   ],
   "source": [
    "Y3_pred = logit.predict(X_test)\n",
    "accu = accuracy_score(Y3_test, Y3_pred)\n",
    "print('test_accuracy:', accu)"
   ]
  },
  {
   "cell_type": "code",
   "execution_count": 127,
   "id": "871ab5f9",
   "metadata": {},
   "outputs": [
    {
     "data": {
      "text/html": [
       "<div>\n",
       "<style scoped>\n",
       "    .dataframe tbody tr th:only-of-type {\n",
       "        vertical-align: middle;\n",
       "    }\n",
       "\n",
       "    .dataframe tbody tr th {\n",
       "        vertical-align: top;\n",
       "    }\n",
       "\n",
       "    .dataframe thead th {\n",
       "        text-align: right;\n",
       "    }\n",
       "</style>\n",
       "<table border=\"1\" class=\"dataframe\">\n",
       "  <thead>\n",
       "    <tr style=\"text-align: right;\">\n",
       "      <th>col_0</th>\n",
       "      <th>0</th>\n",
       "      <th>1</th>\n",
       "    </tr>\n",
       "    <tr>\n",
       "      <th>psy_change</th>\n",
       "      <th></th>\n",
       "      <th></th>\n",
       "    </tr>\n",
       "  </thead>\n",
       "  <tbody>\n",
       "    <tr>\n",
       "      <th>0</th>\n",
       "      <td>5</td>\n",
       "      <td>6</td>\n",
       "    </tr>\n",
       "    <tr>\n",
       "      <th>1</th>\n",
       "      <td>7</td>\n",
       "      <td>14</td>\n",
       "    </tr>\n",
       "  </tbody>\n",
       "</table>\n",
       "</div>"
      ],
      "text/plain": [
       "col_0       0   1\n",
       "psy_change       \n",
       "0           5   6\n",
       "1           7  14"
      ]
     },
     "execution_count": 127,
     "metadata": {},
     "output_type": "execute_result"
    }
   ],
   "source": [
    "pd.crosstab(Y3_test, Y3_pred)"
   ]
  },
  {
   "cell_type": "markdown",
   "id": "3b5f8a2b",
   "metadata": {},
   "source": [
    "## 3-2. SFS"
   ]
  },
  {
   "cell_type": "markdown",
   "id": "ba14464a",
   "metadata": {},
   "source": [
    "### Forward"
   ]
  },
  {
   "cell_type": "code",
   "execution_count": 128,
   "id": "8d5f0631",
   "metadata": {},
   "outputs": [
    {
     "data": {
      "text/plain": [
       "SequentialFeatureSelector(estimator=LogisticRegression(), k_features=(5, 15),\n",
       "                          scoring='accuracy')"
      ]
     },
     "execution_count": 128,
     "metadata": {},
     "output_type": "execute_result"
    }
   ],
   "source": [
    "logit = LogisticRegression()\n",
    "sfs_forward = SFS(estimator=logit, \n",
    "           k_features=(5, 15),\n",
    "           forward=True, \n",
    "           floating=False, \n",
    "           scoring='accuracy', cv = 5)\n",
    "\n",
    "sfs_forward.fit(X_train, Y3_train)"
   ]
  },
  {
   "cell_type": "code",
   "execution_count": 129,
   "id": "dd39e1a3",
   "metadata": {},
   "outputs": [
    {
     "data": {
      "text/plain": [
       "['아침',\n",
       " '점심',\n",
       " '취침',\n",
       " '약_복용알람',\n",
       " '건강관심',\n",
       " 'doll_score',\n",
       " 'med_count',\n",
       " 'drug_consume_rt',\n",
       " '청결_하']"
      ]
     },
     "execution_count": 129,
     "metadata": {},
     "output_type": "execute_result"
    }
   ],
   "source": [
    "selected_variables = list(sfs_forward.k_feature_names_)\n",
    "selected_variables"
   ]
  },
  {
   "cell_type": "code",
   "execution_count": 130,
   "id": "e9fb9e0a",
   "metadata": {},
   "outputs": [
    {
     "name": "stdout",
     "output_type": "stream",
     "text": [
      "best average cv_score: 0.6953846153846155\n"
     ]
    }
   ],
   "source": [
    "print('best average cv_score:',sfs_forward.k_score_)"
   ]
  },
  {
   "cell_type": "code",
   "execution_count": 131,
   "id": "ff53b932",
   "metadata": {},
   "outputs": [
    {
     "name": "stdout",
     "output_type": "stream",
     "text": [
      "train_accuracy: 0.6640625\n"
     ]
    }
   ],
   "source": [
    "logit = LogisticRegression()\n",
    "logit.fit(X_train[selected_variables], Y3_train)\n",
    "Y3_pred = logit.predict(X_train[selected_variables])\n",
    "accu = accuracy_score(Y3_train, Y3_pred)\n",
    "print('train_accuracy:',accu)"
   ]
  },
  {
   "cell_type": "code",
   "execution_count": 132,
   "id": "8106916d",
   "metadata": {},
   "outputs": [
    {
     "name": "stdout",
     "output_type": "stream",
     "text": [
      "test_accuracy: 0.6875\n"
     ]
    }
   ],
   "source": [
    "Y3_pred = logit.predict(X_test[selected_variables])\n",
    "accu = accuracy_score(Y3_test, Y3_pred)\n",
    "print('test_accuracy:',accu)"
   ]
  },
  {
   "cell_type": "code",
   "execution_count": 133,
   "id": "995765c3",
   "metadata": {},
   "outputs": [
    {
     "data": {
      "text/html": [
       "<div>\n",
       "<style scoped>\n",
       "    .dataframe tbody tr th:only-of-type {\n",
       "        vertical-align: middle;\n",
       "    }\n",
       "\n",
       "    .dataframe tbody tr th {\n",
       "        vertical-align: top;\n",
       "    }\n",
       "\n",
       "    .dataframe thead th {\n",
       "        text-align: right;\n",
       "    }\n",
       "</style>\n",
       "<table border=\"1\" class=\"dataframe\">\n",
       "  <thead>\n",
       "    <tr style=\"text-align: right;\">\n",
       "      <th>col_0</th>\n",
       "      <th>0</th>\n",
       "      <th>1</th>\n",
       "    </tr>\n",
       "    <tr>\n",
       "      <th>psy_change</th>\n",
       "      <th></th>\n",
       "      <th></th>\n",
       "    </tr>\n",
       "  </thead>\n",
       "  <tbody>\n",
       "    <tr>\n",
       "      <th>0</th>\n",
       "      <td>1</td>\n",
       "      <td>10</td>\n",
       "    </tr>\n",
       "    <tr>\n",
       "      <th>1</th>\n",
       "      <td>0</td>\n",
       "      <td>21</td>\n",
       "    </tr>\n",
       "  </tbody>\n",
       "</table>\n",
       "</div>"
      ],
      "text/plain": [
       "col_0       0   1\n",
       "psy_change       \n",
       "0           1  10\n",
       "1           0  21"
      ]
     },
     "execution_count": 133,
     "metadata": {},
     "output_type": "execute_result"
    }
   ],
   "source": [
    "pd.crosstab(Y3_test, Y3_pred)"
   ]
  },
  {
   "cell_type": "code",
   "execution_count": 134,
   "id": "9d640bfc",
   "metadata": {},
   "outputs": [
    {
     "name": "stdout",
     "output_type": "stream",
     "text": [
      "train_accuracy: 0.625\n"
     ]
    }
   ],
   "source": [
    "logit = LogisticRegression()\n",
    "logit.fit(X_train[selected_variables], Y3_train)\n",
    "\n",
    "Y3_pred_df = pd.DataFrame(logit.predict_proba(X_train[selected_variables]))\n",
    "Y3_pred_df['yhat'] = 0\n",
    "Y3_pred_df.loc[Y3_pred_df[1]>=0.6, 'yhat']=1\n",
    "\n",
    "accu = accuracy_score(Y3_train, Y3_pred_df['yhat'])\n",
    "print('train_accuracy:',accu)"
   ]
  },
  {
   "cell_type": "code",
   "execution_count": 135,
   "id": "7b42151d",
   "metadata": {},
   "outputs": [
    {
     "name": "stdout",
     "output_type": "stream",
     "text": [
      "test_accuracy: 0.65625\n"
     ]
    }
   ],
   "source": [
    "Y3_pred_df = pd.DataFrame(logit.predict_proba(X_test[selected_variables]))\n",
    "Y3_pred_df['yhat'] = 0\n",
    "Y3_pred_df.loc[Y3_pred_df[1]>=0.6, 'yhat']=1\n",
    "\n",
    "accu = accuracy_score(Y3_test, Y3_pred_df['yhat'])\n",
    "print('test_accuracy:',accu)"
   ]
  },
  {
   "cell_type": "code",
   "execution_count": 136,
   "id": "e466c53c",
   "metadata": {},
   "outputs": [
    {
     "data": {
      "text/html": [
       "<div>\n",
       "<style scoped>\n",
       "    .dataframe tbody tr th:only-of-type {\n",
       "        vertical-align: middle;\n",
       "    }\n",
       "\n",
       "    .dataframe tbody tr th {\n",
       "        vertical-align: top;\n",
       "    }\n",
       "\n",
       "    .dataframe thead th {\n",
       "        text-align: right;\n",
       "    }\n",
       "</style>\n",
       "<table border=\"1\" class=\"dataframe\">\n",
       "  <thead>\n",
       "    <tr style=\"text-align: right;\">\n",
       "      <th>yhat</th>\n",
       "      <th>1</th>\n",
       "    </tr>\n",
       "    <tr>\n",
       "      <th>psy_change</th>\n",
       "      <th></th>\n",
       "    </tr>\n",
       "  </thead>\n",
       "  <tbody>\n",
       "    <tr>\n",
       "      <th>0</th>\n",
       "      <td>11</td>\n",
       "    </tr>\n",
       "    <tr>\n",
       "      <th>1</th>\n",
       "      <td>21</td>\n",
       "    </tr>\n",
       "  </tbody>\n",
       "</table>\n",
       "</div>"
      ],
      "text/plain": [
       "yhat         1\n",
       "psy_change    \n",
       "0           11\n",
       "1           21"
      ]
     },
     "execution_count": 136,
     "metadata": {},
     "output_type": "execute_result"
    }
   ],
   "source": [
    "pd.crosstab(Y3_test.reset_index(drop=True), Y3_pred_df['yhat'])"
   ]
  },
  {
   "cell_type": "markdown",
   "id": "024a30c6",
   "metadata": {},
   "source": [
    "### Backward"
   ]
  },
  {
   "cell_type": "code",
   "execution_count": 137,
   "id": "ac489e43",
   "metadata": {},
   "outputs": [],
   "source": [
    "# logit = LogisticRegression()\n",
    "# sfs_backward = SFS(estimator=logit, \n",
    "#            k_features=(5, 15), #feature의 개수를 최소 몇 개 이상 최대 몇 개 이하로 하고 싶은지.\n",
    "#            forward=False, \n",
    "#            floating=False, \n",
    "#            scoring='accuracy', cv = 5)\n",
    "\n",
    "# sfs_backward.fit(X_train, Y3_train)"
   ]
  },
  {
   "cell_type": "code",
   "execution_count": 138,
   "id": "896a7f20",
   "metadata": {},
   "outputs": [],
   "source": [
    "# selected_variables = list(sfs_backward.k_feature_names_)\n",
    "# selected_variables"
   ]
  },
  {
   "cell_type": "code",
   "execution_count": 139,
   "id": "361cc23d",
   "metadata": {},
   "outputs": [],
   "source": [
    "# print('best average cv_score:',sfs_backward.k_score_)"
   ]
  },
  {
   "cell_type": "code",
   "execution_count": 140,
   "id": "acb39a7e",
   "metadata": {},
   "outputs": [],
   "source": [
    "# logit = LogisticRegression()\n",
    "# logit.fit(X_train[selected_variables], Y3_train)\n",
    "# Y3_pred = logit.predict(X_train[selected_variables])\n",
    "# accu = accuracy_score(Y3_train, Y3_pred)\n",
    "# print('train_accuracy:', accu)"
   ]
  },
  {
   "cell_type": "code",
   "execution_count": 141,
   "id": "780e4c7f",
   "metadata": {},
   "outputs": [],
   "source": [
    "# Y3_pred = logit.predict(X_test[selected_variables])\n",
    "# accu = accuracy_score(Y3_test, Y3_pred)\n",
    "# print('test_accuracy:', accu)"
   ]
  },
  {
   "cell_type": "markdown",
   "id": "cf1a575b",
   "metadata": {},
   "source": [
    "## 3-3. Decision Tree"
   ]
  },
  {
   "cell_type": "code",
   "execution_count": 169,
   "id": "4bacf09c",
   "metadata": {},
   "outputs": [],
   "source": [
    "randomseed = 1234"
   ]
  },
  {
   "cell_type": "code",
   "execution_count": 176,
   "id": "054f060a",
   "metadata": {},
   "outputs": [],
   "source": [
    "randomseed = 2021"
   ]
  },
  {
   "cell_type": "code",
   "execution_count": 195,
   "id": "246541ee",
   "metadata": {},
   "outputs": [
    {
     "data": {
      "text/plain": [
       "DecisionTreeClassifier(min_samples_leaf=8, random_state=2021)"
      ]
     },
     "execution_count": 195,
     "metadata": {},
     "output_type": "execute_result"
    }
   ],
   "source": [
    "dtree = DecisionTreeClassifier(random_state=randomseed, min_samples_leaf=8)\n",
    "dtree.fit(X_train, Y3_train)"
   ]
  },
  {
   "cell_type": "code",
   "execution_count": 196,
   "id": "7a416ed5",
   "metadata": {},
   "outputs": [
    {
     "name": "stdout",
     "output_type": "stream",
     "text": [
      "train_accuracy: 0.765625\n"
     ]
    }
   ],
   "source": [
    "Y3_pred = dtree.predict(X_train)\n",
    "\n",
    "accu = accuracy_score(Y3_train, Y3_pred)\n",
    "print('train_accuracy:', accu)"
   ]
  },
  {
   "cell_type": "code",
   "execution_count": 197,
   "id": "b7d56e75",
   "metadata": {
    "scrolled": true
   },
   "outputs": [
    {
     "name": "stdout",
     "output_type": "stream",
     "text": [
      "test_accuracy: 0.53125\n"
     ]
    }
   ],
   "source": [
    "Y3_pred = dtree.predict(X_test)\n",
    "accu = accuracy_score(Y3_test, Y3_pred)\n",
    "print('test_accuracy:', accu)"
   ]
  },
  {
   "cell_type": "code",
   "execution_count": 198,
   "id": "25c99a7e",
   "metadata": {},
   "outputs": [
    {
     "data": {
      "text/html": [
       "<div>\n",
       "<style scoped>\n",
       "    .dataframe tbody tr th:only-of-type {\n",
       "        vertical-align: middle;\n",
       "    }\n",
       "\n",
       "    .dataframe tbody tr th {\n",
       "        vertical-align: top;\n",
       "    }\n",
       "\n",
       "    .dataframe thead th {\n",
       "        text-align: right;\n",
       "    }\n",
       "</style>\n",
       "<table border=\"1\" class=\"dataframe\">\n",
       "  <thead>\n",
       "    <tr style=\"text-align: right;\">\n",
       "      <th>col_0</th>\n",
       "      <th>0</th>\n",
       "      <th>1</th>\n",
       "    </tr>\n",
       "    <tr>\n",
       "      <th>psy_change</th>\n",
       "      <th></th>\n",
       "      <th></th>\n",
       "    </tr>\n",
       "  </thead>\n",
       "  <tbody>\n",
       "    <tr>\n",
       "      <th>0</th>\n",
       "      <td>6</td>\n",
       "      <td>5</td>\n",
       "    </tr>\n",
       "    <tr>\n",
       "      <th>1</th>\n",
       "      <td>10</td>\n",
       "      <td>11</td>\n",
       "    </tr>\n",
       "  </tbody>\n",
       "</table>\n",
       "</div>"
      ],
      "text/plain": [
       "col_0        0   1\n",
       "psy_change        \n",
       "0            6   5\n",
       "1           10  11"
      ]
     },
     "execution_count": 198,
     "metadata": {},
     "output_type": "execute_result"
    }
   ],
   "source": [
    "pd.crosstab(Y3_test, Y3_pred)"
   ]
  },
  {
   "cell_type": "code",
   "execution_count": 199,
   "id": "f0757b8e",
   "metadata": {},
   "outputs": [
    {
     "name": "stdout",
     "output_type": "stream",
     "text": [
      "train_accuracy: 0.7578125\n",
      "test_accuracy: 0.4375\n"
     ]
    }
   ],
   "source": [
    "Y3_pred_df = pd.DataFrame(dtree.predict_proba(X_train))\n",
    "Y3_pred_df['yhat'] = 0\n",
    "Y3_pred_df.loc[Y3_pred_df[1]>=0.6, 'yhat']=1\n",
    "\n",
    "accu = accuracy_score(Y3_train, Y3_pred_df['yhat'])\n",
    "print('train_accuracy:',accu)\n",
    "\n",
    "\n",
    "Y3_pred_df = pd.DataFrame(dtree.predict_proba(X_test))\n",
    "Y3_pred_df['yhat'] = 0\n",
    "Y3_pred_df.loc[Y3_pred_df[1]>=0.6, 'yhat']=1\n",
    "\n",
    "accu = accuracy_score(Y3_test, Y3_pred_df['yhat'])\n",
    "print('test_accuracy:',accu)"
   ]
  },
  {
   "cell_type": "markdown",
   "id": "b3c42136",
   "metadata": {},
   "source": [
    "## 3-4. RandomForest"
   ]
  },
  {
   "cell_type": "code",
   "execution_count": 228,
   "id": "39b4e6fb",
   "metadata": {},
   "outputs": [
    {
     "data": {
      "text/plain": [
       "RandomForestClassifier(min_samples_leaf=4, random_state=123)"
      ]
     },
     "execution_count": 228,
     "metadata": {},
     "output_type": "execute_result"
    }
   ],
   "source": [
    "rforest = RandomForestClassifier(random_state=123, min_samples_leaf=4, criterion = 'gini')\n",
    "rforest.fit(X_train, Y3_train)"
   ]
  },
  {
   "cell_type": "code",
   "execution_count": 229,
   "id": "5c368d13",
   "metadata": {},
   "outputs": [
    {
     "name": "stdout",
     "output_type": "stream",
     "text": [
      "train_accuracy: 0.9140625\n",
      "test_accuracy: 0.71875\n"
     ]
    }
   ],
   "source": [
    "Y3_pred = rforest.predict(X_train)\n",
    "accu = accuracy_score(Y3_train, Y3_pred)\n",
    "print('train_accuracy:', accu)\n",
    "\n",
    "Y3_pred = rforest.predict(X_test)\n",
    "accu = accuracy_score(Y3_test, Y3_pred)\n",
    "print('test_accuracy:', accu)"
   ]
  },
  {
   "cell_type": "code",
   "execution_count": 258,
   "id": "63009e39",
   "metadata": {},
   "outputs": [
    {
     "name": "stdout",
     "output_type": "stream",
     "text": [
      "train_accuracy: 0.890625\n",
      "test_accuracy: 0.75\n"
     ]
    }
   ],
   "source": [
    "rforest = RandomForestClassifier(random_state=11, min_samples_leaf=4, criterion = 'gini')\n",
    "rforest.fit(X_train, Y3_train)\n",
    "\n",
    "Y3_pred = rforest.predict(X_train)\n",
    "accu = accuracy_score(Y3_train, Y3_pred)\n",
    "print('train_accuracy:', accu)\n",
    "\n",
    "Y3_pred = rforest.predict(X_test)\n",
    "accu = accuracy_score(Y3_test, Y3_pred)\n",
    "print('test_accuracy:', accu)"
   ]
  },
  {
   "cell_type": "code",
   "execution_count": 259,
   "id": "c5c016c7",
   "metadata": {},
   "outputs": [
    {
     "data": {
      "text/html": [
       "<div>\n",
       "<style scoped>\n",
       "    .dataframe tbody tr th:only-of-type {\n",
       "        vertical-align: middle;\n",
       "    }\n",
       "\n",
       "    .dataframe tbody tr th {\n",
       "        vertical-align: top;\n",
       "    }\n",
       "\n",
       "    .dataframe thead th {\n",
       "        text-align: right;\n",
       "    }\n",
       "</style>\n",
       "<table border=\"1\" class=\"dataframe\">\n",
       "  <thead>\n",
       "    <tr style=\"text-align: right;\">\n",
       "      <th>col_0</th>\n",
       "      <th>0</th>\n",
       "      <th>1</th>\n",
       "    </tr>\n",
       "    <tr>\n",
       "      <th>psy_change</th>\n",
       "      <th></th>\n",
       "      <th></th>\n",
       "    </tr>\n",
       "  </thead>\n",
       "  <tbody>\n",
       "    <tr>\n",
       "      <th>0</th>\n",
       "      <td>4</td>\n",
       "      <td>7</td>\n",
       "    </tr>\n",
       "    <tr>\n",
       "      <th>1</th>\n",
       "      <td>1</td>\n",
       "      <td>20</td>\n",
       "    </tr>\n",
       "  </tbody>\n",
       "</table>\n",
       "</div>"
      ],
      "text/plain": [
       "col_0       0   1\n",
       "psy_change       \n",
       "0           4   7\n",
       "1           1  20"
      ]
     },
     "execution_count": 259,
     "metadata": {},
     "output_type": "execute_result"
    }
   ],
   "source": [
    "pd.crosstab(Y3_test, Y3_pred)"
   ]
  },
  {
   "cell_type": "markdown",
   "id": "7e609d35",
   "metadata": {},
   "source": [
    "## 마법의 지니와 시드"
   ]
  },
  {
   "cell_type": "code",
   "execution_count": null,
   "id": "e788650a",
   "metadata": {},
   "outputs": [],
   "source": []
  },
  {
   "cell_type": "markdown",
   "id": "3b758a98",
   "metadata": {},
   "source": [
    "## cut off 바꾸면 더 안좋아지는 경우가 많네용"
   ]
  },
  {
   "cell_type": "code",
   "execution_count": 260,
   "id": "9464b2b3",
   "metadata": {},
   "outputs": [
    {
     "name": "stdout",
     "output_type": "stream",
     "text": [
      "train_accuracy: 0.96875\n",
      "test_accuracy: 0.625\n"
     ]
    }
   ],
   "source": [
    "Y3_pred_df = pd.DataFrame(rforest.predict_proba(X_train))\n",
    "Y3_pred_df['yhat'] = 0\n",
    "Y3_pred_df.loc[Y3_pred_df[1]>=0.6, 'yhat']=1\n",
    "\n",
    "accu = accuracy_score(Y3_train.reset_index(drop=True), Y3_pred_df['yhat'])\n",
    "print('train_accuracy:',accu)\n",
    "\n",
    "\n",
    "Y3_pred_df = pd.DataFrame(rforest.predict_proba(X_test))\n",
    "Y3_pred_df['yhat'] = 0\n",
    "Y3_pred_df.loc[Y3_pred_df[1]>=0.6, 'yhat']=1\n",
    "\n",
    "accu = accuracy_score(Y3_test, Y3_pred_df['yhat'])\n",
    "print('test_accuracy:',accu)"
   ]
  },
  {
   "cell_type": "code",
   "execution_count": null,
   "id": "b6f2376b",
   "metadata": {},
   "outputs": [],
   "source": []
  },
  {
   "cell_type": "markdown",
   "id": "460c6579",
   "metadata": {},
   "source": [
    "## 3-5. XGBoost"
   ]
  },
  {
   "cell_type": "code",
   "execution_count": 270,
   "id": "f77b0b23",
   "metadata": {},
   "outputs": [
    {
     "data": {
      "text/plain": [
       "XGBClassifier(base_score=0.7, booster='gbtree', colsample_bylevel=1,\n",
       "              colsample_bynode=1, colsample_bytree=1, gamma=1, gpu_id=-1,\n",
       "              importance_type='gain', interaction_constraints='',\n",
       "              learning_rate=0.01, max_delta_step=0, max_depth=5,\n",
       "              min_child_weight=1, missing=nan, monotone_constraints='()',\n",
       "              n_estimators=100, n_jobs=0, num_parallel_tree=1, random_state=115,\n",
       "              reg_alpha=0, reg_lambda=1, scale_pos_weight=1, subsample=1,\n",
       "              tree_method='exact', validate_parameters=1, verbosity=None)"
      ]
     },
     "execution_count": 270,
     "metadata": {},
     "output_type": "execute_result"
    }
   ],
   "source": [
    "xgb = XGBClassifier(random_state=115, learning_rate = 0.01, max_depth = 5, gamma=1, base_score = 0.7)\n",
    "xgb.fit(X_train, Y3_train)"
   ]
  },
  {
   "cell_type": "code",
   "execution_count": 271,
   "id": "88e8d160",
   "metadata": {},
   "outputs": [
    {
     "name": "stdout",
     "output_type": "stream",
     "text": [
      "train_accuracy: 0.875\n"
     ]
    }
   ],
   "source": [
    "Y3_pred = xgb.predict(X_train)\n",
    "accu = accuracy_score(Y3_train, Y3_pred)\n",
    "print('train_accuracy:', accu)"
   ]
  },
  {
   "cell_type": "code",
   "execution_count": 272,
   "id": "bbec7e35",
   "metadata": {},
   "outputs": [
    {
     "name": "stdout",
     "output_type": "stream",
     "text": [
      "test_accuracy: 0.59375\n"
     ]
    }
   ],
   "source": [
    "Y3_pred = xgb.predict(X_test)\n",
    "accu = accuracy_score(Y3_test, Y3_pred)\n",
    "print('test_accuracy:', accu)"
   ]
  },
  {
   "cell_type": "markdown",
   "id": "b230842f",
   "metadata": {},
   "source": [
    "## 3-6. LGBM"
   ]
  },
  {
   "cell_type": "code",
   "execution_count": 299,
   "id": "526332f6",
   "metadata": {},
   "outputs": [
    {
     "data": {
      "text/plain": [
       "LGBMClassifier(learning_rate=0.01, max_depth=4, min_child_samples=4,\n",
       "               num_leaves=9, random_state=5)"
      ]
     },
     "execution_count": 299,
     "metadata": {},
     "output_type": "execute_result"
    }
   ],
   "source": [
    "lgbm = LGBMClassifier(random_state=5, learning_rate = 0.01, max_depth = 4, min_child_samples=4, num_leaves = 9)\n",
    "lgbm.fit(X_train, Y3_train)"
   ]
  },
  {
   "cell_type": "code",
   "execution_count": 300,
   "id": "decc5728",
   "metadata": {},
   "outputs": [
    {
     "name": "stdout",
     "output_type": "stream",
     "text": [
      "train_accuracy: 0.875\n"
     ]
    }
   ],
   "source": [
    "Y3_pred = lgbm.predict(X_train)\n",
    "accu = accuracy_score(Y3_train, Y3_pred)\n",
    "print('train_accuracy:', accu)"
   ]
  },
  {
   "cell_type": "code",
   "execution_count": 301,
   "id": "c190810e",
   "metadata": {},
   "outputs": [
    {
     "name": "stdout",
     "output_type": "stream",
     "text": [
      "test_accuracy: 0.65625\n"
     ]
    }
   ],
   "source": [
    "Y3_pred = lgbm.predict(X_test)\n",
    "accu = accuracy_score(Y3_test, Y3_pred)\n",
    "print('test_accuracy:', accu)"
   ]
  },
  {
   "cell_type": "code",
   "execution_count": 302,
   "id": "86be5141",
   "metadata": {},
   "outputs": [
    {
     "data": {
      "text/html": [
       "<div>\n",
       "<style scoped>\n",
       "    .dataframe tbody tr th:only-of-type {\n",
       "        vertical-align: middle;\n",
       "    }\n",
       "\n",
       "    .dataframe tbody tr th {\n",
       "        vertical-align: top;\n",
       "    }\n",
       "\n",
       "    .dataframe thead th {\n",
       "        text-align: right;\n",
       "    }\n",
       "</style>\n",
       "<table border=\"1\" class=\"dataframe\">\n",
       "  <thead>\n",
       "    <tr style=\"text-align: right;\">\n",
       "      <th>col_0</th>\n",
       "      <th>0</th>\n",
       "      <th>1</th>\n",
       "    </tr>\n",
       "    <tr>\n",
       "      <th>psy_change</th>\n",
       "      <th></th>\n",
       "      <th></th>\n",
       "    </tr>\n",
       "  </thead>\n",
       "  <tbody>\n",
       "    <tr>\n",
       "      <th>0</th>\n",
       "      <td>2</td>\n",
       "      <td>9</td>\n",
       "    </tr>\n",
       "    <tr>\n",
       "      <th>1</th>\n",
       "      <td>2</td>\n",
       "      <td>19</td>\n",
       "    </tr>\n",
       "  </tbody>\n",
       "</table>\n",
       "</div>"
      ],
      "text/plain": [
       "col_0       0   1\n",
       "psy_change       \n",
       "0           2   9\n",
       "1           2  19"
      ]
     },
     "execution_count": 302,
     "metadata": {},
     "output_type": "execute_result"
    }
   ],
   "source": [
    "pd.crosstab(Y3_test, Y3_pred)"
   ]
  },
  {
   "cell_type": "code",
   "execution_count": null,
   "id": "1b8a277f",
   "metadata": {},
   "outputs": [],
   "source": []
  }
 ],
 "metadata": {
  "kernelspec": {
   "display_name": "Python 3 (ipykernel)",
   "language": "python",
   "name": "python3"
  },
  "language_info": {
   "codemirror_mode": {
    "name": "ipython",
    "version": 3
   },
   "file_extension": ".py",
   "mimetype": "text/x-python",
   "name": "python",
   "nbconvert_exporter": "python",
   "pygments_lexer": "ipython3",
   "version": "3.9.7"
  }
 },
 "nbformat": 4,
 "nbformat_minor": 5
}
