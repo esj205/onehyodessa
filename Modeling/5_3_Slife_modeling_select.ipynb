{
 "cells": [
  {
   "cell_type": "code",
   "execution_count": 1,
   "id": "ab1c5d12",
   "metadata": {},
   "outputs": [],
   "source": [
    "import pandas as pd\n",
    "import pandas_profiling as ppf\n",
    "pd.options.display.float_format = '{:,.4f}'.format\n",
    "pd.options.display.max_rows = 100\n",
    "pd.options.display.max_columns = 40\n",
    "from datetime import datetime \n",
    "import numpy as np\n",
    "import os, random, math, time\n",
    "from tqdm import tqdm\n",
    "from copy import deepcopy\n",
    "from collections import Counter\n",
    "\n",
    "#score\n",
    "from sklearn.metrics import mean_squared_error\n",
    "from sklearn.metrics import accuracy_score\n",
    "from math import sqrt\n",
    "from sklearn.model_selection import cross_val_score\n",
    "\n",
    "#modeling\n",
    "from sklearn.linear_model import LogisticRegression\n",
    "from sklearn.linear_model import LinearRegression\n",
    "from sklearn.tree import DecisionTreeRegressor, DecisionTreeClassifier\n",
    "from mlxtend.feature_selection import SequentialFeatureSelector as SFS\n",
    "from mlxtend.plotting import plot_sequential_feature_selection as plot_sfs\n",
    "from mlxtend.evaluate import PredefinedHoldoutSplit\n",
    "from sklearn.ensemble import RandomForestClassifier, RandomForestRegressor\n",
    "from xgboost import XGBClassifier, XGBRegressor\n",
    "from lightgbm import LGBMRegressor, LGBMClassifier\n",
    "\n",
    "# Visualization\n",
    "import seaborn as sns\n",
    "import matplotlib\n",
    "import matplotlib.pyplot as plt\n",
    "%matplotlib inline\n",
    "from matplotlib import font_manager, rc\n",
    "plt.rcParams['font.family'] = 'NanumGothic'\n",
    "import platform\n",
    "if platform.system() == 'Windows':\n",
    "    font_name = font_manager.FontProperties(fname=\"c:/Windows/Fonts/malgun.ttf\").get_name()\n",
    "    rc('font', family=font_name)\n",
    "else:    \n",
    "    rc('font', family='AppleGothic')\n",
    "\n",
    "matplotlib.rcParams['axes.unicode_minus'] = False\n",
    "from sklearn.tree import plot_tree\n",
    "from sklearn.tree import export_graphviz\n",
    "import graphviz\n",
    "\n",
    "\n",
    "\n",
    "# Warnings\n",
    "import warnings\n",
    "warnings.filterwarnings('always')\n",
    "warnings.filterwarnings('ignore')"
   ]
  },
  {
   "cell_type": "code",
   "execution_count": 2,
   "id": "0eb5853d",
   "metadata": {},
   "outputs": [],
   "source": [
    "def read_file(filename):\n",
    "    df = pd.read_csv(f'{filename}', encoding=\"utf-8\") #\"cp949\"\n",
    "    if sum(df.duplicated(df.columns)) != 0:\n",
    "        print(f\"...There are {sum(df.duplicated(df.columns))} duplicates\\n...Remove them\")\n",
    "        df = df.drop_duplicates()\n",
    "    else:\n",
    "        print(\"...There are no duplicates\")\n",
    "    df.name = filename\n",
    "    print(f\"shape: {df.shape}\")\n",
    "    return df\n",
    "\n",
    "def read_file2(filename):\n",
    "    df = pd.read_excel(f'{filename}', header=None)\n",
    "    if sum(df.duplicated(df.columns)) != 0:\n",
    "        print(f\"...There are {sum(df.duplicated(df.columns))} duplicates\\n...Remove them\")\n",
    "        df = df.drop_duplicates()\n",
    "    else:\n",
    "        print(\"...There are no duplicates\")\n",
    "    df.name = filename\n",
    "    print(f\"shape: {df.shape}\")\n",
    "    return df\n",
    "\n",
    "def check_NA(df):\n",
    "    print(f\"NA check\")\n",
    "    NA_res = df.isna().sum()\n",
    "    if NA_res.sum() != 0:\n",
    "        for idx, i in enumerate(NA_res):\n",
    "            if i != 0:\n",
    "                print(df.columns[idx],i,\"->\",round(i/df.shape[0]*100,3),\"%\")\n",
    "    else:\n",
    "        print(\"...There's no NA\")"
   ]
  },
  {
   "cell_type": "code",
   "execution_count": 3,
   "id": "04a45706",
   "metadata": {},
   "outputs": [
    {
     "name": "stdout",
     "output_type": "stream",
     "text": [
      "...There are no duplicates\n",
      "shape: (160, 103)\n"
     ]
    }
   ],
   "source": [
    "survey_data = read_file('../Data/surveydata_md2.csv')"
   ]
  },
  {
   "cell_type": "code",
   "execution_count": 4,
   "id": "456d6b7f",
   "metadata": {},
   "outputs": [
    {
     "data": {
      "text/plain": [
       "False"
      ]
     },
     "execution_count": 4,
     "metadata": {},
     "output_type": "execute_result"
    }
   ],
   "source": [
    "survey_data.isnull().sum().any()"
   ]
  },
  {
   "cell_type": "markdown",
   "id": "d35d8c6b",
   "metadata": {},
   "source": [
    "# 1. 추가 전처리"
   ]
  },
  {
   "cell_type": "markdown",
   "id": "6eedf114",
   "metadata": {},
   "source": [
    "아침식전_복용 ~ 취침전_복용의 경우 약_복용알람으로 합치자."
   ]
  },
  {
   "cell_type": "code",
   "execution_count": 5,
   "id": "cdd5bb2c",
   "metadata": {},
   "outputs": [],
   "source": [
    "survey_data['약_복용알람'] = survey_data['아침식전_복용'] + survey_data['아침식후_복용'] + survey_data['점심식전_복용'] + survey_data['점심식후_복용'] + survey_data['저녁식전_복용'] + survey_data['저녁식후_복용'] + survey_data['취침전_복용']"
   ]
  },
  {
   "cell_type": "markdown",
   "id": "a6919ba8",
   "metadata": {},
   "source": [
    "필요한 컬럼 선정"
   ]
  },
  {
   "cell_type": "code",
   "execution_count": 6,
   "id": "04aea68e",
   "metadata": {},
   "outputs": [],
   "source": [
    "regression_data = survey_data[['sex', '종교', '기상', '아침', '점심', '저녁', '취침',\n",
    "                              '약_복용알람', '환기', '산책', '당뇨', '고지혈',\n",
    "                              '고혈압', '수급여부', '제공서비스','age',\n",
    "                               '치매', '우울증', '만성복약', '고립', '거동불편', '소리반응', '인형관심',\n",
    "                               '종교유무', '모니터링', '건강관심', '주택타입', '배우자', '자녀수',\n",
    "                               '청결', '식사', '공공방문', 'doll_score',\n",
    "                              '치매_약', '뇌졸증_약', '혈압_약', '우울증_약', '고지혈증_약', '당뇨_약',\n",
    "                               '신경과수면제_약', 'med_count', 'stroke', 'hand_hold_sum', 'knock',\n",
    "                               'human_detection', 'gymnastics', 'brain_timer', 'drug_consume','drug_consume_rt',\n",
    "                               'psy_before','psy_after']]"
   ]
  },
  {
   "cell_type": "code",
   "execution_count": 7,
   "id": "795f0ca9",
   "metadata": {},
   "outputs": [],
   "source": [
    "regression_data = pd.get_dummies(data = regression_data, drop_first = True)"
   ]
  },
  {
   "cell_type": "code",
   "execution_count": 8,
   "id": "f50a659f",
   "metadata": {},
   "outputs": [
    {
     "data": {
      "text/plain": [
       "Index(['기상', '아침', '점심', '저녁', '취침', '약_복용알람', '환기', '산책', '당뇨', '고지혈', '고혈압',\n",
       "       '제공서비스', 'age', '치매', '우울증', '만성복약', '고립', '거동불편', '소리반응', '인형관심',\n",
       "       '종교유무', '모니터링', '건강관심', '주택타입', '배우자', '자녀수', '식사', '공공방문',\n",
       "       'doll_score', '치매_약', '뇌졸증_약', '혈압_약', '우울증_약', '고지혈증_약', '당뇨_약',\n",
       "       '신경과수면제_약', 'med_count', 'stroke', 'hand_hold_sum', 'knock',\n",
       "       'human_detection', 'gymnastics', 'brain_timer', 'drug_consume',\n",
       "       'drug_consume_rt', 'psy_before', 'psy_after', 'sex_여', '종교_무교', '종교_불교',\n",
       "       '종교_천주교', '수급여부_차상위', '청결_중', '청결_하'],\n",
       "      dtype='object')"
      ]
     },
     "execution_count": 8,
     "metadata": {},
     "output_type": "execute_result"
    }
   ],
   "source": [
    "regression_data.columns"
   ]
  },
  {
   "cell_type": "markdown",
   "id": "46930bda",
   "metadata": {},
   "source": [
    "column 추가 제거: 기준은 Feature Selection ipynb에 있음"
   ]
  },
  {
   "cell_type": "code",
   "execution_count": 9,
   "id": "1333b984",
   "metadata": {},
   "outputs": [],
   "source": [
    "regression_data.drop(['환기', '만성복약', '소리반응', '인형관심', '모니터링', '배우자'], axis = 1, inplace = True)"
   ]
  },
  {
   "cell_type": "markdown",
   "id": "0b975f83",
   "metadata": {},
   "source": [
    "약을 먹는데 병에 반영이 안 된 사람들 반영"
   ]
  },
  {
   "cell_type": "code",
   "execution_count": 10,
   "id": "8747995e",
   "metadata": {},
   "outputs": [],
   "source": [
    "regression_data.loc[:,'당뇨'][(regression_data['당뇨']==0) & (regression_data['당뇨_약']==1)] = 1\n",
    "regression_data.loc[:,'우울증'][(regression_data['우울증']==0) & (regression_data['우울증_약']==1)] = 1\n",
    "regression_data.loc[:,'고지혈'][(regression_data['고지혈']==0) & (regression_data['고지혈증_약']==1)] = 1\n",
    "regression_data.loc[:,'치매'][(regression_data['치매']==0) & (regression_data['치매_약']==1)] = 1"
   ]
  },
  {
   "cell_type": "markdown",
   "id": "e9a56e7b",
   "metadata": {},
   "source": [
    "약 지우기"
   ]
  },
  {
   "cell_type": "code",
   "execution_count": 11,
   "id": "12ccd2b0",
   "metadata": {},
   "outputs": [],
   "source": [
    "regression_data.drop(['치매_약', '뇌졸증_약', '혈압_약', '우울증_약', '고지혈증_약', '당뇨_약', '신경과수면제_약'], axis = 1, inplace = True)"
   ]
  },
  {
   "cell_type": "markdown",
   "id": "82706517",
   "metadata": {},
   "source": [
    "종교 지우기"
   ]
  },
  {
   "cell_type": "code",
   "execution_count": 12,
   "id": "808d69aa",
   "metadata": {},
   "outputs": [],
   "source": [
    "regression_data.drop(['종교_불교', '종교_천주교'], axis = 1, inplace = True)"
   ]
  },
  {
   "cell_type": "markdown",
   "id": "4ac295ed",
   "metadata": {},
   "source": [
    "## Train/Test Split"
   ]
  },
  {
   "cell_type": "code",
   "execution_count": 13,
   "id": "d309c6f0",
   "metadata": {},
   "outputs": [],
   "source": [
    "from sklearn.model_selection import train_test_split"
   ]
  },
  {
   "cell_type": "code",
   "execution_count": 14,
   "id": "38a4bf1d",
   "metadata": {},
   "outputs": [],
   "source": [
    "#긍정변화 여부\n",
    "Y3 = survey_data['slife_change']>0\n",
    "Y3.replace([True, False], [1,0], inplace = True)"
   ]
  },
  {
   "cell_type": "code",
   "execution_count": 15,
   "id": "c68a5680",
   "metadata": {},
   "outputs": [],
   "source": [
    "X = regression_data"
   ]
  },
  {
   "cell_type": "code",
   "execution_count": 16,
   "id": "5fe802dc",
   "metadata": {},
   "outputs": [],
   "source": [
    "X_train, X_test = train_test_split(X, test_size = 0.2, random_state = 123, stratify = Y3)"
   ]
  },
  {
   "cell_type": "code",
   "execution_count": 17,
   "id": "7b8d617b",
   "metadata": {},
   "outputs": [
    {
     "data": {
      "text/plain": [
       "0    115\n",
       "1     13\n",
       "Name: 고립, dtype: int64"
      ]
     },
     "execution_count": 17,
     "metadata": {},
     "output_type": "execute_result"
    }
   ],
   "source": [
    "X_train['고립'].value_counts()"
   ]
  },
  {
   "cell_type": "code",
   "execution_count": 18,
   "id": "5e023e97",
   "metadata": {},
   "outputs": [
    {
     "data": {
      "text/plain": [
       "0    118\n",
       "1     10\n",
       "Name: 건강관심, dtype: int64"
      ]
     },
     "execution_count": 18,
     "metadata": {},
     "output_type": "execute_result"
    }
   ],
   "source": [
    "X_train['건강관심'].value_counts()"
   ]
  },
  {
   "cell_type": "code",
   "execution_count": 19,
   "id": "6fbe6eb7",
   "metadata": {},
   "outputs": [
    {
     "data": {
      "text/plain": [
       "0    109\n",
       "1     19\n",
       "Name: 청결_하, dtype: int64"
      ]
     },
     "execution_count": 19,
     "metadata": {},
     "output_type": "execute_result"
    }
   ],
   "source": [
    "X_train['청결_하'].value_counts()"
   ]
  },
  {
   "cell_type": "markdown",
   "id": "def9418e",
   "metadata": {},
   "source": [
    "### *Numeric Data Scaling"
   ]
  },
  {
   "cell_type": "markdown",
   "id": "5cd6a181",
   "metadata": {},
   "source": [
    "기상, 아침, 점심, 저녁, 취침, 약 복용알람, age, 자녀수, doll_score, med_count, stroke, hand_hold_sum, knock, human_detection, gymnastics, brain_timer, drug_consume, psy_before, psy_after"
   ]
  },
  {
   "cell_type": "code",
   "execution_count": 20,
   "id": "3ad802fc",
   "metadata": {},
   "outputs": [],
   "source": [
    "numeric_columns = ['기상', '아침', '점심', '저녁', '취침', '약_복용알람', 'age', '자녀수', 'doll_score', 'med_count', 'stroke',\n",
    "                   'hand_hold_sum', 'knock', 'human_detection', 'gymnastics', 'brain_timer', 'drug_consume','psy_before', 'psy_after']"
   ]
  },
  {
   "cell_type": "code",
   "execution_count": 21,
   "id": "5e326ec3",
   "metadata": {},
   "outputs": [],
   "source": [
    "from sklearn.preprocessing import MinMaxScaler"
   ]
  },
  {
   "cell_type": "code",
   "execution_count": 22,
   "id": "28769329",
   "metadata": {},
   "outputs": [],
   "source": [
    "min_max_scaler = MinMaxScaler()\n",
    "\n",
    "#train, test scaling\n",
    "X_train[numeric_columns] = min_max_scaler.fit_transform(X_train[numeric_columns])\n",
    "X_test[numeric_columns] = min_max_scaler.transform(X_test[numeric_columns])"
   ]
  },
  {
   "cell_type": "markdown",
   "id": "e3c14e8b",
   "metadata": {},
   "source": [
    "### Y data split"
   ]
  },
  {
   "cell_type": "code",
   "execution_count": 23,
   "id": "d3724300",
   "metadata": {},
   "outputs": [],
   "source": [
    "#원점수\n",
    "Y1 = survey_data.loc[:,'slife_after']\n",
    "Y1_train = survey_data.loc[list(X_train.index.values), 'slife_after']\n",
    "Y1_test = survey_data.loc[list(X_test.index.values), 'slife_after']\n",
    "\n",
    "#변화점수\n",
    "Y2 = survey_data.loc[:, 'slife_change']\n",
    "Y2_train = survey_data.loc[list(X_train.index.values), 'slife_change']\n",
    "Y2_test = survey_data.loc[list(X_test.index.values), 'slife_change']\n",
    "\n",
    "#긍정변화여부\n",
    "Y3_train = Y3[list(X_train.index.values)]\n",
    "Y3_test = Y3[list(X_test.index.values)]"
   ]
  },
  {
   "cell_type": "markdown",
   "id": "7c3f7d78",
   "metadata": {},
   "source": [
    "## High Correlation 제거"
   ]
  },
  {
   "cell_type": "code",
   "execution_count": 24,
   "id": "5931b585",
   "metadata": {},
   "outputs": [
    {
     "name": "stdout",
     "output_type": "stream",
     "text": [
      "knock  +  stroke  :  0.9009\n",
      "gymnastics  +  stroke  :  0.7732\n",
      "gymnastics  +  knock  :  0.7602\n",
      "brain_timer  +  hand_hold_sum  :  0.8528\n"
     ]
    }
   ],
   "source": [
    "for i, c1 in enumerate (X_train.columns):\n",
    "    for j, c2 in enumerate (X_train.columns):\n",
    "        if (i> j )& (abs(X_train.corr().iloc[i,j])>=0.7):\n",
    "            print(c1,\" + \",c2, ' : ', np.round(X_train.corr().iloc[i,j],4))"
   ]
  },
  {
   "cell_type": "code",
   "execution_count": 25,
   "id": "28d5b9e9",
   "metadata": {},
   "outputs": [],
   "source": [
    "X_train.drop(['hand_hold_sum','knock','stroke'], axis = 1, inplace = True)"
   ]
  },
  {
   "cell_type": "code",
   "execution_count": 26,
   "id": "284c1860",
   "metadata": {},
   "outputs": [],
   "source": [
    "X = X[X_train.columns]\n",
    "X_test = X_test[X_train.columns]"
   ]
  },
  {
   "cell_type": "code",
   "execution_count": 27,
   "id": "665ce0a5",
   "metadata": {},
   "outputs": [],
   "source": [
    "for i, c1 in enumerate (X_train.columns):\n",
    "    for j, c2 in enumerate (X_train.columns):\n",
    "        if (i> j )& (abs(X_train.corr().iloc[i,j])>=0.7):\n",
    "            print(c1,\" + \",c2, ' : ', np.round(X_train.corr().iloc[i,j],4))"
   ]
  },
  {
   "cell_type": "markdown",
   "id": "5255db5e",
   "metadata": {},
   "source": [
    "# 1. 생활관리 원점수"
   ]
  },
  {
   "cell_type": "markdown",
   "id": "5c193ac9",
   "metadata": {},
   "source": [
    "## 1-1. Linear Regression"
   ]
  },
  {
   "cell_type": "code",
   "execution_count": 28,
   "id": "be49244d",
   "metadata": {
    "scrolled": true
   },
   "outputs": [
    {
     "name": "stdout",
     "output_type": "stream",
     "text": [
      "                            OLS Regression Results                            \n",
      "==============================================================================\n",
      "Dep. Variable:            slife_after   R-squared:                       0.454\n",
      "Model:                            OLS   Adj. R-squared:                  0.238\n",
      "Method:                 Least Squares   F-statistic:                     2.103\n",
      "Date:                Wed, 17 Nov 2021   Prob (F-statistic):            0.00241\n",
      "Time:                        23:31:20   Log-Likelihood:                -270.52\n",
      "No. Observations:                 128   AIC:                             615.0\n",
      "Df Residuals:                      91   BIC:                             720.6\n",
      "Df Model:                          36                                         \n",
      "Covariance Type:            nonrobust                                         \n",
      "===================================================================================\n",
      "                      coef    std err          t      P>|t|      [0.025      0.975]\n",
      "-----------------------------------------------------------------------------------\n",
      "const              23.1426      3.406      6.794      0.000      16.376      29.909\n",
      "기상                 -0.6022      2.524     -0.239      0.812      -5.616       4.412\n",
      "아침                  0.7516      2.454      0.306      0.760      -4.122       5.625\n",
      "점심                  2.2057      2.351      0.938      0.351      -2.465       6.876\n",
      "저녁                 -0.2257      2.120     -0.107      0.915      -4.436       3.984\n",
      "취침                 -1.2434      0.682     -1.824      0.071      -2.597       0.110\n",
      "약_복용알람             -0.0026      1.566     -0.002      0.999      -3.113       3.108\n",
      "산책                 -0.8725      0.558     -1.563      0.121      -1.981       0.236\n",
      "당뇨                 -0.8419      0.502     -1.676      0.097      -1.840       0.156\n",
      "고지혈                -0.3898      0.585     -0.667      0.507      -1.551       0.771\n",
      "고혈압                -0.2039      0.544     -0.375      0.709      -1.285       0.877\n",
      "제공서비스               0.4674      0.486      0.961      0.339      -0.498       1.433\n",
      "age                -1.9832      1.169     -1.697      0.093      -4.305       0.338\n",
      "치매                  1.1195      0.651      1.720      0.089      -0.173       2.412\n",
      "우울증                 0.0562      0.560      0.100      0.920      -1.057       1.169\n",
      "고립                  0.8565      0.833      1.028      0.307      -0.798       2.511\n",
      "거동불편                0.0462      0.526      0.088      0.930      -0.999       1.091\n",
      "종교유무                1.4184      0.658      2.157      0.034       0.112       2.725\n",
      "건강관심                1.0432      0.995      1.049      0.297      -0.933       3.019\n",
      "주택타입               -0.0781      0.515     -0.152      0.880      -1.101       0.945\n",
      "자녀수                 0.0841      1.111      0.076      0.940      -2.123       2.292\n",
      "식사                  0.9829      0.550      1.788      0.077      -0.109       2.075\n",
      "공공방문                0.4669      0.518      0.901      0.370      -0.562       1.496\n",
      "doll_score         -1.6779      1.398     -1.200      0.233      -4.454       1.099\n",
      "med_count          -0.7800      1.060     -0.736      0.464      -2.885       1.325\n",
      "human_detection    -2.2509      1.344     -1.674      0.098      -4.921       0.420\n",
      "gymnastics          5.1137      3.546      1.442      0.153      -1.930      12.158\n",
      "brain_timer        -4.2707      3.526     -1.211      0.229     -11.275       2.734\n",
      "drug_consume        1.0708      1.193      0.897      0.372      -1.300       3.441\n",
      "drug_consume_rt    -0.6477      0.682     -0.949      0.345      -2.003       0.708\n",
      "psy_before         -2.7290      1.105     -2.471      0.015      -4.923      -0.535\n",
      "psy_after          -3.0597      1.357     -2.255      0.027      -5.755      -0.365\n",
      "sex_여               0.6380      0.596      1.070      0.287      -0.546       1.822\n",
      "종교_무교              -1.4044      0.690     -2.036      0.045      -2.775      -0.034\n",
      "수급여부_차상위           -0.2172      0.595     -0.365      0.716      -1.399       0.965\n",
      "청결_중               -0.5550      0.578     -0.959      0.340      -1.704       0.594\n",
      "청결_하               -0.8532      0.855     -0.998      0.321      -2.552       0.845\n",
      "==============================================================================\n",
      "Omnibus:                        0.553   Durbin-Watson:                   1.786\n",
      "Prob(Omnibus):                  0.758   Jarque-Bera (JB):                0.696\n",
      "Skew:                          -0.094   Prob(JB):                        0.706\n",
      "Kurtosis:                       2.691   Cond. No.                         78.3\n",
      "==============================================================================\n",
      "\n",
      "Notes:\n",
      "[1] Standard Errors assume that the covariance matrix of the errors is correctly specified.\n"
     ]
    }
   ],
   "source": [
    "import statsmodels.api as sm\n",
    "X_Sm= sm.add_constant(X_train)\n",
    "ls=sm.OLS(Y1_train,X_Sm).fit()\n",
    "print(ls.summary())"
   ]
  },
  {
   "cell_type": "code",
   "execution_count": 29,
   "id": "dc901b15",
   "metadata": {},
   "outputs": [
    {
     "name": "stdout",
     "output_type": "stream",
     "text": [
      "train_rmse: 2.002720750268435\n"
     ]
    }
   ],
   "source": [
    "X_Sm = sm.add_constant(X_train)\n",
    "Y1_pred = ls.predict(X_Sm)\n",
    "rmse = sqrt(mean_squared_error(Y1_train, Y1_pred))\n",
    "print('train_rmse:', rmse)"
   ]
  },
  {
   "cell_type": "code",
   "execution_count": 30,
   "id": "6ae5a530",
   "metadata": {},
   "outputs": [
    {
     "name": "stdout",
     "output_type": "stream",
     "text": [
      "test_rmse: 3.398982691673968\n"
     ]
    }
   ],
   "source": [
    "X_Sm = sm.add_constant(X_test)\n",
    "Y1_pred = ls.predict(X_Sm)\n",
    "rmse = sqrt(mean_squared_error(Y1_test, Y1_pred))\n",
    "print('test_rmse:', rmse)"
   ]
  },
  {
   "cell_type": "markdown",
   "id": "9f5bda15",
   "metadata": {},
   "source": [
    "## 1-2. Lasso CV"
   ]
  },
  {
   "cell_type": "code",
   "execution_count": 31,
   "id": "70fbc367",
   "metadata": {},
   "outputs": [],
   "source": [
    "from sklearn.linear_model import LassoCV\n",
    "from sklearn.linear_model import Lasso"
   ]
  },
  {
   "cell_type": "code",
   "execution_count": 32,
   "id": "6105bd7a",
   "metadata": {},
   "outputs": [
    {
     "name": "stdout",
     "output_type": "stream",
     "text": [
      "Best alpha using built-in LassoCV: 0.094675\n",
      "Best score using built-in LassoCV: 0.237912\n"
     ]
    }
   ],
   "source": [
    "las = LassoCV()\n",
    "las.fit(X_train, Y1_train)\n",
    "print(\"Best alpha using built-in LassoCV: %f\" % las.alpha_)\n",
    "print(\"Best score using built-in LassoCV: %f\" %las.score(X_train,Y1_train))\n",
    "coef = pd.Series(las.coef_, index = X_train.columns)"
   ]
  },
  {
   "cell_type": "code",
   "execution_count": 33,
   "id": "a9c91dd8",
   "metadata": {},
   "outputs": [
    {
     "name": "stdout",
     "output_type": "stream",
     "text": [
      "Lasso picked 12 variables and eliminated the other 24 variables\n"
     ]
    }
   ],
   "source": [
    "print(\"Lasso picked \" + str(sum(coef != 0)) + \" variables and eliminated the other \" +  str(sum(coef == 0)) + \" variables\")"
   ]
  },
  {
   "cell_type": "code",
   "execution_count": 34,
   "id": "85c57ec9",
   "metadata": {},
   "outputs": [
    {
     "data": {
      "text/plain": [
       "Text(0.5, 1.0, 'Feature importance using Lasso Model')"
      ]
     },
     "execution_count": 34,
     "metadata": {},
     "output_type": "execute_result"
    },
    {
     "data": {
      "image/png": "[encoded data removed]",
      "text/plain": [
       "<Figure size 576x720 with 1 Axes>"
      ]
     },
     "metadata": {
      "needs_background": "light"
     },
     "output_type": "display_data"
    }
   ],
   "source": [
    "imp_coef = coef.sort_values()\n",
    "import matplotlib\n",
    "matplotlib.rcParams['figure.figsize'] = (8.0, 10.0)\n",
    "imp_coef.plot(kind = \"barh\")\n",
    "plt.title(\"Feature importance using Lasso Model\")"
   ]
  },
  {
   "cell_type": "code",
   "execution_count": 35,
   "id": "fc81d4f6",
   "metadata": {},
   "outputs": [
    {
     "name": "stdout",
     "output_type": "stream",
     "text": [
      "train_rmse: 2.3663296862231475\n"
     ]
    }
   ],
   "source": [
    "Y1_pred = las.predict(X_train)\n",
    "rmse = sqrt(mean_squared_error(Y1_train, Y1_pred))\n",
    "print('train_rmse:',rmse)"
   ]
  },
  {
   "cell_type": "code",
   "execution_count": 36,
   "id": "05eb769d",
   "metadata": {},
   "outputs": [
    {
     "name": "stdout",
     "output_type": "stream",
     "text": [
      "test_rmse: 2.7370182947844\n"
     ]
    }
   ],
   "source": [
    "Y1_pred = las.predict(X_test)\n",
    "rmse = sqrt(mean_squared_error(Y1_test, Y1_pred))\n",
    "print('test_rmse:',rmse)"
   ]
  },
  {
   "cell_type": "markdown",
   "id": "d55ab851",
   "metadata": {},
   "source": [
    "## 1-3. Ridge CV"
   ]
  },
  {
   "cell_type": "code",
   "execution_count": 37,
   "id": "b8829a9f",
   "metadata": {},
   "outputs": [],
   "source": [
    "from sklearn.linear_model import RidgeCV\n",
    "from sklearn.linear_model import Ridge"
   ]
  },
  {
   "cell_type": "code",
   "execution_count": 38,
   "id": "a8956639",
   "metadata": {},
   "outputs": [
    {
     "name": "stdout",
     "output_type": "stream",
     "text": [
      "Best alpha using built-in RidgeCV: 10.000000\n",
      "Best score using built-in RidgeCV: 0.336118\n"
     ]
    }
   ],
   "source": [
    "rid = RidgeCV()\n",
    "rid.fit(X_train, Y1_train)\n",
    "print(\"Best alpha using built-in RidgeCV: %f\" % rid.alpha_)\n",
    "print(\"Best score using built-in RidgeCV: %f\" % rid.score(X_train,Y1_train))\n",
    "coef = pd.Series(rid.coef_, index = X_train.columns)"
   ]
  },
  {
   "cell_type": "code",
   "execution_count": 39,
   "id": "a513de9c",
   "metadata": {},
   "outputs": [
    {
     "data": {
      "text/plain": [
       "Text(0.5, 1.0, 'Feature importance using Ridge Model')"
      ]
     },
     "execution_count": 39,
     "metadata": {},
     "output_type": "execute_result"
    },
    {
     "data": {
      "image/png": "[encoded data removed]",
      "text/plain": [
       "<Figure size 576x720 with 1 Axes>"
      ]
     },
     "metadata": {
      "needs_background": "light"
     },
     "output_type": "display_data"
    }
   ],
   "source": [
    "imp_coef = coef.sort_values()\n",
    "import matplotlib\n",
    "matplotlib.rcParams['figure.figsize'] = (8.0, 10.0)\n",
    "imp_coef.plot(kind = \"barh\")\n",
    "plt.title(\"Feature importance using Ridge Model\")"
   ]
  },
  {
   "cell_type": "code",
   "execution_count": 40,
   "id": "643215cc",
   "metadata": {},
   "outputs": [
    {
     "name": "stdout",
     "output_type": "stream",
     "text": [
      "train_rmse: 2.2086056939976584\n"
     ]
    }
   ],
   "source": [
    "Y1_pred = rid.predict(X_train)\n",
    "rmse = sqrt(mean_squared_error(Y1_train, Y1_pred))\n",
    "print('train_rmse:',rmse)"
   ]
  },
  {
   "cell_type": "code",
   "execution_count": 41,
   "id": "3f1f710a",
   "metadata": {},
   "outputs": [
    {
     "name": "stdout",
     "output_type": "stream",
     "text": [
      "test_rmse: 3.080272744038019\n"
     ]
    }
   ],
   "source": [
    "Y1_pred = rid.predict(X_test)\n",
    "rmse = sqrt(mean_squared_error(Y1_test, Y1_pred))\n",
    "print('test_rmse:',rmse)"
   ]
  },
  {
   "cell_type": "markdown",
   "id": "8b853190",
   "metadata": {},
   "source": [
    "## 1-4. Linear Mixed Model"
   ]
  },
  {
   "cell_type": "code",
   "execution_count": 42,
   "id": "9149e8f9",
   "metadata": {},
   "outputs": [],
   "source": [
    "import statsmodels.api as sm\n",
    "import statsmodels.formula.api as smf"
   ]
  },
  {
   "cell_type": "code",
   "execution_count": 43,
   "id": "c0a53bb1",
   "metadata": {},
   "outputs": [
    {
     "data": {
      "text/plain": [
       "Index(['기상', '아침', '점심', '저녁', '취침', '약_복용알람', '산책', '당뇨', '고지혈', '고혈압',\n",
       "       '제공서비스', 'age', '치매', '우울증', '고립', '거동불편', '종교유무', '건강관심', '주택타입',\n",
       "       '자녀수', '식사', '공공방문', 'doll_score', 'med_count', 'human_detection',\n",
       "       'gymnastics', 'brain_timer', 'drug_consume', 'drug_consume_rt',\n",
       "       'psy_before', 'psy_after', 'sex_여', '종교_무교', '수급여부_차상위', '청결_중',\n",
       "       '청결_하'],\n",
       "      dtype='object')"
      ]
     },
     "execution_count": 43,
     "metadata": {},
     "output_type": "execute_result"
    }
   ],
   "source": [
    "X_train.columns"
   ]
  },
  {
   "cell_type": "code",
   "execution_count": 44,
   "id": "497db9c3",
   "metadata": {},
   "outputs": [],
   "source": [
    "#doll_id 기준 group\n",
    "X2 = pd.concat([X_train, survey_data['doll_id'][survey_data.index.isin(X_train.index)]], axis = 1)\n",
    "X2 = pd.concat([X2, Y1_train], axis = 1)"
   ]
  },
  {
   "cell_type": "code",
   "execution_count": 45,
   "id": "5527921e",
   "metadata": {},
   "outputs": [],
   "source": [
    "#기관 기준 group\n",
    "X3 = pd.concat([X_train, survey_data['기관2'][survey_data.index.isin(X_train.index)]], axis = 1)\n",
    "X3 = pd.concat([X3, Y1_train], axis = 1)"
   ]
  },
  {
   "cell_type": "code",
   "execution_count": 46,
   "id": "6ea66d4c",
   "metadata": {},
   "outputs": [],
   "source": [
    "#psy_before_cat 기준 group\n",
    "X4 = pd.concat([X_train, survey_data['psy_before_cat'][survey_data.index.isin(X_train.index)]], axis = 1)\n",
    "X4 = pd.concat([X4, Y1_train], axis =1)"
   ]
  },
  {
   "cell_type": "markdown",
   "id": "62c76831",
   "metadata": {},
   "source": [
    "### 1) doll_id 기준 group"
   ]
  },
  {
   "cell_type": "code",
   "execution_count": 47,
   "id": "11e16a1d",
   "metadata": {},
   "outputs": [],
   "source": [
    "doll_formula = 'slife_after ~ '\n",
    "for i,j in enumerate(X2.drop(['doll_id','slife_after'], axis = 1).columns):\n",
    "    if i==0:\n",
    "        doll_formula += j\n",
    "    else:\n",
    "        doll_formula += '+' + j"
   ]
  },
  {
   "cell_type": "code",
   "execution_count": 48,
   "id": "44e891a0",
   "metadata": {},
   "outputs": [
    {
     "data": {
      "text/plain": [
       "'slife_after ~ 기상+아침+점심+저녁+취침+약_복용알람+산책+당뇨+고지혈+고혈압+제공서비스+age+치매+우울증+고립+거동불편+종교유무+건강관심+주택타입+자녀수+식사+공공방문+doll_score+med_count+human_detection+gymnastics+brain_timer+drug_consume+drug_consume_rt+psy_before+psy_after+sex_여+종교_무교+수급여부_차상위+청결_중+청결_하'"
      ]
     },
     "execution_count": 48,
     "metadata": {},
     "output_type": "execute_result"
    }
   ],
   "source": [
    "doll_formula"
   ]
  },
  {
   "cell_type": "code",
   "execution_count": 49,
   "id": "7cb90384",
   "metadata": {},
   "outputs": [],
   "source": [
    "doll_md = smf.mixedlm(formula = doll_formula, data = X2, groups = X2['doll_id'])"
   ]
  },
  {
   "cell_type": "code",
   "execution_count": 50,
   "id": "e2021ff7",
   "metadata": {},
   "outputs": [
    {
     "name": "stdout",
     "output_type": "stream",
     "text": [
      "           Mixed Linear Model Regression Results\n",
      "===========================================================\n",
      "Model:              MixedLM Dependent Variable: slife_after\n",
      "No. Observations:   128     Method:             REML       \n",
      "No. Groups:         128     Scale:              2.8208     \n",
      "Min. group size:    1       Log-Likelihood:     -248.6029  \n",
      "Max. group size:    1       Converged:          Yes        \n",
      "Mean group size:    1.0                                    \n",
      "-----------------------------------------------------------\n",
      "                Coef.  Std.Err.   z    P>|z|  [0.025 0.975]\n",
      "-----------------------------------------------------------\n",
      "Intercept       23.143    2.389  9.685 0.000  18.459 27.826\n",
      "기상              -0.602    2.440 -0.247 0.805  -5.384  4.179\n",
      "아침               0.752    2.170  0.346 0.729  -3.501  5.005\n",
      "점심               2.206    1.248  1.767 0.077  -0.241  4.653\n",
      "저녁              -0.226    1.849 -0.122 0.903  -3.850  3.399\n",
      "취침              -1.243    0.676 -1.840 0.066  -2.568  0.081\n",
      "약_복용알람          -0.003    1.560 -0.002 0.999  -3.061  3.056\n",
      "산책              -0.873    0.557 -1.567 0.117  -1.964  0.219\n",
      "당뇨              -0.842    0.492 -1.710 0.087  -1.807  0.123\n",
      "고지혈             -0.390    0.579 -0.673 0.501  -1.524  0.745\n",
      "고혈압             -0.204    0.542 -0.376 0.707  -1.267  0.859\n",
      "제공서비스            0.467    0.483  0.967 0.333  -0.480  1.414\n",
      "age             -1.983    1.164 -1.704 0.088  -4.264  0.297\n",
      "치매               1.119    0.646  1.732 0.083  -0.147  2.386\n",
      "우울증              0.056    0.557  0.101 0.920  -1.035  1.148\n",
      "고립               0.857    0.833  1.028 0.304  -0.776  2.489\n",
      "거동불편             0.046    0.526  0.088 0.930  -0.985  1.077\n",
      "종교유무             1.418    0.657  2.158 0.031   0.130  2.706\n",
      "건강관심             1.043    0.990  1.054 0.292  -0.896  2.983\n",
      "주택타입            -0.078    0.514 -0.152 0.879  -1.086  0.930\n",
      "자녀수              0.084    1.109  0.076 0.940  -2.090  2.258\n",
      "식사               0.983    0.543  1.812 0.070  -0.080  2.046\n",
      "공공방문             0.467    0.517  0.903 0.367  -0.546  1.480\n",
      "doll_score      -1.678    1.395 -1.203 0.229  -4.413  1.057\n",
      "med_count       -0.780    1.055 -0.739 0.460  -2.848  1.288\n",
      "human_detection -2.251    1.344 -1.674 0.094  -4.886  0.384\n",
      "gymnastics       5.114    3.027  1.689 0.091  -0.819 11.047\n",
      "brain_timer     -4.271    3.357 -1.272 0.203 -10.850  2.308\n",
      "drug_consume     1.071    1.193  0.898 0.369  -1.268  3.409\n",
      "drug_consume_rt -0.648    0.679 -0.954 0.340  -1.979  0.684\n",
      "psy_before      -2.729    1.095 -2.493 0.013  -4.874 -0.584\n",
      "psy_after       -3.060    1.355 -2.258 0.024  -5.715 -0.404\n",
      "sex_여            0.638    0.595  1.072 0.284  -0.528  1.804\n",
      "종교_무교           -1.404    0.689 -2.037 0.042  -2.756 -0.053\n",
      "수급여부_차상위        -0.217    0.595 -0.365 0.715  -1.383  0.948\n",
      "청결_중            -0.555    0.578 -0.960 0.337  -1.689  0.579\n",
      "청결_하            -0.853    0.854 -0.999 0.318  -2.526  0.820\n",
      "Group Var        2.821                                     \n",
      "===========================================================\n",
      "\n"
     ]
    },
    {
     "name": "stderr",
     "output_type": "stream",
     "text": [
      "C:\\ProgramData\\Anaconda3\\lib\\site-packages\\statsmodels\\regression\\mixed_linear_model.py:2261: ConvergenceWarning: The Hessian matrix at the estimated parameter values is not positive definite.\n",
      "  warnings.warn(msg, ConvergenceWarning)\n"
     ]
    }
   ],
   "source": [
    "doll_mdf = doll_md.fit()\n",
    "print(doll_mdf.summary())"
   ]
  },
  {
   "cell_type": "code",
   "execution_count": 51,
   "id": "e01c061a",
   "metadata": {},
   "outputs": [
    {
     "data": {
      "text/plain": [
       "3.194216559376347"
      ]
     },
     "execution_count": 51,
     "metadata": {},
     "output_type": "execute_result"
    }
   ],
   "source": [
    "doll_pred = doll_mdf.predict(X2.iloc[:,:-2])\n",
    "rms = sqrt(mean_squared_error(Y1_train, doll_pred))\n",
    "rms"
   ]
  },
  {
   "cell_type": "markdown",
   "id": "55e54abd",
   "metadata": {},
   "source": [
    "그냥 ls 때랑 똑같네?"
   ]
  },
  {
   "cell_type": "markdown",
   "id": "13ffacce",
   "metadata": {},
   "source": [
    "### 2) 기관 기준 group"
   ]
  },
  {
   "cell_type": "code",
   "execution_count": 52,
   "id": "9c7f11ff",
   "metadata": {},
   "outputs": [],
   "source": [
    "기관_formula = 'slife_after ~ '\n",
    "for i,j in enumerate(X3.drop(['기관2','slife_after'], axis = 1).columns):\n",
    "    if i==0:\n",
    "        기관_formula += j\n",
    "    else:\n",
    "        기관_formula += '+' + j"
   ]
  },
  {
   "cell_type": "code",
   "execution_count": 53,
   "id": "1fa3822f",
   "metadata": {},
   "outputs": [
    {
     "data": {
      "text/plain": [
       "'slife_after ~ 기상+아침+점심+저녁+취침+약_복용알람+산책+당뇨+고지혈+고혈압+제공서비스+age+치매+우울증+고립+거동불편+종교유무+건강관심+주택타입+자녀수+식사+공공방문+doll_score+med_count+human_detection+gymnastics+brain_timer+drug_consume+drug_consume_rt+psy_before+psy_after+sex_여+종교_무교+수급여부_차상위+청결_중+청결_하'"
      ]
     },
     "execution_count": 53,
     "metadata": {},
     "output_type": "execute_result"
    }
   ],
   "source": [
    "기관_formula"
   ]
  },
  {
   "cell_type": "code",
   "execution_count": 54,
   "id": "13e8b196",
   "metadata": {},
   "outputs": [
    {
     "name": "stderr",
     "output_type": "stream",
     "text": [
      "C:\\ProgramData\\Anaconda3\\lib\\site-packages\\statsmodels\\base\\model.py:566: ConvergenceWarning: Maximum Likelihood optimization failed to converge. Check mle_retvals\n",
      "  warnings.warn(\"Maximum Likelihood optimization failed to \"\n",
      "C:\\ProgramData\\Anaconda3\\lib\\site-packages\\statsmodels\\regression\\mixed_linear_model.py:2200: ConvergenceWarning: Retrying MixedLM optimization with lbfgs\n",
      "  warnings.warn(\n",
      "C:\\ProgramData\\Anaconda3\\lib\\site-packages\\statsmodels\\base\\model.py:566: ConvergenceWarning: Maximum Likelihood optimization failed to converge. Check mle_retvals\n",
      "  warnings.warn(\"Maximum Likelihood optimization failed to \"\n",
      "C:\\ProgramData\\Anaconda3\\lib\\site-packages\\statsmodels\\regression\\mixed_linear_model.py:2200: ConvergenceWarning: Retrying MixedLM optimization with cg\n",
      "  warnings.warn(\n"
     ]
    },
    {
     "name": "stdout",
     "output_type": "stream",
     "text": [
      "           Mixed Linear Model Regression Results\n",
      "===========================================================\n",
      "Model:              MixedLM Dependent Variable: slife_after\n",
      "No. Observations:   128     Method:             REML       \n",
      "No. Groups:         7       Scale:              5.3595     \n",
      "Min. group size:    2       Log-Likelihood:     -247.8752  \n",
      "Max. group size:    43      Converged:          No         \n",
      "Mean group size:    18.3                                   \n",
      "-----------------------------------------------------------\n",
      "                Coef.  Std.Err.   z    P>|z|  [0.025 0.975]\n",
      "-----------------------------------------------------------\n",
      "Intercept       22.741    3.386  6.716 0.000  16.104 29.377\n",
      "기상              -1.062    2.507 -0.424 0.672  -5.975  3.850\n",
      "아침               1.611    2.527  0.638 0.524  -3.341  6.563\n",
      "점심               2.470    2.318  1.066 0.287  -2.072  7.013\n",
      "저녁              -0.414    2.090 -0.198 0.843  -4.510  3.681\n",
      "취침              -1.200    0.671 -1.789 0.074  -2.514  0.115\n",
      "약_복용알람          -0.137    1.533 -0.089 0.929  -3.141  2.867\n",
      "산책              -0.899    0.550 -1.634 0.102  -1.977  0.180\n",
      "당뇨              -0.887    0.493 -1.800 0.072  -1.853  0.079\n",
      "고지혈             -0.344    0.577 -0.596 0.551  -1.474  0.787\n",
      "고혈압             -0.268    0.536 -0.500 0.617  -1.318  0.782\n",
      "제공서비스            0.615    0.619  0.994 0.320  -0.598  1.828\n",
      "age             -1.839    1.153 -1.595 0.111  -4.098  0.420\n",
      "치매               1.038    0.643  1.613 0.107  -0.223  2.299\n",
      "우울증              0.193    0.568  0.340 0.734  -0.920  1.307\n",
      "고립               0.908    0.818  1.111 0.267  -0.694  2.511\n",
      "거동불편             0.080    0.518  0.155 0.877  -0.936  1.096\n",
      "종교유무             1.405    0.653  2.153 0.031   0.126  2.684\n",
      "건강관심             1.250    0.989  1.264 0.206  -0.688  3.188\n",
      "주택타입            -0.028    0.514 -0.055 0.956  -1.037  0.980\n",
      "자녀수             -0.050    1.104 -0.045 0.964  -2.214  2.114\n",
      "식사               0.899    0.544  1.651 0.099  -0.168  1.966\n",
      "공공방문             0.571    0.517  1.104 0.269  -0.443  1.585\n",
      "doll_score      -1.719    1.394 -1.233 0.218  -4.452  1.013\n",
      "med_count       -0.395    1.088 -0.363 0.716  -2.528  1.737\n",
      "human_detection -2.209    1.317 -1.677 0.093  -4.791  0.372\n",
      "gymnastics       5.759    3.503  1.644 0.100  -1.107 12.624\n",
      "brain_timer     -5.000    3.491 -1.432 0.152 -11.842  1.843\n",
      "drug_consume     1.168    1.170  0.999 0.318  -1.124  3.461\n",
      "drug_consume_rt -0.572    0.684 -0.837 0.403  -1.912  0.768\n",
      "psy_before      -2.666    1.081 -2.467 0.014  -4.784 -0.548\n",
      "psy_after       -3.138    1.337 -2.346 0.019  -5.759 -0.516\n",
      "sex_여            0.677    0.584  1.158 0.247  -0.468  1.822\n",
      "종교_무교           -1.297    0.682 -1.902 0.057  -2.633  0.039\n",
      "수급여부_차상위        -0.106    0.594 -0.179 0.858  -1.270  1.057\n",
      "청결_중            -0.530    0.569 -0.932 0.351  -1.644  0.585\n",
      "청결_하            -0.845    0.838 -1.008 0.314  -2.488  0.798\n",
      "Group Var        0.459    0.299                            \n",
      "===========================================================\n",
      "\n"
     ]
    },
    {
     "name": "stderr",
     "output_type": "stream",
     "text": [
      "C:\\ProgramData\\Anaconda3\\lib\\site-packages\\statsmodels\\base\\model.py:566: ConvergenceWarning: Maximum Likelihood optimization failed to converge. Check mle_retvals\n",
      "  warnings.warn(\"Maximum Likelihood optimization failed to \"\n",
      "C:\\ProgramData\\Anaconda3\\lib\\site-packages\\statsmodels\\regression\\mixed_linear_model.py:2206: ConvergenceWarning: MixedLM optimization failed, trying a different optimizer may help.\n",
      "  warnings.warn(msg, ConvergenceWarning)\n",
      "C:\\ProgramData\\Anaconda3\\lib\\site-packages\\statsmodels\\regression\\mixed_linear_model.py:2218: ConvergenceWarning: Gradient optimization failed, |grad| = 0.631806\n",
      "  warnings.warn(msg, ConvergenceWarning)\n"
     ]
    }
   ],
   "source": [
    "기관_md = smf.mixedlm(formula = 기관_formula, data = X3, groups = X3['기관2'])\n",
    "기관_mdf = 기관_md.fit()\n",
    "print(기관_mdf.summary())"
   ]
  },
  {
   "cell_type": "code",
   "execution_count": 55,
   "id": "68d909f4",
   "metadata": {},
   "outputs": [
    {
     "data": {
      "text/plain": [
       "3.222902143984385"
      ]
     },
     "execution_count": 55,
     "metadata": {},
     "output_type": "execute_result"
    }
   ],
   "source": [
    "기관_pred = 기관_mdf.predict(X3.iloc[:,:-2])\n",
    "rms = sqrt(mean_squared_error(Y1_train, 기관_pred))\n",
    "rms"
   ]
  },
  {
   "cell_type": "markdown",
   "id": "1deba9a2",
   "metadata": {},
   "source": [
    "### 3) psy_before_cat 기준 group"
   ]
  },
  {
   "cell_type": "code",
   "execution_count": 56,
   "id": "86475367",
   "metadata": {},
   "outputs": [],
   "source": [
    "psy_formula = 'slife_after ~ '\n",
    "for i,j in enumerate(X4.drop(['psy_before_cat','slife_after'], axis = 1).columns):\n",
    "    if i==0:\n",
    "        psy_formula += j\n",
    "    else:\n",
    "        psy_formula += '+' + j"
   ]
  },
  {
   "cell_type": "code",
   "execution_count": 57,
   "id": "236549cb",
   "metadata": {},
   "outputs": [
    {
     "data": {
      "text/plain": [
       "'slife_after ~ 기상+아침+점심+저녁+취침+약_복용알람+산책+당뇨+고지혈+고혈압+제공서비스+age+치매+우울증+고립+거동불편+종교유무+건강관심+주택타입+자녀수+식사+공공방문+doll_score+med_count+human_detection+gymnastics+brain_timer+drug_consume+drug_consume_rt+psy_before+psy_after+sex_여+종교_무교+수급여부_차상위+청결_중+청결_하'"
      ]
     },
     "execution_count": 57,
     "metadata": {},
     "output_type": "execute_result"
    }
   ],
   "source": [
    "psy_formula"
   ]
  },
  {
   "cell_type": "code",
   "execution_count": 58,
   "id": "546c6f0b",
   "metadata": {
    "scrolled": true
   },
   "outputs": [
    {
     "name": "stderr",
     "output_type": "stream",
     "text": [
      "C:\\ProgramData\\Anaconda3\\lib\\site-packages\\statsmodels\\base\\model.py:566: ConvergenceWarning: Maximum Likelihood optimization failed to converge. Check mle_retvals\n",
      "  warnings.warn(\"Maximum Likelihood optimization failed to \"\n",
      "C:\\ProgramData\\Anaconda3\\lib\\site-packages\\statsmodels\\regression\\mixed_linear_model.py:2200: ConvergenceWarning: Retrying MixedLM optimization with lbfgs\n",
      "  warnings.warn(\n"
     ]
    },
    {
     "name": "stdout",
     "output_type": "stream",
     "text": [
      "              Mixed Linear Model Regression Results\n",
      "==================================================================\n",
      "Model:               MixedLM    Dependent Variable:    slife_after\n",
      "No. Observations:    128        Method:                REML       \n",
      "No. Groups:          2          Scale:                 5.6357     \n",
      "Min. group size:     14         Log-Likelihood:        -248.8847  \n",
      "Max. group size:     114        Converged:             Yes        \n",
      "Mean group size:     64.0                                         \n",
      "------------------------------------------------------------------\n",
      "                       Coef.  Std.Err.   z    P>|z|  [0.025 0.975]\n",
      "------------------------------------------------------------------\n",
      "Intercept              23.334   11.073  2.107 0.035   1.632 45.036\n",
      "기상                     -0.595    2.567 -0.232 0.817  -5.626  4.437\n",
      "아침                      0.789    2.798  0.282 0.778  -4.696  6.273\n",
      "점심                      2.158    2.973  0.726 0.468  -3.670  7.986\n",
      "저녁                     -0.182    2.206 -0.082 0.934  -4.505  4.142\n",
      "취침                     -1.210    1.017 -1.190 0.234  -3.203  0.783\n",
      "약_복용알람                 -0.043    1.776 -0.024 0.981  -3.525  3.439\n",
      "산책                     -0.876    0.568 -1.541 0.123  -1.990  0.238\n",
      "당뇨                     -0.838    0.567 -1.480 0.139  -1.949  0.272\n",
      "고지혈                    -0.421    0.815 -0.516 0.606  -2.019  1.177\n",
      "고혈압                    -0.213    0.561 -0.378 0.705  -1.313  0.888\n",
      "제공서비스                   0.472    0.489  0.964 0.335  -0.488  1.431\n",
      "age                    -1.960    1.307 -1.499 0.134  -4.522  0.602\n",
      "치매                      1.102    0.757  1.457 0.145  -0.381  2.586\n",
      "우울증                     0.062    0.572  0.109 0.914  -1.058  1.182\n",
      "고립                      0.854    0.834  1.023 0.306  -0.781  2.489\n",
      "거동불편                    0.048    0.527  0.091 0.927  -0.984  1.080\n",
      "종교유무                    1.445    0.856  1.688 0.091  -0.232  3.122\n",
      "건강관심                    1.051    1.065  0.987 0.324  -1.036  3.138\n",
      "주택타입                   -0.074    0.566 -0.131 0.896  -1.184  1.035\n",
      "자녀수                     0.056    1.593  0.035 0.972  -3.067  3.178\n",
      "식사                      0.984    0.553  1.780 0.075  -0.099  2.067\n",
      "공공방문                    0.485    0.780  0.621 0.535  -1.045  2.014\n",
      "doll_score             -1.691    1.413 -1.197 0.231  -4.460  1.078\n",
      "med_count              -0.743    1.337 -0.555 0.579  -3.363  1.878\n",
      "human_detection        -2.253    1.384 -1.628 0.104  -4.966  0.460\n",
      "gymnastics              5.108    3.550  1.439 0.150  -1.849 12.065\n",
      "brain_timer            -4.244    3.689 -1.150 0.250 -11.475  2.987\n",
      "drug_consume            1.070    1.219  0.878 0.380  -1.318  3.458\n",
      "drug_consume_rt        -0.624    0.843 -0.740 0.459  -2.276  1.028\n",
      "psy_before             -2.956   12.676 -0.233 0.816 -27.799 21.888\n",
      "psy_after              -3.107    1.934 -1.607 0.108  -6.898  0.683\n",
      "sex_여                   0.641    0.628  1.021 0.307  -0.590  1.873\n",
      "종교_무교                  -1.433    0.816 -1.756 0.079  -3.033  0.167\n",
      "수급여부_차상위               -0.203    0.655 -0.310 0.756  -1.488  1.081\n",
      "청결_중                   -0.552    0.701 -0.787 0.431  -1.926  0.823\n",
      "청결_하                   -0.840    1.267 -0.663 0.507  -3.323  1.643\n",
      "Group Var               1.445   81.350                            \n",
      "Group x psy_before Cov -1.287  113.481                            \n",
      "psy_before Var          1.666  150.929                            \n",
      "==================================================================\n",
      "\n"
     ]
    },
    {
     "name": "stderr",
     "output_type": "stream",
     "text": [
      "C:\\ProgramData\\Anaconda3\\lib\\site-packages\\statsmodels\\regression\\mixed_linear_model.py:2261: ConvergenceWarning: The Hessian matrix at the estimated parameter values is not positive definite.\n",
      "  warnings.warn(msg, ConvergenceWarning)\n"
     ]
    }
   ],
   "source": [
    "psy_md = smf.mixedlm(formula = psy_formula, data = X4, re_formula = '~psy_before', groups = X4['psy_before_cat'])\n",
    "psy_mdf = psy_md.fit()\n",
    "print(psy_mdf.summary())"
   ]
  },
  {
   "cell_type": "code",
   "execution_count": 59,
   "id": "4bd5f041",
   "metadata": {},
   "outputs": [
    {
     "data": {
      "text/plain": [
       "3.2128627109822903"
      ]
     },
     "execution_count": 59,
     "metadata": {},
     "output_type": "execute_result"
    }
   ],
   "source": [
    "psy_pred = psy_mdf.predict(X4.iloc[:,:-2])\n",
    "rms = sqrt(mean_squared_error(Y1_train, psy_pred))\n",
    "rms"
   ]
  },
  {
   "cell_type": "markdown",
   "id": "f3c07936",
   "metadata": {},
   "source": [
    "## 1-5. SFS (Linear Regression)"
   ]
  },
  {
   "cell_type": "markdown",
   "id": "f01ba31f",
   "metadata": {},
   "source": [
    "### Forward"
   ]
  },
  {
   "cell_type": "code",
   "execution_count": 60,
   "id": "6c9183e4",
   "metadata": {},
   "outputs": [
    {
     "data": {
      "text/plain": [
       "SequentialFeatureSelector(estimator=LinearRegression(), k_features=(5, 15),\n",
       "                          scoring='neg_root_mean_squared_error')"
      ]
     },
     "execution_count": 60,
     "metadata": {},
     "output_type": "execute_result"
    }
   ],
   "source": [
    "ols = LinearRegression()\n",
    "sfs_forward = SFS(estimator=ols, \n",
    "           k_features=(5, 15), #feature의 개수를 최소 몇 개 이상 최대 몇 개 이하로 하고 싶은지.\n",
    "           forward=True, \n",
    "           floating=False, \n",
    "           scoring='neg_root_mean_squared_error', cv = 5)\n",
    "\n",
    "sfs_forward.fit(X_train, Y1_train)"
   ]
  },
  {
   "cell_type": "code",
   "execution_count": 61,
   "id": "2d079a62",
   "metadata": {},
   "outputs": [
    {
     "data": {
      "text/plain": [
       "['제공서비스',\n",
       " '고립',\n",
       " '종교유무',\n",
       " '주택타입',\n",
       " '식사',\n",
       " '공공방문',\n",
       " 'doll_score',\n",
       " 'psy_before',\n",
       " 'psy_after',\n",
       " 'sex_여',\n",
       " '종교_무교']"
      ]
     },
     "execution_count": 61,
     "metadata": {},
     "output_type": "execute_result"
    }
   ],
   "source": [
    "selected_variables = list(sfs_forward.k_feature_names_)\n",
    "selected_variables"
   ]
  },
  {
   "cell_type": "code",
   "execution_count": 62,
   "id": "c82a2039",
   "metadata": {},
   "outputs": [
    {
     "name": "stdout",
     "output_type": "stream",
     "text": [
      "best average cv_score: -2.3696600739846323\n"
     ]
    }
   ],
   "source": [
    "print('best average cv_score:',sfs_forward.k_score_)"
   ]
  },
  {
   "cell_type": "code",
   "execution_count": 63,
   "id": "211b6ef1",
   "metadata": {},
   "outputs": [
    {
     "name": "stdout",
     "output_type": "stream",
     "text": [
      "train_rmse: 2.2524436695434993\n"
     ]
    }
   ],
   "source": [
    "ols.fit(X_train[selected_variables], Y1_train)\n",
    "Y1_pred = ols.predict(X_train[selected_variables])\n",
    "rmse = sqrt(mean_squared_error(Y1_train, Y1_pred))\n",
    "print('train_rmse:',rmse)"
   ]
  },
  {
   "cell_type": "code",
   "execution_count": 64,
   "id": "08e726f9",
   "metadata": {},
   "outputs": [
    {
     "name": "stdout",
     "output_type": "stream",
     "text": [
      "test_rmse: 2.624456427083023\n"
     ]
    }
   ],
   "source": [
    "Y1_pred = ols.predict(X_test[selected_variables])\n",
    "rmse = sqrt(mean_squared_error(Y1_test, Y1_pred))\n",
    "print('test_rmse:',rmse)"
   ]
  },
  {
   "cell_type": "markdown",
   "id": "9be88304",
   "metadata": {},
   "source": [
    "### Backward"
   ]
  },
  {
   "cell_type": "code",
   "execution_count": 65,
   "id": "479717b5",
   "metadata": {},
   "outputs": [
    {
     "data": {
      "text/plain": [
       "SequentialFeatureSelector(estimator=LinearRegression(), forward=False,\n",
       "                          k_features=(5, 15),\n",
       "                          scoring='neg_root_mean_squared_error')"
      ]
     },
     "execution_count": 65,
     "metadata": {},
     "output_type": "execute_result"
    }
   ],
   "source": [
    "ols = LinearRegression()\n",
    "sfs_backward = SFS(estimator=ols, \n",
    "           k_features=(5, 15), #feature의 개수를 최소 몇 개 이상 최대 몇 개 이하로 하고 싶은지.\n",
    "           forward=False, \n",
    "           floating=False, \n",
    "           scoring='neg_root_mean_squared_error', cv = 5)\n",
    "\n",
    "sfs_backward.fit(X_train, Y1_train)"
   ]
  },
  {
   "cell_type": "code",
   "execution_count": 66,
   "id": "50f8ee3f",
   "metadata": {},
   "outputs": [
    {
     "data": {
      "text/plain": [
       "['취침',\n",
       " '산책',\n",
       " '당뇨',\n",
       " 'age',\n",
       " '치매',\n",
       " '종교유무',\n",
       " '식사',\n",
       " 'doll_score',\n",
       " 'human_detection',\n",
       " 'gymnastics',\n",
       " 'psy_before',\n",
       " 'psy_after',\n",
       " '종교_무교']"
      ]
     },
     "execution_count": 66,
     "metadata": {},
     "output_type": "execute_result"
    }
   ],
   "source": [
    "selected_variables = list(sfs_backward.k_feature_names_)\n",
    "selected_variables"
   ]
  },
  {
   "cell_type": "code",
   "execution_count": 67,
   "id": "d7a20b37",
   "metadata": {},
   "outputs": [
    {
     "name": "stdout",
     "output_type": "stream",
     "text": [
      "best average cv_score: -2.39371003381196\n"
     ]
    }
   ],
   "source": [
    "print('best average cv_score:',sfs_backward.k_score_)"
   ]
  },
  {
   "cell_type": "code",
   "execution_count": 68,
   "id": "ce215e91",
   "metadata": {},
   "outputs": [
    {
     "name": "stdout",
     "output_type": "stream",
     "text": [
      "train_rmse: 2.140974689254395\n"
     ]
    }
   ],
   "source": [
    "ols.fit(X_train[selected_variables], Y1_train)\n",
    "Y1_pred = ols.predict(X_train[selected_variables])\n",
    "rmse = sqrt(mean_squared_error(Y1_train, Y1_pred))\n",
    "print('train_rmse:',rmse)"
   ]
  },
  {
   "cell_type": "code",
   "execution_count": 69,
   "id": "f30c8469",
   "metadata": {},
   "outputs": [
    {
     "name": "stdout",
     "output_type": "stream",
     "text": [
      "test_rmse: 3.003120204484048\n"
     ]
    }
   ],
   "source": [
    "Y1_pred = ols.predict(X_test[selected_variables])\n",
    "rmse = sqrt(mean_squared_error(Y1_test, Y1_pred))\n",
    "print('test_rmse:',rmse)"
   ]
  },
  {
   "cell_type": "markdown",
   "id": "c059ebb7",
   "metadata": {},
   "source": [
    "## 1-6. Decision Tree"
   ]
  },
  {
   "cell_type": "code",
   "execution_count": 70,
   "id": "0a977cb5",
   "metadata": {},
   "outputs": [],
   "source": [
    "randomseed = 1234"
   ]
  },
  {
   "cell_type": "code",
   "execution_count": 71,
   "id": "fde72e47",
   "metadata": {},
   "outputs": [
    {
     "data": {
      "text/plain": [
       "DecisionTreeRegressor(min_samples_leaf=4, random_state=1234)"
      ]
     },
     "execution_count": 71,
     "metadata": {},
     "output_type": "execute_result"
    }
   ],
   "source": [
    "dtree = DecisionTreeRegressor(random_state=randomseed, min_samples_leaf=4)\n",
    "dtree.fit(X_train, Y1_train)"
   ]
  },
  {
   "cell_type": "code",
   "execution_count": 72,
   "id": "45f25322",
   "metadata": {},
   "outputs": [
    {
     "name": "stdout",
     "output_type": "stream",
     "text": [
      "train_rmse: 1.4974805229673829\n"
     ]
    }
   ],
   "source": [
    "Y1_pred = dtree.predict(X_train)\n",
    "rmse = sqrt(mean_squared_error(Y1_train, Y1_pred))\n",
    "print('train_rmse:', rmse)"
   ]
  },
  {
   "cell_type": "code",
   "execution_count": 73,
   "id": "12560892",
   "metadata": {},
   "outputs": [
    {
     "name": "stdout",
     "output_type": "stream",
     "text": [
      "test_rmse: 3.577612701470543\n"
     ]
    }
   ],
   "source": [
    "Y1_pred = dtree.predict(X_test)\n",
    "rmse = sqrt(mean_squared_error(Y1_test, Y1_pred))\n",
    "print('test_rmse:', rmse)"
   ]
  },
  {
   "cell_type": "markdown",
   "id": "59565d3b",
   "metadata": {},
   "source": [
    "## 1-7. Random Forest"
   ]
  },
  {
   "cell_type": "code",
   "execution_count": 74,
   "id": "a359064f",
   "metadata": {},
   "outputs": [],
   "source": [
    "randomseed = 1234"
   ]
  },
  {
   "cell_type": "code",
   "execution_count": 75,
   "id": "0cf8bb9c",
   "metadata": {},
   "outputs": [
    {
     "data": {
      "text/plain": [
       "RandomForestRegressor(min_samples_leaf=5, random_state=1234)"
      ]
     },
     "execution_count": 75,
     "metadata": {},
     "output_type": "execute_result"
    }
   ],
   "source": [
    "rforest = RandomForestRegressor(random_state = randomseed, min_samples_leaf=5)\n",
    "rforest.fit(X_train, Y1_train)"
   ]
  },
  {
   "cell_type": "code",
   "execution_count": 76,
   "id": "dbeae3dd",
   "metadata": {},
   "outputs": [
    {
     "name": "stdout",
     "output_type": "stream",
     "text": [
      "train_rmse: 1.6480392395248236\n"
     ]
    }
   ],
   "source": [
    "Y1_pred = rforest.predict(X_train)\n",
    "rmse = sqrt(mean_squared_error(Y1_train, Y1_pred))\n",
    "print('train_rmse:', rmse)"
   ]
  },
  {
   "cell_type": "code",
   "execution_count": 77,
   "id": "3851e0e1",
   "metadata": {},
   "outputs": [
    {
     "name": "stdout",
     "output_type": "stream",
     "text": [
      "test_rmse: 2.626315594791285\n"
     ]
    }
   ],
   "source": [
    "Y1_pred = rforest.predict(X_test)\n",
    "rmse = sqrt(mean_squared_error(Y1_test, Y1_pred))\n",
    "print('test_rmse:', rmse)"
   ]
  },
  {
   "cell_type": "markdown",
   "id": "7a2bebe3",
   "metadata": {},
   "source": [
    "## 1-8. XGBoost"
   ]
  },
  {
   "cell_type": "code",
   "execution_count": 78,
   "id": "265c89ab",
   "metadata": {},
   "outputs": [],
   "source": [
    "randomseed = 1234"
   ]
  },
  {
   "cell_type": "code",
   "execution_count": 79,
   "id": "eea019a6",
   "metadata": {},
   "outputs": [
    {
     "data": {
      "text/plain": [
       "XGBRegressor(base_score=0.5, booster='gbtree', colsample_bylevel=1,\n",
       "             colsample_bynode=1, colsample_bytree=1, enable_categorical=False,\n",
       "             gamma=0, gpu_id=-1, importance_type=None,\n",
       "             interaction_constraints='', learning_rate=0.300000012,\n",
       "             max_delta_step=0, max_depth=5, min_child_weight=1, missing=nan,\n",
       "             monotone_constraints='()', n_estimators=100, n_jobs=8,\n",
       "             num_parallel_tree=1, predictor='auto', random_state=1234,\n",
       "             reg_alpha=0, reg_lambda=1, scale_pos_weight=1, subsample=1,\n",
       "             tree_method='exact', validate_parameters=1, verbosity=None)"
      ]
     },
     "execution_count": 79,
     "metadata": {},
     "output_type": "execute_result"
    }
   ],
   "source": [
    "xgb = XGBRegressor(random_state = randomseed, max_depth = 5)\n",
    "xgb.fit(X_train, Y1_train)"
   ]
  },
  {
   "cell_type": "code",
   "execution_count": 80,
   "id": "fdcacf5b",
   "metadata": {},
   "outputs": [
    {
     "name": "stdout",
     "output_type": "stream",
     "text": [
      "train_rmse: 0.0007960282006303308\n"
     ]
    }
   ],
   "source": [
    "Y1_pred = xgb.predict(X_train)\n",
    "rmse = sqrt(mean_squared_error(Y1_train, Y1_pred))\n",
    "print('train_rmse:', rmse)"
   ]
  },
  {
   "cell_type": "code",
   "execution_count": 81,
   "id": "6a9cd76e",
   "metadata": {},
   "outputs": [
    {
     "name": "stdout",
     "output_type": "stream",
     "text": [
      "test_rmse: 3.1422368480587366\n"
     ]
    }
   ],
   "source": [
    "Y1_pred = xgb.predict(X_test)\n",
    "rmse = sqrt(mean_squared_error(Y1_test, Y1_pred))\n",
    "print('test_rmse:', rmse)"
   ]
  },
  {
   "cell_type": "markdown",
   "id": "9cfdc5ca",
   "metadata": {},
   "source": [
    "## 1-9. LGBM"
   ]
  },
  {
   "cell_type": "code",
   "execution_count": 82,
   "id": "c74462c2",
   "metadata": {},
   "outputs": [],
   "source": [
    "randomseed = 1234"
   ]
  },
  {
   "cell_type": "code",
   "execution_count": 83,
   "id": "6e9a4934",
   "metadata": {},
   "outputs": [
    {
     "data": {
      "text/plain": [
       "LGBMRegressor(max_depth=5, random_state=1234)"
      ]
     },
     "execution_count": 83,
     "metadata": {},
     "output_type": "execute_result"
    }
   ],
   "source": [
    "lgbm = LGBMRegressor(random_state = randomseed, max_depth = 5)\n",
    "lgbm.fit(X_train, Y1_train)"
   ]
  },
  {
   "cell_type": "code",
   "execution_count": 84,
   "id": "330bfe87",
   "metadata": {},
   "outputs": [
    {
     "name": "stdout",
     "output_type": "stream",
     "text": [
      "train_rmse: 1.1326766029858333\n"
     ]
    }
   ],
   "source": [
    "Y1_pred = lgbm.predict(X_train)\n",
    "rmse = sqrt(mean_squared_error(Y1_train, Y1_pred))\n",
    "print('train_rmse:', rmse)"
   ]
  },
  {
   "cell_type": "code",
   "execution_count": 85,
   "id": "33419c51",
   "metadata": {},
   "outputs": [
    {
     "name": "stdout",
     "output_type": "stream",
     "text": [
      "test_rmse: 2.836864715106959\n"
     ]
    }
   ],
   "source": [
    "Y1_pred = lgbm.predict(X_test)\n",
    "rmse = sqrt(mean_squared_error(Y1_test, Y1_pred))\n",
    "print('test_rmse:', rmse)"
   ]
  },
  {
   "cell_type": "markdown",
   "id": "1c654162",
   "metadata": {},
   "source": [
    "# 2. 생활관리 Change"
   ]
  },
  {
   "cell_type": "markdown",
   "id": "809eb0c0",
   "metadata": {},
   "source": [
    "## 2-1. Linear Regression"
   ]
  },
  {
   "cell_type": "code",
   "execution_count": 86,
   "id": "89a48002",
   "metadata": {
    "scrolled": true
   },
   "outputs": [
    {
     "name": "stdout",
     "output_type": "stream",
     "text": [
      "                            OLS Regression Results                            \n",
      "==============================================================================\n",
      "Dep. Variable:           slife_change   R-squared:                       0.283\n",
      "Model:                            OLS   Adj. R-squared:                 -0.001\n",
      "Method:                 Least Squares   F-statistic:                    0.9973\n",
      "Date:                Wed, 17 Nov 2021   Prob (F-statistic):              0.488\n",
      "Time:                        23:31:43   Log-Likelihood:                -299.40\n",
      "No. Observations:                 128   AIC:                             672.8\n",
      "Df Residuals:                      91   BIC:                             778.3\n",
      "Df Model:                          36                                         \n",
      "Covariance Type:            nonrobust                                         \n",
      "===================================================================================\n",
      "                      coef    std err          t      P>|t|      [0.025      0.975]\n",
      "-----------------------------------------------------------------------------------\n",
      "const               3.6559      4.268      0.856      0.394      -4.823      12.135\n",
      "기상                 -0.3755      3.163     -0.119      0.906      -6.659       5.908\n",
      "아침                  1.4765      3.075      0.480      0.632      -4.631       7.584\n",
      "점심                 -0.1991      2.946     -0.068      0.946      -6.052       5.654\n",
      "저녁                 -0.5457      2.656     -0.205      0.838      -5.822       4.730\n",
      "취침                 -1.2862      0.854     -1.506      0.136      -2.983       0.410\n",
      "약_복용알람             -1.0704      1.962     -0.546      0.587      -4.968       2.827\n",
      "산책                 -0.6865      0.699     -0.982      0.329      -2.076       0.703\n",
      "당뇨                 -0.5599      0.630     -0.889      0.376      -1.810       0.691\n",
      "고지혈                -0.1755      0.733     -0.240      0.811      -1.631       1.280\n",
      "고혈압                 0.7479      0.682      1.097      0.276      -0.607       2.102\n",
      "제공서비스               0.3931      0.609      0.645      0.520      -0.817       1.603\n",
      "age                -1.2821      1.464     -0.876      0.384      -4.191       1.627\n",
      "치매                 -0.0924      0.815     -0.113      0.910      -1.712       1.527\n",
      "우울증                -0.1375      0.702     -0.196      0.845      -1.533       1.258\n",
      "고립                  0.6543      1.044      0.627      0.532      -1.419       2.728\n",
      "거동불편               -0.2757      0.659     -0.418      0.677      -1.585       1.034\n",
      "종교유무                1.2954      0.824      1.572      0.119      -0.341       2.932\n",
      "건강관심                1.2895      1.247      1.034      0.304      -1.187       3.766\n",
      "주택타입               -1.0969      0.645     -1.699      0.093      -2.379       0.185\n",
      "자녀수                -0.9660      1.393     -0.694      0.490      -3.732       1.800\n",
      "식사                  0.2294      0.689      0.333      0.740      -1.139       1.598\n",
      "공공방문                0.1685      0.649      0.260      0.796      -1.121       1.458\n",
      "doll_score         -0.2140      1.752     -0.122      0.903      -3.693       3.265\n",
      "med_count          -1.8622      1.328     -1.402      0.164      -4.500       0.776\n",
      "human_detection    -2.7037      1.685     -1.605      0.112      -6.050       0.643\n",
      "gymnastics          4.0024      4.444      0.901      0.370      -4.825      12.829\n",
      "brain_timer        -4.0288      4.419     -0.912      0.364     -12.806       4.748\n",
      "drug_consume        1.4834      1.495      0.992      0.324      -1.487       4.454\n",
      "drug_consume_rt    -0.4482      0.855     -0.524      0.602      -2.147       1.251\n",
      "psy_before          0.2173      1.384      0.157      0.876      -2.532       2.967\n",
      "psy_after           0.4861      1.700      0.286      0.776      -2.891       3.863\n",
      "sex_여               0.3489      0.747      0.467      0.642      -1.135       1.833\n",
      "종교_무교              -0.6308      0.864     -0.730      0.467      -2.348       1.086\n",
      "수급여부_차상위           -0.2402      0.745     -0.322      0.748      -1.721       1.241\n",
      "청결_중                1.1965      0.725      1.651      0.102      -0.243       2.636\n",
      "청결_하                2.9659      1.071      2.768      0.007       0.838       5.094\n",
      "==============================================================================\n",
      "Omnibus:                        6.800   Durbin-Watson:                   1.691\n",
      "Prob(Omnibus):                  0.033   Jarque-Bera (JB):                6.453\n",
      "Skew:                           0.535   Prob(JB):                       0.0397\n",
      "Kurtosis:                       3.253   Cond. No.                         78.3\n",
      "==============================================================================\n",
      "\n",
      "Notes:\n",
      "[1] Standard Errors assume that the covariance matrix of the errors is correctly specified.\n"
     ]
    }
   ],
   "source": [
    "import statsmodels.api as sm\n",
    "X_Sm= sm.add_constant(X_train)\n",
    "ls=sm.OLS(Y2_train,X_Sm).fit()\n",
    "print(ls.summary())"
   ]
  },
  {
   "cell_type": "code",
   "execution_count": 87,
   "id": "8d02565b",
   "metadata": {},
   "outputs": [
    {
     "name": "stdout",
     "output_type": "stream",
     "text": [
      "train_rmse: 2.509607680663442\n"
     ]
    }
   ],
   "source": [
    "X_Sm = sm.add_constant(X_train)\n",
    "Y2_pred = ls.predict(X_Sm)\n",
    "rmse = sqrt(mean_squared_error(Y2_train, Y2_pred))\n",
    "print('train_rmse:', rmse)"
   ]
  },
  {
   "cell_type": "code",
   "execution_count": 88,
   "id": "e18d92cd",
   "metadata": {},
   "outputs": [
    {
     "name": "stdout",
     "output_type": "stream",
     "text": [
      "test_rmse: 3.0793677300930336\n"
     ]
    }
   ],
   "source": [
    "X_Sm = sm.add_constant(X_test)\n",
    "Y2_pred = ls.predict(X_Sm)\n",
    "rmse = sqrt(mean_squared_error(Y2_test, Y2_pred))\n",
    "print('test_rmse:', rmse)"
   ]
  },
  {
   "cell_type": "markdown",
   "id": "af7e27c8",
   "metadata": {},
   "source": [
    "## 2-2. Lasso CV"
   ]
  },
  {
   "cell_type": "code",
   "execution_count": 89,
   "id": "ba7fa293",
   "metadata": {},
   "outputs": [
    {
     "name": "stdout",
     "output_type": "stream",
     "text": [
      "Best alpha using built-in LassoCV: 0.214111\n",
      "Best score using built-in LassoCV: 0.000000\n"
     ]
    }
   ],
   "source": [
    "las = LassoCV()\n",
    "las.fit(X_train, Y2_train)\n",
    "print(\"Best alpha using built-in LassoCV: %f\" % las.alpha_)\n",
    "print(\"Best score using built-in LassoCV: %f\" %las.score(X_train,Y2_train))\n",
    "coef = pd.Series(las.coef_, index = X_train.columns)"
   ]
  },
  {
   "cell_type": "code",
   "execution_count": 90,
   "id": "0a223983",
   "metadata": {},
   "outputs": [
    {
     "name": "stdout",
     "output_type": "stream",
     "text": [
      "Lasso picked 0 variables and eliminated the other 36 variables\n"
     ]
    }
   ],
   "source": [
    "print(\"Lasso picked \" + str(sum(coef != 0)) + \" variables and eliminated the other \" +  str(sum(coef == 0)) + \" variables\")"
   ]
  },
  {
   "cell_type": "markdown",
   "id": "f45cb5f2",
   "metadata": {},
   "source": [
    "## 2-3. Ridge CV"
   ]
  },
  {
   "cell_type": "code",
   "execution_count": 91,
   "id": "c6e891cd",
   "metadata": {},
   "outputs": [
    {
     "name": "stdout",
     "output_type": "stream",
     "text": [
      "Best alpha using built-in RidgeCV: 10.000000\n",
      "Best score using built-in RidgeCV: 0.203121\n"
     ]
    }
   ],
   "source": [
    "rid = RidgeCV()\n",
    "rid.fit(X_train, Y2_train)\n",
    "print(\"Best alpha using built-in RidgeCV: %f\" % rid.alpha_)\n",
    "print(\"Best score using built-in RidgeCV: %f\" % rid.score(X_train,Y2_train))\n",
    "coef = pd.Series(las.coef_, index = X_train.columns)"
   ]
  },
  {
   "cell_type": "code",
   "execution_count": 92,
   "id": "f538ab80",
   "metadata": {},
   "outputs": [
    {
     "name": "stdout",
     "output_type": "stream",
     "text": [
      "train_rmse: 2.645553483566984\n"
     ]
    }
   ],
   "source": [
    "Y2_pred = rid.predict(X_train)\n",
    "rmse = sqrt(mean_squared_error(Y2_train, Y2_pred))\n",
    "print('train_rmse:',rmse)"
   ]
  },
  {
   "cell_type": "code",
   "execution_count": 93,
   "id": "7fda3c92",
   "metadata": {},
   "outputs": [
    {
     "name": "stdout",
     "output_type": "stream",
     "text": [
      "train_rmse: 2.551165415369053\n"
     ]
    }
   ],
   "source": [
    "Y2_pred = rid.predict(X_test)\n",
    "rmse = sqrt(mean_squared_error(Y2_test, Y2_pred))\n",
    "print('train_rmse:',rmse)"
   ]
  },
  {
   "cell_type": "markdown",
   "id": "52627b7d",
   "metadata": {},
   "source": [
    "## 2-4. SFS (Linear Regression)"
   ]
  },
  {
   "cell_type": "markdown",
   "id": "4f9287aa",
   "metadata": {},
   "source": [
    "### Forward"
   ]
  },
  {
   "cell_type": "code",
   "execution_count": 94,
   "id": "e268617b",
   "metadata": {},
   "outputs": [
    {
     "data": {
      "text/plain": [
       "SequentialFeatureSelector(estimator=LinearRegression(), k_features=(5, 15),\n",
       "                          scoring='neg_root_mean_squared_error')"
      ]
     },
     "execution_count": 94,
     "metadata": {},
     "output_type": "execute_result"
    }
   ],
   "source": [
    "ols = LinearRegression()\n",
    "sfs_forward = SFS(estimator=LinearRegression(), \n",
    "           k_features=(5, 15), #feature의 개수를 최소 몇 개 이상 최대 몇 개 이하로 하고 싶은지.\n",
    "           forward=True, \n",
    "           floating=False, \n",
    "           scoring='neg_root_mean_squared_error', cv = 5)\n",
    "\n",
    "sfs_forward.fit(X_train, Y2_train)"
   ]
  },
  {
   "cell_type": "code",
   "execution_count": 95,
   "id": "cadf054d",
   "metadata": {},
   "outputs": [
    {
     "data": {
      "text/plain": [
       "['산책',\n",
       " '당뇨',\n",
       " '고혈압',\n",
       " 'age',\n",
       " '종교유무',\n",
       " '건강관심',\n",
       " '주택타입',\n",
       " '자녀수',\n",
       " 'med_count',\n",
       " 'human_detection',\n",
       " 'gymnastics',\n",
       " 'psy_before',\n",
       " 'sex_여',\n",
       " '청결_중',\n",
       " '청결_하']"
      ]
     },
     "execution_count": 95,
     "metadata": {},
     "output_type": "execute_result"
    }
   ],
   "source": [
    "selected_variables = list(sfs_forward.k_feature_names_)\n",
    "selected_variables"
   ]
  },
  {
   "cell_type": "code",
   "execution_count": 96,
   "id": "c790148e",
   "metadata": {},
   "outputs": [
    {
     "name": "stdout",
     "output_type": "stream",
     "text": [
      "best average cv_score: -2.824101905754083\n"
     ]
    }
   ],
   "source": [
    "print('best average cv_score:',sfs_forward.k_score_)"
   ]
  },
  {
   "cell_type": "code",
   "execution_count": 97,
   "id": "742bd947",
   "metadata": {},
   "outputs": [
    {
     "name": "stdout",
     "output_type": "stream",
     "text": [
      "train_rmse: 2.626642480678344\n"
     ]
    }
   ],
   "source": [
    "ols.fit(X_train[selected_variables], Y2_train)\n",
    "Y2_pred = ols.predict(X_train[selected_variables])\n",
    "rmse = sqrt(mean_squared_error(Y2_train, Y2_pred))\n",
    "print('train_rmse:',rmse)"
   ]
  },
  {
   "cell_type": "code",
   "execution_count": 98,
   "id": "32413815",
   "metadata": {},
   "outputs": [
    {
     "name": "stdout",
     "output_type": "stream",
     "text": [
      "test_rmse: 3.210509622949884\n"
     ]
    }
   ],
   "source": [
    "Y2_pred = ols.predict(X_test[selected_variables])\n",
    "rmse = sqrt(mean_squared_error(Y2_test, Y2_pred))\n",
    "print('test_rmse:',rmse)"
   ]
  },
  {
   "cell_type": "markdown",
   "id": "670a3335",
   "metadata": {},
   "source": [
    "### Backward"
   ]
  },
  {
   "cell_type": "code",
   "execution_count": 99,
   "id": "e6b114d0",
   "metadata": {},
   "outputs": [
    {
     "data": {
      "text/plain": [
       "SequentialFeatureSelector(estimator=LinearRegression(), forward=False,\n",
       "                          k_features=(5, 15),\n",
       "                          scoring='neg_root_mean_squared_error')"
      ]
     },
     "execution_count": 99,
     "metadata": {},
     "output_type": "execute_result"
    }
   ],
   "source": [
    "ols = LinearRegression()\n",
    "sfs_backward = SFS(estimator=ols, \n",
    "           k_features=(5, 15), #feature의 개수를 최소 몇 개 이상 최대 몇 개 이하로 하고 싶은지.\n",
    "           forward=False, \n",
    "           floating=False, \n",
    "           scoring='neg_root_mean_squared_error', cv = 5)\n",
    "\n",
    "sfs_backward.fit(X_train, Y2_train)"
   ]
  },
  {
   "cell_type": "code",
   "execution_count": 100,
   "id": "fdedc46a",
   "metadata": {},
   "outputs": [
    {
     "data": {
      "text/plain": [
       "['산책',\n",
       " '제공서비스',\n",
       " '종교유무',\n",
       " '건강관심',\n",
       " '주택타입',\n",
       " 'human_detection',\n",
       " 'gymnastics',\n",
       " '청결_중',\n",
       " '청결_하']"
      ]
     },
     "execution_count": 100,
     "metadata": {},
     "output_type": "execute_result"
    }
   ],
   "source": [
    "selected_variables = list(sfs_backward.k_feature_names_)\n",
    "selected_variables"
   ]
  },
  {
   "cell_type": "code",
   "execution_count": 101,
   "id": "e3cdbafa",
   "metadata": {},
   "outputs": [
    {
     "name": "stdout",
     "output_type": "stream",
     "text": [
      "best average cv_score: -2.8520825025225207\n"
     ]
    }
   ],
   "source": [
    "print('best average cv_score:',sfs_backward.k_score_)"
   ]
  },
  {
   "cell_type": "code",
   "execution_count": 102,
   "id": "8722aa76",
   "metadata": {},
   "outputs": [
    {
     "name": "stdout",
     "output_type": "stream",
     "text": [
      "train_rmse: 2.742809333412982\n"
     ]
    }
   ],
   "source": [
    "ols.fit(X_train[selected_variables], Y2_train)\n",
    "Y2_pred = ols.predict(X_train[selected_variables])\n",
    "rmse = sqrt(mean_squared_error(Y2_train, Y2_pred))\n",
    "print('train_rmse:',rmse)"
   ]
  },
  {
   "cell_type": "code",
   "execution_count": 103,
   "id": "3fd59cad",
   "metadata": {
    "scrolled": true
   },
   "outputs": [
    {
     "name": "stdout",
     "output_type": "stream",
     "text": [
      "test_rmse: 2.776471162967302\n"
     ]
    }
   ],
   "source": [
    "Y2_pred = ols.predict(X_test[selected_variables])\n",
    "rmse = sqrt(mean_squared_error(Y2_test, Y2_pred))\n",
    "print('test_rmse:',rmse)"
   ]
  },
  {
   "cell_type": "markdown",
   "id": "2ed29992",
   "metadata": {},
   "source": [
    "## 2-5. Decision Tree"
   ]
  },
  {
   "cell_type": "code",
   "execution_count": 109,
   "id": "db3ae048",
   "metadata": {},
   "outputs": [],
   "source": [
    "randomseed = 1234"
   ]
  },
  {
   "cell_type": "code",
   "execution_count": 110,
   "id": "e6315ae0",
   "metadata": {},
   "outputs": [
    {
     "data": {
      "text/plain": [
       "DecisionTreeRegressor(min_samples_leaf=5, random_state=1234)"
      ]
     },
     "execution_count": 110,
     "metadata": {},
     "output_type": "execute_result"
    }
   ],
   "source": [
    "dtree = DecisionTreeRegressor(random_state=randomseed, min_samples_leaf=5)\n",
    "dtree.fit(X_train, Y2_train)"
   ]
  },
  {
   "cell_type": "code",
   "execution_count": 111,
   "id": "f5a9d034",
   "metadata": {},
   "outputs": [
    {
     "name": "stdout",
     "output_type": "stream",
     "text": [
      "train_rmse: 1.854397390674308\n"
     ]
    }
   ],
   "source": [
    "Y2_pred = dtree.predict(X_train)\n",
    "rmse = sqrt(mean_squared_error(Y2_train, Y2_pred))\n",
    "print('train_rmse:', rmse)"
   ]
  },
  {
   "cell_type": "code",
   "execution_count": 112,
   "id": "0ca702ea",
   "metadata": {
    "scrolled": false
   },
   "outputs": [
    {
     "name": "stdout",
     "output_type": "stream",
     "text": [
      "test_rmse: 3.256368132389708\n"
     ]
    }
   ],
   "source": [
    "Y2_pred = dtree.predict(X_test)\n",
    "rmse = sqrt(mean_squared_error(Y2_test, Y2_pred))\n",
    "print('test_rmse:', rmse)"
   ]
  },
  {
   "cell_type": "markdown",
   "id": "964f9e37",
   "metadata": {},
   "source": [
    "## 2-6. Random Forest"
   ]
  },
  {
   "cell_type": "code",
   "execution_count": 108,
   "id": "cb41a17e",
   "metadata": {},
   "outputs": [],
   "source": [
    "randomseed = 1234"
   ]
  },
  {
   "cell_type": "code",
   "execution_count": 113,
   "id": "190ee2ee",
   "metadata": {},
   "outputs": [
    {
     "data": {
      "text/plain": [
       "RandomForestRegressor(min_samples_leaf=5, random_state=1234)"
      ]
     },
     "execution_count": 113,
     "metadata": {},
     "output_type": "execute_result"
    }
   ],
   "source": [
    "rforest = RandomForestRegressor(random_state = randomseed, min_samples_leaf=5)\n",
    "rforest.fit(X_train, Y2_train)"
   ]
  },
  {
   "cell_type": "code",
   "execution_count": 114,
   "id": "7397886a",
   "metadata": {},
   "outputs": [
    {
     "name": "stdout",
     "output_type": "stream",
     "text": [
      "train_rmse: 1.9950885752657472\n"
     ]
    }
   ],
   "source": [
    "Y2_pred = rforest.predict(X_train)\n",
    "rmse = sqrt(mean_squared_error(Y2_train, Y2_pred))\n",
    "print('train_rmse:', rmse)"
   ]
  },
  {
   "cell_type": "code",
   "execution_count": 115,
   "id": "3794b22f",
   "metadata": {},
   "outputs": [
    {
     "name": "stdout",
     "output_type": "stream",
     "text": [
      "test_rmse: 2.7621939010500016\n"
     ]
    }
   ],
   "source": [
    "Y2_pred = rforest.predict(X_test)\n",
    "rmse = sqrt(mean_squared_error(Y2_test, Y2_pred))\n",
    "print('test_rmse:', rmse)"
   ]
  },
  {
   "cell_type": "markdown",
   "id": "23fc67ca",
   "metadata": {},
   "source": [
    "## 2-7. XGBoost"
   ]
  },
  {
   "cell_type": "code",
   "execution_count": 116,
   "id": "a250516f",
   "metadata": {},
   "outputs": [],
   "source": [
    "randomseed = 1234"
   ]
  },
  {
   "cell_type": "code",
   "execution_count": 117,
   "id": "23fe6ccc",
   "metadata": {},
   "outputs": [
    {
     "data": {
      "text/plain": [
       "XGBRegressor(base_score=0.5, booster='gbtree', colsample_bylevel=1,\n",
       "             colsample_bynode=1, colsample_bytree=1, enable_categorical=False,\n",
       "             gamma=0, gpu_id=-1, importance_type=None,\n",
       "             interaction_constraints='', learning_rate=0.300000012,\n",
       "             max_delta_step=0, max_depth=5, min_child_weight=1, missing=nan,\n",
       "             monotone_constraints='()', n_estimators=100, n_jobs=8,\n",
       "             num_parallel_tree=1, predictor='auto', random_state=1234,\n",
       "             reg_alpha=0, reg_lambda=1, scale_pos_weight=1, subsample=1,\n",
       "             tree_method='exact', validate_parameters=1, verbosity=None)"
      ]
     },
     "execution_count": 117,
     "metadata": {},
     "output_type": "execute_result"
    }
   ],
   "source": [
    "xgb = XGBRegressor(random_state = randomseed, max_depth = 5)\n",
    "xgb.fit(X_train, Y2_train)"
   ]
  },
  {
   "cell_type": "code",
   "execution_count": 118,
   "id": "a7e4012d",
   "metadata": {},
   "outputs": [
    {
     "name": "stdout",
     "output_type": "stream",
     "text": [
      "train_rmse: 0.0008186159874738921\n"
     ]
    }
   ],
   "source": [
    "Y2_pred = xgb.predict(X_train)\n",
    "rmse = sqrt(mean_squared_error(Y2_train, Y2_pred))\n",
    "print('train_rmse:', rmse)"
   ]
  },
  {
   "cell_type": "code",
   "execution_count": 119,
   "id": "6190b508",
   "metadata": {},
   "outputs": [
    {
     "name": "stdout",
     "output_type": "stream",
     "text": [
      "test_rmse: 2.6870561932983796\n"
     ]
    }
   ],
   "source": [
    "Y2_pred = xgb.predict(X_test)\n",
    "rmse = sqrt(mean_squared_error(Y2_test, Y2_pred))\n",
    "print('test_rmse:', rmse)"
   ]
  },
  {
   "cell_type": "markdown",
   "id": "4d308ad1",
   "metadata": {},
   "source": [
    "## 2-8. LightGBM"
   ]
  },
  {
   "cell_type": "code",
   "execution_count": 120,
   "id": "e402cbe7",
   "metadata": {},
   "outputs": [],
   "source": [
    "randomseed = 1234"
   ]
  },
  {
   "cell_type": "code",
   "execution_count": 121,
   "id": "1d696c30",
   "metadata": {},
   "outputs": [
    {
     "data": {
      "text/plain": [
       "LGBMRegressor(max_depth=5, random_state=1234)"
      ]
     },
     "execution_count": 121,
     "metadata": {},
     "output_type": "execute_result"
    }
   ],
   "source": [
    "lgbm = LGBMRegressor(random_state = randomseed, max_depth = 5)\n",
    "lgbm.fit(X_train, Y2_train)"
   ]
  },
  {
   "cell_type": "code",
   "execution_count": 122,
   "id": "4154cea5",
   "metadata": {},
   "outputs": [
    {
     "name": "stdout",
     "output_type": "stream",
     "text": [
      "train_rmse: 1.418956101679446\n"
     ]
    }
   ],
   "source": [
    "Y2_pred = lgbm.predict(X_train)\n",
    "rmse = sqrt(mean_squared_error(Y2_train, Y2_pred))\n",
    "print('train_rmse:', rmse)"
   ]
  },
  {
   "cell_type": "code",
   "execution_count": 123,
   "id": "7b8782c0",
   "metadata": {},
   "outputs": [
    {
     "name": "stdout",
     "output_type": "stream",
     "text": [
      "test_rmse: 3.4291278501512936\n"
     ]
    }
   ],
   "source": [
    "Y2_pred = lgbm.predict(X_test)\n",
    "rmse = sqrt(mean_squared_error(Y2_test, Y2_pred))\n",
    "print('test_rmse:', rmse)"
   ]
  },
  {
   "cell_type": "markdown",
   "id": "0d19df60",
   "metadata": {},
   "source": [
    "# 3. 긍정변화여부"
   ]
  },
  {
   "cell_type": "markdown",
   "id": "aeb99cc9",
   "metadata": {},
   "source": [
    "## 3-1. Logistic Regression"
   ]
  },
  {
   "cell_type": "code",
   "execution_count": 125,
   "id": "40f3760f",
   "metadata": {
    "scrolled": true
   },
   "outputs": [
    {
     "name": "stdout",
     "output_type": "stream",
     "text": [
      "Optimization terminated successfully.\n",
      "         Current function value: 0.541929\n",
      "         Iterations 8\n",
      "                            OLS Regression Results                            \n",
      "==============================================================================\n",
      "Dep. Variable:           slife_change   R-squared:                       0.283\n",
      "Model:                            OLS   Adj. R-squared:                 -0.001\n",
      "Method:                 Least Squares   F-statistic:                    0.9973\n",
      "Date:                Wed, 17 Nov 2021   Prob (F-statistic):              0.488\n",
      "Time:                        21:22:22   Log-Likelihood:                -299.40\n",
      "No. Observations:                 128   AIC:                             672.8\n",
      "Df Residuals:                      91   BIC:                             778.3\n",
      "Df Model:                          36                                         \n",
      "Covariance Type:            nonrobust                                         \n",
      "===================================================================================\n",
      "                      coef    std err          t      P>|t|      [0.025      0.975]\n",
      "-----------------------------------------------------------------------------------\n",
      "const               3.6559      4.268      0.856      0.394      -4.823      12.135\n",
      "기상                 -0.3755      3.163     -0.119      0.906      -6.659       5.908\n",
      "아침                  1.4765      3.075      0.480      0.632      -4.631       7.584\n",
      "점심                 -0.1991      2.946     -0.068      0.946      -6.052       5.654\n",
      "저녁                 -0.5457      2.656     -0.205      0.838      -5.822       4.730\n",
      "취침                 -1.2862      0.854     -1.506      0.136      -2.983       0.410\n",
      "약_복용알람             -1.0704      1.962     -0.546      0.587      -4.968       2.827\n",
      "산책                 -0.6865      0.699     -0.982      0.329      -2.076       0.703\n",
      "당뇨                 -0.5599      0.630     -0.889      0.376      -1.810       0.691\n",
      "고지혈                -0.1755      0.733     -0.240      0.811      -1.631       1.280\n",
      "고혈압                 0.7479      0.682      1.097      0.276      -0.607       2.102\n",
      "제공서비스               0.3931      0.609      0.645      0.520      -0.817       1.603\n",
      "age                -1.2821      1.464     -0.876      0.384      -4.191       1.627\n",
      "치매                 -0.0924      0.815     -0.113      0.910      -1.712       1.527\n",
      "우울증                -0.1375      0.702     -0.196      0.845      -1.533       1.258\n",
      "고립                  0.6543      1.044      0.627      0.532      -1.419       2.728\n",
      "거동불편               -0.2757      0.659     -0.418      0.677      -1.585       1.034\n",
      "종교유무                1.2954      0.824      1.572      0.119      -0.341       2.932\n",
      "건강관심                1.2895      1.247      1.034      0.304      -1.187       3.766\n",
      "주택타입               -1.0969      0.645     -1.699      0.093      -2.379       0.185\n",
      "자녀수                -0.9660      1.393     -0.694      0.490      -3.732       1.800\n",
      "식사                  0.2294      0.689      0.333      0.740      -1.139       1.598\n",
      "공공방문                0.1685      0.649      0.260      0.796      -1.121       1.458\n",
      "doll_score         -0.2140      1.752     -0.122      0.903      -3.693       3.265\n",
      "med_count          -1.8622      1.328     -1.402      0.164      -4.500       0.776\n",
      "human_detection    -2.7037      1.685     -1.605      0.112      -6.050       0.643\n",
      "gymnastics          4.0024      4.444      0.901      0.370      -4.825      12.829\n",
      "brain_timer        -4.0288      4.419     -0.912      0.364     -12.806       4.748\n",
      "drug_consume        1.4834      1.495      0.992      0.324      -1.487       4.454\n",
      "drug_consume_rt    -0.4482      0.855     -0.524      0.602      -2.147       1.251\n",
      "psy_before          0.2173      1.384      0.157      0.876      -2.532       2.967\n",
      "psy_after           0.4861      1.700      0.286      0.776      -2.891       3.863\n",
      "sex_여               0.3489      0.747      0.467      0.642      -1.135       1.833\n",
      "종교_무교              -0.6308      0.864     -0.730      0.467      -2.348       1.086\n",
      "수급여부_차상위           -0.2402      0.745     -0.322      0.748      -1.721       1.241\n",
      "청결_중                1.1965      0.725      1.651      0.102      -0.243       2.636\n",
      "청결_하                2.9659      1.071      2.768      0.007       0.838       5.094\n",
      "==============================================================================\n",
      "Omnibus:                        6.800   Durbin-Watson:                   1.691\n",
      "Prob(Omnibus):                  0.033   Jarque-Bera (JB):                6.453\n",
      "Skew:                           0.535   Prob(JB):                       0.0397\n",
      "Kurtosis:                       3.253   Cond. No.                         78.3\n",
      "==============================================================================\n",
      "\n",
      "Notes:\n",
      "[1] Standard Errors assume that the covariance matrix of the errors is correctly specified.\n"
     ]
    }
   ],
   "source": [
    "X_Sm= sm.add_constant(X_train)\n",
    "logit=sm.Logit(Y3_train,X_Sm).fit()\n",
    "print(ls.summary())"
   ]
  },
  {
   "cell_type": "code",
   "execution_count": 126,
   "id": "847575d1",
   "metadata": {},
   "outputs": [
    {
     "name": "stdout",
     "output_type": "stream",
     "text": [
      "train_accuracy: 0.6796875\n"
     ]
    }
   ],
   "source": [
    "logit = LogisticRegression()\n",
    "logit.fit(X_train, Y3_train)\n",
    "Y3_pred = logit.predict(X_train)\n",
    "accu = accuracy_score(Y3_train, Y3_pred)\n",
    "print('train_accuracy:',accu)"
   ]
  },
  {
   "cell_type": "code",
   "execution_count": 127,
   "id": "f16e1e70",
   "metadata": {},
   "outputs": [
    {
     "name": "stdout",
     "output_type": "stream",
     "text": [
      "test_accuracy: 0.6875\n"
     ]
    }
   ],
   "source": [
    "Y3_pred = logit.predict(X_test)\n",
    "accu = accuracy_score(Y3_test, Y3_pred)\n",
    "print('test_accuracy:', accu)"
   ]
  },
  {
   "cell_type": "markdown",
   "id": "3b5f8a2b",
   "metadata": {},
   "source": [
    "## 3-2. SFS"
   ]
  },
  {
   "cell_type": "markdown",
   "id": "ba14464a",
   "metadata": {},
   "source": [
    "### Forward"
   ]
  },
  {
   "cell_type": "code",
   "execution_count": 130,
   "id": "8d5f0631",
   "metadata": {},
   "outputs": [
    {
     "data": {
      "text/plain": [
       "SequentialFeatureSelector(estimator=LogisticRegression(), k_features=(5, 15),\n",
       "                          scoring='accuracy')"
      ]
     },
     "execution_count": 130,
     "metadata": {},
     "output_type": "execute_result"
    }
   ],
   "source": [
    "logit = LogisticRegression()\n",
    "sfs_forward = SFS(estimator=logit, \n",
    "           k_features=(5, 15), #feature의 개수를 최소 몇 개 이상 최대 몇 개 이하로 하고 싶은지.\n",
    "           forward=True, \n",
    "           floating=False, \n",
    "           scoring='accuracy', cv = 5)\n",
    "\n",
    "sfs_forward.fit(X_train, Y3_train)"
   ]
  },
  {
   "cell_type": "code",
   "execution_count": 131,
   "id": "dd39e1a3",
   "metadata": {},
   "outputs": [
    {
     "data": {
      "text/plain": [
       "['산책',\n",
       " '제공서비스',\n",
       " 'age',\n",
       " 'doll_score',\n",
       " 'human_detection',\n",
       " 'gymnastics',\n",
       " 'brain_timer',\n",
       " '수급여부_차상위']"
      ]
     },
     "execution_count": 131,
     "metadata": {},
     "output_type": "execute_result"
    }
   ],
   "source": [
    "selected_variables = list(sfs_forward.k_feature_names_)\n",
    "selected_variables"
   ]
  },
  {
   "cell_type": "code",
   "execution_count": 132,
   "id": "e9fb9e0a",
   "metadata": {},
   "outputs": [
    {
     "name": "stdout",
     "output_type": "stream",
     "text": [
      "best average cv_score: 0.6575384615384616\n"
     ]
    }
   ],
   "source": [
    "print('best average cv_score:',sfs_forward.k_score_)"
   ]
  },
  {
   "cell_type": "code",
   "execution_count": 133,
   "id": "ff53b932",
   "metadata": {},
   "outputs": [
    {
     "name": "stdout",
     "output_type": "stream",
     "text": [
      "train_accuracy: 0.65625\n"
     ]
    }
   ],
   "source": [
    "logit = LogisticRegression()\n",
    "logit.fit(X_train[selected_variables], Y3_train)\n",
    "Y3_pred = logit.predict(X_train[selected_variables])\n",
    "accu = accuracy_score(Y3_train, Y3_pred)\n",
    "print('train_accuracy:',accu)"
   ]
  },
  {
   "cell_type": "code",
   "execution_count": 134,
   "id": "8106916d",
   "metadata": {},
   "outputs": [
    {
     "name": "stdout",
     "output_type": "stream",
     "text": [
      "test_accuracy: 0.53125\n"
     ]
    }
   ],
   "source": [
    "Y3_pred = logit.predict(X_test[selected_variables])\n",
    "accu = accuracy_score(Y3_test, Y3_pred)\n",
    "print('test_accuracy:',accu)"
   ]
  },
  {
   "cell_type": "markdown",
   "id": "024a30c6",
   "metadata": {},
   "source": [
    "### Backward"
   ]
  },
  {
   "cell_type": "code",
   "execution_count": 135,
   "id": "ac489e43",
   "metadata": {},
   "outputs": [
    {
     "data": {
      "text/plain": [
       "SequentialFeatureSelector(estimator=LogisticRegression(), forward=False,\n",
       "                          k_features=(5, 15), scoring='accuracy')"
      ]
     },
     "execution_count": 135,
     "metadata": {},
     "output_type": "execute_result"
    }
   ],
   "source": [
    "logit = LogisticRegression()\n",
    "sfs_backward = SFS(estimator=logit, \n",
    "           k_features=(5, 15), #feature의 개수를 최소 몇 개 이상 최대 몇 개 이하로 하고 싶은지.\n",
    "           forward=False, \n",
    "           floating=False, \n",
    "           scoring='accuracy', cv = 5)\n",
    "\n",
    "sfs_backward.fit(X_train, Y3_train)"
   ]
  },
  {
   "cell_type": "code",
   "execution_count": 136,
   "id": "896a7f20",
   "metadata": {},
   "outputs": [
    {
     "data": {
      "text/plain": [
       "['기상',\n",
       " '산책',\n",
       " '고지혈',\n",
       " '제공서비스',\n",
       " 'age',\n",
       " '우울증',\n",
       " '거동불편',\n",
       " '주택타입',\n",
       " '식사',\n",
       " 'human_detection',\n",
       " 'drug_consume',\n",
       " 'sex_여',\n",
       " '수급여부_차상위',\n",
       " '청결_중',\n",
       " '청결_하']"
      ]
     },
     "execution_count": 136,
     "metadata": {},
     "output_type": "execute_result"
    }
   ],
   "source": [
    "selected_variables = list(sfs_backward.k_feature_names_)\n",
    "selected_variables"
   ]
  },
  {
   "cell_type": "code",
   "execution_count": 137,
   "id": "361cc23d",
   "metadata": {},
   "outputs": [
    {
     "name": "stdout",
     "output_type": "stream",
     "text": [
      "best average cv_score: 0.664\n"
     ]
    }
   ],
   "source": [
    "print('best average cv_score:',sfs_backward.k_score_)"
   ]
  },
  {
   "cell_type": "code",
   "execution_count": 138,
   "id": "acb39a7e",
   "metadata": {},
   "outputs": [
    {
     "name": "stdout",
     "output_type": "stream",
     "text": [
      "train_accuracy: 0.671875\n"
     ]
    }
   ],
   "source": [
    "logit = LogisticRegression()\n",
    "logit.fit(X_train[selected_variables], Y3_train)\n",
    "Y3_pred = logit.predict(X_train[selected_variables])\n",
    "accu = accuracy_score(Y3_train, Y3_pred)\n",
    "print('train_accuracy:', accu)"
   ]
  },
  {
   "cell_type": "code",
   "execution_count": 139,
   "id": "780e4c7f",
   "metadata": {},
   "outputs": [
    {
     "name": "stdout",
     "output_type": "stream",
     "text": [
      "test_accuracy: 0.625\n"
     ]
    }
   ],
   "source": [
    "Y3_pred = logit.predict(X_test[selected_variables])\n",
    "accu = accuracy_score(Y3_test, Y3_pred)\n",
    "print('test_accuracy:', accu)"
   ]
  },
  {
   "cell_type": "markdown",
   "id": "cf1a575b",
   "metadata": {},
   "source": [
    "## 3-3. Decision Tree"
   ]
  },
  {
   "cell_type": "code",
   "execution_count": 140,
   "id": "4bacf09c",
   "metadata": {},
   "outputs": [],
   "source": [
    "randomseed = 333"
   ]
  },
  {
   "cell_type": "code",
   "execution_count": 141,
   "id": "8b213f4b",
   "metadata": {},
   "outputs": [],
   "source": [
    "#selected_variables = ['저녁', '산책', 'age', '우울증', '거동불편', '자녀수', '식사', '공공방문', 'gymnastics', 'psy_before', '수급여부_차상위']"
   ]
  },
  {
   "cell_type": "code",
   "execution_count": 142,
   "id": "246541ee",
   "metadata": {},
   "outputs": [
    {
     "data": {
      "text/plain": [
       "DecisionTreeClassifier(min_samples_leaf=10, random_state=333)"
      ]
     },
     "execution_count": 142,
     "metadata": {},
     "output_type": "execute_result"
    }
   ],
   "source": [
    "dtree = DecisionTreeClassifier(random_state=randomseed, min_samples_leaf=10)\n",
    "dtree.fit(X_train, Y3_train)"
   ]
  },
  {
   "cell_type": "code",
   "execution_count": 143,
   "id": "7a416ed5",
   "metadata": {},
   "outputs": [
    {
     "name": "stdout",
     "output_type": "stream",
     "text": [
      "train_accuracy: 0.734375\n"
     ]
    }
   ],
   "source": [
    "Y3_pred = dtree.predict(X_train)\n",
    "accu = accuracy_score(Y3_train, Y3_pred)\n",
    "print('train_accuracy:', accu)"
   ]
  },
  {
   "cell_type": "code",
   "execution_count": 144,
   "id": "b7d56e75",
   "metadata": {},
   "outputs": [
    {
     "name": "stdout",
     "output_type": "stream",
     "text": [
      "test_accuracy: 0.6875\n"
     ]
    }
   ],
   "source": [
    "Y3_pred = dtree.predict(X_test)\n",
    "accu = accuracy_score(Y3_test, Y3_pred)\n",
    "print('test_accuracy:', accu)"
   ]
  },
  {
   "cell_type": "markdown",
   "id": "b3c42136",
   "metadata": {},
   "source": [
    "## 3-4. RandomForest"
   ]
  },
  {
   "cell_type": "code",
   "execution_count": 270,
   "id": "e0da845b",
   "metadata": {},
   "outputs": [],
   "source": [
    "randomseed = 333"
   ]
  },
  {
   "cell_type": "code",
   "execution_count": 289,
   "id": "39b4e6fb",
   "metadata": {},
   "outputs": [
    {
     "data": {
      "text/plain": [
       "RandomForestClassifier(criterion='entropy', min_samples_leaf=7,\n",
       "                       random_state=333)"
      ]
     },
     "execution_count": 289,
     "metadata": {},
     "output_type": "execute_result"
    }
   ],
   "source": [
    "rforest = RandomForestClassifier(random_state=randomseed, min_samples_leaf=7, criterion = 'entropy')\n",
    "rforest.fit(X_train, Y3_train)"
   ]
  },
  {
   "cell_type": "code",
   "execution_count": 290,
   "id": "5c368d13",
   "metadata": {},
   "outputs": [
    {
     "name": "stdout",
     "output_type": "stream",
     "text": [
      "train_accuracy: 0.875\n"
     ]
    }
   ],
   "source": [
    "Y3_pred = rforest.predict(X_train)\n",
    "accu = accuracy_score(Y3_train, Y3_pred)\n",
    "print('train_accuracy:', accu)"
   ]
  },
  {
   "cell_type": "code",
   "execution_count": 291,
   "id": "c27a5fa0",
   "metadata": {},
   "outputs": [
    {
     "name": "stdout",
     "output_type": "stream",
     "text": [
      "test_accuracy: 0.65625\n"
     ]
    }
   ],
   "source": [
    "Y3_pred = rforest.predict(X_test)\n",
    "accu = accuracy_score(Y3_test, Y3_pred)\n",
    "print('test_accuracy:', accu)"
   ]
  },
  {
   "cell_type": "markdown",
   "id": "460c6579",
   "metadata": {},
   "source": [
    "## 3-5. XGBoost"
   ]
  },
  {
   "cell_type": "code",
   "execution_count": 352,
   "id": "e86220f8",
   "metadata": {},
   "outputs": [],
   "source": [
    "randomseed = 333"
   ]
  },
  {
   "cell_type": "code",
   "execution_count": 365,
   "id": "f77b0b23",
   "metadata": {},
   "outputs": [
    {
     "name": "stdout",
     "output_type": "stream",
     "text": [
      "[00:09:46] WARNING: C:/Users/Administrator/workspace/xgboost-win64_release_1.5.0/src/learner.cc:1115: Starting in XGBoost 1.3.0, the default evaluation metric used with the objective 'binary:logistic' was changed from 'error' to 'logloss'. Explicitly set eval_metric if you'd like to restore the old behavior.\n"
     ]
    },
    {
     "data": {
      "text/plain": [
       "XGBClassifier(base_score=0.7, booster='gbtree', colsample_bylevel=1,\n",
       "              colsample_bynode=1, colsample_bytree=1, enable_categorical=False,\n",
       "              gamma=1, gpu_id=-1, importance_type=None,\n",
       "              interaction_constraints='', learning_rate=0.01, max_delta_step=0,\n",
       "              max_depth=5, min_child_weight=1, missing=nan,\n",
       "              monotone_constraints='()', n_estimators=100, n_jobs=8,\n",
       "              num_parallel_tree=1, predictor='auto', random_state=333,\n",
       "              reg_alpha=0, reg_lambda=1, scale_pos_weight=1, subsample=1,\n",
       "              tree_method='exact', validate_parameters=1, verbosity=None)"
      ]
     },
     "execution_count": 365,
     "metadata": {},
     "output_type": "execute_result"
    }
   ],
   "source": [
    "xgb = XGBClassifier(random_state=randomseed, learning_rate = 0.01, max_depth = 5, gamma=1, base_score = 0.7)\n",
    "xgb.fit(X_train, Y3_train)"
   ]
  },
  {
   "cell_type": "code",
   "execution_count": 366,
   "id": "88e8d160",
   "metadata": {},
   "outputs": [
    {
     "name": "stdout",
     "output_type": "stream",
     "text": [
      "train_accuracy: 0.828125\n"
     ]
    }
   ],
   "source": [
    "Y3_pred = xgb.predict(X_train)\n",
    "accu = accuracy_score(Y3_train, Y3_pred)\n",
    "print('train_accuracy:', accu)"
   ]
  },
  {
   "cell_type": "code",
   "execution_count": 367,
   "id": "bbec7e35",
   "metadata": {},
   "outputs": [
    {
     "name": "stdout",
     "output_type": "stream",
     "text": [
      "test_accuracy: 0.65625\n"
     ]
    }
   ],
   "source": [
    "Y3_pred = xgb.predict(X_test)\n",
    "accu = accuracy_score(Y3_test, Y3_pred)\n",
    "print('test_accuracy:', accu)"
   ]
  },
  {
   "cell_type": "markdown",
   "id": "b230842f",
   "metadata": {},
   "source": [
    "## 3-6. LGBM"
   ]
  },
  {
   "cell_type": "code",
   "execution_count": 266,
   "id": "9d898343",
   "metadata": {},
   "outputs": [],
   "source": [
    "randomseed = 1234"
   ]
  },
  {
   "cell_type": "code",
   "execution_count": 408,
   "id": "526332f6",
   "metadata": {},
   "outputs": [
    {
     "data": {
      "text/plain": [
       "LGBMClassifier(learning_rate=0.01, max_depth=5, min_child_samples=5,\n",
       "               num_leaves=9, random_state=333)"
      ]
     },
     "execution_count": 408,
     "metadata": {},
     "output_type": "execute_result"
    }
   ],
   "source": [
    "lgbm = LGBMClassifier(random_state=randomseed, learning_rate = 0.01, max_depth = 5, min_child_samples=5, num_leaves=9)\n",
    "lgbm.fit(X_train, Y3_train)"
   ]
  },
  {
   "cell_type": "code",
   "execution_count": 409,
   "id": "decc5728",
   "metadata": {},
   "outputs": [
    {
     "name": "stdout",
     "output_type": "stream",
     "text": [
      "train_accuracy: 0.9375\n"
     ]
    }
   ],
   "source": [
    "Y3_pred = lgbm.predict(X_train)\n",
    "accu = accuracy_score(Y3_train, Y3_pred)\n",
    "print('train_accuracy:', accu)"
   ]
  },
  {
   "cell_type": "code",
   "execution_count": 410,
   "id": "c190810e",
   "metadata": {},
   "outputs": [
    {
     "name": "stdout",
     "output_type": "stream",
     "text": [
      "test_accuracy: 0.75\n"
     ]
    }
   ],
   "source": [
    "Y3_pred = lgbm.predict(X_test)\n",
    "accu = accuracy_score(Y3_test, Y3_pred)\n",
    "print('test_accuracy:', accu)"
   ]
  },
  {
   "cell_type": "code",
   "execution_count": null,
   "id": "1b8a277f",
   "metadata": {},
   "outputs": [],
   "source": []
  }
 ],
 "metadata": {
  "kernelspec": {
   "display_name": "Python 3 (ipykernel)",
   "language": "python",
   "name": "python3"
  },
  "language_info": {
   "codemirror_mode": {
    "name": "ipython",
    "version": 3
   },
   "file_extension": ".py",
   "mimetype": "text/x-python",
   "name": "python",
   "nbconvert_exporter": "python",
   "pygments_lexer": "ipython3",
   "version": "3.9.7"
  }
 },
 "nbformat": 4,
 "nbformat_minor": 5
}
