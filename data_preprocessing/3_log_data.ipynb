{
 "cells": [
  {
   "cell_type": "code",
   "execution_count": 1,
   "metadata": {},
   "outputs": [],
   "source": [
    "import pandas as pd\n",
    "pd.options.display.float_format = '{:,.4f}'.format\n",
    "pd.options.display.max_rows = 100\n",
    "pd.options.display.max_columns = 40\n",
    "import numpy as np\n",
    "import os,random, math\n",
    "from tqdm import tqdm\n",
    "from copy import deepcopy\n",
    "from collections import Counter\n",
    "\n",
    "# Visualization\n",
    "import seaborn as sns\n",
    "import matplotlib\n",
    "import matplotlib.pyplot as plt\n",
    "%matplotlib inline\n",
    "from matplotlib import font_manager, rc\n",
    "plt.rcParams['font.family'] = 'NanumGothic'\n",
    "import platform\n",
    "if platform.system() == 'Windows':\n",
    "    font_name = font_manager.FontProperties(fname=\"c:/Windows/Fonts/malgun.ttf\").get_name()\n",
    "    rc('font', family=font_name)\n",
    "else:    \n",
    "    rc('font', family='AppleGothic')\n",
    "\n",
    "matplotlib.rcParams['axes.unicode_minus'] = False\n",
    "\n",
    "# Warnings\n",
    "import warnings\n",
    "warnings.filterwarnings('always')\n",
    "warnings.filterwarnings('ignore')\n",
    "\n",
    "import datetime\n",
    "\n",
    "from dateutil.relativedelta import relativedelta\n",
    "from datetime import datetime\n",
    "from sklearn.ensemble import RandomForestRegressor\n",
    "from sklearn.metrics import mean_absolute_error as mae"
   ]
  },
  {
   "cell_type": "code",
   "execution_count": 2,
   "metadata": {},
   "outputs": [],
   "source": [
    "path = \"./data/\"\n",
    "drug = pd.read_csv(path + 'log_doll_drug_consume_v3.csv')\n",
    "emrg = pd.read_csv(path + 'log_emergency_push_v2.csv')\n",
    "ear = pd.read_csv(path + 'scc_ear_function_log_v2.csv')\n",
    "log_doll = pd.read_csv(path + 'log_doll.csv')"
   ]
  },
  {
   "cell_type": "code",
   "execution_count": 3,
   "metadata": {},
   "outputs": [],
   "source": [
    "drug = drug.rename(columns = {'date_day':'date'})\n",
    "ear = ear.rename(columns = {'date_day':'date'})"
   ]
  },
  {
   "cell_type": "code",
   "execution_count": 4,
   "metadata": {},
   "outputs": [
    {
     "data": {
      "text/plain": [
       "((195518, 3), (43995, 3), (75813, 11), (587766, 10))"
      ]
     },
     "execution_count": 4,
     "metadata": {},
     "output_type": "execute_result"
    }
   ],
   "source": [
    "drug.shape, emrg.shape, ear.shape, log_doll.shape"
   ]
  },
  {
   "cell_type": "markdown",
   "metadata": {},
   "source": [
    "##  log_doll 기준으로 날짜  + doll_id 기준 데이터 log_user 만들기 "
   ]
  },
  {
   "cell_type": "code",
   "execution_count": 5,
   "metadata": {},
   "outputs": [],
   "source": [
    "date = []\n",
    "doll_id = []\n",
    "for u in log_doll.doll_id.unique():\n",
    "    origin = pd.to_datetime(np.min(log_doll.loc[log_doll.doll_id == u,'date']))\n",
    "    end = pd.to_datetime(np.max(log_doll.loc[log_doll.doll_id == u,'date']))\n",
    "    pe = (end-origin).days\n",
    "    date+= (pd.to_datetime(list(range(pe+1)),unit = 'D',origin =pd.Timestamp(origin))).strftime('%Y-%m-%d').tolist()\n",
    "    doll_id += [u]*(pe+1)"
   ]
  },
  {
   "cell_type": "code",
   "execution_count": 6,
   "metadata": {},
   "outputs": [],
   "source": [
    "log_user = pd.DataFrame({'date':date,'doll_id':doll_id})"
   ]
  },
  {
   "cell_type": "code",
   "execution_count": 7,
   "metadata": {},
   "outputs": [
    {
     "data": {
      "text/plain": [
       "(927578, 2)"
      ]
     },
     "execution_count": 7,
     "metadata": {},
     "output_type": "execute_result"
    }
   ],
   "source": [
    "log_user.shape"
   ]
  },
  {
   "cell_type": "code",
   "execution_count": 8,
   "metadata": {},
   "outputs": [
    {
     "data": {
      "text/html": [
       "<div>\n",
       "<style scoped>\n",
       "    .dataframe tbody tr th:only-of-type {\n",
       "        vertical-align: middle;\n",
       "    }\n",
       "\n",
       "    .dataframe tbody tr th {\n",
       "        vertical-align: top;\n",
       "    }\n",
       "\n",
       "    .dataframe thead th {\n",
       "        text-align: right;\n",
       "    }\n",
       "</style>\n",
       "<table border=\"1\" class=\"dataframe\">\n",
       "  <thead>\n",
       "    <tr style=\"text-align: right;\">\n",
       "      <th></th>\n",
       "      <th>date</th>\n",
       "      <th>doll_id</th>\n",
       "    </tr>\n",
       "  </thead>\n",
       "  <tbody>\n",
       "    <tr>\n",
       "      <th>0</th>\n",
       "      <td>2019-04-01</td>\n",
       "      <td>124017</td>\n",
       "    </tr>\n",
       "    <tr>\n",
       "      <th>1</th>\n",
       "      <td>2019-04-02</td>\n",
       "      <td>124017</td>\n",
       "    </tr>\n",
       "    <tr>\n",
       "      <th>2</th>\n",
       "      <td>2019-04-03</td>\n",
       "      <td>124017</td>\n",
       "    </tr>\n",
       "    <tr>\n",
       "      <th>3</th>\n",
       "      <td>2019-04-04</td>\n",
       "      <td>124017</td>\n",
       "    </tr>\n",
       "    <tr>\n",
       "      <th>4</th>\n",
       "      <td>2019-04-05</td>\n",
       "      <td>124017</td>\n",
       "    </tr>\n",
       "  </tbody>\n",
       "</table>\n",
       "</div>"
      ],
      "text/plain": [
       "         date  doll_id\n",
       "0  2019-04-01   124017\n",
       "1  2019-04-02   124017\n",
       "2  2019-04-03   124017\n",
       "3  2019-04-04   124017\n",
       "4  2019-04-05   124017"
      ]
     },
     "execution_count": 8,
     "metadata": {},
     "output_type": "execute_result"
    }
   ],
   "source": [
    "log_user.head()"
   ]
  },
  {
   "cell_type": "markdown",
   "metadata": {},
   "source": [
    "## log_user 와 log_doll 합치기"
   ]
  },
  {
   "cell_type": "code",
   "execution_count": 9,
   "metadata": {},
   "outputs": [],
   "source": [
    "mrg = pd.merge(log_user, log_doll, on = ['date','doll_id'], how = 'left')"
   ]
  },
  {
   "cell_type": "code",
   "execution_count": 10,
   "metadata": {},
   "outputs": [
    {
     "data": {
      "text/plain": [
       "(927578, 10)"
      ]
     },
     "execution_count": 10,
     "metadata": {},
     "output_type": "execute_result"
    }
   ],
   "source": [
    "mrg.shape"
   ]
  },
  {
   "cell_type": "code",
   "execution_count": 11,
   "metadata": {
    "scrolled": true
   },
   "outputs": [
    {
     "data": {
      "text/plain": [
       "date                                 0\n",
       "doll_id                              0\n",
       "stroke                          339812\n",
       "hand_hold                       339812\n",
       "knock                           339812\n",
       "human_detection                 339812\n",
       "gymnastics                      339812\n",
       "brain_timer                     339812\n",
       "battery                         339812\n",
       "last_none_action_time_passed    339812\n",
       "dtype: int64"
      ]
     },
     "execution_count": 11,
     "metadata": {},
     "output_type": "execute_result"
    }
   ],
   "source": [
    "mrg.isnull().sum()"
   ]
  },
  {
   "cell_type": "markdown",
   "metadata": {},
   "source": [
    "#### na확인"
   ]
  },
  {
   "cell_type": "code",
   "execution_count": 12,
   "metadata": {},
   "outputs": [],
   "source": [
    "doll = []\n",
    "na_num = []\n",
    "for d in mrg.doll_id.unique():\n",
    "    if mrg[mrg.doll_id ==d].isnull().sum().sum()!= 0:\n",
    "        doll.append(d)\n",
    "        na_num.append(mrg.loc[mrg.doll_id ==d,'stroke'].isnull().sum())"
   ]
  },
  {
   "cell_type": "code",
   "execution_count": 13,
   "metadata": {},
   "outputs": [],
   "source": [
    "nacheck = pd.DataFrame({'doll_id':doll,'na_num':na_num})"
   ]
  },
  {
   "cell_type": "code",
   "execution_count": 14,
   "metadata": {},
   "outputs": [
    {
     "data": {
      "text/html": [
       "<div>\n",
       "<style scoped>\n",
       "    .dataframe tbody tr th:only-of-type {\n",
       "        vertical-align: middle;\n",
       "    }\n",
       "\n",
       "    .dataframe tbody tr th {\n",
       "        vertical-align: top;\n",
       "    }\n",
       "\n",
       "    .dataframe thead th {\n",
       "        text-align: right;\n",
       "    }\n",
       "</style>\n",
       "<table border=\"1\" class=\"dataframe\">\n",
       "  <thead>\n",
       "    <tr style=\"text-align: right;\">\n",
       "      <th></th>\n",
       "      <th>doll_id</th>\n",
       "      <th>na_num</th>\n",
       "    </tr>\n",
       "  </thead>\n",
       "  <tbody>\n",
       "    <tr>\n",
       "      <th>358</th>\n",
       "      <td>125364</td>\n",
       "      <td>688</td>\n",
       "    </tr>\n",
       "    <tr>\n",
       "      <th>333</th>\n",
       "      <td>125339</td>\n",
       "      <td>677</td>\n",
       "    </tr>\n",
       "    <tr>\n",
       "      <th>378</th>\n",
       "      <td>125384</td>\n",
       "      <td>650</td>\n",
       "    </tr>\n",
       "    <tr>\n",
       "      <th>365</th>\n",
       "      <td>125371</td>\n",
       "      <td>634</td>\n",
       "    </tr>\n",
       "    <tr>\n",
       "      <th>231</th>\n",
       "      <td>125216</td>\n",
       "      <td>632</td>\n",
       "    </tr>\n",
       "    <tr>\n",
       "      <th>...</th>\n",
       "      <td>...</td>\n",
       "      <td>...</td>\n",
       "    </tr>\n",
       "    <tr>\n",
       "      <th>1762</th>\n",
       "      <td>127827</td>\n",
       "      <td>1</td>\n",
       "    </tr>\n",
       "    <tr>\n",
       "      <th>1761</th>\n",
       "      <td>127826</td>\n",
       "      <td>1</td>\n",
       "    </tr>\n",
       "    <tr>\n",
       "      <th>1760</th>\n",
       "      <td>127825</td>\n",
       "      <td>1</td>\n",
       "    </tr>\n",
       "    <tr>\n",
       "      <th>1759</th>\n",
       "      <td>127824</td>\n",
       "      <td>1</td>\n",
       "    </tr>\n",
       "    <tr>\n",
       "      <th>6010</th>\n",
       "      <td>134946</td>\n",
       "      <td>1</td>\n",
       "    </tr>\n",
       "  </tbody>\n",
       "</table>\n",
       "<p>6011 rows × 2 columns</p>\n",
       "</div>"
      ],
      "text/plain": [
       "      doll_id  na_num\n",
       "358    125364     688\n",
       "333    125339     677\n",
       "378    125384     650\n",
       "365    125371     634\n",
       "231    125216     632\n",
       "...       ...     ...\n",
       "1762   127827       1\n",
       "1761   127826       1\n",
       "1760   127825       1\n",
       "1759   127824       1\n",
       "6010   134946       1\n",
       "\n",
       "[6011 rows x 2 columns]"
      ]
     },
     "execution_count": 14,
     "metadata": {},
     "output_type": "execute_result"
    }
   ],
   "source": [
    "nacheck.sort_values('na_num',ascending =False)"
   ]
  },
  {
   "cell_type": "markdown",
   "metadata": {},
   "source": [
    "#### log_doll 데이터 NA check용"
   ]
  },
  {
   "cell_type": "code",
   "execution_count": 15,
   "metadata": {},
   "outputs": [],
   "source": [
    "mrg['logdoll_yn'] = 1\n",
    "mrg.loc[mrg.stroke.isnull(),'logdoll_yn'] = 0"
   ]
  },
  {
   "cell_type": "code",
   "execution_count": 16,
   "metadata": {},
   "outputs": [],
   "source": [
    "mrg = mrg.fillna(0)"
   ]
  },
  {
   "cell_type": "markdown",
   "metadata": {},
   "source": [
    "## drug 데이터 merge"
   ]
  },
  {
   "cell_type": "code",
   "execution_count": 17,
   "metadata": {},
   "outputs": [
    {
     "data": {
      "text/plain": [
       "(927578, 11)"
      ]
     },
     "execution_count": 17,
     "metadata": {},
     "output_type": "execute_result"
    }
   ],
   "source": [
    "mrg.shape"
   ]
  },
  {
   "cell_type": "code",
   "execution_count": 18,
   "metadata": {},
   "outputs": [],
   "source": [
    "mrg2 = pd.merge(mrg, drug, on = ['date','doll_id'], how = 'left')"
   ]
  },
  {
   "cell_type": "code",
   "execution_count": 19,
   "metadata": {},
   "outputs": [
    {
     "data": {
      "text/plain": [
       "(927578, 12)"
      ]
     },
     "execution_count": 19,
     "metadata": {},
     "output_type": "execute_result"
    }
   ],
   "source": [
    "mrg2.shape"
   ]
  },
  {
   "cell_type": "code",
   "execution_count": 20,
   "metadata": {},
   "outputs": [
    {
     "data": {
      "text/plain": [
       "date                                 0\n",
       "doll_id                              0\n",
       "stroke                               0\n",
       "hand_hold                            0\n",
       "knock                                0\n",
       "human_detection                      0\n",
       "gymnastics                           0\n",
       "brain_timer                          0\n",
       "battery                              0\n",
       "last_none_action_time_passed         0\n",
       "logdoll_yn                           0\n",
       "consume_cnt                     732060\n",
       "dtype: int64"
      ]
     },
     "execution_count": 20,
     "metadata": {},
     "output_type": "execute_result"
    }
   ],
   "source": [
    "mrg2.isnull().sum()"
   ]
  },
  {
   "cell_type": "markdown",
   "metadata": {},
   "source": [
    "### drug 데이터 NA check용"
   ]
  },
  {
   "cell_type": "code",
   "execution_count": 21,
   "metadata": {},
   "outputs": [],
   "source": [
    "mrg2['drug_yn'] = 1\n",
    "mrg2.loc[mrg2.consume_cnt.isnull(),'drug_yn'] = 0"
   ]
  },
  {
   "cell_type": "markdown",
   "metadata": {},
   "source": [
    "#### na확인"
   ]
  },
  {
   "cell_type": "code",
   "execution_count": 22,
   "metadata": {},
   "outputs": [],
   "source": [
    "doll = []\n",
    "na_num = []\n",
    "for d in mrg2.doll_id.unique():\n",
    "    if mrg2[mrg2.doll_id ==d].isnull().sum().sum()!= 0:\n",
    "        doll.append(d)\n",
    "        na_num.append(mrg2.loc[mrg2.doll_id ==d,'consume_cnt'].isnull().sum())"
   ]
  },
  {
   "cell_type": "code",
   "execution_count": 23,
   "metadata": {},
   "outputs": [
    {
     "data": {
      "text/html": [
       "<div>\n",
       "<style scoped>\n",
       "    .dataframe tbody tr th:only-of-type {\n",
       "        vertical-align: middle;\n",
       "    }\n",
       "\n",
       "    .dataframe tbody tr th {\n",
       "        vertical-align: top;\n",
       "    }\n",
       "\n",
       "    .dataframe thead th {\n",
       "        text-align: right;\n",
       "    }\n",
       "</style>\n",
       "<table border=\"1\" class=\"dataframe\">\n",
       "  <thead>\n",
       "    <tr style=\"text-align: right;\">\n",
       "      <th></th>\n",
       "      <th>doll_id</th>\n",
       "      <th>na_num</th>\n",
       "    </tr>\n",
       "  </thead>\n",
       "  <tbody>\n",
       "    <tr>\n",
       "      <th>40</th>\n",
       "      <td>124097</td>\n",
       "      <td>773</td>\n",
       "    </tr>\n",
       "    <tr>\n",
       "      <th>41</th>\n",
       "      <td>123775</td>\n",
       "      <td>773</td>\n",
       "    </tr>\n",
       "    <tr>\n",
       "      <th>30</th>\n",
       "      <td>124020</td>\n",
       "      <td>773</td>\n",
       "    </tr>\n",
       "    <tr>\n",
       "      <th>103</th>\n",
       "      <td>125040</td>\n",
       "      <td>772</td>\n",
       "    </tr>\n",
       "    <tr>\n",
       "      <th>208</th>\n",
       "      <td>125110</td>\n",
       "      <td>771</td>\n",
       "    </tr>\n",
       "    <tr>\n",
       "      <th>...</th>\n",
       "      <td>...</td>\n",
       "      <td>...</td>\n",
       "    </tr>\n",
       "    <tr>\n",
       "      <th>5091</th>\n",
       "      <td>129970</td>\n",
       "      <td>1</td>\n",
       "    </tr>\n",
       "    <tr>\n",
       "      <th>5092</th>\n",
       "      <td>129971</td>\n",
       "      <td>1</td>\n",
       "    </tr>\n",
       "    <tr>\n",
       "      <th>5093</th>\n",
       "      <td>129972</td>\n",
       "      <td>1</td>\n",
       "    </tr>\n",
       "    <tr>\n",
       "      <th>5094</th>\n",
       "      <td>129973</td>\n",
       "      <td>1</td>\n",
       "    </tr>\n",
       "    <tr>\n",
       "      <th>10138</th>\n",
       "      <td>135030</td>\n",
       "      <td>1</td>\n",
       "    </tr>\n",
       "  </tbody>\n",
       "</table>\n",
       "<p>10139 rows × 2 columns</p>\n",
       "</div>"
      ],
      "text/plain": [
       "       doll_id  na_num\n",
       "40      124097     773\n",
       "41      123775     773\n",
       "30      124020     773\n",
       "103     125040     772\n",
       "208     125110     771\n",
       "...        ...     ...\n",
       "5091    129970       1\n",
       "5092    129971       1\n",
       "5093    129972       1\n",
       "5094    129973       1\n",
       "10138   135030       1\n",
       "\n",
       "[10139 rows x 2 columns]"
      ]
     },
     "execution_count": 23,
     "metadata": {},
     "output_type": "execute_result"
    }
   ],
   "source": [
    "nacheck = pd.DataFrame({'doll_id':doll,'na_num':na_num})\n",
    "nacheck.sort_values('na_num',ascending =False)"
   ]
  },
  {
   "cell_type": "code",
   "execution_count": 24,
   "metadata": {},
   "outputs": [],
   "source": [
    "mrg2 = mrg2.fillna(0)"
   ]
  },
  {
   "cell_type": "code",
   "execution_count": 25,
   "metadata": {},
   "outputs": [
    {
     "data": {
      "text/plain": [
       "date                            0\n",
       "doll_id                         0\n",
       "stroke                          0\n",
       "hand_hold                       0\n",
       "knock                           0\n",
       "human_detection                 0\n",
       "gymnastics                      0\n",
       "brain_timer                     0\n",
       "battery                         0\n",
       "last_none_action_time_passed    0\n",
       "logdoll_yn                      0\n",
       "consume_cnt                     0\n",
       "drug_yn                         0\n",
       "dtype: int64"
      ]
     },
     "execution_count": 25,
     "metadata": {},
     "output_type": "execute_result"
    }
   ],
   "source": [
    "mrg2.isnull().sum()"
   ]
  },
  {
   "cell_type": "markdown",
   "metadata": {},
   "source": [
    "## emrg 데이터 merge"
   ]
  },
  {
   "cell_type": "code",
   "execution_count": 26,
   "metadata": {},
   "outputs": [],
   "source": [
    "mrg3 = pd.merge(mrg2, emrg, on = ['date','doll_id'], how = 'left')"
   ]
  },
  {
   "cell_type": "markdown",
   "metadata": {},
   "source": [
    "### emergency_yn"
   ]
  },
  {
   "cell_type": "code",
   "execution_count": 27,
   "metadata": {},
   "outputs": [],
   "source": [
    "mrg3['emrg_yn'] = 1\n",
    "mrg3.loc[mrg3.emrg_cnt.isnull(),'emrg_yn'] = 0"
   ]
  },
  {
   "cell_type": "markdown",
   "metadata": {},
   "source": [
    "### na확인"
   ]
  },
  {
   "cell_type": "code",
   "execution_count": 28,
   "metadata": {},
   "outputs": [],
   "source": [
    "doll = []\n",
    "na_num = []\n",
    "for d in mrg3.doll_id.unique():\n",
    "    if mrg3[mrg3.doll_id ==d].isnull().sum().sum()!= 0:\n",
    "        doll.append(d)\n",
    "        na_num.append(mrg3.loc[mrg3.doll_id ==d,'emrg_cnt'].isnull().sum())"
   ]
  },
  {
   "cell_type": "code",
   "execution_count": 29,
   "metadata": {},
   "outputs": [
    {
     "data": {
      "text/html": [
       "<div>\n",
       "<style scoped>\n",
       "    .dataframe tbody tr th:only-of-type {\n",
       "        vertical-align: middle;\n",
       "    }\n",
       "\n",
       "    .dataframe tbody tr th {\n",
       "        vertical-align: top;\n",
       "    }\n",
       "\n",
       "    .dataframe thead th {\n",
       "        text-align: right;\n",
       "    }\n",
       "</style>\n",
       "<table border=\"1\" class=\"dataframe\">\n",
       "  <thead>\n",
       "    <tr style=\"text-align: right;\">\n",
       "      <th></th>\n",
       "      <th>doll_id</th>\n",
       "      <th>na_num</th>\n",
       "    </tr>\n",
       "  </thead>\n",
       "  <tbody>\n",
       "    <tr>\n",
       "      <th>6</th>\n",
       "      <td>124273</td>\n",
       "      <td>773</td>\n",
       "    </tr>\n",
       "    <tr>\n",
       "      <th>104</th>\n",
       "      <td>125042</td>\n",
       "      <td>771</td>\n",
       "    </tr>\n",
       "    <tr>\n",
       "      <th>288</th>\n",
       "      <td>125185</td>\n",
       "      <td>770</td>\n",
       "    </tr>\n",
       "    <tr>\n",
       "      <th>25</th>\n",
       "      <td>123796</td>\n",
       "      <td>769</td>\n",
       "    </tr>\n",
       "    <tr>\n",
       "      <th>330</th>\n",
       "      <td>125226</td>\n",
       "      <td>769</td>\n",
       "    </tr>\n",
       "    <tr>\n",
       "      <th>...</th>\n",
       "      <td>...</td>\n",
       "      <td>...</td>\n",
       "    </tr>\n",
       "    <tr>\n",
       "      <th>5106</th>\n",
       "      <td>129971</td>\n",
       "      <td>1</td>\n",
       "    </tr>\n",
       "    <tr>\n",
       "      <th>5107</th>\n",
       "      <td>129972</td>\n",
       "      <td>1</td>\n",
       "    </tr>\n",
       "    <tr>\n",
       "      <th>5108</th>\n",
       "      <td>129973</td>\n",
       "      <td>1</td>\n",
       "    </tr>\n",
       "    <tr>\n",
       "      <th>5109</th>\n",
       "      <td>129974</td>\n",
       "      <td>1</td>\n",
       "    </tr>\n",
       "    <tr>\n",
       "      <th>10163</th>\n",
       "      <td>135030</td>\n",
       "      <td>1</td>\n",
       "    </tr>\n",
       "  </tbody>\n",
       "</table>\n",
       "<p>10164 rows × 2 columns</p>\n",
       "</div>"
      ],
      "text/plain": [
       "       doll_id  na_num\n",
       "6       124273     773\n",
       "104     125042     771\n",
       "288     125185     770\n",
       "25      123796     769\n",
       "330     125226     769\n",
       "...        ...     ...\n",
       "5106    129971       1\n",
       "5107    129972       1\n",
       "5108    129973       1\n",
       "5109    129974       1\n",
       "10163   135030       1\n",
       "\n",
       "[10164 rows x 2 columns]"
      ]
     },
     "execution_count": 29,
     "metadata": {},
     "output_type": "execute_result"
    }
   ],
   "source": [
    "nacheck = pd.DataFrame({'doll_id':doll,'na_num':na_num})\n",
    "nacheck.sort_values('na_num',ascending =False)"
   ]
  },
  {
   "cell_type": "code",
   "execution_count": 30,
   "metadata": {},
   "outputs": [
    {
     "data": {
      "text/html": [
       "<div>\n",
       "<style scoped>\n",
       "    .dataframe tbody tr th:only-of-type {\n",
       "        vertical-align: middle;\n",
       "    }\n",
       "\n",
       "    .dataframe tbody tr th {\n",
       "        vertical-align: top;\n",
       "    }\n",
       "\n",
       "    .dataframe thead th {\n",
       "        text-align: right;\n",
       "    }\n",
       "</style>\n",
       "<table border=\"1\" class=\"dataframe\">\n",
       "  <thead>\n",
       "    <tr style=\"text-align: right;\">\n",
       "      <th></th>\n",
       "      <th>date</th>\n",
       "      <th>doll_id</th>\n",
       "      <th>stroke</th>\n",
       "      <th>hand_hold</th>\n",
       "      <th>knock</th>\n",
       "      <th>human_detection</th>\n",
       "      <th>gymnastics</th>\n",
       "      <th>brain_timer</th>\n",
       "      <th>battery</th>\n",
       "      <th>last_none_action_time_passed</th>\n",
       "      <th>logdoll_yn</th>\n",
       "      <th>consume_cnt</th>\n",
       "      <th>drug_yn</th>\n",
       "      <th>emrg_cnt</th>\n",
       "      <th>emrg_yn</th>\n",
       "    </tr>\n",
       "  </thead>\n",
       "  <tbody>\n",
       "    <tr>\n",
       "      <th>36561</th>\n",
       "      <td>2019-04-02</td>\n",
       "      <td>125042</td>\n",
       "      <td>0.0000</td>\n",
       "      <td>0.0000</td>\n",
       "      <td>0.0000</td>\n",
       "      <td>67.0000</td>\n",
       "      <td>0.0000</td>\n",
       "      <td>0.0000</td>\n",
       "      <td>80.3333</td>\n",
       "      <td>0.0000</td>\n",
       "      <td>1</td>\n",
       "      <td>0.0000</td>\n",
       "      <td>0</td>\n",
       "      <td>NaN</td>\n",
       "      <td>0</td>\n",
       "    </tr>\n",
       "    <tr>\n",
       "      <th>36562</th>\n",
       "      <td>2019-04-03</td>\n",
       "      <td>125042</td>\n",
       "      <td>38.0000</td>\n",
       "      <td>1.0000</td>\n",
       "      <td>243.0000</td>\n",
       "      <td>1,377.0000</td>\n",
       "      <td>0.0000</td>\n",
       "      <td>2.0000</td>\n",
       "      <td>98.8000</td>\n",
       "      <td>0.0000</td>\n",
       "      <td>1</td>\n",
       "      <td>0.0000</td>\n",
       "      <td>0</td>\n",
       "      <td>NaN</td>\n",
       "      <td>0</td>\n",
       "    </tr>\n",
       "    <tr>\n",
       "      <th>36563</th>\n",
       "      <td>2019-04-04</td>\n",
       "      <td>125042</td>\n",
       "      <td>8.0000</td>\n",
       "      <td>4.0000</td>\n",
       "      <td>81.0000</td>\n",
       "      <td>3,100.0000</td>\n",
       "      <td>3.0000</td>\n",
       "      <td>1.0000</td>\n",
       "      <td>100.0000</td>\n",
       "      <td>0.0000</td>\n",
       "      <td>1</td>\n",
       "      <td>0.0000</td>\n",
       "      <td>0</td>\n",
       "      <td>NaN</td>\n",
       "      <td>0</td>\n",
       "    </tr>\n",
       "    <tr>\n",
       "      <th>36564</th>\n",
       "      <td>2019-04-05</td>\n",
       "      <td>125042</td>\n",
       "      <td>7.0000</td>\n",
       "      <td>1.0000</td>\n",
       "      <td>199.0000</td>\n",
       "      <td>2,491.0000</td>\n",
       "      <td>3.0000</td>\n",
       "      <td>0.0000</td>\n",
       "      <td>100.0000</td>\n",
       "      <td>0.0000</td>\n",
       "      <td>1</td>\n",
       "      <td>0.0000</td>\n",
       "      <td>0</td>\n",
       "      <td>NaN</td>\n",
       "      <td>0</td>\n",
       "    </tr>\n",
       "    <tr>\n",
       "      <th>36565</th>\n",
       "      <td>2019-04-06</td>\n",
       "      <td>125042</td>\n",
       "      <td>8.0000</td>\n",
       "      <td>3.0000</td>\n",
       "      <td>173.0000</td>\n",
       "      <td>2,598.0000</td>\n",
       "      <td>2.0000</td>\n",
       "      <td>0.0000</td>\n",
       "      <td>100.0000</td>\n",
       "      <td>0.0000</td>\n",
       "      <td>1</td>\n",
       "      <td>0.0000</td>\n",
       "      <td>0</td>\n",
       "      <td>NaN</td>\n",
       "      <td>0</td>\n",
       "    </tr>\n",
       "    <tr>\n",
       "      <th>...</th>\n",
       "      <td>...</td>\n",
       "      <td>...</td>\n",
       "      <td>...</td>\n",
       "      <td>...</td>\n",
       "      <td>...</td>\n",
       "      <td>...</td>\n",
       "      <td>...</td>\n",
       "      <td>...</td>\n",
       "      <td>...</td>\n",
       "      <td>...</td>\n",
       "      <td>...</td>\n",
       "      <td>...</td>\n",
       "      <td>...</td>\n",
       "      <td>...</td>\n",
       "      <td>...</td>\n",
       "    </tr>\n",
       "    <tr>\n",
       "      <th>37327</th>\n",
       "      <td>2021-05-07</td>\n",
       "      <td>125042</td>\n",
       "      <td>0.0000</td>\n",
       "      <td>0.0000</td>\n",
       "      <td>0.0000</td>\n",
       "      <td>3,102.0000</td>\n",
       "      <td>0.0000</td>\n",
       "      <td>0.0000</td>\n",
       "      <td>100.0000</td>\n",
       "      <td>0.0000</td>\n",
       "      <td>1</td>\n",
       "      <td>0.0000</td>\n",
       "      <td>0</td>\n",
       "      <td>NaN</td>\n",
       "      <td>0</td>\n",
       "    </tr>\n",
       "    <tr>\n",
       "      <th>37328</th>\n",
       "      <td>2021-05-08</td>\n",
       "      <td>125042</td>\n",
       "      <td>1.0000</td>\n",
       "      <td>0.0000</td>\n",
       "      <td>1.0000</td>\n",
       "      <td>3,169.0000</td>\n",
       "      <td>0.0000</td>\n",
       "      <td>0.0000</td>\n",
       "      <td>100.0000</td>\n",
       "      <td>0.0000</td>\n",
       "      <td>1</td>\n",
       "      <td>0.0000</td>\n",
       "      <td>0</td>\n",
       "      <td>NaN</td>\n",
       "      <td>0</td>\n",
       "    </tr>\n",
       "    <tr>\n",
       "      <th>37329</th>\n",
       "      <td>2021-05-09</td>\n",
       "      <td>125042</td>\n",
       "      <td>0.0000</td>\n",
       "      <td>0.0000</td>\n",
       "      <td>0.0000</td>\n",
       "      <td>3,107.0000</td>\n",
       "      <td>0.0000</td>\n",
       "      <td>0.0000</td>\n",
       "      <td>100.0000</td>\n",
       "      <td>0.0000</td>\n",
       "      <td>1</td>\n",
       "      <td>0.0000</td>\n",
       "      <td>0</td>\n",
       "      <td>NaN</td>\n",
       "      <td>0</td>\n",
       "    </tr>\n",
       "    <tr>\n",
       "      <th>37330</th>\n",
       "      <td>2021-05-10</td>\n",
       "      <td>125042</td>\n",
       "      <td>0.0000</td>\n",
       "      <td>0.0000</td>\n",
       "      <td>0.0000</td>\n",
       "      <td>3,102.0000</td>\n",
       "      <td>0.0000</td>\n",
       "      <td>0.0000</td>\n",
       "      <td>100.0000</td>\n",
       "      <td>0.0000</td>\n",
       "      <td>1</td>\n",
       "      <td>0.0000</td>\n",
       "      <td>0</td>\n",
       "      <td>NaN</td>\n",
       "      <td>0</td>\n",
       "    </tr>\n",
       "    <tr>\n",
       "      <th>37331</th>\n",
       "      <td>2021-05-11</td>\n",
       "      <td>125042</td>\n",
       "      <td>0.0000</td>\n",
       "      <td>0.0000</td>\n",
       "      <td>2.0000</td>\n",
       "      <td>1,891.0000</td>\n",
       "      <td>0.0000</td>\n",
       "      <td>0.0000</td>\n",
       "      <td>100.0000</td>\n",
       "      <td>0.0000</td>\n",
       "      <td>1</td>\n",
       "      <td>0.0000</td>\n",
       "      <td>0</td>\n",
       "      <td>NaN</td>\n",
       "      <td>0</td>\n",
       "    </tr>\n",
       "  </tbody>\n",
       "</table>\n",
       "<p>771 rows × 15 columns</p>\n",
       "</div>"
      ],
      "text/plain": [
       "             date  doll_id  stroke  hand_hold    knock  human_detection  \\\n",
       "36561  2019-04-02   125042  0.0000     0.0000   0.0000          67.0000   \n",
       "36562  2019-04-03   125042 38.0000     1.0000 243.0000       1,377.0000   \n",
       "36563  2019-04-04   125042  8.0000     4.0000  81.0000       3,100.0000   \n",
       "36564  2019-04-05   125042  7.0000     1.0000 199.0000       2,491.0000   \n",
       "36565  2019-04-06   125042  8.0000     3.0000 173.0000       2,598.0000   \n",
       "...           ...      ...     ...        ...      ...              ...   \n",
       "37327  2021-05-07   125042  0.0000     0.0000   0.0000       3,102.0000   \n",
       "37328  2021-05-08   125042  1.0000     0.0000   1.0000       3,169.0000   \n",
       "37329  2021-05-09   125042  0.0000     0.0000   0.0000       3,107.0000   \n",
       "37330  2021-05-10   125042  0.0000     0.0000   0.0000       3,102.0000   \n",
       "37331  2021-05-11   125042  0.0000     0.0000   2.0000       1,891.0000   \n",
       "\n",
       "       gymnastics  brain_timer  battery  last_none_action_time_passed  \\\n",
       "36561      0.0000       0.0000  80.3333                        0.0000   \n",
       "36562      0.0000       2.0000  98.8000                        0.0000   \n",
       "36563      3.0000       1.0000 100.0000                        0.0000   \n",
       "36564      3.0000       0.0000 100.0000                        0.0000   \n",
       "36565      2.0000       0.0000 100.0000                        0.0000   \n",
       "...           ...          ...      ...                           ...   \n",
       "37327      0.0000       0.0000 100.0000                        0.0000   \n",
       "37328      0.0000       0.0000 100.0000                        0.0000   \n",
       "37329      0.0000       0.0000 100.0000                        0.0000   \n",
       "37330      0.0000       0.0000 100.0000                        0.0000   \n",
       "37331      0.0000       0.0000 100.0000                        0.0000   \n",
       "\n",
       "       logdoll_yn  consume_cnt  drug_yn  emrg_cnt  emrg_yn  \n",
       "36561           1       0.0000        0       NaN        0  \n",
       "36562           1       0.0000        0       NaN        0  \n",
       "36563           1       0.0000        0       NaN        0  \n",
       "36564           1       0.0000        0       NaN        0  \n",
       "36565           1       0.0000        0       NaN        0  \n",
       "...           ...          ...      ...       ...      ...  \n",
       "37327           1       0.0000        0       NaN        0  \n",
       "37328           1       0.0000        0       NaN        0  \n",
       "37329           1       0.0000        0       NaN        0  \n",
       "37330           1       0.0000        0       NaN        0  \n",
       "37331           1       0.0000        0       NaN        0  \n",
       "\n",
       "[771 rows x 15 columns]"
      ]
     },
     "execution_count": 30,
     "metadata": {},
     "output_type": "execute_result"
    }
   ],
   "source": [
    "mrg3[mrg3.doll_id ==125042]"
   ]
  },
  {
   "cell_type": "code",
   "execution_count": 31,
   "metadata": {},
   "outputs": [],
   "source": [
    "mrg3 = mrg3.fillna(0)"
   ]
  },
  {
   "cell_type": "code",
   "execution_count": 32,
   "metadata": {},
   "outputs": [
    {
     "data": {
      "text/plain": [
       "date                            0\n",
       "doll_id                         0\n",
       "stroke                          0\n",
       "hand_hold                       0\n",
       "knock                           0\n",
       "human_detection                 0\n",
       "gymnastics                      0\n",
       "brain_timer                     0\n",
       "battery                         0\n",
       "last_none_action_time_passed    0\n",
       "logdoll_yn                      0\n",
       "consume_cnt                     0\n",
       "drug_yn                         0\n",
       "emrg_cnt                        0\n",
       "emrg_yn                         0\n",
       "dtype: int64"
      ]
     },
     "execution_count": 32,
     "metadata": {},
     "output_type": "execute_result"
    }
   ],
   "source": [
    "mrg3.isnull().sum()"
   ]
  },
  {
   "cell_type": "code",
   "execution_count": 33,
   "metadata": {},
   "outputs": [],
   "source": [
    "mrg3.to_csv('data/log_merge1.csv', index = False)"
   ]
  },
  {
   "cell_type": "markdown",
   "metadata": {},
   "source": [
    "## ear 기능 merge"
   ]
  },
  {
   "cell_type": "code",
   "execution_count": 34,
   "metadata": {},
   "outputs": [
    {
     "data": {
      "text/plain": [
       "'2020-04-21'"
      ]
     },
     "execution_count": 34,
     "metadata": {},
     "output_type": "execute_result"
    }
   ],
   "source": [
    "np.min(ear.date)"
   ]
  },
  {
   "cell_type": "code",
   "execution_count": 35,
   "metadata": {},
   "outputs": [],
   "source": [
    "mrg4 = mrg3[mrg3.date >='2020-04-21']"
   ]
  },
  {
   "cell_type": "code",
   "execution_count": 36,
   "metadata": {},
   "outputs": [
    {
     "data": {
      "text/plain": [
       "(632531, 15)"
      ]
     },
     "execution_count": 36,
     "metadata": {},
     "output_type": "execute_result"
    }
   ],
   "source": [
    "mrg4.shape"
   ]
  },
  {
   "cell_type": "code",
   "execution_count": 37,
   "metadata": {},
   "outputs": [],
   "source": [
    "mrg4 = pd.merge(mrg4,ear, on = ['date','doll_id'], how = 'left')"
   ]
  },
  {
   "cell_type": "code",
   "execution_count": 38,
   "metadata": {},
   "outputs": [
    {
     "data": {
      "text/plain": [
       "date                                 0\n",
       "doll_id                              0\n",
       "stroke                               0\n",
       "hand_hold                            0\n",
       "knock                                0\n",
       "human_detection                      0\n",
       "gymnastics_x                         0\n",
       "brain_timer                          0\n",
       "battery                              0\n",
       "last_none_action_time_passed         0\n",
       "logdoll_yn                           0\n",
       "consume_cnt                          0\n",
       "drug_yn                              0\n",
       "emrg_cnt                             0\n",
       "emrg_yn                              0\n",
       "story                           556718\n",
       "religion                        556718\n",
       "music                           556718\n",
       "english                         556718\n",
       "rememberance                    556718\n",
       "quiz                            556718\n",
       "gymnastics_y                    556718\n",
       "classic_music                   556718\n",
       "religion_music                  556718\n",
       "dtype: int64"
      ]
     },
     "execution_count": 38,
     "metadata": {},
     "output_type": "execute_result"
    }
   ],
   "source": [
    "mrg4.isnull().sum()"
   ]
  },
  {
   "cell_type": "code",
   "execution_count": 39,
   "metadata": {},
   "outputs": [],
   "source": [
    "mrg4 = mrg4.fillna(0)"
   ]
  },
  {
   "cell_type": "code",
   "execution_count": 40,
   "metadata": {},
   "outputs": [],
   "source": [
    "mrg4.to_csv('data/log_merge2.csv', index = False)"
   ]
  },
  {
   "cell_type": "markdown",
   "metadata": {},
   "source": [
    "# 테스트 계정 제외한 데이터 만들기"
   ]
  },
  {
   "cell_type": "code",
   "execution_count": 41,
   "metadata": {},
   "outputs": [],
   "source": [
    "doll_info = pd.read_csv('data/merge_v5.csv')"
   ]
  },
  {
   "cell_type": "code",
   "execution_count": 42,
   "metadata": {},
   "outputs": [],
   "source": [
    "use_id = doll_info.doll_id.unique()"
   ]
  },
  {
   "cell_type": "code",
   "execution_count": 43,
   "metadata": {},
   "outputs": [
    {
     "data": {
      "text/plain": [
       "(521214, 15)"
      ]
     },
     "execution_count": 43,
     "metadata": {},
     "output_type": "execute_result"
    }
   ],
   "source": [
    "mrg_3 = mrg3[mrg3.doll_id.isin(use_id)].reset_index(drop=True)\n",
    "mrg_3.shape"
   ]
  },
  {
   "cell_type": "code",
   "execution_count": 44,
   "metadata": {},
   "outputs": [
    {
     "data": {
      "text/plain": [
       "(414600, 24)"
      ]
     },
     "execution_count": 44,
     "metadata": {},
     "output_type": "execute_result"
    }
   ],
   "source": [
    "mrg_4 = mrg4[mrg4.doll_id.isin(use_id)].reset_index(drop=True)\n",
    "mrg_4.shape"
   ]
  },
  {
   "cell_type": "code",
   "execution_count": 45,
   "metadata": {},
   "outputs": [],
   "source": [
    "mrg_3.to_csv('data/log_merge1_v2.csv', index = False)\n",
    "mrg_4.to_csv('data/log_merge2_v2.csv', index = False)"
   ]
  }
 ],
 "metadata": {
  "kernelspec": {
   "display_name": "Python 3 (ipykernel)",
   "language": "python",
   "name": "python3"
  },
  "language_info": {
   "codemirror_mode": {
    "name": "ipython",
    "version": 3
   },
   "file_extension": ".py",
   "mimetype": "text/x-python",
   "name": "python",
   "nbconvert_exporter": "python",
   "pygments_lexer": "ipython3",
   "version": "3.9.7"
  }
 },
 "nbformat": 4,
 "nbformat_minor": 4
}
