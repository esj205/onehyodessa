{
 "cells": [
  {
   "cell_type": "code",
   "execution_count": 1,
   "id": "872dee26",
   "metadata": {},
   "outputs": [],
   "source": [
    "import pandas as pd\n",
    "pd.options.display.float_format = '{:,.4f}'.format\n",
    "pd.options.display.max_rows = 100\n",
    "pd.options.display.max_columns = 40\n",
    "import numpy as np\n",
    "from datetime import datetime\n",
    "import os, random, math, time\n",
    "from tqdm import tqdm\n",
    "from copy import deepcopy\n",
    "from collections import Counter\n",
    "\n",
    "# Visualization\n",
    "import seaborn as sns\n",
    "import matplotlib\n",
    "import matplotlib.pyplot as plt\n",
    "%matplotlib inline"
   ]
  },
  {
   "cell_type": "code",
   "execution_count": 2,
   "id": "c08bcd82",
   "metadata": {},
   "outputs": [],
   "source": [
    "def read_file(filename):\n",
    "    df = pd.read_csv(f'{filename}', encoding=\"utf-8\") #\"cp949\"\n",
    "    if sum(df.duplicated(df.columns)) != 0:\n",
    "        print(f\"...There are {sum(df.duplicated(df.columns))} duplicates\\n...Remove them\")\n",
    "        df = df.drop_duplicates()\n",
    "    else:\n",
    "        print(\"...There are no duplicates\")\n",
    "    df.name = filename\n",
    "    print(f\"shape: {df.shape}\")\n",
    "    return df"
   ]
  },
  {
   "cell_type": "code",
   "execution_count": 3,
   "id": "430a71e0",
   "metadata": {},
   "outputs": [],
   "source": [
    "def read_file2(filename):\n",
    "    df = pd.read_excel(f'{filename}', header=0)\n",
    "    if sum(df.duplicated(df.columns)) != 0:\n",
    "        print(f\"...There are {sum(df.duplicated(df.columns))} duplicates\\n...Remove them\")\n",
    "        df = df.drop_duplicates()\n",
    "    else:\n",
    "        print(\"...There are no duplicates\")\n",
    "    df.name = filename\n",
    "    print(f\"shape: {df.shape}\")\n",
    "    return df"
   ]
  },
  {
   "cell_type": "code",
   "execution_count": 4,
   "id": "f6b1b380",
   "metadata": {},
   "outputs": [],
   "source": [
    "def check_NA(df):\n",
    "    print(f\"NA check\")\n",
    "    NA_res = df.isna().sum()\n",
    "    if NA_res.sum() != 0:\n",
    "        for idx, i in enumerate(NA_res):\n",
    "            if i != 0:\n",
    "                print(df.columns[idx],i,\"->\",round(i/df.shape[0]*100,3),\"%\")\n",
    "    else:\n",
    "        print(\"...There's no NA\")"
   ]
  },
  {
   "cell_type": "code",
   "execution_count": 5,
   "id": "f754508e",
   "metadata": {},
   "outputs": [],
   "source": [
    "filepath = \"./Data\""
   ]
  },
  {
   "cell_type": "markdown",
   "id": "713f4bd1",
   "metadata": {},
   "source": [
    "# scc_user_doll_group"
   ]
  },
  {
   "cell_type": "code",
   "execution_count": 6,
   "id": "70f10c29",
   "metadata": {},
   "outputs": [
    {
     "name": "stdout",
     "output_type": "stream",
     "text": [
      "...There are no duplicates\n",
      "shape: (91, 1)\n"
     ]
    }
   ],
   "source": [
    "# Test 계정 제거\n",
    "test_id = read_file2(os.path.join(filepath,'test_id.xlsx'))"
   ]
  },
  {
   "cell_type": "code",
   "execution_count": 7,
   "id": "15ad0fed",
   "metadata": {},
   "outputs": [
    {
     "name": "stdout",
     "output_type": "stream",
     "text": [
      "...There are no duplicates\n",
      "shape: (8990, 6)\n"
     ]
    }
   ],
   "source": [
    "scc_user_doll_group = read_file('Data/scc_user_doll_group.csv')"
   ]
  },
  {
   "cell_type": "code",
   "execution_count": 8,
   "id": "abc21cf2",
   "metadata": {},
   "outputs": [
    {
     "data": {
      "text/html": [
       "<div>\n",
       "<style scoped>\n",
       "    .dataframe tbody tr th:only-of-type {\n",
       "        vertical-align: middle;\n",
       "    }\n",
       "\n",
       "    .dataframe tbody tr th {\n",
       "        vertical-align: top;\n",
       "    }\n",
       "\n",
       "    .dataframe thead th {\n",
       "        text-align: right;\n",
       "    }\n",
       "</style>\n",
       "<table border=\"1\" class=\"dataframe\">\n",
       "  <thead>\n",
       "    <tr style=\"text-align: right;\">\n",
       "      <th></th>\n",
       "      <th>id</th>\n",
       "      <th>doll_id</th>\n",
       "      <th>user_group_member_id</th>\n",
       "      <th>is_host</th>\n",
       "      <th>agency_code</th>\n",
       "      <th>reg_date</th>\n",
       "    </tr>\n",
       "  </thead>\n",
       "  <tbody>\n",
       "    <tr>\n",
       "      <th>0</th>\n",
       "      <td>1167</td>\n",
       "      <td>123457</td>\n",
       "      <td>25</td>\n",
       "      <td>1</td>\n",
       "      <td>NaN</td>\n",
       "      <td>NaN</td>\n",
       "    </tr>\n",
       "    <tr>\n",
       "      <th>1</th>\n",
       "      <td>1168</td>\n",
       "      <td>123458</td>\n",
       "      <td>25</td>\n",
       "      <td>1</td>\n",
       "      <td>NaN</td>\n",
       "      <td>NaN</td>\n",
       "    </tr>\n",
       "    <tr>\n",
       "      <th>2</th>\n",
       "      <td>1169</td>\n",
       "      <td>123459</td>\n",
       "      <td>25</td>\n",
       "      <td>1</td>\n",
       "      <td>NaN</td>\n",
       "      <td>NaN</td>\n",
       "    </tr>\n",
       "  </tbody>\n",
       "</table>\n",
       "</div>"
      ],
      "text/plain": [
       "     id  doll_id  user_group_member_id  is_host  agency_code reg_date\n",
       "0  1167   123457                    25        1          NaN      NaN\n",
       "1  1168   123458                    25        1          NaN      NaN\n",
       "2  1169   123459                    25        1          NaN      NaN"
      ]
     },
     "execution_count": 8,
     "metadata": {},
     "output_type": "execute_result"
    }
   ],
   "source": [
    "scc_user_doll_group.head(3)"
   ]
  },
  {
   "cell_type": "code",
   "execution_count": 9,
   "id": "59a6165f",
   "metadata": {},
   "outputs": [],
   "source": [
    "# 2019-04-01 이후 데이터 사용\n",
    "scc_user_doll_group['reg_date'] = pd.to_datetime(scc_user_doll_group.reg_date)\n",
    "scc_user_doll_group = scc_user_doll_group[(scc_user_doll_group.reg_date > '2019-03-31') & (scc_user_doll_group.reg_date < '2021-06-01')].reset_index(drop = True)\n",
    "\n",
    "# 분석 불필요사항 제거\n",
    "scc_user_doll_group = scc_user_doll_group.drop(['id', 'is_host'], axis = 1)"
   ]
  },
  {
   "cell_type": "code",
   "execution_count": 10,
   "id": "1a6b0b9c",
   "metadata": {},
   "outputs": [
    {
     "data": {
      "text/plain": [
       "(7111, 4)"
      ]
     },
     "execution_count": 10,
     "metadata": {},
     "output_type": "execute_result"
    }
   ],
   "source": [
    "scc_user_doll_group = scc_user_doll_group.loc[scc_user_doll_group.agency_code.notnull(), ]\n",
    "scc_user_doll_group['agency_code'] = scc_user_doll_group.agency_code.astype('int64') \n",
    "scc_user_doll_group.shape"
   ]
  },
  {
   "cell_type": "code",
   "execution_count": 11,
   "id": "0dfca88b",
   "metadata": {},
   "outputs": [],
   "source": [
    "# user_group_member_id -> user_id 로 이름 변경\n",
    "# reg_date -> doll_group_reg_date 로 이름 변경\n",
    "\n",
    "scc_user_doll_group.rename(columns = {'user_group_member_id' : 'user_id',\n",
    "                                     'reg_date': 'doll_group_reg_date'}, inplace = True)"
   ]
  },
  {
   "cell_type": "code",
   "execution_count": 12,
   "id": "8c4c7cfb",
   "metadata": {},
   "outputs": [
    {
     "data": {
      "text/html": [
       "<div>\n",
       "<style scoped>\n",
       "    .dataframe tbody tr th:only-of-type {\n",
       "        vertical-align: middle;\n",
       "    }\n",
       "\n",
       "    .dataframe tbody tr th {\n",
       "        vertical-align: top;\n",
       "    }\n",
       "\n",
       "    .dataframe thead th {\n",
       "        text-align: right;\n",
       "    }\n",
       "</style>\n",
       "<table border=\"1\" class=\"dataframe\">\n",
       "  <thead>\n",
       "    <tr style=\"text-align: right;\">\n",
       "      <th></th>\n",
       "      <th>doll_id</th>\n",
       "      <th>user_id</th>\n",
       "      <th>agency_code</th>\n",
       "      <th>doll_group_reg_date</th>\n",
       "    </tr>\n",
       "  </thead>\n",
       "  <tbody>\n",
       "    <tr>\n",
       "      <th>0</th>\n",
       "      <td>125627</td>\n",
       "      <td>96</td>\n",
       "      <td>24623001000</td>\n",
       "      <td>2019-07-12 15:00:25</td>\n",
       "    </tr>\n",
       "    <tr>\n",
       "      <th>1</th>\n",
       "      <td>125629</td>\n",
       "      <td>8656</td>\n",
       "      <td>0</td>\n",
       "      <td>2019-07-15 16:37:23</td>\n",
       "    </tr>\n",
       "    <tr>\n",
       "      <th>2</th>\n",
       "      <td>125630</td>\n",
       "      <td>7366</td>\n",
       "      <td>1</td>\n",
       "      <td>2019-07-15 16:43:50</td>\n",
       "    </tr>\n",
       "  </tbody>\n",
       "</table>\n",
       "</div>"
      ],
      "text/plain": [
       "   doll_id  user_id  agency_code doll_group_reg_date\n",
       "0   125627       96  24623001000 2019-07-12 15:00:25\n",
       "1   125629     8656            0 2019-07-15 16:37:23\n",
       "2   125630     7366            1 2019-07-15 16:43:50"
      ]
     },
     "execution_count": 12,
     "metadata": {},
     "output_type": "execute_result"
    }
   ],
   "source": [
    "scc_user_doll_group.head(3)"
   ]
  },
  {
   "cell_type": "code",
   "execution_count": 13,
   "id": "f0aaa7a6",
   "metadata": {},
   "outputs": [],
   "source": [
    "for i in test_id.iloc[:,0]:\n",
    "    scc_user_doll_group = scc_user_doll_group[scc_user_doll_group.user_id != i]\n",
    "scc_user_doll_group = scc_user_doll_group.reset_index(drop=True)"
   ]
  },
  {
   "cell_type": "code",
   "execution_count": 14,
   "id": "002f6f41",
   "metadata": {},
   "outputs": [
    {
     "data": {
      "text/plain": [
       "(7034, 4)"
      ]
     },
     "execution_count": 14,
     "metadata": {},
     "output_type": "execute_result"
    }
   ],
   "source": [
    "scc_user_doll_group.shape"
   ]
  },
  {
   "cell_type": "code",
   "execution_count": 15,
   "id": "c38c1677",
   "metadata": {},
   "outputs": [
    {
     "name": "stdout",
     "output_type": "stream",
     "text": [
      "NA check\n",
      "...There's no NA\n"
     ]
    }
   ],
   "source": [
    "merge1 = deepcopy(scc_user_doll_group)\n",
    "check_NA(merge1)"
   ]
  },
  {
   "cell_type": "code",
   "execution_count": 16,
   "id": "8704a570",
   "metadata": {
    "scrolled": true
   },
   "outputs": [
    {
     "data": {
      "text/plain": [
       "(7017, 4)"
      ]
     },
     "execution_count": 16,
     "metadata": {},
     "output_type": "execute_result"
    }
   ],
   "source": [
    "merge1= merge1[merge1.user_id>=1000]\n",
    "merge1.shape"
   ]
  },
  {
   "cell_type": "code",
   "execution_count": 17,
   "id": "067bfc79",
   "metadata": {},
   "outputs": [
    {
     "data": {
      "text/plain": [
       "Index(['doll_id', 'user_id', 'agency_code', 'doll_group_reg_date'], dtype='object')"
      ]
     },
     "execution_count": 17,
     "metadata": {},
     "output_type": "execute_result"
    }
   ],
   "source": [
    "merge1.columns"
   ]
  },
  {
   "cell_type": "markdown",
   "id": "eb080bc5",
   "metadata": {},
   "source": [
    "# scc_doll"
   ]
  },
  {
   "cell_type": "code",
   "execution_count": 18,
   "id": "aa6701c6",
   "metadata": {},
   "outputs": [
    {
     "name": "stdout",
     "output_type": "stream",
     "text": [
      "...There are no duplicates\n",
      "shape: (10019, 23)\n",
      "...There are no duplicates\n",
      "shape: (11552, 17)\n",
      "10019\n",
      "10019\n",
      "11552\n"
     ]
    }
   ],
   "source": [
    "doll = read_file(os.path.join(filepath,'scc_doll_v3.csv'))\n",
    "option = read_file(os.path.join(filepath,'scc_doll_option.csv'))\n",
    "\n",
    "print(len(doll))\n",
    "print(doll.id.nunique())\n",
    "print(option.doll_id.nunique())"
   ]
  },
  {
   "cell_type": "code",
   "execution_count": 19,
   "id": "22fcd522",
   "metadata": {
    "scrolled": true
   },
   "outputs": [
    {
     "data": {
      "text/plain": [
       "array([7259, 7260, 7261, 7262, 7264, 7265, 7266, 7267, 7268, 7269, 7270,\n",
       "       7271, 7272, 7275, 7276, 7277, 7278, 7279, 7280, 7282, 7283, 7284,\n",
       "       7285, 7286, 7287, 7288, 7289, 7290, 7291, 7292, 7293, 7294, 7295,\n",
       "       7296, 7297, 7298, 7299, 7300, 7301, 7302, 7303, 7304, 7305, 7306,\n",
       "       7307, 7308, 7309, 7310, 7311, 7312, 7313, 7314, 7315, 7316, 7317,\n",
       "       7318, 7319, 7320, 7321, 7322, 7323, 7324, 7325, 7326, 7327, 7328,\n",
       "       7329, 7330, 7331, 7332, 7333, 7334, 7335, 7336, 7338, 7341, 7342,\n",
       "       7343, 7345, 7346, 7347, 7348, 7350, 7388, 7443, 7511, 7525, 7530,\n",
       "       7591, 7979, 8013])"
      ]
     },
     "execution_count": 19,
     "metadata": {},
     "output_type": "execute_result"
    }
   ],
   "source": [
    "test_id = np.array(test_id.iloc[:,0])\n",
    "test_id"
   ]
  },
  {
   "cell_type": "code",
   "execution_count": 20,
   "id": "5d9e6dab",
   "metadata": {},
   "outputs": [],
   "source": [
    "df = deepcopy(doll)\n",
    "df.rename(columns = {'id':'doll_id', 'host_user_id':'user_id'}, inplace = True)"
   ]
  },
  {
   "cell_type": "code",
   "execution_count": 21,
   "id": "a7019674",
   "metadata": {},
   "outputs": [
    {
     "data": {
      "text/plain": [
       "(10019, 23)"
      ]
     },
     "execution_count": 21,
     "metadata": {},
     "output_type": "execute_result"
    }
   ],
   "source": [
    "# Datetime 형식으로 변환\n",
    "df[\"regsted_date\"] = pd.to_datetime(df.regsted_date)\n",
    "df[\"regsted_date\"] = df[\"regsted_date\"].dt.floor('D')\n",
    "df.shape"
   ]
  },
  {
   "cell_type": "code",
   "execution_count": 22,
   "id": "d71fe298",
   "metadata": {
    "scrolled": true
   },
   "outputs": [
    {
     "data": {
      "text/html": [
       "<div>\n",
       "<style scoped>\n",
       "    .dataframe tbody tr th:only-of-type {\n",
       "        vertical-align: middle;\n",
       "    }\n",
       "\n",
       "    .dataframe tbody tr th {\n",
       "        vertical-align: top;\n",
       "    }\n",
       "\n",
       "    .dataframe thead th {\n",
       "        text-align: right;\n",
       "    }\n",
       "</style>\n",
       "<table border=\"1\" class=\"dataframe\">\n",
       "  <thead>\n",
       "    <tr style=\"text-align: right;\">\n",
       "      <th></th>\n",
       "      <th>doll_id</th>\n",
       "      <th>user_id</th>\n",
       "      <th>name</th>\n",
       "      <th>phone_num</th>\n",
       "      <th>battery</th>\n",
       "      <th>active_monitor</th>\n",
       "      <th>sex</th>\n",
       "      <th>birthday</th>\n",
       "      <th>religion</th>\n",
       "      <th>wakeup</th>\n",
       "      <th>breakfast</th>\n",
       "      <th>lunch</th>\n",
       "      <th>dinner</th>\n",
       "      <th>sleep</th>\n",
       "      <th>drug_option</th>\n",
       "      <th>ventilation_walk</th>\n",
       "      <th>is_edited</th>\n",
       "      <th>activeSenceTime</th>\n",
       "      <th>pic_file_name</th>\n",
       "      <th>is_delete</th>\n",
       "      <th>mac_id</th>\n",
       "      <th>regsted_date</th>\n",
       "      <th>disease</th>\n",
       "    </tr>\n",
       "  </thead>\n",
       "  <tbody>\n",
       "    <tr>\n",
       "      <th>0</th>\n",
       "      <td>125023</td>\n",
       "      <td>7382</td>\n",
       "      <td>./Data/scc_doll_v3.csv</td>\n",
       "      <td>...</td>\n",
       "      <td>25</td>\n",
       "      <td>2</td>\n",
       "      <td>2</td>\n",
       "      <td>1940-06-01</td>\n",
       "      <td>3</td>\n",
       "      <td>07:00:00</td>\n",
       "      <td>08:00:00</td>\n",
       "      <td>13:00:00</td>\n",
       "      <td>18:00:00</td>\n",
       "      <td>23:00:00</td>\n",
       "      <td>0</td>\n",
       "      <td>0</td>\n",
       "      <td>0</td>\n",
       "      <td>2</td>\n",
       "      <td>NaN</td>\n",
       "      <td>1</td>\n",
       "      <td>5c:cf:7f:b0:bd:6e</td>\n",
       "      <td>2019-04-01</td>\n",
       "      <td>0.0000</td>\n",
       "    </tr>\n",
       "    <tr>\n",
       "      <th>1</th>\n",
       "      <td>125024</td>\n",
       "      <td>7382</td>\n",
       "      <td>./Data/scc_doll_v3.csv</td>\n",
       "      <td>...</td>\n",
       "      <td>23</td>\n",
       "      <td>2</td>\n",
       "      <td>2</td>\n",
       "      <td>1940-06-01</td>\n",
       "      <td>3</td>\n",
       "      <td>07:00:00</td>\n",
       "      <td>08:00:00</td>\n",
       "      <td>13:00:00</td>\n",
       "      <td>18:00:00</td>\n",
       "      <td>23:00:00</td>\n",
       "      <td>0</td>\n",
       "      <td>0</td>\n",
       "      <td>0</td>\n",
       "      <td>2</td>\n",
       "      <td>NaN</td>\n",
       "      <td>1</td>\n",
       "      <td>5c:cf:7f:b0:bd:6e</td>\n",
       "      <td>2019-04-01</td>\n",
       "      <td>0.0000</td>\n",
       "    </tr>\n",
       "    <tr>\n",
       "      <th>2</th>\n",
       "      <td>125025</td>\n",
       "      <td>7370</td>\n",
       "      <td>./Data/scc_doll_v3.csv</td>\n",
       "      <td>...</td>\n",
       "      <td>100</td>\n",
       "      <td>24</td>\n",
       "      <td>2</td>\n",
       "      <td>1938-09-26</td>\n",
       "      <td>3</td>\n",
       "      <td>07:00:00</td>\n",
       "      <td>08:00:00</td>\n",
       "      <td>13:00:00</td>\n",
       "      <td>18:00:00</td>\n",
       "      <td>23:00:00</td>\n",
       "      <td>101010</td>\n",
       "      <td>0</td>\n",
       "      <td>0</td>\n",
       "      <td>24</td>\n",
       "      <td>NaN</td>\n",
       "      <td>1</td>\n",
       "      <td>5c:cf:7f:b0:bd:6e</td>\n",
       "      <td>2019-04-01</td>\n",
       "      <td>0.0000</td>\n",
       "    </tr>\n",
       "    <tr>\n",
       "      <th>3</th>\n",
       "      <td>125026</td>\n",
       "      <td>7369</td>\n",
       "      <td>./Data/scc_doll_v3.csv</td>\n",
       "      <td>...</td>\n",
       "      <td>0</td>\n",
       "      <td>24</td>\n",
       "      <td>2</td>\n",
       "      <td>1946-02-01</td>\n",
       "      <td>3</td>\n",
       "      <td>07:00:00</td>\n",
       "      <td>08:00:00</td>\n",
       "      <td>13:00:00</td>\n",
       "      <td>18:00:00</td>\n",
       "      <td>23:00:00</td>\n",
       "      <td>0</td>\n",
       "      <td>0</td>\n",
       "      <td>1</td>\n",
       "      <td>24</td>\n",
       "      <td>NaN</td>\n",
       "      <td>1</td>\n",
       "      <td>8982300618000143401F</td>\n",
       "      <td>2019-04-02</td>\n",
       "      <td>0.0000</td>\n",
       "    </tr>\n",
       "    <tr>\n",
       "      <th>4</th>\n",
       "      <td>125027</td>\n",
       "      <td>7369</td>\n",
       "      <td>./Data/scc_doll_v3.csv</td>\n",
       "      <td>...</td>\n",
       "      <td>65</td>\n",
       "      <td>24</td>\n",
       "      <td>2</td>\n",
       "      <td>1946-02-01</td>\n",
       "      <td>1</td>\n",
       "      <td>05:00:00</td>\n",
       "      <td>08:00:00</td>\n",
       "      <td>13:00:00</td>\n",
       "      <td>18:00:00</td>\n",
       "      <td>21:00:00</td>\n",
       "      <td>1010100</td>\n",
       "      <td>0</td>\n",
       "      <td>0</td>\n",
       "      <td>24</td>\n",
       "      <td>v2data/9d7d76a1c9044d9c9118fd56d7e9ec5b5766551...</td>\n",
       "      <td>1</td>\n",
       "      <td>8982300618000143401F</td>\n",
       "      <td>2019-04-02</td>\n",
       "      <td>0.0000</td>\n",
       "    </tr>\n",
       "  </tbody>\n",
       "</table>\n",
       "</div>"
      ],
      "text/plain": [
       "   doll_id  user_id                    name phone_num  battery  \\\n",
       "0   125023     7382  ./Data/scc_doll_v3.csv       ...       25   \n",
       "1   125024     7382  ./Data/scc_doll_v3.csv       ...       23   \n",
       "2   125025     7370  ./Data/scc_doll_v3.csv       ...      100   \n",
       "3   125026     7369  ./Data/scc_doll_v3.csv       ...        0   \n",
       "4   125027     7369  ./Data/scc_doll_v3.csv       ...       65   \n",
       "\n",
       "   active_monitor  sex    birthday  religion    wakeup breakfast     lunch  \\\n",
       "0               2    2  1940-06-01         3  07:00:00  08:00:00  13:00:00   \n",
       "1               2    2  1940-06-01         3  07:00:00  08:00:00  13:00:00   \n",
       "2              24    2  1938-09-26         3  07:00:00  08:00:00  13:00:00   \n",
       "3              24    2  1946-02-01         3  07:00:00  08:00:00  13:00:00   \n",
       "4              24    2  1946-02-01         1  05:00:00  08:00:00  13:00:00   \n",
       "\n",
       "     dinner     sleep  drug_option  ventilation_walk  is_edited  \\\n",
       "0  18:00:00  23:00:00            0                 0          0   \n",
       "1  18:00:00  23:00:00            0                 0          0   \n",
       "2  18:00:00  23:00:00       101010                 0          0   \n",
       "3  18:00:00  23:00:00            0                 0          1   \n",
       "4  18:00:00  21:00:00      1010100                 0          0   \n",
       "\n",
       "   activeSenceTime                                      pic_file_name  \\\n",
       "0                2                                                NaN   \n",
       "1                2                                                NaN   \n",
       "2               24                                                NaN   \n",
       "3               24                                                NaN   \n",
       "4               24  v2data/9d7d76a1c9044d9c9118fd56d7e9ec5b5766551...   \n",
       "\n",
       "   is_delete                mac_id regsted_date  disease  \n",
       "0          1     5c:cf:7f:b0:bd:6e   2019-04-01   0.0000  \n",
       "1          1     5c:cf:7f:b0:bd:6e   2019-04-01   0.0000  \n",
       "2          1     5c:cf:7f:b0:bd:6e   2019-04-01   0.0000  \n",
       "3          1  8982300618000143401F   2019-04-02   0.0000  \n",
       "4          1  8982300618000143401F   2019-04-02   0.0000  "
      ]
     },
     "execution_count": 22,
     "metadata": {},
     "output_type": "execute_result"
    }
   ],
   "source": [
    "df.head()"
   ]
  },
  {
   "cell_type": "code",
   "execution_count": 23,
   "id": "490779e9",
   "metadata": {
    "scrolled": true
   },
   "outputs": [
    {
     "data": {
      "text/plain": [
       "(10019, 23)"
      ]
     },
     "execution_count": 23,
     "metadata": {},
     "output_type": "execute_result"
    }
   ],
   "source": [
    "# 유효기간 : 2019.04 ~ 2021.05\n",
    "df = df[(df.regsted_date > \"2019-03-31\")&(df.regsted_date < \"2021-06-01\")].reset_index(drop=True)\n",
    "df.shape"
   ]
  },
  {
   "cell_type": "code",
   "execution_count": 24,
   "id": "21440106",
   "metadata": {},
   "outputs": [],
   "source": [
    "df = df[df.birthday<df.regsted_date] #NA 제거 & 변수 제거"
   ]
  },
  {
   "cell_type": "code",
   "execution_count": 25,
   "id": "98035bd2",
   "metadata": {},
   "outputs": [
    {
     "data": {
      "text/plain": [
       "{7388, 7443, 7511, 7525, 7530, 7591, 8013}"
      ]
     },
     "execution_count": 25,
     "metadata": {},
     "output_type": "execute_result"
    }
   ],
   "source": [
    "# 테스트 계정과 일치하는 user_id 파악\n",
    "set(df.user_id) & set(test_id)"
   ]
  },
  {
   "cell_type": "code",
   "execution_count": 26,
   "id": "d0045ae1",
   "metadata": {},
   "outputs": [],
   "source": [
    "# 테스트 계정과 일치하는 user_id 삭제\n",
    "for t in test_id: \n",
    "    df = df[df.user_id != t]\n",
    "df = df.reset_index(drop=True)"
   ]
  },
  {
   "cell_type": "code",
   "execution_count": 27,
   "id": "0dcd53a3",
   "metadata": {},
   "outputs": [
    {
     "data": {
      "text/plain": [
       "(7778, 23)"
      ]
     },
     "execution_count": 27,
     "metadata": {},
     "output_type": "execute_result"
    }
   ],
   "source": [
    "df.shape # 7805명"
   ]
  },
  {
   "cell_type": "code",
   "execution_count": 28,
   "id": "4066a832",
   "metadata": {},
   "outputs": [
    {
     "name": "stdout",
     "output_type": "stream",
     "text": [
      "인형데이터 unique doll_id 수 :  7778\n",
      "인형데이터 unique user_id 수 :  855\n"
     ]
    }
   ],
   "source": [
    "print(\"인형데이터 unique doll_id 수 : \", df.doll_id.nunique())\n",
    "print(\"인형데이터 unique user_id 수 : \", df.user_id.nunique())"
   ]
  },
  {
   "cell_type": "code",
   "execution_count": 29,
   "id": "ff1cc9a4",
   "metadata": {},
   "outputs": [
    {
     "name": "stdout",
     "output_type": "stream",
     "text": [
      "NA check\n",
      "pic_file_name 4563 -> 58.665 %\n",
      "mac_id 15 -> 0.193 %\n",
      "disease 7 -> 0.09 %\n"
     ]
    }
   ],
   "source": [
    "check_NA(df)"
   ]
  },
  {
   "cell_type": "code",
   "execution_count": 30,
   "id": "eee7bb7c",
   "metadata": {},
   "outputs": [],
   "source": [
    "df.drop(['name', 'phone_num', 'pic_file_name'], axis = 1, inplace = True)\n",
    "# name, phone_num 공개되지 않은 값이므로 컬럼 제거\n",
    "# pic_file_name 컬럼 제거"
   ]
  },
  {
   "cell_type": "code",
   "execution_count": 31,
   "id": "3308b5a7",
   "metadata": {
    "scrolled": true
   },
   "outputs": [
    {
     "data": {
      "text/html": [
       "<div>\n",
       "<style scoped>\n",
       "    .dataframe tbody tr th:only-of-type {\n",
       "        vertical-align: middle;\n",
       "    }\n",
       "\n",
       "    .dataframe tbody tr th {\n",
       "        vertical-align: top;\n",
       "    }\n",
       "\n",
       "    .dataframe thead th {\n",
       "        text-align: right;\n",
       "    }\n",
       "</style>\n",
       "<table border=\"1\" class=\"dataframe\">\n",
       "  <thead>\n",
       "    <tr style=\"text-align: right;\">\n",
       "      <th></th>\n",
       "      <th>doll_id</th>\n",
       "      <th>user_id</th>\n",
       "      <th>battery</th>\n",
       "      <th>active_monitor</th>\n",
       "      <th>sex</th>\n",
       "      <th>birthday</th>\n",
       "      <th>religion</th>\n",
       "      <th>wakeup</th>\n",
       "      <th>breakfast</th>\n",
       "      <th>lunch</th>\n",
       "      <th>dinner</th>\n",
       "      <th>sleep</th>\n",
       "      <th>drug_option</th>\n",
       "      <th>ventilation_walk</th>\n",
       "      <th>is_edited</th>\n",
       "      <th>activeSenceTime</th>\n",
       "      <th>is_delete</th>\n",
       "      <th>mac_id</th>\n",
       "      <th>regsted_date</th>\n",
       "      <th>disease</th>\n",
       "    </tr>\n",
       "  </thead>\n",
       "  <tbody>\n",
       "    <tr>\n",
       "      <th>0</th>\n",
       "      <td>125023</td>\n",
       "      <td>7382</td>\n",
       "      <td>25</td>\n",
       "      <td>2</td>\n",
       "      <td>2</td>\n",
       "      <td>1940-06-01</td>\n",
       "      <td>3</td>\n",
       "      <td>07:00:00</td>\n",
       "      <td>08:00:00</td>\n",
       "      <td>13:00:00</td>\n",
       "      <td>18:00:00</td>\n",
       "      <td>23:00:00</td>\n",
       "      <td>0</td>\n",
       "      <td>0</td>\n",
       "      <td>0</td>\n",
       "      <td>2</td>\n",
       "      <td>1</td>\n",
       "      <td>5c:cf:7f:b0:bd:6e</td>\n",
       "      <td>2019-04-01</td>\n",
       "      <td>0.0000</td>\n",
       "    </tr>\n",
       "    <tr>\n",
       "      <th>1</th>\n",
       "      <td>125024</td>\n",
       "      <td>7382</td>\n",
       "      <td>23</td>\n",
       "      <td>2</td>\n",
       "      <td>2</td>\n",
       "      <td>1940-06-01</td>\n",
       "      <td>3</td>\n",
       "      <td>07:00:00</td>\n",
       "      <td>08:00:00</td>\n",
       "      <td>13:00:00</td>\n",
       "      <td>18:00:00</td>\n",
       "      <td>23:00:00</td>\n",
       "      <td>0</td>\n",
       "      <td>0</td>\n",
       "      <td>0</td>\n",
       "      <td>2</td>\n",
       "      <td>1</td>\n",
       "      <td>5c:cf:7f:b0:bd:6e</td>\n",
       "      <td>2019-04-01</td>\n",
       "      <td>0.0000</td>\n",
       "    </tr>\n",
       "    <tr>\n",
       "      <th>2</th>\n",
       "      <td>125025</td>\n",
       "      <td>7370</td>\n",
       "      <td>100</td>\n",
       "      <td>24</td>\n",
       "      <td>2</td>\n",
       "      <td>1938-09-26</td>\n",
       "      <td>3</td>\n",
       "      <td>07:00:00</td>\n",
       "      <td>08:00:00</td>\n",
       "      <td>13:00:00</td>\n",
       "      <td>18:00:00</td>\n",
       "      <td>23:00:00</td>\n",
       "      <td>101010</td>\n",
       "      <td>0</td>\n",
       "      <td>0</td>\n",
       "      <td>24</td>\n",
       "      <td>1</td>\n",
       "      <td>5c:cf:7f:b0:bd:6e</td>\n",
       "      <td>2019-04-01</td>\n",
       "      <td>0.0000</td>\n",
       "    </tr>\n",
       "  </tbody>\n",
       "</table>\n",
       "</div>"
      ],
      "text/plain": [
       "   doll_id  user_id  battery  active_monitor  sex    birthday  religion  \\\n",
       "0   125023     7382       25               2    2  1940-06-01         3   \n",
       "1   125024     7382       23               2    2  1940-06-01         3   \n",
       "2   125025     7370      100              24    2  1938-09-26         3   \n",
       "\n",
       "     wakeup breakfast     lunch    dinner     sleep  drug_option  \\\n",
       "0  07:00:00  08:00:00  13:00:00  18:00:00  23:00:00            0   \n",
       "1  07:00:00  08:00:00  13:00:00  18:00:00  23:00:00            0   \n",
       "2  07:00:00  08:00:00  13:00:00  18:00:00  23:00:00       101010   \n",
       "\n",
       "   ventilation_walk  is_edited  activeSenceTime  is_delete             mac_id  \\\n",
       "0                 0          0                2          1  5c:cf:7f:b0:bd:6e   \n",
       "1                 0          0                2          1  5c:cf:7f:b0:bd:6e   \n",
       "2                 0          0               24          1  5c:cf:7f:b0:bd:6e   \n",
       "\n",
       "  regsted_date  disease  \n",
       "0   2019-04-01   0.0000  \n",
       "1   2019-04-01   0.0000  \n",
       "2   2019-04-01   0.0000  "
      ]
     },
     "execution_count": 31,
     "metadata": {},
     "output_type": "execute_result"
    }
   ],
   "source": [
    "df.head(3)"
   ]
  },
  {
   "cell_type": "markdown",
   "id": "afb66486",
   "metadata": {},
   "source": [
    "## active_monitor (=activeSenceTime) 인형 활동 감지시간"
   ]
  },
  {
   "cell_type": "code",
   "execution_count": 32,
   "id": "8d4611d4",
   "metadata": {},
   "outputs": [],
   "source": [
    "df = df.drop(columns = [\"activeSenceTime\", \"is_delete\"])"
   ]
  },
  {
   "cell_type": "markdown",
   "id": "45ba630e",
   "metadata": {},
   "source": [
    "## 성별 (1:남자, 2:여자)"
   ]
  },
  {
   "cell_type": "code",
   "execution_count": 33,
   "id": "caee5b83",
   "metadata": {},
   "outputs": [
    {
     "data": {
      "text/plain": [
       "array([2, 1, 0])"
      ]
     },
     "execution_count": 33,
     "metadata": {},
     "output_type": "execute_result"
    }
   ],
   "source": [
    "df.sex.unique()"
   ]
  },
  {
   "cell_type": "code",
   "execution_count": 34,
   "id": "164b870a",
   "metadata": {},
   "outputs": [],
   "source": [
    "i = \"sex\"\n",
    "df[i] = df[i].replace(0, np.nan)\n",
    "df[i] = df[i].replace(1.0, \"남\")\n",
    "df[i] = df[i].replace(2.0, \"여\")"
   ]
  },
  {
   "cell_type": "code",
   "execution_count": 35,
   "id": "e4ee45ed",
   "metadata": {},
   "outputs": [
    {
     "data": {
      "text/plain": [
       "array(['여', '남', nan], dtype=object)"
      ]
     },
     "execution_count": 35,
     "metadata": {},
     "output_type": "execute_result"
    }
   ],
   "source": [
    "df.sex.unique()"
   ]
  },
  {
   "cell_type": "code",
   "execution_count": 36,
   "id": "d66dc35c",
   "metadata": {},
   "outputs": [],
   "source": [
    "df = df.rename(columns = {\"sex\": \"성별\"})"
   ]
  },
  {
   "cell_type": "markdown",
   "id": "a6ff39d7",
   "metadata": {},
   "source": [
    "## 종교 (1:기독교, 2:불교, 3:무교, 4:천주교)"
   ]
  },
  {
   "cell_type": "code",
   "execution_count": 37,
   "id": "854f0370",
   "metadata": {},
   "outputs": [
    {
     "data": {
      "text/plain": [
       "array([3, 1, 2, 4, 0])"
      ]
     },
     "execution_count": 37,
     "metadata": {},
     "output_type": "execute_result"
    }
   ],
   "source": [
    "df.religion.unique()"
   ]
  },
  {
   "cell_type": "code",
   "execution_count": 38,
   "id": "c5495c1a",
   "metadata": {},
   "outputs": [],
   "source": [
    "i = \"religion\"\n",
    "df[i] = df[i].replace(0, np.nan)\n",
    "df[i] = df[i].replace(1.0, \"기독교\")\n",
    "df[i] = df[i].replace(2.0, \"불교\")\n",
    "df[i] = df[i].replace(3.0, \"무교\")\n",
    "df[i] = df[i].replace(4.0, \"천주교\")"
   ]
  },
  {
   "cell_type": "code",
   "execution_count": 39,
   "id": "508124d4",
   "metadata": {},
   "outputs": [
    {
     "data": {
      "text/plain": [
       "array(['무교', '기독교', '불교', '천주교', nan], dtype=object)"
      ]
     },
     "execution_count": 39,
     "metadata": {},
     "output_type": "execute_result"
    }
   ],
   "source": [
    "df.religion.unique()"
   ]
  },
  {
   "cell_type": "code",
   "execution_count": 40,
   "id": "2e838f07",
   "metadata": {},
   "outputs": [],
   "source": [
    "df = df.rename(columns = {\"religion\": \"종교\"})"
   ]
  },
  {
   "cell_type": "markdown",
   "id": "6655dde4",
   "metadata": {},
   "source": [
    "## wakeup, breakfast, lunch, dinner, sleep"
   ]
  },
  {
   "cell_type": "markdown",
   "id": "00bfea0b",
   "metadata": {},
   "source": [
    "### 시간대만 남기고 컬럼명 변경"
   ]
  },
  {
   "cell_type": "code",
   "execution_count": 41,
   "id": "f6cae87a",
   "metadata": {},
   "outputs": [],
   "source": [
    "def convert_time(x): \n",
    "    a = x.split(\":\")[0]\n",
    "    b = x.split(\":\")[1]\n",
    "    if int(a)>24: return 100\n",
    "    elif int(b)>=30 : # 30분 기준으로 가까운 시간대로 설정해줌\n",
    "        if int(a)==23: return(0) # 24시 대신 0시 \n",
    "        else: return int(a)+1 # 아닐 경우 +1 한 시간대\n",
    "    else: return int(a) # 30보다 작으면 원래 시간대"
   ]
  },
  {
   "cell_type": "code",
   "execution_count": 42,
   "id": "6502f71b",
   "metadata": {},
   "outputs": [
    {
     "data": {
      "text/plain": [
       "array([ 7,  5,  6,  9,  8,  4, 10,  3,  2, 14, 18, 17, 15, 16, 11,  0, 12,\n",
       "        1, 13, 19])"
      ]
     },
     "execution_count": 42,
     "metadata": {},
     "output_type": "execute_result"
    }
   ],
   "source": [
    "# wakeup\n",
    "df[\"wakeup\"] = df[\"wakeup\"].fillna(\"100:100\")\n",
    "df[\"wakeup\"] = df[\"wakeup\"].astype(\"str\")\n",
    "df[\"wakeup\"] = df[\"wakeup\"].apply(convert_time)\n",
    "df[\"wakeup\"] = df[\"wakeup\"].astype(\"int\")\n",
    "df[\"wakeup\"].unique()"
   ]
  },
  {
   "cell_type": "code",
   "execution_count": 43,
   "id": "15e3a7c7",
   "metadata": {},
   "outputs": [
    {
     "data": {
      "text/plain": [
       "array([ 8,  7,  9, 10,  6, 12, 11, 14, 13, 15, 18,  5, 16,  0,  2, 22,  1,\n",
       "        4,  3, 17, 19, 21])"
      ]
     },
     "execution_count": 43,
     "metadata": {},
     "output_type": "execute_result"
    }
   ],
   "source": [
    "# breakfast\n",
    "df[\"breakfast\"] = df[\"breakfast\"].fillna(\"100:100\")\n",
    "df[\"breakfast\"] = df[\"breakfast\"].astype(\"str\")\n",
    "df[\"breakfast\"] = df[\"breakfast\"].apply(convert_time)\n",
    "df[\"breakfast\"] = df[\"breakfast\"].astype(\"int\")\n",
    "df[\"breakfast\"].unique()"
   ]
  },
  {
   "cell_type": "code",
   "execution_count": 44,
   "id": "bfe1ea10",
   "metadata": {},
   "outputs": [
    {
     "data": {
      "text/plain": [
       "array([13, 12, 10, 11, 16, 14, 15,  1,  3,  9,  2,  8,  4,  0, 18,  6, 17,\n",
       "       19,  5,  7])"
      ]
     },
     "execution_count": 44,
     "metadata": {},
     "output_type": "execute_result"
    }
   ],
   "source": [
    "# lunch\n",
    "df[\"lunch\"] = df[\"lunch\"].fillna(\"100:100\")\n",
    "df[\"lunch\"] = df[\"lunch\"].astype(\"str\")\n",
    "df[\"lunch\"] = df[\"lunch\"].apply(convert_time)\n",
    "df[\"lunch\"] = df[\"lunch\"].astype(\"int\")\n",
    "df[\"lunch\"].unique()"
   ]
  },
  {
   "cell_type": "code",
   "execution_count": 45,
   "id": "d9b8a022",
   "metadata": {},
   "outputs": [
    {
     "data": {
      "text/plain": [
       "array([18, 20, 17, 19, 16,  6, 12, 15,  7, 21,  3,  8,  4,  9,  5, 22,  0,\n",
       "       13, 23, 11,  1, 14,  2])"
      ]
     },
     "execution_count": 45,
     "metadata": {},
     "output_type": "execute_result"
    }
   ],
   "source": [
    "# dinner\n",
    "df[\"dinner\"] = df[\"dinner\"].fillna(\"100:100\")\n",
    "df[\"dinner\"] = df[\"dinner\"].astype(\"str\")\n",
    "df[\"dinner\"] = df[\"dinner\"].apply(convert_time)\n",
    "df[\"dinner\"] = df[\"dinner\"].astype(\"int\")\n",
    "df[\"dinner\"].unique()"
   ]
  },
  {
   "cell_type": "code",
   "execution_count": 46,
   "id": "0ff83061",
   "metadata": {},
   "outputs": [
    {
     "data": {
      "text/plain": [
       "array([23, 21, 22, 19, 20, 12, 18,  0, 17, 16,  2,  9,  5, 11,  8, 10,  1,\n",
       "       15,  6, 13,  3,  7,  4])"
      ]
     },
     "execution_count": 46,
     "metadata": {},
     "output_type": "execute_result"
    }
   ],
   "source": [
    "# sleep\n",
    "df[\"sleep\"] = df[\"sleep\"].fillna(\"100:100\")\n",
    "df[\"sleep\"] = df[\"sleep\"].astype(\"str\")\n",
    "df[\"sleep\"] = df[\"sleep\"].apply(convert_time)\n",
    "df[\"sleep\"] = df[\"sleep\"].astype(\"int\")\n",
    "df[\"sleep\"].unique()"
   ]
  },
  {
   "cell_type": "code",
   "execution_count": 47,
   "id": "18e216bd",
   "metadata": {},
   "outputs": [
    {
     "name": "stdout",
     "output_type": "stream",
     "text": [
      "NA check\n",
      "성별 1 -> 0.013 %\n",
      "종교 1 -> 0.013 %\n",
      "mac_id 15 -> 0.193 %\n",
      "disease 7 -> 0.09 %\n"
     ]
    }
   ],
   "source": [
    "check_NA(df)"
   ]
  },
  {
   "cell_type": "code",
   "execution_count": 48,
   "id": "0c45e3e7",
   "metadata": {},
   "outputs": [],
   "source": [
    "df = df.rename(columns = {\"wakeup\": \"기상\", \n",
    "                          \"breakfast\": \"아침\", \n",
    "                          \"lunch\": \"점심\", \n",
    "                          \"dinner\": \"저녁\", \n",
    "                          \"sleep\": \"취침\"})"
   ]
  },
  {
   "cell_type": "markdown",
   "id": "dddb0f4b",
   "metadata": {},
   "source": [
    "## drug_option(약 복용 알람 설정)\n",
    "아침식전, 아침식후, 점심식전, 점심식후, 저녁식전, 저녁식후, 취침전 (7자리)"
   ]
  },
  {
   "cell_type": "code",
   "execution_count": 49,
   "id": "bc6aa220",
   "metadata": {},
   "outputs": [
    {
     "data": {
      "text/plain": [
       "array([       0,   101010,  1010100,  1010001,   100000,   100010,\n",
       "        1000100,  1000000,  1100110,  1000010,  1000001,  1100010,\n",
       "           1000,   100100,   100011,       10,   101000,  1100101,\n",
       "        1101011,  1010000,    11110,  1101010,  1100000,        1,\n",
       "        1111111,   101011,   101001,   100001,      111,      110,\n",
       "           1100,     1101,  1001010,  1100100,  1111110,   101100,\n",
       "           1011,       11,  1101000,  1010101,  1011001,  1001000,\n",
       "        1110000,  1100011,  1110111,  1101110,    10001,     1010,\n",
       "        1000110,  1110010,  1111010,  1100001,  1001011,  1001001,\n",
       "       10000000,  1010010,  1100111,   110110,  1011111,  1001100,\n",
       "        1111001,  1001101,   110111, 11110100,  1000011,  1000101,\n",
       "         100101,  1110011,      101,   111000,   100110, 11000100,\n",
       "          10100,   110011,     1001,   111010,  1101100,  1010110,\n",
       "         111110,    10000,      100,    11000,  1101111,   110001,\n",
       "          10010,  1011000,   110100,     1111,  1110001,  1111100,\n",
       "         111111,   101110,   110000,  1010111,   110010,  1011100,\n",
       "          11010, 11111110,   111011,   111100,  1110101,    11100,\n",
       "        1110100])"
      ]
     },
     "execution_count": 49,
     "metadata": {},
     "output_type": "execute_result"
    }
   ],
   "source": [
    "df.drug_option.unique()"
   ]
  },
  {
   "cell_type": "code",
   "execution_count": 50,
   "id": "6c27370b",
   "metadata": {},
   "outputs": [
    {
     "data": {
      "text/plain": [
       "0    0000000\n",
       "1    0000000\n",
       "2    0101010\n",
       "Name: drug_option, dtype: object"
      ]
     },
     "execution_count": 50,
     "metadata": {},
     "output_type": "execute_result"
    }
   ],
   "source": [
    "df['drug_option'] = df['drug_option'].astype('str').str.zfill(7) # 7자리 출력\n",
    "df['drug_option'].head(3)"
   ]
  },
  {
   "cell_type": "code",
   "execution_count": 51,
   "id": "970a3100",
   "metadata": {},
   "outputs": [],
   "source": [
    "df['아침식전_복용'] = df['drug_option'].str.slice(start=0, stop=1)\n",
    "df['아침식후_복용'] = df['drug_option'].str.slice(start=1, stop=2)\n",
    "df['점심식전_복용'] = df['drug_option'].str.slice(start=2, stop=3)\n",
    "df['점심식후_복용'] = df['drug_option'].str.slice(start=3, stop=4)\n",
    "df['저녁식전_복용'] = df['drug_option'].str.slice(start=4, stop=5)\n",
    "df['저녁식후_복용'] = df['drug_option'].str.slice(start=5, stop=6)\n",
    "df['취침전_복용'] = df['drug_option'].str.slice(start=6)"
   ]
  },
  {
   "cell_type": "code",
   "execution_count": 52,
   "id": "4b7e6812",
   "metadata": {},
   "outputs": [],
   "source": [
    "df.drop(['drug_option'], axis = 1, inplace = True)"
   ]
  },
  {
   "cell_type": "markdown",
   "id": "c561d438",
   "metadata": {},
   "source": [
    "## ventilation_walk (1:환기, 2:산책, 3:환기+산책)"
   ]
  },
  {
   "cell_type": "code",
   "execution_count": 53,
   "id": "eef39570",
   "metadata": {
    "scrolled": true
   },
   "outputs": [
    {
     "data": {
      "text/plain": [
       "array([0, 3, 1, 2])"
      ]
     },
     "execution_count": 53,
     "metadata": {},
     "output_type": "execute_result"
    }
   ],
   "source": [
    "df.ventilation_walk.unique()"
   ]
  },
  {
   "cell_type": "code",
   "execution_count": 54,
   "id": "a26a4334",
   "metadata": {},
   "outputs": [],
   "source": [
    "i = \"ventilation_walk\"\n",
    "df[\"환기\"] = df[i]\n",
    "df.loc[df[i]==1, \"환기\"]=1\n",
    "df.loc[df[i]==3, \"환기\"]=1\n",
    "df.loc[df[i]==2, \"환기\"]=0\n",
    "df.loc[df[i]==0, \"환기\"]=0"
   ]
  },
  {
   "cell_type": "code",
   "execution_count": 55,
   "id": "59a7a25a",
   "metadata": {},
   "outputs": [],
   "source": [
    "i = \"ventilation_walk\"\n",
    "df[\"산책\"] = df[i]\n",
    "df.loc[df[i]==3, \"산책\"]=1\n",
    "df.loc[df[i]==2, \"산책\"]=1\n",
    "df.loc[df[i]==1, \"산책\"]=0\n",
    "df.loc[df[i]==0, \"산책\"]=0"
   ]
  },
  {
   "cell_type": "code",
   "execution_count": 56,
   "id": "327d7a06",
   "metadata": {},
   "outputs": [
    {
     "name": "stdout",
     "output_type": "stream",
     "text": [
      "[0 1]\n",
      "[0 1]\n"
     ]
    }
   ],
   "source": [
    "print(df[\"산책\"].unique())\n",
    "print(df[\"환기\"].unique())"
   ]
  },
  {
   "cell_type": "code",
   "execution_count": 57,
   "id": "f6224bbd",
   "metadata": {},
   "outputs": [],
   "source": [
    "df = df.drop(columns = [\"ventilation_walk\"])"
   ]
  },
  {
   "cell_type": "markdown",
   "id": "e0ac0575",
   "metadata": {},
   "source": [
    "## is_edited (1:수정, 0:수정안함)"
   ]
  },
  {
   "cell_type": "code",
   "execution_count": 58,
   "id": "04487424",
   "metadata": {
    "scrolled": true
   },
   "outputs": [
    {
     "data": {
      "text/plain": [
       "array([0, 1])"
      ]
     },
     "execution_count": 58,
     "metadata": {},
     "output_type": "execute_result"
    }
   ],
   "source": [
    "df.is_edited.unique()"
   ]
  },
  {
   "cell_type": "markdown",
   "id": "3cb0a734",
   "metadata": {},
   "source": [
    "## mac_id : 모델\n",
    "* mac id (WIFI 모델) : mac id (5c:cf:7f:b0:bd:6e)\n",
    "\n",
    "* NB-loT 모델 : USIM 번호 (8982300618000143401F)\n",
    "    \n",
    "* CAT1 모델 : IMEI (861760040540103)"
   ]
  },
  {
   "cell_type": "code",
   "execution_count": 59,
   "id": "b687ba4d",
   "metadata": {},
   "outputs": [
    {
     "data": {
      "text/plain": [
       "4053"
      ]
     },
     "execution_count": 59,
     "metadata": {},
     "output_type": "execute_result"
    }
   ],
   "source": [
    "df.mac_id.nunique()"
   ]
  },
  {
   "cell_type": "code",
   "execution_count": 60,
   "id": "74e63d91",
   "metadata": {},
   "outputs": [
    {
     "data": {
      "text/plain": [
       "15"
      ]
     },
     "execution_count": 60,
     "metadata": {},
     "output_type": "execute_result"
    }
   ],
   "source": [
    "len(df[df.mac_id.isnull()])"
   ]
  },
  {
   "cell_type": "code",
   "execution_count": 61,
   "id": "9e0e105e",
   "metadata": {},
   "outputs": [
    {
     "data": {
      "text/plain": [
       "(7778, 26)"
      ]
     },
     "execution_count": 61,
     "metadata": {},
     "output_type": "execute_result"
    }
   ],
   "source": [
    "# 모델명 컬럼 추가\n",
    "def convert_model(x) :\n",
    "    x = str(x)\n",
    "    if \"5c:cf\" in x : return \"wifi\"\n",
    "    elif \"8982300\" in x : return \"NB-IoT\"\n",
    "    elif \"8617600\" in x : return \"CAT1\"\n",
    "    else : return np.nan\n",
    "    \n",
    "df[\"model\"] = df.mac_id.apply(convert_model)\n",
    "df.shape"
   ]
  },
  {
   "cell_type": "code",
   "execution_count": 62,
   "id": "3c01b774",
   "metadata": {
    "scrolled": true
   },
   "outputs": [
    {
     "data": {
      "text/plain": [
       "43"
      ]
     },
     "execution_count": 62,
     "metadata": {},
     "output_type": "execute_result"
    }
   ],
   "source": [
    "len(df[df.model.isnull()])"
   ]
  },
  {
   "cell_type": "code",
   "execution_count": 63,
   "id": "119e003e",
   "metadata": {},
   "outputs": [
    {
     "data": {
      "text/plain": [
       "array([nan, '0', '112312312123', '866522040159671', '831760040232578',\n",
       "       '861730040537208'], dtype=object)"
      ]
     },
     "execution_count": 63,
     "metadata": {},
     "output_type": "execute_result"
    }
   ],
   "source": [
    "df[df.model.isnull()].mac_id.unique()"
   ]
  },
  {
   "cell_type": "markdown",
   "id": "166608a5",
   "metadata": {},
   "source": [
    "### mac_id 컬럼 삭제"
   ]
  },
  {
   "cell_type": "code",
   "execution_count": 64,
   "id": "18b8ce8a",
   "metadata": {},
   "outputs": [],
   "source": [
    "df.drop(['mac_id'], axis = 1, inplace = True)"
   ]
  },
  {
   "cell_type": "markdown",
   "id": "38400cf4",
   "metadata": {},
   "source": [
    "## disease : 보유질환 (복수선택 가능)\n",
    "* 001 : 당뇨\n",
    "\n",
    "* 010 : 고지혈\n",
    "\n",
    "* 100 : 고혈압"
   ]
  },
  {
   "cell_type": "code",
   "execution_count": 65,
   "id": "0c11b4f7",
   "metadata": {},
   "outputs": [
    {
     "data": {
      "text/plain": [
       "array([  0., 110.,  10., 101., 100., 111.,   1.,  11.,  nan])"
      ]
     },
     "execution_count": 65,
     "metadata": {},
     "output_type": "execute_result"
    }
   ],
   "source": [
    "df.disease.unique()"
   ]
  },
  {
   "cell_type": "code",
   "execution_count": 66,
   "id": "1586ff10",
   "metadata": {
    "scrolled": true
   },
   "outputs": [
    {
     "data": {
      "text/plain": [
       "7"
      ]
     },
     "execution_count": 66,
     "metadata": {},
     "output_type": "execute_result"
    }
   ],
   "source": [
    "len(df[df.disease.isnull()])"
   ]
  },
  {
   "cell_type": "code",
   "execution_count": 67,
   "id": "31e8cd92",
   "metadata": {},
   "outputs": [],
   "source": [
    "i =\"disease\"\n",
    "df[\"당뇨\"] = df[i]\n",
    "df.loc[df[i]==0, \"당뇨\"]=0\n",
    "df.loc[df[i]==1, \"당뇨\"]=1\n",
    "df.loc[df[i]==10, \"당뇨\"]=0\n",
    "df.loc[df[i]==11, \"당뇨\"]=1\n",
    "df.loc[df[i]==100, \"당뇨\"]=0\n",
    "df.loc[df[i]==101, \"당뇨\"]=1\n",
    "df.loc[df[i]==111, \"당뇨\"]=1\n",
    "df.loc[df[i]==110, \"당뇨\"]=0"
   ]
  },
  {
   "cell_type": "code",
   "execution_count": 68,
   "id": "eaa994a5",
   "metadata": {},
   "outputs": [],
   "source": [
    "i =\"disease\"\n",
    "df[\"고지혈\"] = df[i]\n",
    "df.loc[df[i]==0, \"고지혈\"]=0\n",
    "df.loc[df[i]==1, \"고지혈\"]=0\n",
    "df.loc[df[i]==10, \"고지혈\"]=1\n",
    "df.loc[df[i]==11, \"고지혈\"]=1\n",
    "df.loc[df[i]==100, \"고지혈\"]=0\n",
    "df.loc[df[i]==101, \"고지혈\"]=0\n",
    "df.loc[df[i]==111, \"고지혈\"]=1\n",
    "df.loc[df[i]==110, \"고지혈\"]=1"
   ]
  },
  {
   "cell_type": "code",
   "execution_count": 69,
   "id": "b9e9518a",
   "metadata": {},
   "outputs": [],
   "source": [
    "i =\"disease\"\n",
    "df[\"고혈압\"] = df[i]\n",
    "df.loc[df[i]==0, \"고혈압\"]=0\n",
    "df.loc[df[i]==1, \"고혈압\"]=0\n",
    "df.loc[df[i]==10, \"고혈압\"]=0\n",
    "df.loc[df[i]==11, \"고혈압\"]=0\n",
    "df.loc[df[i]==100, \"고혈압\"]=1\n",
    "df.loc[df[i]==101, \"고혈압\"]=1\n",
    "df.loc[df[i]==111, \"고혈압\"]=1\n",
    "df.loc[df[i]==110, \"고혈압\"]=1"
   ]
  },
  {
   "cell_type": "code",
   "execution_count": 70,
   "id": "474fb420",
   "metadata": {},
   "outputs": [
    {
     "data": {
      "text/plain": [
       "Index(['doll_id', 'user_id', 'battery', 'active_monitor', '성별', 'birthday',\n",
       "       '종교', '기상', '아침', '점심', '저녁', '취침', 'is_edited', 'regsted_date',\n",
       "       'disease', '아침식전_복용', '아침식후_복용', '점심식전_복용', '점심식후_복용', '저녁식전_복용',\n",
       "       '저녁식후_복용', '취침전_복용', '환기', '산책', 'model', '당뇨', '고지혈', '고혈압'],\n",
       "      dtype='object')"
      ]
     },
     "execution_count": 70,
     "metadata": {},
     "output_type": "execute_result"
    }
   ],
   "source": [
    "df.columns"
   ]
  },
  {
   "cell_type": "code",
   "execution_count": 71,
   "id": "31ecbf77",
   "metadata": {},
   "outputs": [],
   "source": [
    "df = df.drop(columns = [\"disease\", \"user_id\"])"
   ]
  },
  {
   "cell_type": "markdown",
   "id": "2b5f9492",
   "metadata": {},
   "source": [
    "# scc_doll_option"
   ]
  },
  {
   "cell_type": "code",
   "execution_count": 72,
   "id": "370afa0d",
   "metadata": {
    "scrolled": true
   },
   "outputs": [
    {
     "data": {
      "text/plain": [
       "(11552, 17)"
      ]
     },
     "execution_count": 72,
     "metadata": {},
     "output_type": "execute_result"
    }
   ],
   "source": [
    "df2 = deepcopy(option)\n",
    "df2.shape"
   ]
  },
  {
   "cell_type": "markdown",
   "id": "4ad14cda",
   "metadata": {},
   "source": [
    "# NA / 변수 제거\n",
    "- charms mode 0인 경우"
   ]
  },
  {
   "cell_type": "code",
   "execution_count": 73,
   "id": "29e8dce9",
   "metadata": {},
   "outputs": [
    {
     "data": {
      "text/plain": [
       "1    11418\n",
       "0      134\n",
       "Name: charms_mode, dtype: int64"
      ]
     },
     "execution_count": 73,
     "metadata": {},
     "output_type": "execute_result"
    }
   ],
   "source": [
    "df2.charms_mode.value_counts()"
   ]
  },
  {
   "cell_type": "code",
   "execution_count": 74,
   "id": "26496b0d",
   "metadata": {},
   "outputs": [],
   "source": [
    "df2 = df2[df2.charms_mode!=0]"
   ]
  },
  {
   "cell_type": "code",
   "execution_count": 75,
   "id": "dbcffc2e",
   "metadata": {},
   "outputs": [],
   "source": [
    "df2 = df2.drop([\"is_edited\", \"charms_mode\"], axis=1)"
   ]
  },
  {
   "cell_type": "code",
   "execution_count": 76,
   "id": "383de246",
   "metadata": {},
   "outputs": [
    {
     "name": "stdout",
     "output_type": "stream",
     "text": [
      "겹치는 doll_id 수 :  7763\n"
     ]
    }
   ],
   "source": [
    "print(\"겹치는 doll_id 수 : \", len(set(df.doll_id.unique()) & set(df2.doll_id.unique())))\n",
    "# scc_doll에만 존재하는 인형 id 15개 존재 -> 제거?"
   ]
  },
  {
   "cell_type": "code",
   "execution_count": 77,
   "id": "eb5ef466",
   "metadata": {},
   "outputs": [
    {
     "data": {
      "text/plain": [
       "Index(['doll_id', 'battery', 'active_monitor', '성별', 'birthday', '종교', '기상',\n",
       "       '아침', '점심', '저녁', '취침', 'is_edited', 'regsted_date', '아침식전_복용',\n",
       "       '아침식후_복용', '점심식전_복용', '점심식후_복용', '저녁식전_복용', '저녁식후_복용', '취침전_복용', '환기',\n",
       "       '산책', 'model', '당뇨', '고지혈', '고혈압'],\n",
       "      dtype='object')"
      ]
     },
     "execution_count": 77,
     "metadata": {},
     "output_type": "execute_result"
    }
   ],
   "source": [
    "df.columns"
   ]
  },
  {
   "cell_type": "code",
   "execution_count": 78,
   "id": "a6ba8ed6",
   "metadata": {
    "scrolled": true
   },
   "outputs": [
    {
     "data": {
      "text/plain": [
       "Index(['doll_id', 'connection_type', 'serial_number', 'no_alarm',\n",
       "       'custom_timer1', 'custom_timer2', 'custom_timer3', 'custom_timer4',\n",
       "       'custom_timer5', 'religion_alarm', 'calender_type', 'is_active_detect',\n",
       "       'appellation', 'right_ear_function', 'left_ear_function'],\n",
       "      dtype='object')"
      ]
     },
     "execution_count": 78,
     "metadata": {},
     "output_type": "execute_result"
    }
   ],
   "source": [
    "df2.columns"
   ]
  },
  {
   "cell_type": "code",
   "execution_count": 79,
   "id": "e90d9373",
   "metadata": {
    "scrolled": false
   },
   "outputs": [
    {
     "data": {
      "text/plain": [
       "7763"
      ]
     },
     "execution_count": 79,
     "metadata": {},
     "output_type": "execute_result"
    }
   ],
   "source": [
    "len(pd.merge(df, df2, on = 'doll_id', how = 'inner'))"
   ]
  },
  {
   "cell_type": "code",
   "execution_count": 80,
   "id": "9ec3ddb6",
   "metadata": {
    "scrolled": true
   },
   "outputs": [
    {
     "data": {
      "text/plain": [
       "7778"
      ]
     },
     "execution_count": 80,
     "metadata": {},
     "output_type": "execute_result"
    }
   ],
   "source": [
    "len(pd.merge(df, df2, on = 'doll_id', how = 'left'))"
   ]
  },
  {
   "cell_type": "code",
   "execution_count": 81,
   "id": "332d2878",
   "metadata": {},
   "outputs": [],
   "source": [
    "df_doll = pd.merge(df, df2, on = 'doll_id', how = 'left')"
   ]
  },
  {
   "cell_type": "code",
   "execution_count": 82,
   "id": "39087f69",
   "metadata": {},
   "outputs": [
    {
     "data": {
      "text/plain": [
       "Index(['doll_id', 'battery', 'active_monitor', '성별', 'birthday', '종교', '기상',\n",
       "       '아침', '점심', '저녁', '취침', 'is_edited', 'regsted_date', '아침식전_복용',\n",
       "       '아침식후_복용', '점심식전_복용', '점심식후_복용', '저녁식전_복용', '저녁식후_복용', '취침전_복용', '환기',\n",
       "       '산책', 'model', '당뇨', '고지혈', '고혈압', 'connection_type', 'serial_number',\n",
       "       'no_alarm', 'custom_timer1', 'custom_timer2', 'custom_timer3',\n",
       "       'custom_timer4', 'custom_timer5', 'religion_alarm', 'calender_type',\n",
       "       'is_active_detect', 'appellation', 'right_ear_function',\n",
       "       'left_ear_function'],\n",
       "      dtype='object')"
      ]
     },
     "execution_count": 82,
     "metadata": {},
     "output_type": "execute_result"
    }
   ],
   "source": [
    "df_doll.columns"
   ]
  },
  {
   "cell_type": "code",
   "execution_count": 83,
   "id": "d8288d61",
   "metadata": {},
   "outputs": [],
   "source": [
    "df_doll[\"opt_reg_date\"] = df_doll['regsted_date'].dt.floor('D')"
   ]
  },
  {
   "cell_type": "code",
   "execution_count": 84,
   "id": "3bff6339",
   "metadata": {},
   "outputs": [],
   "source": [
    "df_doll = df_doll.drop(columns = [\"regsted_date\"])"
   ]
  },
  {
   "cell_type": "markdown",
   "id": "5f5f6234",
   "metadata": {},
   "source": [
    "## connection_type (인형 통신 타입)"
   ]
  },
  {
   "cell_type": "markdown",
   "id": "b5ee7d18",
   "metadata": {},
   "source": [
    "### df 'model' 컬럼과 겹치는데 다르게 변환된 애들이 있음 => 효돌측 기준인 통신타입으로 통일"
   ]
  },
  {
   "cell_type": "code",
   "execution_count": 85,
   "id": "ae1b6f42",
   "metadata": {},
   "outputs": [
    {
     "data": {
      "text/plain": [
       "array([ 0.,  1.,  2., nan])"
      ]
     },
     "execution_count": 85,
     "metadata": {},
     "output_type": "execute_result"
    }
   ],
   "source": [
    "df_doll.connection_type.unique()"
   ]
  },
  {
   "cell_type": "code",
   "execution_count": 86,
   "id": "006c1c3a",
   "metadata": {},
   "outputs": [
    {
     "data": {
      "text/plain": [
       "15"
      ]
     },
     "execution_count": 86,
     "metadata": {},
     "output_type": "execute_result"
    }
   ],
   "source": [
    "df_doll.connection_type.isna().sum()"
   ]
  },
  {
   "cell_type": "code",
   "execution_count": 87,
   "id": "d207d2ae",
   "metadata": {},
   "outputs": [],
   "source": [
    "df_doll[\"connection_type\"] = df_doll[\"connection_type\"].replace(0, 'wifi')\n",
    "df_doll[\"connection_type\"] = df_doll[\"connection_type\"].replace(1, 'NB-IoT')\n",
    "df_doll[\"connection_type\"] = df_doll[\"connection_type\"].replace(2, 'CAT1')"
   ]
  },
  {
   "cell_type": "code",
   "execution_count": 88,
   "id": "af1d883f",
   "metadata": {},
   "outputs": [
    {
     "data": {
      "text/plain": [
       "95"
      ]
     },
     "execution_count": 88,
     "metadata": {},
     "output_type": "execute_result"
    }
   ],
   "source": [
    "len(df_doll[df_doll.model!=df_doll.connection_type])"
   ]
  },
  {
   "cell_type": "code",
   "execution_count": 89,
   "id": "579d5c9e",
   "metadata": {},
   "outputs": [],
   "source": [
    "df_doll.drop(['model'], axis = 1, inplace = True)"
   ]
  },
  {
   "cell_type": "markdown",
   "id": "0ca1fb21",
   "metadata": {},
   "source": [
    "## serial_number"
   ]
  },
  {
   "cell_type": "markdown",
   "id": "1eb31afb",
   "metadata": {},
   "source": [
    "### 시리얼 넘버 사용하지 않으므로 제거"
   ]
  },
  {
   "cell_type": "code",
   "execution_count": 90,
   "id": "29edaeac",
   "metadata": {},
   "outputs": [],
   "source": [
    "df_doll.drop(['serial_number'], axis = 1, inplace = True)"
   ]
  },
  {
   "cell_type": "markdown",
   "id": "858aa25c",
   "metadata": {},
   "source": [
    "## no_alarm : 방해금지모드 (1:설정, 0:해제)"
   ]
  },
  {
   "cell_type": "code",
   "execution_count": 91,
   "id": "0a77a71f",
   "metadata": {},
   "outputs": [
    {
     "data": {
      "text/plain": [
       "array([ 0.,  1., nan])"
      ]
     },
     "execution_count": 91,
     "metadata": {},
     "output_type": "execute_result"
    }
   ],
   "source": [
    "df_doll.no_alarm.unique()"
   ]
  },
  {
   "cell_type": "markdown",
   "id": "fd4727af",
   "metadata": {},
   "source": [
    "## custom_timer1,2,3,4,5 (종교 말씀 타이머)"
   ]
  },
  {
   "cell_type": "markdown",
   "id": "fac8382e",
   "metadata": {},
   "source": [
    "### 타이머 시간은 무의미 ?\n",
    "### doll_id 컬럼별로 타이머 설정 횟수 컬럼 생성"
   ]
  },
  {
   "cell_type": "code",
   "execution_count": 92,
   "id": "23fb1c05",
   "metadata": {},
   "outputs": [],
   "source": [
    "c_t = [\"custom_timer1\", \"custom_timer2\", \"custom_timer3\", \"custom_timer4\", \"custom_timer5\"]"
   ]
  },
  {
   "cell_type": "code",
   "execution_count": 93,
   "id": "d9f411d1",
   "metadata": {},
   "outputs": [
    {
     "data": {
      "text/html": [
       "<div>\n",
       "<style scoped>\n",
       "    .dataframe tbody tr th:only-of-type {\n",
       "        vertical-align: middle;\n",
       "    }\n",
       "\n",
       "    .dataframe tbody tr th {\n",
       "        vertical-align: top;\n",
       "    }\n",
       "\n",
       "    .dataframe thead th {\n",
       "        text-align: right;\n",
       "    }\n",
       "</style>\n",
       "<table border=\"1\" class=\"dataframe\">\n",
       "  <thead>\n",
       "    <tr style=\"text-align: right;\">\n",
       "      <th></th>\n",
       "      <th>doll_id</th>\n",
       "      <th>battery</th>\n",
       "      <th>active_monitor</th>\n",
       "      <th>성별</th>\n",
       "      <th>birthday</th>\n",
       "      <th>종교</th>\n",
       "      <th>기상</th>\n",
       "      <th>아침</th>\n",
       "      <th>점심</th>\n",
       "      <th>저녁</th>\n",
       "      <th>취침</th>\n",
       "      <th>is_edited</th>\n",
       "      <th>아침식전_복용</th>\n",
       "      <th>아침식후_복용</th>\n",
       "      <th>점심식전_복용</th>\n",
       "      <th>점심식후_복용</th>\n",
       "      <th>저녁식전_복용</th>\n",
       "      <th>저녁식후_복용</th>\n",
       "      <th>취침전_복용</th>\n",
       "      <th>환기</th>\n",
       "      <th>산책</th>\n",
       "      <th>당뇨</th>\n",
       "      <th>고지혈</th>\n",
       "      <th>고혈압</th>\n",
       "      <th>connection_type</th>\n",
       "      <th>no_alarm</th>\n",
       "      <th>custom_timer1</th>\n",
       "      <th>custom_timer2</th>\n",
       "      <th>custom_timer3</th>\n",
       "      <th>custom_timer4</th>\n",
       "      <th>custom_timer5</th>\n",
       "      <th>religion_alarm</th>\n",
       "      <th>calender_type</th>\n",
       "      <th>is_active_detect</th>\n",
       "      <th>appellation</th>\n",
       "      <th>right_ear_function</th>\n",
       "      <th>left_ear_function</th>\n",
       "      <th>opt_reg_date</th>\n",
       "    </tr>\n",
       "  </thead>\n",
       "  <tbody>\n",
       "    <tr>\n",
       "      <th>1367</th>\n",
       "      <td>127043</td>\n",
       "      <td>91</td>\n",
       "      <td>24</td>\n",
       "      <td>여</td>\n",
       "      <td>1942-10-15</td>\n",
       "      <td>무교</td>\n",
       "      <td>7</td>\n",
       "      <td>8</td>\n",
       "      <td>12</td>\n",
       "      <td>19</td>\n",
       "      <td>21</td>\n",
       "      <td>0</td>\n",
       "      <td>0</td>\n",
       "      <td>1</td>\n",
       "      <td>0</td>\n",
       "      <td>0</td>\n",
       "      <td>0</td>\n",
       "      <td>0</td>\n",
       "      <td>0</td>\n",
       "      <td>1</td>\n",
       "      <td>1</td>\n",
       "      <td>0.0000</td>\n",
       "      <td>0.0000</td>\n",
       "      <td>0.0000</td>\n",
       "      <td>CAT1</td>\n",
       "      <td>0.0000</td>\n",
       "      <td>:00</td>\n",
       "      <td>NaN</td>\n",
       "      <td>NaN</td>\n",
       "      <td>NaN</td>\n",
       "      <td>NaN</td>\n",
       "      <td>0.0000</td>\n",
       "      <td>1.0000</td>\n",
       "      <td>0.0000</td>\n",
       "      <td>10,000.0000</td>\n",
       "      <td>1010000</td>\n",
       "      <td>0001101</td>\n",
       "      <td>2019-10-14</td>\n",
       "    </tr>\n",
       "    <tr>\n",
       "      <th>1729</th>\n",
       "      <td>127530</td>\n",
       "      <td>10</td>\n",
       "      <td>24</td>\n",
       "      <td>여</td>\n",
       "      <td>1944-04-21</td>\n",
       "      <td>기독교</td>\n",
       "      <td>7</td>\n",
       "      <td>10</td>\n",
       "      <td>15</td>\n",
       "      <td>18</td>\n",
       "      <td>0</td>\n",
       "      <td>0</td>\n",
       "      <td>1</td>\n",
       "      <td>0</td>\n",
       "      <td>0</td>\n",
       "      <td>0</td>\n",
       "      <td>0</td>\n",
       "      <td>1</td>\n",
       "      <td>0</td>\n",
       "      <td>1</td>\n",
       "      <td>1</td>\n",
       "      <td>0.0000</td>\n",
       "      <td>1.0000</td>\n",
       "      <td>1.0000</td>\n",
       "      <td>CAT1</td>\n",
       "      <td>0.0000</td>\n",
       "      <td>:00</td>\n",
       "      <td>NaN</td>\n",
       "      <td>NaN</td>\n",
       "      <td>NaN</td>\n",
       "      <td>NaN</td>\n",
       "      <td>0.0000</td>\n",
       "      <td>0.0000</td>\n",
       "      <td>0.0000</td>\n",
       "      <td>10,000.0000</td>\n",
       "      <td>0010001</td>\n",
       "      <td>0000010</td>\n",
       "      <td>2020-01-08</td>\n",
       "    </tr>\n",
       "    <tr>\n",
       "      <th>2684</th>\n",
       "      <td>129411</td>\n",
       "      <td>100</td>\n",
       "      <td>24</td>\n",
       "      <td>여</td>\n",
       "      <td>1943-07-18</td>\n",
       "      <td>무교</td>\n",
       "      <td>8</td>\n",
       "      <td>8</td>\n",
       "      <td>14</td>\n",
       "      <td>18</td>\n",
       "      <td>19</td>\n",
       "      <td>0</td>\n",
       "      <td>0</td>\n",
       "      <td>1</td>\n",
       "      <td>0</td>\n",
       "      <td>1</td>\n",
       "      <td>0</td>\n",
       "      <td>1</td>\n",
       "      <td>0</td>\n",
       "      <td>0</td>\n",
       "      <td>0</td>\n",
       "      <td>0.0000</td>\n",
       "      <td>0.0000</td>\n",
       "      <td>1.0000</td>\n",
       "      <td>CAT1</td>\n",
       "      <td>1.0000</td>\n",
       "      <td>:00</td>\n",
       "      <td>NaN</td>\n",
       "      <td>NaN</td>\n",
       "      <td>NaN</td>\n",
       "      <td>NaN</td>\n",
       "      <td>0.0000</td>\n",
       "      <td>0.0000</td>\n",
       "      <td>0.0000</td>\n",
       "      <td>10,000.0000</td>\n",
       "      <td>0010000</td>\n",
       "      <td>0010100</td>\n",
       "      <td>2020-08-04</td>\n",
       "    </tr>\n",
       "    <tr>\n",
       "      <th>4446</th>\n",
       "      <td>131699</td>\n",
       "      <td>0</td>\n",
       "      <td>48</td>\n",
       "      <td>여</td>\n",
       "      <td>1934-11-19</td>\n",
       "      <td>불교</td>\n",
       "      <td>0</td>\n",
       "      <td>7</td>\n",
       "      <td>12</td>\n",
       "      <td>17</td>\n",
       "      <td>9</td>\n",
       "      <td>0</td>\n",
       "      <td>0</td>\n",
       "      <td>0</td>\n",
       "      <td>0</td>\n",
       "      <td>0</td>\n",
       "      <td>0</td>\n",
       "      <td>0</td>\n",
       "      <td>0</td>\n",
       "      <td>1</td>\n",
       "      <td>1</td>\n",
       "      <td>0.0000</td>\n",
       "      <td>0.0000</td>\n",
       "      <td>0.0000</td>\n",
       "      <td>CAT1</td>\n",
       "      <td>1.0000</td>\n",
       "      <td>:00</td>\n",
       "      <td>NaN</td>\n",
       "      <td>NaN</td>\n",
       "      <td>NaN</td>\n",
       "      <td>NaN</td>\n",
       "      <td>0.0000</td>\n",
       "      <td>1.0000</td>\n",
       "      <td>0.0000</td>\n",
       "      <td>10,000.0000</td>\n",
       "      <td>0010000</td>\n",
       "      <td>0000001</td>\n",
       "      <td>2020-10-13</td>\n",
       "    </tr>\n",
       "    <tr>\n",
       "      <th>4538</th>\n",
       "      <td>131792</td>\n",
       "      <td>50</td>\n",
       "      <td>24</td>\n",
       "      <td>여</td>\n",
       "      <td>1940-02-20</td>\n",
       "      <td>무교</td>\n",
       "      <td>8</td>\n",
       "      <td>9</td>\n",
       "      <td>12</td>\n",
       "      <td>18</td>\n",
       "      <td>21</td>\n",
       "      <td>0</td>\n",
       "      <td>0</td>\n",
       "      <td>1</td>\n",
       "      <td>0</td>\n",
       "      <td>0</td>\n",
       "      <td>0</td>\n",
       "      <td>1</td>\n",
       "      <td>0</td>\n",
       "      <td>1</td>\n",
       "      <td>0</td>\n",
       "      <td>1.0000</td>\n",
       "      <td>0.0000</td>\n",
       "      <td>1.0000</td>\n",
       "      <td>CAT1</td>\n",
       "      <td>0.0000</td>\n",
       "      <td>:00</td>\n",
       "      <td>NaN</td>\n",
       "      <td>NaN</td>\n",
       "      <td>NaN</td>\n",
       "      <td>NaN</td>\n",
       "      <td>0.0000</td>\n",
       "      <td>1.0000</td>\n",
       "      <td>0.0000</td>\n",
       "      <td>10,000.0000</td>\n",
       "      <td>0010110</td>\n",
       "      <td>0010101</td>\n",
       "      <td>2020-10-28</td>\n",
       "    </tr>\n",
       "    <tr>\n",
       "      <th>4615</th>\n",
       "      <td>131869</td>\n",
       "      <td>64</td>\n",
       "      <td>24</td>\n",
       "      <td>여</td>\n",
       "      <td>1947-04-20</td>\n",
       "      <td>불교</td>\n",
       "      <td>7</td>\n",
       "      <td>8</td>\n",
       "      <td>12</td>\n",
       "      <td>17</td>\n",
       "      <td>21</td>\n",
       "      <td>0</td>\n",
       "      <td>0</td>\n",
       "      <td>1</td>\n",
       "      <td>0</td>\n",
       "      <td>1</td>\n",
       "      <td>0</td>\n",
       "      <td>1</td>\n",
       "      <td>0</td>\n",
       "      <td>1</td>\n",
       "      <td>1</td>\n",
       "      <td>0.0000</td>\n",
       "      <td>0.0000</td>\n",
       "      <td>0.0000</td>\n",
       "      <td>CAT1</td>\n",
       "      <td>1.0000</td>\n",
       "      <td>:00</td>\n",
       "      <td>NaN</td>\n",
       "      <td>NaN</td>\n",
       "      <td>NaN</td>\n",
       "      <td>NaN</td>\n",
       "      <td>1.0000</td>\n",
       "      <td>0.0000</td>\n",
       "      <td>0.0000</td>\n",
       "      <td>10,000.0000</td>\n",
       "      <td>1000100</td>\n",
       "      <td>0101010</td>\n",
       "      <td>2020-11-03</td>\n",
       "    </tr>\n",
       "    <tr>\n",
       "      <th>4690</th>\n",
       "      <td>131944</td>\n",
       "      <td>0</td>\n",
       "      <td>24</td>\n",
       "      <td>남</td>\n",
       "      <td>1945-07-10</td>\n",
       "      <td>무교</td>\n",
       "      <td>7</td>\n",
       "      <td>8</td>\n",
       "      <td>1</td>\n",
       "      <td>19</td>\n",
       "      <td>21</td>\n",
       "      <td>0</td>\n",
       "      <td>0</td>\n",
       "      <td>1</td>\n",
       "      <td>0</td>\n",
       "      <td>0</td>\n",
       "      <td>0</td>\n",
       "      <td>1</td>\n",
       "      <td>0</td>\n",
       "      <td>1</td>\n",
       "      <td>0</td>\n",
       "      <td>0.0000</td>\n",
       "      <td>0.0000</td>\n",
       "      <td>0.0000</td>\n",
       "      <td>CAT1</td>\n",
       "      <td>0.0000</td>\n",
       "      <td>:00</td>\n",
       "      <td>NaN</td>\n",
       "      <td>NaN</td>\n",
       "      <td>NaN</td>\n",
       "      <td>NaN</td>\n",
       "      <td>0.0000</td>\n",
       "      <td>0.0000</td>\n",
       "      <td>0.0000</td>\n",
       "      <td>10,000.0000</td>\n",
       "      <td>1110110</td>\n",
       "      <td>1110101</td>\n",
       "      <td>2020-11-10</td>\n",
       "    </tr>\n",
       "    <tr>\n",
       "      <th>6094</th>\n",
       "      <td>133358</td>\n",
       "      <td>100</td>\n",
       "      <td>12</td>\n",
       "      <td>여</td>\n",
       "      <td>1940-01-05</td>\n",
       "      <td>무교</td>\n",
       "      <td>8</td>\n",
       "      <td>9</td>\n",
       "      <td>12</td>\n",
       "      <td>18</td>\n",
       "      <td>21</td>\n",
       "      <td>0</td>\n",
       "      <td>0</td>\n",
       "      <td>1</td>\n",
       "      <td>0</td>\n",
       "      <td>0</td>\n",
       "      <td>0</td>\n",
       "      <td>0</td>\n",
       "      <td>0</td>\n",
       "      <td>0</td>\n",
       "      <td>0</td>\n",
       "      <td>0.0000</td>\n",
       "      <td>0.0000</td>\n",
       "      <td>0.0000</td>\n",
       "      <td>CAT1</td>\n",
       "      <td>0.0000</td>\n",
       "      <td>:00</td>\n",
       "      <td>NaN</td>\n",
       "      <td>NaN</td>\n",
       "      <td>NaN</td>\n",
       "      <td>NaN</td>\n",
       "      <td>0.0000</td>\n",
       "      <td>0.0000</td>\n",
       "      <td>0.0000</td>\n",
       "      <td>1,000.0000</td>\n",
       "      <td>011000111</td>\n",
       "      <td>011000111</td>\n",
       "      <td>2021-03-15</td>\n",
       "    </tr>\n",
       "    <tr>\n",
       "      <th>6134</th>\n",
       "      <td>133398</td>\n",
       "      <td>84</td>\n",
       "      <td>10</td>\n",
       "      <td>남</td>\n",
       "      <td>1935-03-27</td>\n",
       "      <td>무교</td>\n",
       "      <td>7</td>\n",
       "      <td>9</td>\n",
       "      <td>12</td>\n",
       "      <td>17</td>\n",
       "      <td>20</td>\n",
       "      <td>1</td>\n",
       "      <td>0</td>\n",
       "      <td>1</td>\n",
       "      <td>0</td>\n",
       "      <td>0</td>\n",
       "      <td>0</td>\n",
       "      <td>1</td>\n",
       "      <td>0</td>\n",
       "      <td>1</td>\n",
       "      <td>1</td>\n",
       "      <td>0.0000</td>\n",
       "      <td>0.0000</td>\n",
       "      <td>0.0000</td>\n",
       "      <td>CAT1</td>\n",
       "      <td>1.0000</td>\n",
       "      <td>:00</td>\n",
       "      <td>NaN</td>\n",
       "      <td>NaN</td>\n",
       "      <td>NaN</td>\n",
       "      <td>NaN</td>\n",
       "      <td>0.0000</td>\n",
       "      <td>1.0000</td>\n",
       "      <td>0.0000</td>\n",
       "      <td>10,000.0000</td>\n",
       "      <td>0000000</td>\n",
       "      <td>0000000</td>\n",
       "      <td>2021-03-17</td>\n",
       "    </tr>\n",
       "  </tbody>\n",
       "</table>\n",
       "</div>"
      ],
      "text/plain": [
       "      doll_id  battery  active_monitor 성별    birthday   종교  기상  아침  점심  저녁  \\\n",
       "1367   127043       91              24  여  1942-10-15   무교   7   8  12  19   \n",
       "1729   127530       10              24  여  1944-04-21  기독교   7  10  15  18   \n",
       "2684   129411      100              24  여  1943-07-18   무교   8   8  14  18   \n",
       "4446   131699        0              48  여  1934-11-19   불교   0   7  12  17   \n",
       "4538   131792       50              24  여  1940-02-20   무교   8   9  12  18   \n",
       "4615   131869       64              24  여  1947-04-20   불교   7   8  12  17   \n",
       "4690   131944        0              24  남  1945-07-10   무교   7   8   1  19   \n",
       "6094   133358      100              12  여  1940-01-05   무교   8   9  12  18   \n",
       "6134   133398       84              10  남  1935-03-27   무교   7   9  12  17   \n",
       "\n",
       "      취침  is_edited 아침식전_복용 아침식후_복용 점심식전_복용 점심식후_복용 저녁식전_복용 저녁식후_복용 취침전_복용  \\\n",
       "1367  21          0       0       1       0       0       0       0      0   \n",
       "1729   0          0       1       0       0       0       0       1      0   \n",
       "2684  19          0       0       1       0       1       0       1      0   \n",
       "4446   9          0       0       0       0       0       0       0      0   \n",
       "4538  21          0       0       1       0       0       0       1      0   \n",
       "4615  21          0       0       1       0       1       0       1      0   \n",
       "4690  21          0       0       1       0       0       0       1      0   \n",
       "6094  21          0       0       1       0       0       0       0      0   \n",
       "6134  20          1       0       1       0       0       0       1      0   \n",
       "\n",
       "      환기  산책     당뇨    고지혈    고혈압 connection_type  no_alarm custom_timer1  \\\n",
       "1367   1   1 0.0000 0.0000 0.0000            CAT1    0.0000           :00   \n",
       "1729   1   1 0.0000 1.0000 1.0000            CAT1    0.0000           :00   \n",
       "2684   0   0 0.0000 0.0000 1.0000            CAT1    1.0000           :00   \n",
       "4446   1   1 0.0000 0.0000 0.0000            CAT1    1.0000           :00   \n",
       "4538   1   0 1.0000 0.0000 1.0000            CAT1    0.0000           :00   \n",
       "4615   1   1 0.0000 0.0000 0.0000            CAT1    1.0000           :00   \n",
       "4690   1   0 0.0000 0.0000 0.0000            CAT1    0.0000           :00   \n",
       "6094   0   0 0.0000 0.0000 0.0000            CAT1    0.0000           :00   \n",
       "6134   1   1 0.0000 0.0000 0.0000            CAT1    1.0000           :00   \n",
       "\n",
       "     custom_timer2 custom_timer3 custom_timer4 custom_timer5  religion_alarm  \\\n",
       "1367           NaN           NaN           NaN           NaN          0.0000   \n",
       "1729           NaN           NaN           NaN           NaN          0.0000   \n",
       "2684           NaN           NaN           NaN           NaN          0.0000   \n",
       "4446           NaN           NaN           NaN           NaN          0.0000   \n",
       "4538           NaN           NaN           NaN           NaN          0.0000   \n",
       "4615           NaN           NaN           NaN           NaN          1.0000   \n",
       "4690           NaN           NaN           NaN           NaN          0.0000   \n",
       "6094           NaN           NaN           NaN           NaN          0.0000   \n",
       "6134           NaN           NaN           NaN           NaN          0.0000   \n",
       "\n",
       "      calender_type  is_active_detect  appellation right_ear_function  \\\n",
       "1367         1.0000            0.0000  10,000.0000            1010000   \n",
       "1729         0.0000            0.0000  10,000.0000            0010001   \n",
       "2684         0.0000            0.0000  10,000.0000            0010000   \n",
       "4446         1.0000            0.0000  10,000.0000            0010000   \n",
       "4538         1.0000            0.0000  10,000.0000            0010110   \n",
       "4615         0.0000            0.0000  10,000.0000            1000100   \n",
       "4690         0.0000            0.0000  10,000.0000            1110110   \n",
       "6094         0.0000            0.0000   1,000.0000          011000111   \n",
       "6134         1.0000            0.0000  10,000.0000            0000000   \n",
       "\n",
       "     left_ear_function opt_reg_date  \n",
       "1367           0001101   2019-10-14  \n",
       "1729           0000010   2020-01-08  \n",
       "2684           0010100   2020-08-04  \n",
       "4446           0000001   2020-10-13  \n",
       "4538           0010101   2020-10-28  \n",
       "4615           0101010   2020-11-03  \n",
       "4690           1110101   2020-11-10  \n",
       "6094         011000111   2021-03-15  \n",
       "6134           0000000   2021-03-17  "
      ]
     },
     "execution_count": 93,
     "metadata": {},
     "output_type": "execute_result"
    }
   ],
   "source": [
    "df_doll[df_doll.custom_timer1==\":00\"]"
   ]
  },
  {
   "cell_type": "code",
   "execution_count": 94,
   "id": "3cc3a0c4",
   "metadata": {},
   "outputs": [],
   "source": [
    "b_id = df_doll[df_doll[\"custom_timer1\"].isnull()].index"
   ]
  },
  {
   "cell_type": "code",
   "execution_count": 95,
   "id": "6cd20f2b",
   "metadata": {},
   "outputs": [
    {
     "data": {
      "text/plain": [
       "487"
      ]
     },
     "execution_count": 95,
     "metadata": {},
     "output_type": "execute_result"
    }
   ],
   "source": [
    "len(b_id)"
   ]
  },
  {
   "cell_type": "code",
   "execution_count": 96,
   "id": "cd65c065",
   "metadata": {},
   "outputs": [],
   "source": [
    "for i in c_t: \n",
    "    df_doll.loc[df_doll[i].notnull(), i]=1\n",
    "    df_doll.loc[df_doll[i].isnull(), i]=0"
   ]
  },
  {
   "cell_type": "code",
   "execution_count": 97,
   "id": "82e65505",
   "metadata": {},
   "outputs": [],
   "source": [
    "df_doll[\"reli_cnt\"]= 0"
   ]
  },
  {
   "cell_type": "code",
   "execution_count": 98,
   "id": "d3a809a8",
   "metadata": {},
   "outputs": [],
   "source": [
    "for i in c_t: \n",
    "    df_doll[\"reli_cnt\"]+=df_doll[i]"
   ]
  },
  {
   "cell_type": "code",
   "execution_count": 99,
   "id": "0d6f1ae5",
   "metadata": {},
   "outputs": [],
   "source": [
    "df_doll.loc[b_id, \"reli_cnt\"] = np.nan"
   ]
  },
  {
   "cell_type": "code",
   "execution_count": 100,
   "id": "8c04b4b8",
   "metadata": {},
   "outputs": [],
   "source": [
    "df_doll = df_doll.drop(columns = c_t )"
   ]
  },
  {
   "cell_type": "markdown",
   "id": "145c02bd",
   "metadata": {},
   "source": [
    "## religion_alarm : 종교 말씀 알람 설정 (1:설정, 0:해제)"
   ]
  },
  {
   "cell_type": "code",
   "execution_count": 101,
   "id": "ce00b6ea",
   "metadata": {},
   "outputs": [
    {
     "data": {
      "text/plain": [
       "array([ 0.,  1., nan])"
      ]
     },
     "execution_count": 101,
     "metadata": {},
     "output_type": "execute_result"
    }
   ],
   "source": [
    "df_doll.religion_alarm.unique()"
   ]
  },
  {
   "cell_type": "markdown",
   "id": "00c5011f",
   "metadata": {},
   "source": [
    "## calender_type : 달력 양/음 설정"
   ]
  },
  {
   "cell_type": "code",
   "execution_count": 102,
   "id": "c44d00c4",
   "metadata": {},
   "outputs": [
    {
     "data": {
      "text/plain": [
       "array([ 0.,  1., nan])"
      ]
     },
     "execution_count": 102,
     "metadata": {},
     "output_type": "execute_result"
    }
   ],
   "source": [
    "df_doll.calender_type.unique()"
   ]
  },
  {
   "cell_type": "markdown",
   "id": "11f4f966",
   "metadata": {},
   "source": [
    "## is_active_detect : 사용하지 않음"
   ]
  },
  {
   "cell_type": "code",
   "execution_count": 103,
   "id": "a4b11df1",
   "metadata": {
    "scrolled": true
   },
   "outputs": [
    {
     "data": {
      "text/plain": [
       "array([ 0., nan])"
      ]
     },
     "execution_count": 103,
     "metadata": {},
     "output_type": "execute_result"
    }
   ],
   "source": [
    "df_doll.is_active_detect.unique() "
   ]
  },
  {
   "cell_type": "code",
   "execution_count": 104,
   "id": "4bd7dc19",
   "metadata": {},
   "outputs": [],
   "source": [
    "df_doll = df_doll.drop(columns = [\"is_active_detect\"])"
   ]
  },
  {
   "cell_type": "markdown",
   "id": "6281d621",
   "metadata": {},
   "source": [
    "## appellation : 호칭정보 (10000:할머니/할아버지, 00100:어머니/아버지, 01000:엄마/아빠 )"
   ]
  },
  {
   "cell_type": "code",
   "execution_count": 105,
   "id": "7faee9f8",
   "metadata": {},
   "outputs": [
    {
     "data": {
      "text/plain": [
       "array([10000.,   100.,  1000.,    nan,     0.])"
      ]
     },
     "execution_count": 105,
     "metadata": {},
     "output_type": "execute_result"
    }
   ],
   "source": [
    "df_doll.appellation.unique()"
   ]
  },
  {
   "cell_type": "code",
   "execution_count": 106,
   "id": "636990eb",
   "metadata": {},
   "outputs": [],
   "source": [
    "i = \"appellation\"\n",
    "df_doll[\"호칭1\"] = df_doll[i]\n",
    "df_doll.loc[df_doll[i]==0, \"호칭1\"] = 0\n",
    "df_doll.loc[df_doll[i]==10000, \"호칭1\"] = 1\n",
    "df_doll.loc[df_doll[i]==100, \"호칭1\"] = 0\n",
    "df_doll.loc[df_doll[i]==1000, \"호칭1\"] = 0"
   ]
  },
  {
   "cell_type": "code",
   "execution_count": 107,
   "id": "30897376",
   "metadata": {},
   "outputs": [],
   "source": [
    "i = \"appellation\"\n",
    "df_doll[\"호칭2\"] = df_doll[i]\n",
    "df_doll.loc[df_doll[i]==0, \"호칭2\"] = 0\n",
    "df_doll.loc[df_doll[i]==10000, \"호칭2\"] = 0\n",
    "df_doll.loc[df_doll[i]==100, \"호칭2\"] = 1\n",
    "df_doll.loc[df_doll[i]==1000, \"호칭2\"] = 0"
   ]
  },
  {
   "cell_type": "code",
   "execution_count": 108,
   "id": "08d6a4dc",
   "metadata": {},
   "outputs": [],
   "source": [
    "i = \"appellation\"\n",
    "df_doll[\"호칭3\"] = df_doll[i]\n",
    "df_doll.loc[df_doll[i]==0, \"호칭3\"] = 0\n",
    "df_doll.loc[df_doll[i]==10000, \"호칭3\"] = 0\n",
    "df_doll.loc[df_doll[i]==100, \"호칭3\"] = 0\n",
    "df_doll.loc[df_doll[i]==1000, \"호칭3\"] = 1"
   ]
  },
  {
   "cell_type": "code",
   "execution_count": 109,
   "id": "bb5aee34",
   "metadata": {},
   "outputs": [
    {
     "name": "stdout",
     "output_type": "stream",
     "text": [
      "[ 1.  0. nan]\n",
      "[ 0.  1. nan]\n",
      "[ 0.  1. nan]\n"
     ]
    }
   ],
   "source": [
    "for i in range(1, 4):\n",
    "    print(df_doll[\"호칭{}\".format(i)].unique())"
   ]
  },
  {
   "cell_type": "code",
   "execution_count": 110,
   "id": "be0e44b6",
   "metadata": {},
   "outputs": [
    {
     "name": "stdout",
     "output_type": "stream",
     "text": [
      "NA check\n",
      "성별 1 -> 0.013 %\n",
      "종교 1 -> 0.013 %\n",
      "당뇨 7 -> 0.09 %\n",
      "고지혈 7 -> 0.09 %\n",
      "고혈압 7 -> 0.09 %\n",
      "connection_type 15 -> 0.193 %\n",
      "no_alarm 15 -> 0.193 %\n",
      "religion_alarm 15 -> 0.193 %\n",
      "calender_type 15 -> 0.193 %\n",
      "appellation 17 -> 0.219 %\n",
      "right_ear_function 15 -> 0.193 %\n",
      "left_ear_function 15 -> 0.193 %\n",
      "reli_cnt 487 -> 6.261 %\n",
      "호칭1 17 -> 0.219 %\n",
      "호칭2 17 -> 0.219 %\n",
      "호칭3 17 -> 0.219 %\n"
     ]
    }
   ],
   "source": [
    "check_NA(df_doll)"
   ]
  },
  {
   "cell_type": "code",
   "execution_count": 111,
   "id": "852a3671",
   "metadata": {
    "scrolled": true
   },
   "outputs": [],
   "source": [
    "df_doll = df_doll.drop(columns = [\"appellation\"])"
   ]
  },
  {
   "cell_type": "markdown",
   "id": "fcdfa04b",
   "metadata": {},
   "source": [
    "## right_ear_function : 오른쪽 귀 기능 정보 (7자리) (1:설정, 0:해제)"
   ]
  },
  {
   "cell_type": "markdown",
   "id": "0b1ed4c4",
   "metadata": {},
   "source": [
    "## left_ear_function : 왼쪽 귀 기능 정보"
   ]
  },
  {
   "cell_type": "markdown",
   "id": "4ad6fa36",
   "metadata": {},
   "source": [
    "- 오른쪽 귀 기능 정보\n",
    "7자리로 각 프로그램 설정을 표현한다. 맨 좌측 부터 회상놀이, 영어교실, 음악, 종교말씀, 이야기, 퀴즈, 체조를 표현\n",
    "설정은 1, 해제는 0\n",
    "ex) 1100100 -> 회상놀이, 영어교실, 이야기\n",
    "\n",
    "- 귀 기능이 9자리인 경우\n",
    "맨 좌측 부터 영어교실, 이야기, 퀴즈, 종교말씀, 종교음악, 클래식, 트로트, 회상놀이, 체조를 표현"
   ]
  },
  {
   "cell_type": "markdown",
   "id": "bafe0e88",
   "metadata": {},
   "source": [
    "<ear table에 있는 columns>\n",
    "- 'story', 'religion', 'music', 'english','rememberance', 'quiz', 'gymnastics', 'classic_music','religion_music'\n",
    "### music=트로트"
   ]
  },
  {
   "cell_type": "code",
   "execution_count": 112,
   "id": "07ca3f84",
   "metadata": {},
   "outputs": [],
   "source": [
    "def len_f(x):\n",
    "    if len(x)==7: return \"s\"\n",
    "    elif len(x)==9: return \"n\"\n",
    "    else: return np.nan"
   ]
  },
  {
   "cell_type": "code",
   "execution_count": 113,
   "id": "315717fc",
   "metadata": {},
   "outputs": [],
   "source": [
    "df_doll[\"right_ear_function\"] = df_doll[\"right_ear_function\"].astype(\"str\")\n",
    "df_doll[\"left_ear_function\"] = df_doll[\"left_ear_function\"].astype(\"str\")\n",
    "df_doll[\"rlen\"]= df_doll[\"right_ear_function\"].apply(len_f)\n",
    "df_doll[\"llen\"]= df_doll[\"left_ear_function\"].apply(len_f)"
   ]
  },
  {
   "cell_type": "code",
   "execution_count": 114,
   "id": "00ba58af",
   "metadata": {},
   "outputs": [
    {
     "data": {
      "text/plain": [
       "s    6312\n",
       "n    1448\n",
       "Name: rlen, dtype: int64"
      ]
     },
     "execution_count": 114,
     "metadata": {},
     "output_type": "execute_result"
    }
   ],
   "source": [
    "df_doll[\"rlen\"].value_counts()"
   ]
  },
  {
   "cell_type": "code",
   "execution_count": 115,
   "id": "95b9aeba",
   "metadata": {},
   "outputs": [
    {
     "data": {
      "text/plain": [
       "s    6313\n",
       "n    1448\n",
       "Name: llen, dtype: int64"
      ]
     },
     "execution_count": 115,
     "metadata": {},
     "output_type": "execute_result"
    }
   ],
   "source": [
    "df_doll[\"llen\"].value_counts()"
   ]
  },
  {
   "cell_type": "code",
   "execution_count": 116,
   "id": "951462c7",
   "metadata": {},
   "outputs": [],
   "source": [
    "r_id = df_doll[df_doll[\"rlen\"].isnull()].index\n",
    "l_id = df_doll[df_doll[\"llen\"].isnull()].index"
   ]
  },
  {
   "cell_type": "code",
   "execution_count": 117,
   "id": "70ef6f23",
   "metadata": {
    "scrolled": true
   },
   "outputs": [
    {
     "name": "stderr",
     "output_type": "stream",
     "text": [
      "/var/folders/hg/rb_vrhbd7q7f0xrczk3kjbjr0000gn/T/ipykernel_1290/2674973670.py:1: FutureWarning: Index.__and__ operating as a set operation is deprecated, in the future this will be a logical operation matching Series.__and__.  Use index.intersection(other) instead\n",
      "  r_id&l_id\n"
     ]
    },
    {
     "data": {
      "text/plain": [
       "Int64Index([1926, 7763, 7764, 7765, 7766, 7767, 7768, 7769, 7770, 7771, 7772,\n",
       "            7773, 7774, 7775, 7776, 7777],\n",
       "           dtype='int64')"
      ]
     },
     "execution_count": 117,
     "metadata": {},
     "output_type": "execute_result"
    }
   ],
   "source": [
    "r_id&l_id"
   ]
  },
  {
   "cell_type": "code",
   "execution_count": 118,
   "id": "8f5ac99e",
   "metadata": {},
   "outputs": [
    {
     "data": {
      "text/plain": [
       "{1686}"
      ]
     },
     "execution_count": 118,
     "metadata": {},
     "output_type": "execute_result"
    }
   ],
   "source": [
    "set(l_id)-set(r_id)"
   ]
  },
  {
   "cell_type": "code",
   "execution_count": 119,
   "id": "27a678ce",
   "metadata": {},
   "outputs": [
    {
     "data": {
      "text/plain": [
       "{1484, 1946}"
      ]
     },
     "execution_count": 119,
     "metadata": {},
     "output_type": "execute_result"
    }
   ],
   "source": [
    "set(r_id)-set(l_id)"
   ]
  },
  {
   "cell_type": "code",
   "execution_count": 120,
   "id": "06ba45a3",
   "metadata": {},
   "outputs": [],
   "source": [
    "col_ear = ['회상', '영어', '음악', '종교말씀', '종교음악', '이야기', '퀴즈', '체조', '클래식']"
   ]
  },
  {
   "cell_type": "code",
   "execution_count": 121,
   "id": "f2e54e45",
   "metadata": {},
   "outputs": [],
   "source": [
    "df_doll['회상'] = 0\n",
    "df_doll[\"영어\"] = 0\n",
    "df_doll['음악'] = 0\n",
    "df_doll['종교말씀'] = 0\n",
    "df_doll['종교음악'] = 0\n",
    "df_doll['이야기'] = 0\n",
    "df_doll['퀴즈'] = 0\n",
    "df_doll[\"체조\"] = 0\n",
    "df_doll['클래식'] = 0"
   ]
  },
  {
   "cell_type": "code",
   "execution_count": 122,
   "id": "ffabc6c2",
   "metadata": {},
   "outputs": [],
   "source": [
    "df_doll['회상2'] = 0\n",
    "df_doll[\"영어2\"] = 0\n",
    "df_doll['음악2'] = 0\n",
    "df_doll['종교말씀2'] = 0\n",
    "df_doll['종교음악2'] = 0\n",
    "df_doll['이야기2'] = 0\n",
    "df_doll['퀴즈2'] = 0\n",
    "df_doll[\"체조2\"] = 0\n",
    "df_doll['클래식2'] = 0"
   ]
  },
  {
   "cell_type": "code",
   "execution_count": 123,
   "id": "8c4a550d",
   "metadata": {},
   "outputs": [],
   "source": [
    "df_doll.loc[df_doll.rlen==\"s\", \"회상\"] = df_doll[df_doll.rlen==\"s\"]['right_ear_function'].str.slice(start=0, stop=1)\n",
    "df_doll.loc[df_doll.rlen==\"s\", \"영어\"]= df_doll[df_doll.rlen==\"s\"]['right_ear_function'].str.slice(start=1, stop=2)\n",
    "df_doll.loc[df_doll.rlen==\"s\", \"음악\"]= df_doll[df_doll.rlen==\"s\"]['right_ear_function'].str.slice(start=2, stop=3)\n",
    "df_doll.loc[df_doll.rlen==\"s\", \"종교말씀\"] = df_doll[df_doll.rlen==\"s\"]['right_ear_function'].str.slice(start=3, stop=4)\n",
    "df_doll.loc[df_doll.rlen==\"s\", \"이야기\"]  = df_doll[df_doll.rlen==\"s\"]['right_ear_function'].str.slice(start=4, stop=5)\n",
    "df_doll.loc[df_doll.rlen==\"s\", \"퀴즈\"] = df_doll[df_doll.rlen==\"s\"]['right_ear_function'].str.slice(start=5, stop=6)\n",
    "df_doll.loc[df_doll.rlen==\"s\", \"체조\"] = df_doll[df_doll.rlen==\"s\"]['right_ear_function'].str.slice(start=6)"
   ]
  },
  {
   "cell_type": "code",
   "execution_count": 124,
   "id": "1b6d70c6",
   "metadata": {},
   "outputs": [],
   "source": [
    "df_doll.loc[df_doll.llen==\"s\", \"회상2\"] = df_doll[df_doll.llen==\"s\"]['left_ear_function'].str.slice(start=0, stop=1)\n",
    "df_doll.loc[df_doll.llen==\"s\", \"영어2\"]= df_doll[df_doll.llen==\"s\"]['left_ear_function'].str.slice(start=1, stop=2)\n",
    "df_doll.loc[df_doll.llen==\"s\", \"음악2\"]= df_doll[df_doll.llen==\"s\"]['left_ear_function'].str.slice(start=2, stop=3)\n",
    "df_doll.loc[df_doll.llen==\"s\", \"종교말씀2\"] = df_doll[df_doll.llen==\"s\"]['left_ear_function'].str.slice(start=3, stop=4)\n",
    "df_doll.loc[df_doll.llen==\"s\", \"이야기2\"]  = df_doll[df_doll.llen==\"s\"]['left_ear_function'].str.slice(start=4, stop=5)\n",
    "df_doll.loc[df_doll.llen==\"s\", \"퀴즈2\"] = df_doll[df_doll.llen==\"s\"]['left_ear_function'].str.slice(start=5, stop=6)\n",
    "df_doll.loc[df_doll.llen==\"s\", \"체조2\"] = df_doll[df_doll.llen==\"s\"]['left_ear_function'].str.slice(start=6)"
   ]
  },
  {
   "cell_type": "code",
   "execution_count": 125,
   "id": "a4b5cd2b",
   "metadata": {},
   "outputs": [],
   "source": [
    "df_doll.loc[df_doll.rlen==\"n\", \"영어\"] = df_doll[df_doll.rlen==\"n\"]['right_ear_function'].str.slice(start=0, stop=1)\n",
    "df_doll.loc[df_doll.rlen==\"n\", \"이야기\"]= df_doll[df_doll.rlen==\"n\"]['right_ear_function'].str.slice(start=1, stop=2)\n",
    "df_doll.loc[df_doll.rlen==\"n\", \"퀴즈\"]= df_doll[df_doll.rlen==\"n\"]['right_ear_function'].str.slice(start=2, stop=3)\n",
    "df_doll.loc[df_doll.rlen==\"n\", \"종교말씀\"] = df_doll[df_doll.rlen==\"n\"]['right_ear_function'].str.slice(start=3, stop=4)\n",
    "df_doll.loc[df_doll.rlen==\"n\", \"종교음악\"]  = df_doll[df_doll.rlen==\"n\"]['right_ear_function'].str.slice(start=4, stop=5)\n",
    "df_doll.loc[df_doll.rlen==\"n\", \"클래식\"] = df_doll[df_doll.rlen==\"n\"]['right_ear_function'].str.slice(start=5, stop=6)\n",
    "df_doll.loc[df_doll.rlen==\"n\", \"음악\"] = df_doll[df_doll.rlen==\"n\"]['right_ear_function'].str.slice(start=6, stop=7)\n",
    "df_doll.loc[df_doll.rlen==\"n\", \"회상\"] = df_doll[df_doll.rlen==\"n\"]['right_ear_function'].str.slice(start=7, stop=8)\n",
    "df_doll.loc[df_doll.rlen==\"n\", \"체조\"] = df_doll[df_doll.rlen==\"n\"]['right_ear_function'].str.slice(start=8)"
   ]
  },
  {
   "cell_type": "code",
   "execution_count": 126,
   "id": "9366d65f",
   "metadata": {},
   "outputs": [],
   "source": [
    "df_doll.loc[df_doll.llen==\"n\", \"영어2\"] = df_doll[df_doll.llen==\"n\"]['left_ear_function'].str.slice(start=0, stop=1)\n",
    "df_doll.loc[df_doll.llen==\"n\", \"이야기2\"]= df_doll[df_doll.llen==\"n\"]['left_ear_function'].str.slice(start=1, stop=2)\n",
    "df_doll.loc[df_doll.llen==\"n\", \"퀴즈2\"]= df_doll[df_doll.llen==\"n\"]['left_ear_function'].str.slice(start=2, stop=3)\n",
    "df_doll.loc[df_doll.llen==\"n\", \"종교말씀2\"] = df_doll[df_doll.llen==\"n\"]['left_ear_function'].str.slice(start=3, stop=4)\n",
    "df_doll.loc[df_doll.llen==\"n\", \"종교음악2\"]  = df_doll[df_doll.llen==\"n\"]['left_ear_function'].str.slice(start=4, stop=5)\n",
    "df_doll.loc[df_doll.llen==\"n\", \"클래식2\"] = df_doll[df_doll.llen==\"n\"]['left_ear_function'].str.slice(start=5, stop=6)\n",
    "df_doll.loc[df_doll.llen==\"n\", \"음악2\"] = df_doll[df_doll.llen==\"n\"]['left_ear_function'].str.slice(start=6, stop=7)\n",
    "df_doll.loc[df_doll.llen==\"n\", \"회상2\"] = df_doll[df_doll.llen==\"n\"]['left_ear_function'].str.slice(start=7, stop=8)\n",
    "df_doll.loc[df_doll.llen==\"n\", \"체조2\"] = df_doll[df_doll.llen==\"n\"]['left_ear_function'].str.slice(start=8)"
   ]
  },
  {
   "cell_type": "code",
   "execution_count": 127,
   "id": "14ceb13a",
   "metadata": {},
   "outputs": [],
   "source": [
    "for i in col_ear:\n",
    "    df_doll[\"{}2\".format(i) ] = df_doll[\"{}2\".format(i) ].astype(\"int\")\n",
    "    df_doll[i] = df_doll[i].astype(\"int\")"
   ]
  },
  {
   "cell_type": "code",
   "execution_count": 128,
   "id": "4af19cd7",
   "metadata": {},
   "outputs": [],
   "source": [
    "for i in col_ear:\n",
    "    df_doll[i] = df_doll[i]+df_doll[\"{}2\".format(i)]"
   ]
  },
  {
   "cell_type": "code",
   "execution_count": 129,
   "id": "30997600",
   "metadata": {},
   "outputs": [],
   "source": [
    "for i in col_ear: \n",
    "    df_doll.loc[df_doll[i]>=1, i]=1 "
   ]
  },
  {
   "cell_type": "code",
   "execution_count": 130,
   "id": "df3a7eda",
   "metadata": {},
   "outputs": [
    {
     "name": "stdout",
     "output_type": "stream",
     "text": [
      "[0 1]\n",
      "[0 1]\n",
      "[0 1]\n",
      "[0 1]\n",
      "[0 1]\n",
      "[0 1]\n",
      "[1 0]\n",
      "[1 0]\n",
      "[0 1]\n"
     ]
    }
   ],
   "source": [
    "for i in col_ear: \n",
    "    print(df_doll[i].unique())"
   ]
  },
  {
   "cell_type": "code",
   "execution_count": 131,
   "id": "28c7d74d",
   "metadata": {},
   "outputs": [],
   "source": [
    "col_ear2 = ['회상', '영어', '음악', '종교말씀', '종교음악', '이야기', '퀴즈', '체조', '클래식',\n",
    "           \"right_ear_function\", \"left_ear_function\"]"
   ]
  },
  {
   "cell_type": "code",
   "execution_count": 132,
   "id": "7b5e2ced",
   "metadata": {},
   "outputs": [],
   "source": [
    "for i in col_ear:\n",
    "    df_doll.loc[r_id, i ] = np.nan\n",
    "    df_doll.loc[l_id, i ] = np.nan"
   ]
  },
  {
   "cell_type": "code",
   "execution_count": 133,
   "id": "438e3d5d",
   "metadata": {},
   "outputs": [
    {
     "data": {
      "text/html": [
       "<div>\n",
       "<style scoped>\n",
       "    .dataframe tbody tr th:only-of-type {\n",
       "        vertical-align: middle;\n",
       "    }\n",
       "\n",
       "    .dataframe tbody tr th {\n",
       "        vertical-align: top;\n",
       "    }\n",
       "\n",
       "    .dataframe thead th {\n",
       "        text-align: right;\n",
       "    }\n",
       "</style>\n",
       "<table border=\"1\" class=\"dataframe\">\n",
       "  <thead>\n",
       "    <tr style=\"text-align: right;\">\n",
       "      <th></th>\n",
       "      <th>회상</th>\n",
       "      <th>영어</th>\n",
       "      <th>음악</th>\n",
       "      <th>종교말씀</th>\n",
       "      <th>종교음악</th>\n",
       "      <th>이야기</th>\n",
       "      <th>퀴즈</th>\n",
       "      <th>체조</th>\n",
       "      <th>클래식</th>\n",
       "      <th>right_ear_function</th>\n",
       "      <th>left_ear_function</th>\n",
       "    </tr>\n",
       "  </thead>\n",
       "  <tbody>\n",
       "    <tr>\n",
       "      <th>7758</th>\n",
       "      <td>1.0000</td>\n",
       "      <td>1.0000</td>\n",
       "      <td>1.0000</td>\n",
       "      <td>0.0000</td>\n",
       "      <td>0.0000</td>\n",
       "      <td>1.0000</td>\n",
       "      <td>1.0000</td>\n",
       "      <td>1.0000</td>\n",
       "      <td>0.0000</td>\n",
       "      <td>1010101</td>\n",
       "      <td>1100010</td>\n",
       "    </tr>\n",
       "    <tr>\n",
       "      <th>7759</th>\n",
       "      <td>0.0000</td>\n",
       "      <td>1.0000</td>\n",
       "      <td>1.0000</td>\n",
       "      <td>0.0000</td>\n",
       "      <td>0.0000</td>\n",
       "      <td>0.0000</td>\n",
       "      <td>0.0000</td>\n",
       "      <td>0.0000</td>\n",
       "      <td>0.0000</td>\n",
       "      <td>0010000</td>\n",
       "      <td>0100000</td>\n",
       "    </tr>\n",
       "    <tr>\n",
       "      <th>7760</th>\n",
       "      <td>0.0000</td>\n",
       "      <td>0.0000</td>\n",
       "      <td>1.0000</td>\n",
       "      <td>0.0000</td>\n",
       "      <td>0.0000</td>\n",
       "      <td>1.0000</td>\n",
       "      <td>0.0000</td>\n",
       "      <td>0.0000</td>\n",
       "      <td>0.0000</td>\n",
       "      <td>0010000</td>\n",
       "      <td>0000100</td>\n",
       "    </tr>\n",
       "    <tr>\n",
       "      <th>7761</th>\n",
       "      <td>1.0000</td>\n",
       "      <td>1.0000</td>\n",
       "      <td>0.0000</td>\n",
       "      <td>0.0000</td>\n",
       "      <td>0.0000</td>\n",
       "      <td>1.0000</td>\n",
       "      <td>1.0000</td>\n",
       "      <td>1.0000</td>\n",
       "      <td>1.0000</td>\n",
       "      <td>000001000</td>\n",
       "      <td>111000011</td>\n",
       "    </tr>\n",
       "    <tr>\n",
       "      <th>7762</th>\n",
       "      <td>1.0000</td>\n",
       "      <td>1.0000</td>\n",
       "      <td>0.0000</td>\n",
       "      <td>0.0000</td>\n",
       "      <td>0.0000</td>\n",
       "      <td>1.0000</td>\n",
       "      <td>1.0000</td>\n",
       "      <td>1.0000</td>\n",
       "      <td>1.0000</td>\n",
       "      <td>100001010</td>\n",
       "      <td>011000001</td>\n",
       "    </tr>\n",
       "    <tr>\n",
       "      <th>7763</th>\n",
       "      <td>NaN</td>\n",
       "      <td>NaN</td>\n",
       "      <td>NaN</td>\n",
       "      <td>NaN</td>\n",
       "      <td>NaN</td>\n",
       "      <td>NaN</td>\n",
       "      <td>NaN</td>\n",
       "      <td>NaN</td>\n",
       "      <td>NaN</td>\n",
       "      <td>nan</td>\n",
       "      <td>nan</td>\n",
       "    </tr>\n",
       "    <tr>\n",
       "      <th>7764</th>\n",
       "      <td>NaN</td>\n",
       "      <td>NaN</td>\n",
       "      <td>NaN</td>\n",
       "      <td>NaN</td>\n",
       "      <td>NaN</td>\n",
       "      <td>NaN</td>\n",
       "      <td>NaN</td>\n",
       "      <td>NaN</td>\n",
       "      <td>NaN</td>\n",
       "      <td>nan</td>\n",
       "      <td>nan</td>\n",
       "    </tr>\n",
       "    <tr>\n",
       "      <th>7765</th>\n",
       "      <td>NaN</td>\n",
       "      <td>NaN</td>\n",
       "      <td>NaN</td>\n",
       "      <td>NaN</td>\n",
       "      <td>NaN</td>\n",
       "      <td>NaN</td>\n",
       "      <td>NaN</td>\n",
       "      <td>NaN</td>\n",
       "      <td>NaN</td>\n",
       "      <td>nan</td>\n",
       "      <td>nan</td>\n",
       "    </tr>\n",
       "    <tr>\n",
       "      <th>7766</th>\n",
       "      <td>NaN</td>\n",
       "      <td>NaN</td>\n",
       "      <td>NaN</td>\n",
       "      <td>NaN</td>\n",
       "      <td>NaN</td>\n",
       "      <td>NaN</td>\n",
       "      <td>NaN</td>\n",
       "      <td>NaN</td>\n",
       "      <td>NaN</td>\n",
       "      <td>nan</td>\n",
       "      <td>nan</td>\n",
       "    </tr>\n",
       "    <tr>\n",
       "      <th>7767</th>\n",
       "      <td>NaN</td>\n",
       "      <td>NaN</td>\n",
       "      <td>NaN</td>\n",
       "      <td>NaN</td>\n",
       "      <td>NaN</td>\n",
       "      <td>NaN</td>\n",
       "      <td>NaN</td>\n",
       "      <td>NaN</td>\n",
       "      <td>NaN</td>\n",
       "      <td>nan</td>\n",
       "      <td>nan</td>\n",
       "    </tr>\n",
       "    <tr>\n",
       "      <th>7768</th>\n",
       "      <td>NaN</td>\n",
       "      <td>NaN</td>\n",
       "      <td>NaN</td>\n",
       "      <td>NaN</td>\n",
       "      <td>NaN</td>\n",
       "      <td>NaN</td>\n",
       "      <td>NaN</td>\n",
       "      <td>NaN</td>\n",
       "      <td>NaN</td>\n",
       "      <td>nan</td>\n",
       "      <td>nan</td>\n",
       "    </tr>\n",
       "    <tr>\n",
       "      <th>7769</th>\n",
       "      <td>NaN</td>\n",
       "      <td>NaN</td>\n",
       "      <td>NaN</td>\n",
       "      <td>NaN</td>\n",
       "      <td>NaN</td>\n",
       "      <td>NaN</td>\n",
       "      <td>NaN</td>\n",
       "      <td>NaN</td>\n",
       "      <td>NaN</td>\n",
       "      <td>nan</td>\n",
       "      <td>nan</td>\n",
       "    </tr>\n",
       "    <tr>\n",
       "      <th>7770</th>\n",
       "      <td>NaN</td>\n",
       "      <td>NaN</td>\n",
       "      <td>NaN</td>\n",
       "      <td>NaN</td>\n",
       "      <td>NaN</td>\n",
       "      <td>NaN</td>\n",
       "      <td>NaN</td>\n",
       "      <td>NaN</td>\n",
       "      <td>NaN</td>\n",
       "      <td>nan</td>\n",
       "      <td>nan</td>\n",
       "    </tr>\n",
       "    <tr>\n",
       "      <th>7771</th>\n",
       "      <td>NaN</td>\n",
       "      <td>NaN</td>\n",
       "      <td>NaN</td>\n",
       "      <td>NaN</td>\n",
       "      <td>NaN</td>\n",
       "      <td>NaN</td>\n",
       "      <td>NaN</td>\n",
       "      <td>NaN</td>\n",
       "      <td>NaN</td>\n",
       "      <td>nan</td>\n",
       "      <td>nan</td>\n",
       "    </tr>\n",
       "    <tr>\n",
       "      <th>7772</th>\n",
       "      <td>NaN</td>\n",
       "      <td>NaN</td>\n",
       "      <td>NaN</td>\n",
       "      <td>NaN</td>\n",
       "      <td>NaN</td>\n",
       "      <td>NaN</td>\n",
       "      <td>NaN</td>\n",
       "      <td>NaN</td>\n",
       "      <td>NaN</td>\n",
       "      <td>nan</td>\n",
       "      <td>nan</td>\n",
       "    </tr>\n",
       "    <tr>\n",
       "      <th>7773</th>\n",
       "      <td>NaN</td>\n",
       "      <td>NaN</td>\n",
       "      <td>NaN</td>\n",
       "      <td>NaN</td>\n",
       "      <td>NaN</td>\n",
       "      <td>NaN</td>\n",
       "      <td>NaN</td>\n",
       "      <td>NaN</td>\n",
       "      <td>NaN</td>\n",
       "      <td>nan</td>\n",
       "      <td>nan</td>\n",
       "    </tr>\n",
       "    <tr>\n",
       "      <th>7774</th>\n",
       "      <td>NaN</td>\n",
       "      <td>NaN</td>\n",
       "      <td>NaN</td>\n",
       "      <td>NaN</td>\n",
       "      <td>NaN</td>\n",
       "      <td>NaN</td>\n",
       "      <td>NaN</td>\n",
       "      <td>NaN</td>\n",
       "      <td>NaN</td>\n",
       "      <td>nan</td>\n",
       "      <td>nan</td>\n",
       "    </tr>\n",
       "    <tr>\n",
       "      <th>7775</th>\n",
       "      <td>NaN</td>\n",
       "      <td>NaN</td>\n",
       "      <td>NaN</td>\n",
       "      <td>NaN</td>\n",
       "      <td>NaN</td>\n",
       "      <td>NaN</td>\n",
       "      <td>NaN</td>\n",
       "      <td>NaN</td>\n",
       "      <td>NaN</td>\n",
       "      <td>nan</td>\n",
       "      <td>nan</td>\n",
       "    </tr>\n",
       "    <tr>\n",
       "      <th>7776</th>\n",
       "      <td>NaN</td>\n",
       "      <td>NaN</td>\n",
       "      <td>NaN</td>\n",
       "      <td>NaN</td>\n",
       "      <td>NaN</td>\n",
       "      <td>NaN</td>\n",
       "      <td>NaN</td>\n",
       "      <td>NaN</td>\n",
       "      <td>NaN</td>\n",
       "      <td>nan</td>\n",
       "      <td>nan</td>\n",
       "    </tr>\n",
       "    <tr>\n",
       "      <th>7777</th>\n",
       "      <td>NaN</td>\n",
       "      <td>NaN</td>\n",
       "      <td>NaN</td>\n",
       "      <td>NaN</td>\n",
       "      <td>NaN</td>\n",
       "      <td>NaN</td>\n",
       "      <td>NaN</td>\n",
       "      <td>NaN</td>\n",
       "      <td>NaN</td>\n",
       "      <td>nan</td>\n",
       "      <td>nan</td>\n",
       "    </tr>\n",
       "  </tbody>\n",
       "</table>\n",
       "</div>"
      ],
      "text/plain": [
       "         회상     영어     음악   종교말씀   종교음악    이야기     퀴즈     체조    클래식  \\\n",
       "7758 1.0000 1.0000 1.0000 0.0000 0.0000 1.0000 1.0000 1.0000 0.0000   \n",
       "7759 0.0000 1.0000 1.0000 0.0000 0.0000 0.0000 0.0000 0.0000 0.0000   \n",
       "7760 0.0000 0.0000 1.0000 0.0000 0.0000 1.0000 0.0000 0.0000 0.0000   \n",
       "7761 1.0000 1.0000 0.0000 0.0000 0.0000 1.0000 1.0000 1.0000 1.0000   \n",
       "7762 1.0000 1.0000 0.0000 0.0000 0.0000 1.0000 1.0000 1.0000 1.0000   \n",
       "7763    NaN    NaN    NaN    NaN    NaN    NaN    NaN    NaN    NaN   \n",
       "7764    NaN    NaN    NaN    NaN    NaN    NaN    NaN    NaN    NaN   \n",
       "7765    NaN    NaN    NaN    NaN    NaN    NaN    NaN    NaN    NaN   \n",
       "7766    NaN    NaN    NaN    NaN    NaN    NaN    NaN    NaN    NaN   \n",
       "7767    NaN    NaN    NaN    NaN    NaN    NaN    NaN    NaN    NaN   \n",
       "7768    NaN    NaN    NaN    NaN    NaN    NaN    NaN    NaN    NaN   \n",
       "7769    NaN    NaN    NaN    NaN    NaN    NaN    NaN    NaN    NaN   \n",
       "7770    NaN    NaN    NaN    NaN    NaN    NaN    NaN    NaN    NaN   \n",
       "7771    NaN    NaN    NaN    NaN    NaN    NaN    NaN    NaN    NaN   \n",
       "7772    NaN    NaN    NaN    NaN    NaN    NaN    NaN    NaN    NaN   \n",
       "7773    NaN    NaN    NaN    NaN    NaN    NaN    NaN    NaN    NaN   \n",
       "7774    NaN    NaN    NaN    NaN    NaN    NaN    NaN    NaN    NaN   \n",
       "7775    NaN    NaN    NaN    NaN    NaN    NaN    NaN    NaN    NaN   \n",
       "7776    NaN    NaN    NaN    NaN    NaN    NaN    NaN    NaN    NaN   \n",
       "7777    NaN    NaN    NaN    NaN    NaN    NaN    NaN    NaN    NaN   \n",
       "\n",
       "     right_ear_function left_ear_function  \n",
       "7758            1010101           1100010  \n",
       "7759            0010000           0100000  \n",
       "7760            0010000           0000100  \n",
       "7761          000001000         111000011  \n",
       "7762          100001010         011000001  \n",
       "7763                nan               nan  \n",
       "7764                nan               nan  \n",
       "7765                nan               nan  \n",
       "7766                nan               nan  \n",
       "7767                nan               nan  \n",
       "7768                nan               nan  \n",
       "7769                nan               nan  \n",
       "7770                nan               nan  \n",
       "7771                nan               nan  \n",
       "7772                nan               nan  \n",
       "7773                nan               nan  \n",
       "7774                nan               nan  \n",
       "7775                nan               nan  \n",
       "7776                nan               nan  \n",
       "7777                nan               nan  "
      ]
     },
     "execution_count": 133,
     "metadata": {},
     "output_type": "execute_result"
    }
   ],
   "source": [
    "df_doll[df_doll.right_ear_function.notnull()][col_ear2].tail(20)"
   ]
  },
  {
   "cell_type": "code",
   "execution_count": 134,
   "id": "6747e276",
   "metadata": {},
   "outputs": [],
   "source": [
    "df_doll = df_doll.drop(columns = [\"rlen\", \"llen\", \"left_ear_function\", \"right_ear_function\", \n",
    "                                '회상2', '영어2', '음악2', '종교말씀2', '종교음악2', \n",
    "                                  '이야기2', '퀴즈2', '체조2', '클래식2',])"
   ]
  },
  {
   "cell_type": "code",
   "execution_count": 135,
   "id": "99aa08d0",
   "metadata": {
    "scrolled": true
   },
   "outputs": [
    {
     "data": {
      "text/plain": [
       "Index(['doll_id', 'battery', 'active_monitor', '성별', 'birthday', '종교', '기상',\n",
       "       '아침', '점심', '저녁', '취침', 'is_edited', '아침식전_복용', '아침식후_복용', '점심식전_복용',\n",
       "       '점심식후_복용', '저녁식전_복용', '저녁식후_복용', '취침전_복용', '환기', '산책', '당뇨', '고지혈',\n",
       "       '고혈압', 'connection_type', 'no_alarm', 'religion_alarm', 'calender_type',\n",
       "       'opt_reg_date', 'reli_cnt', '호칭1', '호칭2', '호칭3', '회상', '영어', '음악',\n",
       "       '종교말씀', '종교음악', '이야기', '퀴즈', '체조', '클래식'],\n",
       "      dtype='object')"
      ]
     },
     "execution_count": 135,
     "metadata": {},
     "output_type": "execute_result"
    }
   ],
   "source": [
    "df_doll.columns"
   ]
  },
  {
   "cell_type": "code",
   "execution_count": 136,
   "id": "67d9989b",
   "metadata": {
    "scrolled": true
   },
   "outputs": [
    {
     "data": {
      "text/plain": [
       "(7778, 42)"
      ]
     },
     "execution_count": 136,
     "metadata": {},
     "output_type": "execute_result"
    }
   ],
   "source": [
    "df_doll.shape"
   ]
  },
  {
   "cell_type": "code",
   "execution_count": 137,
   "id": "1ca36f01",
   "metadata": {},
   "outputs": [
    {
     "data": {
      "text/plain": [
       "7778"
      ]
     },
     "execution_count": 137,
     "metadata": {},
     "output_type": "execute_result"
    }
   ],
   "source": [
    "df_doll.doll_id.nunique()"
   ]
  },
  {
   "cell_type": "code",
   "execution_count": 138,
   "id": "1d9a0c54",
   "metadata": {
    "scrolled": false
   },
   "outputs": [],
   "source": [
    "df_m1 = deepcopy(merge1)"
   ]
  },
  {
   "cell_type": "code",
   "execution_count": 139,
   "id": "62922d62",
   "metadata": {},
   "outputs": [
    {
     "name": "stdout",
     "output_type": "stream",
     "text": [
      "NA check\n",
      "...There's no NA\n"
     ]
    }
   ],
   "source": [
    "check_NA(df_m1)"
   ]
  },
  {
   "cell_type": "code",
   "execution_count": 140,
   "id": "8fe24979",
   "metadata": {},
   "outputs": [],
   "source": [
    "doll_filter = df_m1.groupby('doll_id').max().reset_index()[['doll_id', 'doll_group_reg_date']]"
   ]
  },
  {
   "cell_type": "code",
   "execution_count": 141,
   "id": "52a0ef2c",
   "metadata": {},
   "outputs": [],
   "source": [
    "df_m1 = pd.merge(doll_filter, df_m1, on = ['doll_id', 'doll_group_reg_date'], how = 'left')"
   ]
  },
  {
   "cell_type": "code",
   "execution_count": 142,
   "id": "eb508936",
   "metadata": {
    "scrolled": false
   },
   "outputs": [
    {
     "name": "stdout",
     "output_type": "stream",
     "text": [
      "NA check\n",
      "성별 1 -> 0.013 %\n",
      "종교 1 -> 0.013 %\n",
      "당뇨 7 -> 0.09 %\n",
      "고지혈 7 -> 0.09 %\n",
      "고혈압 7 -> 0.09 %\n",
      "connection_type 15 -> 0.193 %\n",
      "no_alarm 15 -> 0.193 %\n",
      "religion_alarm 15 -> 0.193 %\n",
      "calender_type 15 -> 0.193 %\n",
      "reli_cnt 487 -> 6.261 %\n",
      "호칭1 17 -> 0.219 %\n",
      "호칭2 17 -> 0.219 %\n",
      "호칭3 17 -> 0.219 %\n",
      "회상 19 -> 0.244 %\n",
      "영어 19 -> 0.244 %\n",
      "음악 19 -> 0.244 %\n",
      "종교말씀 19 -> 0.244 %\n",
      "종교음악 19 -> 0.244 %\n",
      "이야기 19 -> 0.244 %\n",
      "퀴즈 19 -> 0.244 %\n",
      "체조 19 -> 0.244 %\n",
      "클래식 19 -> 0.244 %\n"
     ]
    }
   ],
   "source": [
    "check_NA(df_doll)"
   ]
  },
  {
   "cell_type": "code",
   "execution_count": 143,
   "id": "7b241b64",
   "metadata": {},
   "outputs": [
    {
     "data": {
      "text/plain": [
       "Index(['doll_id', 'battery', 'active_monitor', '성별', 'birthday', '종교', '기상',\n",
       "       '아침', '점심', '저녁', '취침', 'is_edited', '아침식전_복용', '아침식후_복용', '점심식전_복용',\n",
       "       '점심식후_복용', '저녁식전_복용', '저녁식후_복용', '취침전_복용', '환기', '산책', '당뇨', '고지혈',\n",
       "       '고혈압', 'connection_type', 'no_alarm', 'religion_alarm', 'calender_type',\n",
       "       'opt_reg_date', 'reli_cnt', '호칭1', '호칭2', '호칭3', '회상', '영어', '음악',\n",
       "       '종교말씀', '종교음악', '이야기', '퀴즈', '체조', '클래식'],\n",
       "      dtype='object')"
      ]
     },
     "execution_count": 143,
     "metadata": {},
     "output_type": "execute_result"
    }
   ],
   "source": [
    "df_doll.columns"
   ]
  },
  {
   "cell_type": "code",
   "execution_count": 144,
   "id": "8cd89560",
   "metadata": {},
   "outputs": [],
   "source": [
    "merge_1= pd.merge(df_doll, df_m1, on = [\"doll_id\"], how = \"inner\")"
   ]
  },
  {
   "cell_type": "code",
   "execution_count": 145,
   "id": "b1d59e7e",
   "metadata": {},
   "outputs": [
    {
     "name": "stdout",
     "output_type": "stream",
     "text": [
      "NA check\n",
      "성별 1 -> 0.017 %\n",
      "종교 1 -> 0.017 %\n",
      "당뇨 3 -> 0.052 %\n",
      "고지혈 3 -> 0.052 %\n",
      "고혈압 3 -> 0.052 %\n",
      "reli_cnt 298 -> 5.163 %\n",
      "호칭1 1 -> 0.017 %\n",
      "호칭2 1 -> 0.017 %\n",
      "호칭3 1 -> 0.017 %\n",
      "회상 4 -> 0.069 %\n",
      "영어 4 -> 0.069 %\n",
      "음악 4 -> 0.069 %\n",
      "종교말씀 4 -> 0.069 %\n",
      "종교음악 4 -> 0.069 %\n",
      "이야기 4 -> 0.069 %\n",
      "퀴즈 4 -> 0.069 %\n",
      "체조 4 -> 0.069 %\n",
      "클래식 4 -> 0.069 %\n"
     ]
    }
   ],
   "source": [
    "check_NA(merge_1)"
   ]
  },
  {
   "cell_type": "code",
   "execution_count": 146,
   "id": "f4c7d59c",
   "metadata": {
    "scrolled": true
   },
   "outputs": [
    {
     "name": "stdout",
     "output_type": "stream",
     "text": [
      "...There are no duplicates\n",
      "shape: (459, 62)\n"
     ]
    }
   ],
   "source": [
    "survey = read_file2(os.path.join(filepath,'survey_processed.xlsx'))\n",
    "survey = survey.drop(columns = [\"SERIAL\"])"
   ]
  },
  {
   "cell_type": "code",
   "execution_count": 147,
   "id": "dedbeaae",
   "metadata": {},
   "outputs": [],
   "source": [
    "survey = survey.rename(columns ={'아침식전_복용':\"아침식전_복용_s\", \n",
    "                                 '아침식후_복용': '아침식후_복용_s',\n",
    "                                 '점심식전_복용':'점심식전_복용_s',\n",
    "                                 '점심식후_복용':'점심식후_복용_s',\n",
    "                                 '저녁식전_복용': '저녁식전_복용_s',\n",
    "                                 '저녁식후_복용':'저녁식후_복용_s',\n",
    "                                 '취침전_복용':'취침전_복용_s',\n",
    "                                 \"기상\": \"기상_s\", \n",
    "                                 \"아침\": \"아침_s\", \n",
    "                                 \"점심\": \"점심_s\", \n",
    "                                 \"저녁\": \"저녁_s\", \n",
    "                                 \"취침\": \"취침_s\", \n",
    "                                 '종교': '종교_s'})"
   ]
  },
  {
   "cell_type": "code",
   "execution_count": 148,
   "id": "bf309320",
   "metadata": {},
   "outputs": [
    {
     "name": "stdout",
     "output_type": "stream",
     "text": [
      "NA check\n",
      "기관2 279 -> 60.784 %\n",
      "수급여부 279 -> 60.784 %\n",
      "세대구성 279 -> 60.784 %\n",
      "제공서비스 286 -> 62.309 %\n",
      "치매 279 -> 60.784 %\n",
      "우울증 279 -> 60.784 %\n",
      "만성복약 279 -> 60.784 %\n",
      "고립 279 -> 60.784 %\n",
      "거동불편 279 -> 60.784 %\n",
      "소리반응 279 -> 60.784 %\n",
      "인형관심 279 -> 60.784 %\n",
      "종교유무 279 -> 60.784 %\n",
      "모니터링 279 -> 60.784 %\n",
      "건강관심 279 -> 60.784 %\n",
      "주택타입 26 -> 5.664 %\n",
      "배우자 279 -> 60.784 %\n",
      "자녀 279 -> 60.784 %\n",
      "자녀수 282 -> 61.438 %\n",
      "아들수 380 -> 82.789 %\n",
      "딸수 383 -> 83.442 %\n",
      "청결 285 -> 62.092 %\n",
      "식사 285 -> 62.092 %\n",
      "공공방문 285 -> 62.092 %\n",
      "종교_s 180 -> 39.216 %\n",
      "기상_s 180 -> 39.216 %\n",
      "아침_s 180 -> 39.216 %\n",
      "점심_s 180 -> 39.216 %\n",
      "저녁_s 180 -> 39.216 %\n",
      "취침_s 180 -> 39.216 %\n",
      "doll_score 25 -> 5.447 %\n",
      "psy_before 57 -> 12.418 %\n",
      "psy_after 279 -> 60.784 %\n",
      "life1_before 279 -> 60.784 %\n",
      "life1_after 290 -> 63.181 %\n",
      "psy_before_cat 57 -> 12.418 %\n",
      "psy_after_cat 279 -> 60.784 %\n",
      "slife_before 76 -> 16.558 %\n",
      "slife_after 289 -> 62.963 %\n",
      "slife_before_cat 76 -> 16.558 %\n",
      "slife_after_cat 289 -> 62.963 %\n",
      "치매_약 53 -> 11.547 %\n",
      "뇌졸증_약 53 -> 11.547 %\n",
      "혈압_약 53 -> 11.547 %\n",
      "우울증_약 53 -> 11.547 %\n",
      "고지혈증_약 53 -> 11.547 %\n",
      "당뇨_약 53 -> 11.547 %\n",
      "신경과수면제_약 53 -> 11.547 %\n",
      "med_count 53 -> 11.547 %\n"
     ]
    }
   ],
   "source": [
    "check_NA(survey)"
   ]
  },
  {
   "cell_type": "code",
   "execution_count": 149,
   "id": "be307c0e",
   "metadata": {},
   "outputs": [],
   "source": [
    "c_list = ['아침식전_복용', '아침식후_복용', '점심식전_복용','점심식후_복용', \n",
    "          '저녁식전_복용', '저녁식후_복용', '취침전_복용',\n",
    "          '기상', '아침', '점심', '저녁', '취침', \n",
    "          '종교']"
   ]
  },
  {
   "cell_type": "code",
   "execution_count": 150,
   "id": "6010cabd",
   "metadata": {},
   "outputs": [],
   "source": [
    "c_list2 = ['아침식전_복용', '아침식후_복용', '점심식전_복용','점심식후_복용', \n",
    "          '저녁식전_복용', '저녁식후_복용', '취침전_복용', \n",
    "          '기상', '아침', '점심', '저녁', '취침', ]\n",
    "for i in c_list2: \n",
    "    merge_1[i] = merge_1[i].astype(\"int64\")"
   ]
  },
  {
   "cell_type": "code",
   "execution_count": 151,
   "id": "8a736cdf",
   "metadata": {
    "scrolled": true
   },
   "outputs": [
    {
     "data": {
      "text/plain": [
       "(459, 102)"
      ]
     },
     "execution_count": 151,
     "metadata": {},
     "output_type": "execute_result"
    }
   ],
   "source": [
    "merge_s= pd.merge(df_doll, survey, on = ['doll_id'], how = \"inner\")\n",
    "merge_s.shape"
   ]
  },
  {
   "cell_type": "code",
   "execution_count": 152,
   "id": "6316f3a1",
   "metadata": {
    "scrolled": true
   },
   "outputs": [
    {
     "name": "stdout",
     "output_type": "stream",
     "text": [
      "아침식전_복용_s : 아침식전_복용 : 459\n",
      "아침식후_복용_s : 아침식후_복용 : 459\n",
      "점심식전_복용_s : 점심식전_복용 : 459\n",
      "점심식후_복용_s : 점심식후_복용 : 459\n",
      "저녁식전_복용_s : 저녁식전_복용 : 459\n",
      "저녁식후_복용_s : 저녁식후_복용 : 459\n",
      "취침전_복용_s : 취침전_복용 : 459\n",
      "기상_s : 기상 : 209\n",
      "아침_s : 아침 : 208\n",
      "점심_s : 점심 : 185\n",
      "저녁_s : 저녁 : 196\n",
      "취침_s : 취침 : 230\n",
      "종교_s : 종교 : 198\n"
     ]
    }
   ],
   "source": [
    "co_list = []\n",
    "for i in c_list: \n",
    "    co = i+\"_s\"\n",
    "    co_list.append(co)\n",
    "    print(co, i, merge_s[merge_s[i]!=merge_s[co]].shape[0], sep = \" : \")"
   ]
  },
  {
   "cell_type": "code",
   "execution_count": 153,
   "id": "5b5e5a87",
   "metadata": {},
   "outputs": [
    {
     "name": "stdout",
     "output_type": "stream",
     "text": [
      "아침식전_복용_s : 아침식전_복용 : 0\n",
      "아침식후_복용_s : 아침식후_복용 : 0\n",
      "점심식전_복용_s : 점심식전_복용 : 0\n",
      "점심식후_복용_s : 점심식후_복용 : 0\n",
      "저녁식전_복용_s : 저녁식전_복용 : 0\n",
      "저녁식후_복용_s : 저녁식후_복용 : 0\n",
      "취침전_복용_s : 취침전_복용 : 0\n",
      "기상_s : 기상 : 180\n",
      "아침_s : 아침 : 180\n",
      "점심_s : 점심 : 180\n",
      "저녁_s : 저녁 : 180\n",
      "취침_s : 취침 : 180\n",
      "종교_s : 종교 : 180\n"
     ]
    }
   ],
   "source": [
    "co_list = []\n",
    "for i in c_list: \n",
    "    co = i+\"_s\"\n",
    "    co_list.append(co)\n",
    "    print(co, i, merge_s[merge_s[i]!=merge_s[co]][co].isna().sum(), sep = \" : \")"
   ]
  },
  {
   "cell_type": "markdown",
   "id": "5391cbd2",
   "metadata": {},
   "source": [
    "- 그냥 저기 다른 것들은 merge_1 테이블 기준으로 합치겠습니다 그쪽이 na가 적으니까"
   ]
  },
  {
   "cell_type": "code",
   "execution_count": 154,
   "id": "d2b77229",
   "metadata": {},
   "outputs": [
    {
     "data": {
      "text/plain": [
       "['아침식전_복용_s',\n",
       " '아침식후_복용_s',\n",
       " '점심식전_복용_s',\n",
       " '점심식후_복용_s',\n",
       " '저녁식전_복용_s',\n",
       " '저녁식후_복용_s',\n",
       " '취침전_복용_s',\n",
       " '기상_s',\n",
       " '아침_s',\n",
       " '점심_s',\n",
       " '저녁_s',\n",
       " '취침_s',\n",
       " '종교_s']"
      ]
     },
     "execution_count": 154,
     "metadata": {},
     "output_type": "execute_result"
    }
   ],
   "source": [
    "co_list"
   ]
  },
  {
   "cell_type": "code",
   "execution_count": 155,
   "id": "ffdb7b8e",
   "metadata": {},
   "outputs": [],
   "source": [
    "merge_s = merge_s.drop(columns = co_list)"
   ]
  },
  {
   "cell_type": "code",
   "execution_count": 156,
   "id": "f4d8f480",
   "metadata": {},
   "outputs": [
    {
     "name": "stdout",
     "output_type": "stream",
     "text": [
      "NA check\n",
      "reli_cnt 83 -> 18.083 %\n",
      "기관2 279 -> 60.784 %\n",
      "수급여부 279 -> 60.784 %\n",
      "세대구성 279 -> 60.784 %\n",
      "제공서비스 286 -> 62.309 %\n",
      "치매 279 -> 60.784 %\n",
      "우울증 279 -> 60.784 %\n",
      "만성복약 279 -> 60.784 %\n",
      "고립 279 -> 60.784 %\n",
      "거동불편 279 -> 60.784 %\n",
      "소리반응 279 -> 60.784 %\n",
      "인형관심 279 -> 60.784 %\n",
      "종교유무 279 -> 60.784 %\n",
      "모니터링 279 -> 60.784 %\n",
      "건강관심 279 -> 60.784 %\n",
      "주택타입 26 -> 5.664 %\n",
      "배우자 279 -> 60.784 %\n",
      "자녀 279 -> 60.784 %\n",
      "자녀수 282 -> 61.438 %\n",
      "아들수 380 -> 82.789 %\n",
      "딸수 383 -> 83.442 %\n",
      "청결 285 -> 62.092 %\n",
      "식사 285 -> 62.092 %\n",
      "공공방문 285 -> 62.092 %\n",
      "doll_score 25 -> 5.447 %\n",
      "psy_before 57 -> 12.418 %\n",
      "psy_after 279 -> 60.784 %\n",
      "life1_before 279 -> 60.784 %\n",
      "life1_after 290 -> 63.181 %\n",
      "psy_before_cat 57 -> 12.418 %\n",
      "psy_after_cat 279 -> 60.784 %\n",
      "slife_before 76 -> 16.558 %\n",
      "slife_after 289 -> 62.963 %\n",
      "slife_before_cat 76 -> 16.558 %\n",
      "slife_after_cat 289 -> 62.963 %\n",
      "치매_약 53 -> 11.547 %\n",
      "뇌졸증_약 53 -> 11.547 %\n",
      "혈압_약 53 -> 11.547 %\n",
      "우울증_약 53 -> 11.547 %\n",
      "고지혈증_약 53 -> 11.547 %\n",
      "당뇨_약 53 -> 11.547 %\n",
      "신경과수면제_약 53 -> 11.547 %\n",
      "med_count 53 -> 11.547 %\n"
     ]
    }
   ],
   "source": [
    "check_NA(merge_s)"
   ]
  },
  {
   "cell_type": "code",
   "execution_count": 157,
   "id": "1359f91a",
   "metadata": {},
   "outputs": [],
   "source": [
    "merge_s.to_csv(\"data/merge_s_v5.csv\", index=False)"
   ]
  },
  {
   "cell_type": "code",
   "execution_count": 158,
   "id": "bda51db9",
   "metadata": {},
   "outputs": [
    {
     "data": {
      "text/plain": [
       "(5772, 45)"
      ]
     },
     "execution_count": 158,
     "metadata": {},
     "output_type": "execute_result"
    }
   ],
   "source": [
    "merge_1.shape"
   ]
  },
  {
   "cell_type": "code",
   "execution_count": 159,
   "id": "5c4ccdb9",
   "metadata": {},
   "outputs": [
    {
     "data": {
      "text/plain": [
       "5772"
      ]
     },
     "execution_count": 159,
     "metadata": {},
     "output_type": "execute_result"
    }
   ],
   "source": [
    "merge_1.doll_id.nunique()"
   ]
  },
  {
   "cell_type": "code",
   "execution_count": 160,
   "id": "706de0c9",
   "metadata": {},
   "outputs": [
    {
     "data": {
      "text/plain": [
       "(5772, 45)"
      ]
     },
     "execution_count": 160,
     "metadata": {},
     "output_type": "execute_result"
    }
   ],
   "source": [
    "merge_1.shape"
   ]
  },
  {
   "cell_type": "code",
   "execution_count": 161,
   "id": "8fc2cf80",
   "metadata": {
    "scrolled": false
   },
   "outputs": [
    {
     "data": {
      "text/html": [
       "<div>\n",
       "<style scoped>\n",
       "    .dataframe tbody tr th:only-of-type {\n",
       "        vertical-align: middle;\n",
       "    }\n",
       "\n",
       "    .dataframe tbody tr th {\n",
       "        vertical-align: top;\n",
       "    }\n",
       "\n",
       "    .dataframe thead th {\n",
       "        text-align: right;\n",
       "    }\n",
       "</style>\n",
       "<table border=\"1\" class=\"dataframe\">\n",
       "  <thead>\n",
       "    <tr style=\"text-align: right;\">\n",
       "      <th></th>\n",
       "      <th>doll_id</th>\n",
       "      <th>battery</th>\n",
       "      <th>active_monitor</th>\n",
       "      <th>성별</th>\n",
       "      <th>birthday</th>\n",
       "      <th>종교</th>\n",
       "      <th>기상</th>\n",
       "      <th>아침</th>\n",
       "      <th>점심</th>\n",
       "      <th>저녁</th>\n",
       "      <th>취침</th>\n",
       "      <th>is_edited</th>\n",
       "      <th>아침식전_복용</th>\n",
       "      <th>아침식후_복용</th>\n",
       "      <th>점심식전_복용</th>\n",
       "      <th>점심식후_복용</th>\n",
       "      <th>저녁식전_복용</th>\n",
       "      <th>저녁식후_복용</th>\n",
       "      <th>취침전_복용</th>\n",
       "      <th>환기</th>\n",
       "      <th>...</th>\n",
       "      <th>no_alarm</th>\n",
       "      <th>religion_alarm</th>\n",
       "      <th>calender_type</th>\n",
       "      <th>opt_reg_date</th>\n",
       "      <th>reli_cnt</th>\n",
       "      <th>호칭1</th>\n",
       "      <th>호칭2</th>\n",
       "      <th>호칭3</th>\n",
       "      <th>회상</th>\n",
       "      <th>영어</th>\n",
       "      <th>음악</th>\n",
       "      <th>종교말씀</th>\n",
       "      <th>종교음악</th>\n",
       "      <th>이야기</th>\n",
       "      <th>퀴즈</th>\n",
       "      <th>체조</th>\n",
       "      <th>클래식</th>\n",
       "      <th>doll_group_reg_date</th>\n",
       "      <th>user_id</th>\n",
       "      <th>agency_code</th>\n",
       "    </tr>\n",
       "  </thead>\n",
       "  <tbody>\n",
       "    <tr>\n",
       "      <th>0</th>\n",
       "      <td>125051</td>\n",
       "      <td>100</td>\n",
       "      <td>24</td>\n",
       "      <td>남</td>\n",
       "      <td>1940-03-12</td>\n",
       "      <td>무교</td>\n",
       "      <td>5</td>\n",
       "      <td>8</td>\n",
       "      <td>12</td>\n",
       "      <td>19</td>\n",
       "      <td>20</td>\n",
       "      <td>0</td>\n",
       "      <td>1</td>\n",
       "      <td>1</td>\n",
       "      <td>0</td>\n",
       "      <td>0</td>\n",
       "      <td>0</td>\n",
       "      <td>1</td>\n",
       "      <td>0</td>\n",
       "      <td>1</td>\n",
       "      <td>...</td>\n",
       "      <td>0.0000</td>\n",
       "      <td>0.0000</td>\n",
       "      <td>1.0000</td>\n",
       "      <td>2019-04-02</td>\n",
       "      <td>1</td>\n",
       "      <td>1.0000</td>\n",
       "      <td>0.0000</td>\n",
       "      <td>0.0000</td>\n",
       "      <td>0.0000</td>\n",
       "      <td>0.0000</td>\n",
       "      <td>0.0000</td>\n",
       "      <td>0.0000</td>\n",
       "      <td>0.0000</td>\n",
       "      <td>0.0000</td>\n",
       "      <td>1.0000</td>\n",
       "      <td>1.0000</td>\n",
       "      <td>0.0000</td>\n",
       "      <td>2020-05-31 13:44:42</td>\n",
       "      <td>7967</td>\n",
       "      <td>1</td>\n",
       "    </tr>\n",
       "    <tr>\n",
       "      <th>1</th>\n",
       "      <td>125065</td>\n",
       "      <td>100</td>\n",
       "      <td>24</td>\n",
       "      <td>여</td>\n",
       "      <td>1945-08-06</td>\n",
       "      <td>무교</td>\n",
       "      <td>6</td>\n",
       "      <td>7</td>\n",
       "      <td>12</td>\n",
       "      <td>18</td>\n",
       "      <td>23</td>\n",
       "      <td>1</td>\n",
       "      <td>0</td>\n",
       "      <td>0</td>\n",
       "      <td>0</td>\n",
       "      <td>0</td>\n",
       "      <td>0</td>\n",
       "      <td>1</td>\n",
       "      <td>0</td>\n",
       "      <td>1</td>\n",
       "      <td>...</td>\n",
       "      <td>0.0000</td>\n",
       "      <td>0.0000</td>\n",
       "      <td>1.0000</td>\n",
       "      <td>2019-04-02</td>\n",
       "      <td>1</td>\n",
       "      <td>1.0000</td>\n",
       "      <td>0.0000</td>\n",
       "      <td>0.0000</td>\n",
       "      <td>0.0000</td>\n",
       "      <td>0.0000</td>\n",
       "      <td>0.0000</td>\n",
       "      <td>0.0000</td>\n",
       "      <td>0.0000</td>\n",
       "      <td>0.0000</td>\n",
       "      <td>1.0000</td>\n",
       "      <td>1.0000</td>\n",
       "      <td>0.0000</td>\n",
       "      <td>2019-09-17 14:06:28</td>\n",
       "      <td>7616</td>\n",
       "      <td>1</td>\n",
       "    </tr>\n",
       "    <tr>\n",
       "      <th>2</th>\n",
       "      <td>125117</td>\n",
       "      <td>100</td>\n",
       "      <td>24</td>\n",
       "      <td>여</td>\n",
       "      <td>1941-09-25</td>\n",
       "      <td>무교</td>\n",
       "      <td>7</td>\n",
       "      <td>8</td>\n",
       "      <td>12</td>\n",
       "      <td>18</td>\n",
       "      <td>22</td>\n",
       "      <td>0</td>\n",
       "      <td>0</td>\n",
       "      <td>1</td>\n",
       "      <td>0</td>\n",
       "      <td>0</td>\n",
       "      <td>0</td>\n",
       "      <td>1</td>\n",
       "      <td>0</td>\n",
       "      <td>0</td>\n",
       "      <td>...</td>\n",
       "      <td>0.0000</td>\n",
       "      <td>0.0000</td>\n",
       "      <td>1.0000</td>\n",
       "      <td>2019-04-03</td>\n",
       "      <td>1</td>\n",
       "      <td>1.0000</td>\n",
       "      <td>0.0000</td>\n",
       "      <td>0.0000</td>\n",
       "      <td>0.0000</td>\n",
       "      <td>0.0000</td>\n",
       "      <td>0.0000</td>\n",
       "      <td>0.0000</td>\n",
       "      <td>0.0000</td>\n",
       "      <td>0.0000</td>\n",
       "      <td>1.0000</td>\n",
       "      <td>1.0000</td>\n",
       "      <td>0.0000</td>\n",
       "      <td>2019-09-12 10:59:05</td>\n",
       "      <td>7616</td>\n",
       "      <td>24623001901</td>\n",
       "    </tr>\n",
       "    <tr>\n",
       "      <th>3</th>\n",
       "      <td>125123</td>\n",
       "      <td>5</td>\n",
       "      <td>24</td>\n",
       "      <td>남</td>\n",
       "      <td>1942-03-28</td>\n",
       "      <td>기독교</td>\n",
       "      <td>7</td>\n",
       "      <td>7</td>\n",
       "      <td>12</td>\n",
       "      <td>18</td>\n",
       "      <td>20</td>\n",
       "      <td>1</td>\n",
       "      <td>0</td>\n",
       "      <td>1</td>\n",
       "      <td>0</td>\n",
       "      <td>1</td>\n",
       "      <td>0</td>\n",
       "      <td>1</td>\n",
       "      <td>0</td>\n",
       "      <td>1</td>\n",
       "      <td>...</td>\n",
       "      <td>0.0000</td>\n",
       "      <td>0.0000</td>\n",
       "      <td>1.0000</td>\n",
       "      <td>2019-04-03</td>\n",
       "      <td>1</td>\n",
       "      <td>1.0000</td>\n",
       "      <td>0.0000</td>\n",
       "      <td>0.0000</td>\n",
       "      <td>0.0000</td>\n",
       "      <td>0.0000</td>\n",
       "      <td>0.0000</td>\n",
       "      <td>0.0000</td>\n",
       "      <td>0.0000</td>\n",
       "      <td>0.0000</td>\n",
       "      <td>1.0000</td>\n",
       "      <td>1.0000</td>\n",
       "      <td>0.0000</td>\n",
       "      <td>2019-09-11 14:50:37</td>\n",
       "      <td>7616</td>\n",
       "      <td>24623001901</td>\n",
       "    </tr>\n",
       "    <tr>\n",
       "      <th>4</th>\n",
       "      <td>125128</td>\n",
       "      <td>100</td>\n",
       "      <td>24</td>\n",
       "      <td>남</td>\n",
       "      <td>1938-08-15</td>\n",
       "      <td>무교</td>\n",
       "      <td>6</td>\n",
       "      <td>7</td>\n",
       "      <td>12</td>\n",
       "      <td>18</td>\n",
       "      <td>22</td>\n",
       "      <td>0</td>\n",
       "      <td>0</td>\n",
       "      <td>1</td>\n",
       "      <td>0</td>\n",
       "      <td>0</td>\n",
       "      <td>0</td>\n",
       "      <td>0</td>\n",
       "      <td>0</td>\n",
       "      <td>1</td>\n",
       "      <td>...</td>\n",
       "      <td>0.0000</td>\n",
       "      <td>0.0000</td>\n",
       "      <td>1.0000</td>\n",
       "      <td>2019-04-03</td>\n",
       "      <td>1</td>\n",
       "      <td>1.0000</td>\n",
       "      <td>0.0000</td>\n",
       "      <td>0.0000</td>\n",
       "      <td>0.0000</td>\n",
       "      <td>0.0000</td>\n",
       "      <td>0.0000</td>\n",
       "      <td>0.0000</td>\n",
       "      <td>0.0000</td>\n",
       "      <td>0.0000</td>\n",
       "      <td>1.0000</td>\n",
       "      <td>1.0000</td>\n",
       "      <td>0.0000</td>\n",
       "      <td>2019-09-11 11:39:02</td>\n",
       "      <td>7616</td>\n",
       "      <td>24623001901</td>\n",
       "    </tr>\n",
       "  </tbody>\n",
       "</table>\n",
       "<p>5 rows × 45 columns</p>\n",
       "</div>"
      ],
      "text/plain": [
       "   doll_id  battery  active_monitor 성별    birthday   종교  기상  아침  점심  저녁  취침  \\\n",
       "0   125051      100              24  남  1940-03-12   무교   5   8  12  19  20   \n",
       "1   125065      100              24  여  1945-08-06   무교   6   7  12  18  23   \n",
       "2   125117      100              24  여  1941-09-25   무교   7   8  12  18  22   \n",
       "3   125123        5              24  남  1942-03-28  기독교   7   7  12  18  20   \n",
       "4   125128      100              24  남  1938-08-15   무교   6   7  12  18  22   \n",
       "\n",
       "   is_edited  아침식전_복용  아침식후_복용  점심식전_복용  점심식후_복용  저녁식전_복용  저녁식후_복용  취침전_복용  \\\n",
       "0          0        1        1        0        0        0        1       0   \n",
       "1          1        0        0        0        0        0        1       0   \n",
       "2          0        0        1        0        0        0        1       0   \n",
       "3          1        0        1        0        1        0        1       0   \n",
       "4          0        0        1        0        0        0        0       0   \n",
       "\n",
       "   환기  ...  no_alarm  religion_alarm  calender_type  opt_reg_date reli_cnt  \\\n",
       "0   1  ...    0.0000          0.0000         1.0000    2019-04-02        1   \n",
       "1   1  ...    0.0000          0.0000         1.0000    2019-04-02        1   \n",
       "2   0  ...    0.0000          0.0000         1.0000    2019-04-03        1   \n",
       "3   1  ...    0.0000          0.0000         1.0000    2019-04-03        1   \n",
       "4   1  ...    0.0000          0.0000         1.0000    2019-04-03        1   \n",
       "\n",
       "     호칭1    호칭2    호칭3     회상     영어     음악   종교말씀   종교음악    이야기     퀴즈  \\\n",
       "0 1.0000 0.0000 0.0000 0.0000 0.0000 0.0000 0.0000 0.0000 0.0000 1.0000   \n",
       "1 1.0000 0.0000 0.0000 0.0000 0.0000 0.0000 0.0000 0.0000 0.0000 1.0000   \n",
       "2 1.0000 0.0000 0.0000 0.0000 0.0000 0.0000 0.0000 0.0000 0.0000 1.0000   \n",
       "3 1.0000 0.0000 0.0000 0.0000 0.0000 0.0000 0.0000 0.0000 0.0000 1.0000   \n",
       "4 1.0000 0.0000 0.0000 0.0000 0.0000 0.0000 0.0000 0.0000 0.0000 1.0000   \n",
       "\n",
       "      체조    클래식  doll_group_reg_date  user_id  agency_code  \n",
       "0 1.0000 0.0000  2020-05-31 13:44:42     7967            1  \n",
       "1 1.0000 0.0000  2019-09-17 14:06:28     7616            1  \n",
       "2 1.0000 0.0000  2019-09-12 10:59:05     7616  24623001901  \n",
       "3 1.0000 0.0000  2019-09-11 14:50:37     7616  24623001901  \n",
       "4 1.0000 0.0000  2019-09-11 11:39:02     7616  24623001901  \n",
       "\n",
       "[5 rows x 45 columns]"
      ]
     },
     "execution_count": 161,
     "metadata": {},
     "output_type": "execute_result"
    }
   ],
   "source": [
    "merge_1.head()"
   ]
  },
  {
   "cell_type": "markdown",
   "id": "70462099",
   "metadata": {},
   "source": [
    "# scc agency"
   ]
  },
  {
   "cell_type": "code",
   "execution_count": 162,
   "id": "69501a7b",
   "metadata": {},
   "outputs": [],
   "source": [
    "merged1 = deepcopy(merge_1)"
   ]
  },
  {
   "cell_type": "code",
   "execution_count": 163,
   "id": "c22c4608",
   "metadata": {},
   "outputs": [],
   "source": [
    "agency = pd.read_csv('Data/scc_agency.csv', encoding = 'utf-8')\n",
    "agency.rename(columns = {'id':'agency_code', 'name':'기관명'}, inplace = True)\n",
    "agency.drop(['phone', 'address', 'email'], axis = 1, inplace = True)"
   ]
  },
  {
   "cell_type": "code",
   "execution_count": 164,
   "id": "dd32719b",
   "metadata": {},
   "outputs": [
    {
     "data": {
      "text/plain": [
       "0"
      ]
     },
     "execution_count": 164,
     "metadata": {},
     "output_type": "execute_result"
    }
   ],
   "source": [
    "agency.agency_code.isna().sum()"
   ]
  },
  {
   "cell_type": "code",
   "execution_count": 165,
   "id": "25511cb8",
   "metadata": {},
   "outputs": [],
   "source": [
    "agency = agency[agency.기관명!=\"SCC B2C\"]\n",
    "agency = agency[agency.기관명!='SCC 테스트']"
   ]
  },
  {
   "cell_type": "code",
   "execution_count": 166,
   "id": "e235fa3b",
   "metadata": {},
   "outputs": [],
   "source": [
    "ag = set(merged1.agency_code)-set(agency.agency_code)"
   ]
  },
  {
   "cell_type": "code",
   "execution_count": 167,
   "id": "b77957f3",
   "metadata": {},
   "outputs": [
    {
     "data": {
      "text/plain": [
       "2"
      ]
     },
     "execution_count": 167,
     "metadata": {},
     "output_type": "execute_result"
    }
   ],
   "source": [
    "len(ag)"
   ]
  },
  {
   "cell_type": "code",
   "execution_count": 168,
   "id": "8b8f886d",
   "metadata": {
    "scrolled": true
   },
   "outputs": [
    {
     "data": {
      "text/plain": [
       "{2, 901234501000}"
      ]
     },
     "execution_count": 168,
     "metadata": {},
     "output_type": "execute_result"
    }
   ],
   "source": [
    "ag  # 다 테스트 계정"
   ]
  },
  {
   "cell_type": "code",
   "execution_count": 169,
   "id": "5db960be",
   "metadata": {},
   "outputs": [
    {
     "data": {
      "text/plain": [
       "(5772, 45)"
      ]
     },
     "execution_count": 169,
     "metadata": {},
     "output_type": "execute_result"
    }
   ],
   "source": [
    "merged1.shape"
   ]
  },
  {
   "cell_type": "code",
   "execution_count": 170,
   "id": "02f40aec",
   "metadata": {},
   "outputs": [],
   "source": [
    "merged1 = merged1[merged1.agency_code.isin(agency.agency_code.unique())]"
   ]
  },
  {
   "cell_type": "code",
   "execution_count": 171,
   "id": "01418fd2",
   "metadata": {},
   "outputs": [
    {
     "data": {
      "text/plain": [
       "(3183, 45)"
      ]
     },
     "execution_count": 171,
     "metadata": {},
     "output_type": "execute_result"
    }
   ],
   "source": [
    "merged1.shape"
   ]
  },
  {
   "cell_type": "code",
   "execution_count": 172,
   "id": "4ae0b91a",
   "metadata": {},
   "outputs": [
    {
     "data": {
      "text/html": [
       "<div>\n",
       "<style scoped>\n",
       "    .dataframe tbody tr th:only-of-type {\n",
       "        vertical-align: middle;\n",
       "    }\n",
       "\n",
       "    .dataframe tbody tr th {\n",
       "        vertical-align: top;\n",
       "    }\n",
       "\n",
       "    .dataframe thead th {\n",
       "        text-align: right;\n",
       "    }\n",
       "</style>\n",
       "<table border=\"1\" class=\"dataframe\">\n",
       "  <thead>\n",
       "    <tr style=\"text-align: right;\">\n",
       "      <th></th>\n",
       "      <th>agency_code</th>\n",
       "      <th>기관명</th>\n",
       "    </tr>\n",
       "  </thead>\n",
       "  <tbody>\n",
       "    <tr>\n",
       "      <th>0</th>\n",
       "      <td>0</td>\n",
       "      <td>전체</td>\n",
       "    </tr>\n",
       "    <tr>\n",
       "      <th>1</th>\n",
       "      <td>1</td>\n",
       "      <td>개인 사용자</td>\n",
       "    </tr>\n",
       "    <tr>\n",
       "      <th>3</th>\n",
       "      <td>14211001000</td>\n",
       "      <td>춘천시청</td>\n",
       "    </tr>\n",
       "  </tbody>\n",
       "</table>\n",
       "</div>"
      ],
      "text/plain": [
       "   agency_code     기관명\n",
       "0            0      전체\n",
       "1            1  개인 사용자\n",
       "3  14211001000    춘천시청"
      ]
     },
     "execution_count": 172,
     "metadata": {},
     "output_type": "execute_result"
    }
   ],
   "source": [
    "agency.head(3)"
   ]
  },
  {
   "cell_type": "code",
   "execution_count": 173,
   "id": "374346b7",
   "metadata": {},
   "outputs": [],
   "source": [
    "merged1 = pd.merge(merged1, agency, on=\"agency_code\", how='left')"
   ]
  },
  {
   "cell_type": "code",
   "execution_count": 174,
   "id": "da9fcf17",
   "metadata": {},
   "outputs": [
    {
     "data": {
      "text/plain": [
       "Index(['doll_id', 'battery', 'active_monitor', '성별', 'birthday', '종교', '기상',\n",
       "       '아침', '점심', '저녁', '취침', 'is_edited', '아침식전_복용', '아침식후_복용', '점심식전_복용',\n",
       "       '점심식후_복용', '저녁식전_복용', '저녁식후_복용', '취침전_복용', '환기', '산책', '당뇨', '고지혈',\n",
       "       '고혈압', 'connection_type', 'no_alarm', 'religion_alarm', 'calender_type',\n",
       "       'opt_reg_date', 'reli_cnt', '호칭1', '호칭2', '호칭3', '회상', '영어', '음악',\n",
       "       '종교말씀', '종교음악', '이야기', '퀴즈', '체조', '클래식', 'doll_group_reg_date',\n",
       "       'user_id', 'agency_code', '기관명'],\n",
       "      dtype='object')"
      ]
     },
     "execution_count": 174,
     "metadata": {},
     "output_type": "execute_result"
    }
   ],
   "source": [
    "merged1.columns"
   ]
  },
  {
   "cell_type": "markdown",
   "id": "182e2895",
   "metadata": {},
   "source": [
    "# 최종 NA 및 test 데이터 처리"
   ]
  },
  {
   "cell_type": "code",
   "execution_count": 175,
   "id": "f0553488",
   "metadata": {},
   "outputs": [
    {
     "data": {
      "text/plain": [
       "(3183, 46)"
      ]
     },
     "execution_count": 175,
     "metadata": {},
     "output_type": "execute_result"
    }
   ],
   "source": [
    "merged1.shape"
   ]
  },
  {
   "cell_type": "code",
   "execution_count": 176,
   "id": "5dcaf2f4",
   "metadata": {},
   "outputs": [
    {
     "data": {
      "text/plain": [
       "3183"
      ]
     },
     "execution_count": 176,
     "metadata": {},
     "output_type": "execute_result"
    }
   ],
   "source": [
    "merged1.doll_id.nunique()"
   ]
  },
  {
   "cell_type": "code",
   "execution_count": 177,
   "id": "ac1d0a93",
   "metadata": {},
   "outputs": [
    {
     "data": {
      "text/plain": [
       "(3183,)"
      ]
     },
     "execution_count": 177,
     "metadata": {},
     "output_type": "execute_result"
    }
   ],
   "source": [
    "merged1.doll_id.drop_duplicates().shape"
   ]
  },
  {
   "cell_type": "code",
   "execution_count": 178,
   "id": "b2d84789",
   "metadata": {
    "scrolled": true
   },
   "outputs": [],
   "source": [
    "merged1 = merged1.drop_duplicates()"
   ]
  },
  {
   "cell_type": "code",
   "execution_count": 179,
   "id": "7c8d8204",
   "metadata": {},
   "outputs": [],
   "source": [
    "merged1 = merged1.reset_index(drop=True)"
   ]
  },
  {
   "cell_type": "code",
   "execution_count": 180,
   "id": "08fc4e29",
   "metadata": {},
   "outputs": [
    {
     "name": "stdout",
     "output_type": "stream",
     "text": [
      "NA check\n",
      "성별 1 -> 0.031 %\n",
      "종교 1 -> 0.031 %\n",
      "당뇨 3 -> 0.094 %\n",
      "고지혈 3 -> 0.094 %\n",
      "고혈압 3 -> 0.094 %\n",
      "reli_cnt 297 -> 9.331 %\n",
      "호칭1 1 -> 0.031 %\n",
      "호칭2 1 -> 0.031 %\n",
      "호칭3 1 -> 0.031 %\n",
      "회상 4 -> 0.126 %\n",
      "영어 4 -> 0.126 %\n",
      "음악 4 -> 0.126 %\n",
      "종교말씀 4 -> 0.126 %\n",
      "종교음악 4 -> 0.126 %\n",
      "이야기 4 -> 0.126 %\n",
      "퀴즈 4 -> 0.126 %\n",
      "체조 4 -> 0.126 %\n",
      "클래식 4 -> 0.126 %\n"
     ]
    }
   ],
   "source": [
    "check_NA(merged1)"
   ]
  },
  {
   "cell_type": "code",
   "execution_count": 181,
   "id": "414f1246",
   "metadata": {},
   "outputs": [],
   "source": [
    "merged1 = merged1[merged1['성별'].notnull()]"
   ]
  },
  {
   "cell_type": "code",
   "execution_count": 182,
   "id": "71b69620",
   "metadata": {},
   "outputs": [],
   "source": [
    "merged1['종교'] = merged1['종교'].fillna('무교')"
   ]
  },
  {
   "cell_type": "code",
   "execution_count": 183,
   "id": "100ec33d",
   "metadata": {},
   "outputs": [],
   "source": [
    "merged1[['당뇨','고지혈','고혈압']] = merged1[['당뇨','고지혈','고혈압']].fillna(0)"
   ]
  },
  {
   "cell_type": "code",
   "execution_count": 184,
   "id": "d1055925",
   "metadata": {},
   "outputs": [],
   "source": [
    "merged1['reli_cnt'] = merged1['reli_cnt'].fillna(0)"
   ]
  },
  {
   "cell_type": "code",
   "execution_count": 185,
   "id": "67f82eb7",
   "metadata": {},
   "outputs": [],
   "source": [
    "merged1['호칭1'] = merged1['호칭1'].fillna(1)\n",
    "merged1['호칭2'] = merged1['호칭2'].fillna(0)\n",
    "merged1['호칭3'] = merged1['호칭3'].fillna(0)"
   ]
  },
  {
   "cell_type": "code",
   "execution_count": 186,
   "id": "088b9532",
   "metadata": {},
   "outputs": [],
   "source": [
    "merged1[['회상', '영어', '음악',\n",
    "       '종교말씀', '종교음악', '이야기', '퀴즈', '체조', '클래식']] = merged1[['회상', '영어', '음악',\n",
    "       '종교말씀', '종교음악', '이야기', '퀴즈', '체조', '클래식']].fillna(0)"
   ]
  },
  {
   "cell_type": "code",
   "execution_count": 187,
   "id": "4aa172d4",
   "metadata": {},
   "outputs": [
    {
     "name": "stdout",
     "output_type": "stream",
     "text": [
      "NA check\n",
      "...There's no NA\n"
     ]
    }
   ],
   "source": [
    "check_NA(merged1)"
   ]
  },
  {
   "cell_type": "code",
   "execution_count": 188,
   "id": "e1563bc6",
   "metadata": {
    "scrolled": true
   },
   "outputs": [
    {
     "data": {
      "text/plain": [
       "Index(['doll_id', 'battery', 'active_monitor', '성별', 'birthday', '종교', '기상',\n",
       "       '아침', '점심', '저녁', '취침', 'is_edited', '아침식전_복용', '아침식후_복용', '점심식전_복용',\n",
       "       '점심식후_복용', '저녁식전_복용', '저녁식후_복용', '취침전_복용', '환기', '산책', '당뇨', '고지혈',\n",
       "       '고혈압', 'connection_type', 'no_alarm', 'religion_alarm', 'calender_type',\n",
       "       'opt_reg_date', 'reli_cnt', '호칭1', '호칭2', '호칭3', '회상', '영어', '음악',\n",
       "       '종교말씀', '종교음악', '이야기', '퀴즈', '체조', '클래식', 'doll_group_reg_date',\n",
       "       'user_id', 'agency_code', '기관명'],\n",
       "      dtype='object')"
      ]
     },
     "execution_count": 188,
     "metadata": {},
     "output_type": "execute_result"
    }
   ],
   "source": [
    "merged1.columns"
   ]
  },
  {
   "cell_type": "code",
   "execution_count": 189,
   "id": "a2029eea",
   "metadata": {},
   "outputs": [
    {
     "data": {
      "text/plain": [
       "doll_id                         int64\n",
       "battery                         int64\n",
       "active_monitor                  int64\n",
       "성별                             object\n",
       "birthday                       object\n",
       "종교                             object\n",
       "기상                              int64\n",
       "아침                              int64\n",
       "점심                              int64\n",
       "저녁                              int64\n",
       "취침                              int64\n",
       "is_edited                       int64\n",
       "아침식전_복용                         int64\n",
       "아침식후_복용                         int64\n",
       "점심식전_복용                         int64\n",
       "점심식후_복용                         int64\n",
       "저녁식전_복용                         int64\n",
       "저녁식후_복용                         int64\n",
       "취침전_복용                          int64\n",
       "환기                              int64\n",
       "산책                              int64\n",
       "당뇨                            float64\n",
       "고지혈                           float64\n",
       "고혈압                           float64\n",
       "connection_type                object\n",
       "no_alarm                      float64\n",
       "religion_alarm                float64\n",
       "calender_type                 float64\n",
       "opt_reg_date           datetime64[ns]\n",
       "reli_cnt                        int64\n",
       "호칭1                           float64\n",
       "호칭2                           float64\n",
       "호칭3                           float64\n",
       "회상                            float64\n",
       "영어                            float64\n",
       "음악                            float64\n",
       "종교말씀                          float64\n",
       "종교음악                          float64\n",
       "이야기                           float64\n",
       "퀴즈                            float64\n",
       "체조                            float64\n",
       "클래식                           float64\n",
       "doll_group_reg_date    datetime64[ns]\n",
       "user_id                         int64\n",
       "agency_code                     int64\n",
       "기관명                            object\n",
       "dtype: object"
      ]
     },
     "execution_count": 189,
     "metadata": {},
     "output_type": "execute_result"
    }
   ],
   "source": [
    "merged1.dtypes"
   ]
  },
  {
   "cell_type": "code",
   "execution_count": 190,
   "id": "4b655f79",
   "metadata": {},
   "outputs": [],
   "source": [
    "int_col = ['당뇨', '고지혈', '고혈압','호칭1', '호칭2', '호칭3', '회상', '영어', '음악',\n",
    "           'no_alarm', 'religion_alarm', 'calender_type',\n",
    "       '종교말씀', '종교음악', '이야기', '퀴즈', '체조', '클래식' ]"
   ]
  },
  {
   "cell_type": "code",
   "execution_count": 191,
   "id": "0a929dc5",
   "metadata": {},
   "outputs": [],
   "source": [
    "for i in int_col: \n",
    "    merged1[i]= merged1[i].astype(\"int\")"
   ]
  },
  {
   "cell_type": "code",
   "execution_count": 192,
   "id": "9ebefefc",
   "metadata": {},
   "outputs": [
    {
     "data": {
      "text/plain": [
       "doll_id                         int64\n",
       "battery                         int64\n",
       "active_monitor                  int64\n",
       "성별                             object\n",
       "birthday                       object\n",
       "종교                             object\n",
       "기상                              int64\n",
       "아침                              int64\n",
       "점심                              int64\n",
       "저녁                              int64\n",
       "취침                              int64\n",
       "is_edited                       int64\n",
       "아침식전_복용                         int64\n",
       "아침식후_복용                         int64\n",
       "점심식전_복용                         int64\n",
       "점심식후_복용                         int64\n",
       "저녁식전_복용                         int64\n",
       "저녁식후_복용                         int64\n",
       "취침전_복용                          int64\n",
       "환기                              int64\n",
       "산책                              int64\n",
       "당뇨                              int64\n",
       "고지혈                             int64\n",
       "고혈압                             int64\n",
       "connection_type                object\n",
       "no_alarm                        int64\n",
       "religion_alarm                  int64\n",
       "calender_type                   int64\n",
       "opt_reg_date           datetime64[ns]\n",
       "reli_cnt                        int64\n",
       "호칭1                             int64\n",
       "호칭2                             int64\n",
       "호칭3                             int64\n",
       "회상                              int64\n",
       "영어                              int64\n",
       "음악                              int64\n",
       "종교말씀                            int64\n",
       "종교음악                            int64\n",
       "이야기                             int64\n",
       "퀴즈                              int64\n",
       "체조                              int64\n",
       "클래식                             int64\n",
       "doll_group_reg_date    datetime64[ns]\n",
       "user_id                         int64\n",
       "agency_code                     int64\n",
       "기관명                            object\n",
       "dtype: object"
      ]
     },
     "execution_count": 192,
     "metadata": {},
     "output_type": "execute_result"
    }
   ],
   "source": [
    "merged1.dtypes"
   ]
  },
  {
   "cell_type": "code",
   "execution_count": 195,
   "id": "f9e74b69",
   "metadata": {},
   "outputs": [
    {
     "data": {
      "text/plain": [
       "(3182, 46)"
      ]
     },
     "execution_count": 195,
     "metadata": {},
     "output_type": "execute_result"
    }
   ],
   "source": [
    "merged1.shape"
   ]
  },
  {
   "cell_type": "code",
   "execution_count": 193,
   "id": "125e34e8",
   "metadata": {},
   "outputs": [],
   "source": [
    "merged1.to_csv('Data/merge_v5.csv', index = False)"
   ]
  },
  {
   "cell_type": "code",
   "execution_count": null,
   "id": "c20457ec",
   "metadata": {},
   "outputs": [],
   "source": []
  }
 ],
 "metadata": {
  "kernelspec": {
   "display_name": "Python 3 (ipykernel)",
   "language": "python",
   "name": "python3"
  },
  "language_info": {
   "codemirror_mode": {
    "name": "ipython",
    "version": 3
   },
   "file_extension": ".py",
   "mimetype": "text/x-python",
   "name": "python",
   "nbconvert_exporter": "python",
   "pygments_lexer": "ipython3",
   "version": "3.9.7"
  }
 },
 "nbformat": 4,
 "nbformat_minor": 5
}
